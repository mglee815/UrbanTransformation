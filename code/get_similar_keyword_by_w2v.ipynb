{
 "cells": [
  {
   "cell_type": "code",
   "execution_count": 52,
   "metadata": {},
   "outputs": [],
   "source": [
    "import pandas as pd\n",
    "from gensim.models import Word2Vec\n",
    "from gensim.models import KeyedVectors"
   ]
  },
  {
   "cell_type": "code",
   "execution_count": 53,
   "metadata": {},
   "outputs": [],
   "source": [
    "loaded_model = KeyedVectors.load_word2vec_format('../result/w2v_model/sample_w2v_w30m10')"
   ]
  },
  {
   "cell_type": "code",
   "execution_count": 54,
   "metadata": {},
   "outputs": [
    {
     "data": {
      "text/plain": [
       "[('노후화', 0.8239118456840515),\n",
       " ('노후도', 0.7180461883544922),\n",
       " ('노후주택', 0.6737354397773743),\n",
       " ('개보수', 0.6167107224464417),\n",
       " ('보수', 0.6077247262001038),\n",
       " ('시설보수', 0.6063721179962158),\n",
       " ('노후시설', 0.6043647527694702),\n",
       " ('노후아파트', 0.5925822257995605),\n",
       " ('교체', 0.5875347256660461),\n",
       " ('시설노후화', 0.5710639357566833)]"
      ]
     },
     "execution_count": 54,
     "metadata": {},
     "output_type": "execute_result"
    }
   ],
   "source": [
    "loaded_model.most_similar(\"노후\")"
   ]
  },
  {
   "cell_type": "code",
   "execution_count": 55,
   "metadata": {},
   "outputs": [],
   "source": [
    "keyword_list = pd.read_excel(\"../data/Text_keyword.xlsx\")"
   ]
  },
  {
   "cell_type": "code",
   "execution_count": 56,
   "metadata": {},
   "outputs": [
    {
     "name": "stdout",
     "output_type": "stream",
     "text": [
      "개발\n",
      "노후 \n"
     ]
    }
   ],
   "source": [
    "df = pd.DataFrame()\n",
    "keyword = list(keyword_list['1차 키워드'])\n",
    "\n",
    "for item in keyword_list['1차 키워드']:\n",
    "    try:\n",
    "        temp_df = pd.DataFrame(loaded_model.most_similar(item, topn = 30))\n",
    "        df = pd.concat([df, temp_df[0]], axis = 1)\n",
    "    except:\n",
    "        print(item)\n",
    "        keyword.remove(item)"
   ]
  },
  {
   "cell_type": "code",
   "execution_count": 50,
   "metadata": {},
   "outputs": [],
   "source": [
    "df.columns = keyword\n",
    "df.to_excel(\"../result/w2v_w30m10_top30.xlsx\")"
   ]
  }
 ],
 "metadata": {
  "interpreter": {
   "hash": "c6f34507fa43ba317958b721fa8398d2051b96ef3f3b32ff98429c26ce06f8cf"
  },
  "kernelspec": {
   "display_name": "Python 3.8.12 ('svmglee')",
   "language": "python",
   "name": "python3"
  },
  "language_info": {
   "codemirror_mode": {
    "name": "ipython",
    "version": 3
   },
   "file_extension": ".py",
   "mimetype": "text/x-python",
   "name": "python",
   "nbconvert_exporter": "python",
   "pygments_lexer": "ipython3",
   "version": "3.8.12"
  },
  "orig_nbformat": 4
 },
 "nbformat": 4,
 "nbformat_minor": 2
}
