{
 "cells": [
  {
   "cell_type": "code",
   "execution_count": 1,
   "metadata": {},
   "outputs": [],
   "source": [
    "import pandas as pd\n",
    "from gensim.models import Word2Vec\n",
    "from gensim.models import KeyedVectors"
   ]
  },
  {
   "cell_type": "code",
   "execution_count": 2,
   "metadata": {},
   "outputs": [],
   "source": [
    "loaded_model = Word2Vec.load('../result/w2v_model/06_17_13_w2v_w30m10')"
   ]
  },
  {
   "cell_type": "code",
   "execution_count": 4,
   "metadata": {},
   "outputs": [
    {
     "data": {
      "text/plain": [
       "[('교체', 0.7761816382408142),\n",
       " ('개보수', 0.7654770016670227),\n",
       " ('보수', 0.7551676630973816),\n",
       " ('노후화', 0.7201074361801147),\n",
       " ('노후시설', 0.6689557433128357),\n",
       " ('보수사업', 0.656755268573761),\n",
       " ('개선', 0.6379513144493103),\n",
       " ('개량', 0.6364671587944031),\n",
       " ('리모델링', 0.6277687549591064),\n",
       " ('도색', 0.6266584992408752)]"
      ]
     },
     "execution_count": 4,
     "metadata": {},
     "output_type": "execute_result"
    }
   ],
   "source": [
    "loaded_model.wv.most_similar(\"노후\")"
   ]
  },
  {
   "cell_type": "code",
   "execution_count": 5,
   "metadata": {},
   "outputs": [],
   "source": [
    "keyword_list = pd.read_excel(\"../data/Text_keyword.xlsx\")"
   ]
  },
  {
   "cell_type": "code",
   "execution_count": 8,
   "metadata": {},
   "outputs": [
    {
     "name": "stdout",
     "output_type": "stream",
     "text": [
      "개발\n"
     ]
    }
   ],
   "source": [
    "df = pd.DataFrame()\n",
    "keyword = list(keyword_list['1차 키워드'])\n",
    "\n",
    "for item in keyword_list['1차 키워드']:\n",
    "    try:\n",
    "        temp_df = pd.DataFrame(loaded_model.wv.most_similar(item, topn = 30))\n",
    "        df = pd.concat([df, temp_df[0]], axis = 1)\n",
    "    except:\n",
    "        print(item)\n",
    "        keyword.remove(item)"
   ]
  },
  {
   "cell_type": "code",
   "execution_count": 9,
   "metadata": {},
   "outputs": [],
   "source": [
    "df.columns = keyword\n",
    "df.to_excel(\"../result/total_w2v_w30m10_top30.xlsx\")"
   ]
  }
 ],
 "metadata": {
  "interpreter": {
   "hash": "c6f34507fa43ba317958b721fa8398d2051b96ef3f3b32ff98429c26ce06f8cf"
  },
  "kernelspec": {
   "display_name": "Python 3.8.12 ('svmglee')",
   "language": "python",
   "name": "python3"
  },
  "language_info": {
   "codemirror_mode": {
    "name": "ipython",
    "version": 3
   },
   "file_extension": ".py",
   "mimetype": "text/x-python",
   "name": "python",
   "nbconvert_exporter": "python",
   "pygments_lexer": "ipython3",
   "version": "3.8.12"
  },
  "orig_nbformat": 4
 },
 "nbformat": 4,
 "nbformat_minor": 2
}
