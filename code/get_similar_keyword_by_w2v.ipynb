{
 "cells": [
  {
   "cell_type": "code",
   "execution_count": 37,
   "metadata": {},
   "outputs": [],
   "source": [
    "import pandas as pd\n",
    "from gensim.models import Word2Vec\n",
    "from gensim.models import KeyedVectors"
   ]
  },
  {
   "cell_type": "code",
   "execution_count": 38,
   "metadata": {},
   "outputs": [],
   "source": [
    "loaded_model = KeyedVectors.load_word2vec_format('../result/w2v_model/sample_w2v')"
   ]
  },
  {
   "cell_type": "code",
   "execution_count": 51,
   "metadata": {},
   "outputs": [
    {
     "data": {
      "text/plain": [
       "[('노후화', 0.8012557625770569),\n",
       " ('노후주택', 0.7148439288139343),\n",
       " ('노후도', 0.6996909379959106),\n",
       " ('개보수', 0.657085120677948),\n",
       " ('주택개', 0.6269218325614929),\n",
       " ('보수', 0.6203868389129639),\n",
       " ('노후시설', 0.6059377789497375),\n",
       " ('교체', 0.6035085916519165),\n",
       " ('보수사업', 0.5900068879127502),\n",
       " ('불량주택', 0.5875723361968994)]"
      ]
     },
     "execution_count": 51,
     "metadata": {},
     "output_type": "execute_result"
    }
   ],
   "source": [
    "loaded_model.most_similar(\"노후\")"
   ]
  },
  {
   "cell_type": "code",
   "execution_count": 13,
   "metadata": {},
   "outputs": [],
   "source": [
    "keyword_list = pd.read_excel(\"../data/Text_keyword.xlsx\")"
   ]
  },
  {
   "cell_type": "code",
   "execution_count": 45,
   "metadata": {},
   "outputs": [
    {
     "name": "stdout",
     "output_type": "stream",
     "text": [
      "개발\n",
      "노후 \n"
     ]
    }
   ],
   "source": [
    "df = pd.DataFrame()\n",
    "keyword = list(keyword_list['1차 키워드'])\n",
    "\n",
    "for item in keyword_list['1차 키워드']:\n",
    "    try:\n",
    "        temp_df = pd.DataFrame(loaded_model.most_similar(item, topn = 30))\n",
    "        df = pd.concat([df, temp_df[0]], axis = 1)\n",
    "    except:\n",
    "        print(item)\n",
    "        keyword.remove(item)"
   ]
  },
  {
   "cell_type": "code",
   "execution_count": 50,
   "metadata": {},
   "outputs": [],
   "source": [
    "df.columns = keyword\n",
    "df.to_excel(\"../result/w2v_similar_top30.xlsx\")"
   ]
  }
 ],
 "metadata": {
  "interpreter": {
   "hash": "c6f34507fa43ba317958b721fa8398d2051b96ef3f3b32ff98429c26ce06f8cf"
  },
  "kernelspec": {
   "display_name": "Python 3.8.12 ('svmglee')",
   "language": "python",
   "name": "python3"
  },
  "language_info": {
   "codemirror_mode": {
    "name": "ipython",
    "version": 3
   },
   "file_extension": ".py",
   "mimetype": "text/x-python",
   "name": "python",
   "nbconvert_exporter": "python",
   "pygments_lexer": "ipython3",
   "version": "3.8.12"
  },
  "orig_nbformat": 4
 },
 "nbformat": 4,
 "nbformat_minor": 2
}
