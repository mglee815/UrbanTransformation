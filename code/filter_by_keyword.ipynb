{
 "cells": [
  {
   "cell_type": "code",
   "execution_count": 7,
   "metadata": {},
   "outputs": [],
   "source": [
    "import pandas as pd\n",
    "import glob  \n",
    "import sys\n",
    "import os\n",
    "import time\n",
    "import re"
   ]
  },
  {
   "cell_type": "markdown",
   "metadata": {},
   "source": [
    "### Get Keyword list"
   ]
  },
  {
   "cell_type": "code",
   "execution_count": 8,
   "metadata": {},
   "outputs": [],
   "source": [
    "keyword_list = pd.read_excel(\"../data/Text_keyword.xlsx\")"
   ]
  },
  {
   "cell_type": "markdown",
   "metadata": {},
   "source": [
    "### Make Dictionary"
   ]
  },
  {
   "cell_type": "code",
   "execution_count": 3,
   "metadata": {},
   "outputs": [],
   "source": [
    "cat_to_key = {}\n",
    "for item in keyword_list['분류']:\n",
    "    cat_to_key[item] = []\n",
    "for i in range(len(keyword_list)):\n",
    "    cat_to_key[keyword_list.iloc[i][0]].append(keyword_list.iloc[i][1])\n",
    "\n",
    "key_to_cat = {}\n",
    "for item in keyword_list['1차 키워드']:\n",
    "    key_to_cat[item] = []\n",
    "for i in range(len(keyword_list)):\n",
    "    key_to_cat[keyword_list.iloc[i][1]].append(keyword_list.iloc[i][0])\n"
   ]
  },
  {
   "cell_type": "markdown",
   "metadata": {},
   "source": [
    "### Find list"
   ]
  },
  {
   "cell_type": "code",
   "execution_count": 12,
   "metadata": {},
   "outputs": [
    {
     "name": "stdout",
     "output_type": "stream",
     "text": [
      "City = 포항시, before len = 97735, after len = 87791\n",
      "1008 0\n"
     ]
    },
    {
     "name": "stderr",
     "output_type": "stream",
     "text": [
      "/tmp/ipykernel_27051/3059057938.py:21: FutureWarning: The frame.append method is deprecated and will be removed from pandas in a future version. Use pandas.concat instead.\n",
      "  df_filter = df_filter.append(df.loc[df['filter_keyword'].map(len) != 0], ignore_index= True)\n"
     ]
    },
    {
     "name": "stdout",
     "output_type": "stream",
     "text": [
      "City = 원주시, before len = 139658, after len = 123985\n",
      "2484 0\n"
     ]
    },
    {
     "name": "stderr",
     "output_type": "stream",
     "text": [
      "/tmp/ipykernel_27051/3059057938.py:21: FutureWarning: The frame.append method is deprecated and will be removed from pandas in a future version. Use pandas.concat instead.\n",
      "  df_filter = df_filter.append(df.loc[df['filter_keyword'].map(len) != 0], ignore_index= True)\n"
     ]
    },
    {
     "name": "stdout",
     "output_type": "stream",
     "text": [
      "City = 전주시, before len = 270971, after len = 238739\n",
      "6460 0\n"
     ]
    },
    {
     "name": "stderr",
     "output_type": "stream",
     "text": [
      "/tmp/ipykernel_27051/3059057938.py:21: FutureWarning: The frame.append method is deprecated and will be removed from pandas in a future version. Use pandas.concat instead.\n",
      "  df_filter = df_filter.append(df.loc[df['filter_keyword'].map(len) != 0], ignore_index= True)\n"
     ]
    },
    {
     "name": "stdout",
     "output_type": "stream",
     "text": [
      "City = 서산시, before len = 124259, after len = 115485\n",
      "8396 0\n"
     ]
    },
    {
     "name": "stderr",
     "output_type": "stream",
     "text": [
      "/tmp/ipykernel_27051/3059057938.py:21: FutureWarning: The frame.append method is deprecated and will be removed from pandas in a future version. Use pandas.concat instead.\n",
      "  df_filter = df_filter.append(df.loc[df['filter_keyword'].map(len) != 0], ignore_index= True)\n"
     ]
    },
    {
     "name": "stdout",
     "output_type": "stream",
     "text": [
      "City = 영천시, before len = 30240, after len = 26612\n",
      "8742 0\n"
     ]
    },
    {
     "name": "stderr",
     "output_type": "stream",
     "text": [
      "/tmp/ipykernel_27051/3059057938.py:21: FutureWarning: The frame.append method is deprecated and will be removed from pandas in a future version. Use pandas.concat instead.\n",
      "  df_filter = df_filter.append(df.loc[df['filter_keyword'].map(len) != 0], ignore_index= True)\n"
     ]
    },
    {
     "name": "stdout",
     "output_type": "stream",
     "text": [
      "City = 창원시, before len = 283886, after len = 252383\n",
      "12093 0\n"
     ]
    },
    {
     "name": "stderr",
     "output_type": "stream",
     "text": [
      "/tmp/ipykernel_27051/3059057938.py:21: FutureWarning: The frame.append method is deprecated and will be removed from pandas in a future version. Use pandas.concat instead.\n",
      "  df_filter = df_filter.append(df.loc[df['filter_keyword'].map(len) != 0], ignore_index= True)\n"
     ]
    },
    {
     "name": "stdout",
     "output_type": "stream",
     "text": [
      "City = 태백시, before len = 58722, after len = 52632\n",
      "13039 0\n"
     ]
    },
    {
     "name": "stderr",
     "output_type": "stream",
     "text": [
      "/tmp/ipykernel_27051/3059057938.py:21: FutureWarning: The frame.append method is deprecated and will be removed from pandas in a future version. Use pandas.concat instead.\n",
      "  df_filter = df_filter.append(df.loc[df['filter_keyword'].map(len) != 0], ignore_index= True)\n"
     ]
    }
   ],
   "source": [
    "df_filter = pd.DataFrame()\n",
    "\n",
    "n = 0\n",
    "g = 0\n",
    "\n",
    "for f in glob.glob(f'../data/merged_data/*.pkl'):\n",
    "    city = re.search('../data/merged_data/(.+?)_merged.pkl', f).group(1)\n",
    "    df = pd.read_pickle(f)\n",
    "    df['city'] = city\n",
    "    filter_keyword = []\n",
    "    for idx, keyword in enumerate(df['키워드']):\n",
    "        keyword =  keyword.split(',')\n",
    "        filter_keyword.append(set(keyword).intersection(set(keyword_list['1차 키워드'])))\n",
    "    df['filter_keyword'] = filter_keyword\n",
    "    print(f\"City = {city}, before len = {len(df)}, after len = {len(df.loc[df['filter_keyword'].map(len) != 0])}\")\n",
    "    print(n, g)\n",
    "    df_filter = df_filter.append(df.loc[df['filter_keyword'].map(len) != 0], ignore_index= True)"
   ]
  },
  {
   "cell_type": "code",
   "execution_count": 5,
   "metadata": {},
   "outputs": [],
   "source": [
    "df_filter.to_pickle(\"../data/merged_data/total/merged_filtered.pkl\")"
   ]
  },
  {
   "cell_type": "markdown",
   "metadata": {},
   "source": [
    "### OLD"
   ]
  },
  {
   "cell_type": "code",
   "execution_count": 6,
   "metadata": {},
   "outputs": [],
   "source": [
    "# data_all = pd.DataFrame()\n",
    "# i = 0\n",
    "# for f in glob.glob(f'/Users/mglee/Desktop/folder/merged_data/*.pkl'):\n",
    "#     df = pd.read_pickle(f)\n",
    "#     df['filepath'] = f\n",
    "#     idx_list= []\n",
    "#     for idx, keyword in enumerate(df['키워드']):\n",
    "#         key_list = []\n",
    "#         for item in keyword.split(','):\n",
    "#             if item in list(keyword_list['1차 키워드']):\n",
    "#                 key_list.append(item)\n",
    "#         if len(key_list) > 0:\n",
    "#             idx_list.append(list(set(key_list)))\n",
    "#         else:\n",
    "#             idx_list.append(0)\n",
    "#     df['keyword'] = idx_list\n",
    "#     df_use = df[df['keyword'] != 0]\n",
    "#     print(f\"File Path = {f}, Before len = {len(df)}, after len = {len(df_use)}\")\n",
    "#     data_all = data_all.append(df_use, ignore_index=True)"
   ]
  }
 ],
 "metadata": {
  "interpreter": {
   "hash": "c6f34507fa43ba317958b721fa8398d2051b96ef3f3b32ff98429c26ce06f8cf"
  },
  "kernelspec": {
   "display_name": "Python 3.8.12 ('svmglee')",
   "language": "python",
   "name": "python3"
  },
  "language_info": {
   "codemirror_mode": {
    "name": "ipython",
    "version": 3
   },
   "file_extension": ".py",
   "mimetype": "text/x-python",
   "name": "python",
   "nbconvert_exporter": "python",
   "pygments_lexer": "ipython3",
   "version": "3.8.12"
  },
  "orig_nbformat": 4
 },
 "nbformat": 4,
 "nbformat_minor": 2
}
