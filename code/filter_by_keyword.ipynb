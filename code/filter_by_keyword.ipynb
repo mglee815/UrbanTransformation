{
 "cells": [
  {
   "cell_type": "code",
   "execution_count": 1,
   "metadata": {},
   "outputs": [],
   "source": [
    "import pandas as pd\n",
    "import glob  \n",
    "import sys\n",
    "import os\n",
    "import time"
   ]
  },
  {
   "cell_type": "markdown",
   "metadata": {},
   "source": [
    "### Get Keyword list"
   ]
  },
  {
   "cell_type": "code",
   "execution_count": 2,
   "metadata": {},
   "outputs": [],
   "source": [
    "keyword_list = pd.read_excel(\"/Users/mglee/Desktop/OneDrive - postech.ac.kr/1_2022-1/Research/류박사님/Text_keyword.xlsx\")"
   ]
  },
  {
   "cell_type": "markdown",
   "metadata": {},
   "source": [
    "### Make Dictionary"
   ]
  },
  {
   "cell_type": "code",
   "execution_count": 3,
   "metadata": {},
   "outputs": [],
   "source": [
    "cat_to_key = {}\n",
    "for item in keyword_list['분류']:\n",
    "    cat_to_key[item] = []\n",
    "for i in range(len(keyword_list)):\n",
    "    cat_to_key[keyword_list.iloc[i][0]].append(keyword_list.iloc[i][1])\n",
    "\n",
    "key_to_cat = {}\n",
    "for item in keyword_list['1차 키워드']:\n",
    "    key_to_cat[item] = []\n",
    "for i in range(len(keyword_list)):\n",
    "    key_to_cat[keyword_list.iloc[i][1]].append(keyword_list.iloc[i][0])\n"
   ]
  },
  {
   "cell_type": "markdown",
   "metadata": {},
   "source": [
    "### Find list"
   ]
  },
  {
   "cell_type": "code",
   "execution_count": 58,
   "metadata": {},
   "outputs": [
    {
     "name": "stdout",
     "output_type": "stream",
     "text": [
      "File Path = /Users/mglee/Desktop/folder/merged_data/창원시_merged.pkl, Before len = 283886, after len = 199780\n",
      "File Path = /Users/mglee/Desktop/folder/merged_data/서산시_merged.pkl, Before len = 124259, after len = 94419\n",
      "File Path = /Users/mglee/Desktop/folder/merged_data/영천시_merged.pkl, Before len = 30240, after len = 21165\n",
      "File Path = /Users/mglee/Desktop/folder/merged_data/포항시_merged.pkl, Before len = 97735, after len = 68968\n",
      "File Path = /Users/mglee/Desktop/folder/merged_data/태백시_merged.pkl, Before len = 58722, after len = 41358\n",
      "File Path = /Users/mglee/Desktop/folder/merged_data/전주시_merged.pkl, Before len = 270971, after len = 191644\n",
      "File Path = /Users/mglee/Desktop/folder/merged_data/원주시_merged.pkl, Before len = 139658, after len = 97328\n"
     ]
    }
   ],
   "source": [
    "data_all = pd.DataFrame()\n",
    "i = 0\n",
    "for f in glob.glob(f'/Users/mglee/Desktop/folder/merged_data/*.pkl'):\n",
    "    df = pd.read_pickle(f)\n",
    "    df['filepath'] = f\n",
    "    idx_list= []\n",
    "    for idx, keyword in enumerate(df['키워드']):\n",
    "        key_list = []\n",
    "        for item in keyword.split(','):\n",
    "            if item in list(keyword_list['1차 키워드']):\n",
    "                key_list.append(item)\n",
    "        if len(key_list) > 0:\n",
    "            idx_list.append(list(set(key_list)))\n",
    "        else:\n",
    "            idx_list.append(0)\n",
    "    df['keyword'] = idx_list\n",
    "    df_use = df[df['keyword'] != 0]\n",
    "    print(f\"File Path = {f}, Before len = {len(df)}, after len = {len(df_use)}\")\n",
    "    data_all = data_all.append(df_use, ignore_index=True)"
   ]
  },
  {
   "cell_type": "code",
   "execution_count": 60,
   "metadata": {},
   "outputs": [],
   "source": [
    "data_all.to_pickle(\"/Users/mglee/Desktop/folder/merged_data/total/merged_filtered.pkl\")"
   ]
  }
 ],
 "metadata": {
  "interpreter": {
   "hash": "418ec1ce35a4fd63396f5da21f0079b494a3a09ebdcc1e5da80233ed37ee8285"
  },
  "kernelspec": {
   "display_name": "Python 3.9.7",
   "language": "python",
   "name": "python3"
  },
  "language_info": {
   "codemirror_mode": {
    "name": "ipython",
    "version": 3
   },
   "file_extension": ".py",
   "mimetype": "text/x-python",
   "name": "python",
   "nbconvert_exporter": "python",
   "pygments_lexer": "ipython3",
   "version": "3.9.7"
  },
  "orig_nbformat": 4
 },
 "nbformat": 4,
 "nbformat_minor": 2
}
