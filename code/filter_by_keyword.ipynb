{
 "cells": [
  {
   "cell_type": "code",
   "execution_count": 1,
   "metadata": {},
   "outputs": [],
   "source": [
    "import pandas as pd\n",
    "import glob  \n",
    "import sys\n",
    "import os\n",
    "import time\n",
    "import re\n",
    "\n"
   ]
  },
  {
   "cell_type": "markdown",
   "metadata": {},
   "source": [
    "### Get Keyword list"
   ]
  },
  {
   "cell_type": "code",
   "execution_count": 2,
   "metadata": {},
   "outputs": [],
   "source": [
    "keyword_list = pd.read_excel(\"../data/Text_keyword.xlsx\")"
   ]
  },
  {
   "cell_type": "markdown",
   "metadata": {},
   "source": [
    "### Make Dictionary"
   ]
  },
  {
   "cell_type": "code",
   "execution_count": 3,
   "metadata": {},
   "outputs": [],
   "source": [
    "cat_to_key = {}\n",
    "for item in keyword_list['분류']:\n",
    "    cat_to_key[item] = []\n",
    "for i in range(len(keyword_list)):\n",
    "    cat_to_key[keyword_list.iloc[i][0]].append(keyword_list.iloc[i][1])\n",
    "\n",
    "key_to_cat = {}\n",
    "for item in keyword_list['1차 키워드']:\n",
    "    key_to_cat[item] = []\n",
    "for i in range(len(keyword_list)):\n",
    "    key_to_cat[keyword_list.iloc[i][1]].append(keyword_list.iloc[i][0])\n"
   ]
  },
  {
   "cell_type": "markdown",
   "metadata": {},
   "source": [
    "### Find list"
   ]
  },
  {
   "cell_type": "code",
   "execution_count": 3,
   "metadata": {},
   "outputs": [
    {
     "name": "stdout",
     "output_type": "stream",
     "text": [
      "City = 포항시, before len = 97735, after len = 87791\n"
     ]
    },
    {
     "name": "stderr",
     "output_type": "stream",
     "text": [
      "/tmp/ipykernel_22969/1145368434.py:13: FutureWarning: The frame.append method is deprecated and will be removed from pandas in a future version. Use pandas.concat instead.\n",
      "  df_filter = df_filter.append(df.loc[df['filter_keyword'].map(len) != 0], ignore_index= True)\n"
     ]
    },
    {
     "name": "stdout",
     "output_type": "stream",
     "text": [
      "City = 원주시, before len = 139658, after len = 123985\n"
     ]
    },
    {
     "name": "stderr",
     "output_type": "stream",
     "text": [
      "/tmp/ipykernel_22969/1145368434.py:13: FutureWarning: The frame.append method is deprecated and will be removed from pandas in a future version. Use pandas.concat instead.\n",
      "  df_filter = df_filter.append(df.loc[df['filter_keyword'].map(len) != 0], ignore_index= True)\n"
     ]
    },
    {
     "name": "stdout",
     "output_type": "stream",
     "text": [
      "City = 전주시, before len = 270971, after len = 238739\n"
     ]
    },
    {
     "name": "stderr",
     "output_type": "stream",
     "text": [
      "/tmp/ipykernel_22969/1145368434.py:13: FutureWarning: The frame.append method is deprecated and will be removed from pandas in a future version. Use pandas.concat instead.\n",
      "  df_filter = df_filter.append(df.loc[df['filter_keyword'].map(len) != 0], ignore_index= True)\n"
     ]
    },
    {
     "name": "stdout",
     "output_type": "stream",
     "text": [
      "City = 서산시, before len = 124259, after len = 115485\n"
     ]
    },
    {
     "name": "stderr",
     "output_type": "stream",
     "text": [
      "/tmp/ipykernel_22969/1145368434.py:13: FutureWarning: The frame.append method is deprecated and will be removed from pandas in a future version. Use pandas.concat instead.\n",
      "  df_filter = df_filter.append(df.loc[df['filter_keyword'].map(len) != 0], ignore_index= True)\n"
     ]
    },
    {
     "name": "stdout",
     "output_type": "stream",
     "text": [
      "City = 영천시, before len = 30240, after len = 26612\n"
     ]
    },
    {
     "name": "stderr",
     "output_type": "stream",
     "text": [
      "/tmp/ipykernel_22969/1145368434.py:13: FutureWarning: The frame.append method is deprecated and will be removed from pandas in a future version. Use pandas.concat instead.\n",
      "  df_filter = df_filter.append(df.loc[df['filter_keyword'].map(len) != 0], ignore_index= True)\n"
     ]
    },
    {
     "name": "stdout",
     "output_type": "stream",
     "text": [
      "City = 창원시, before len = 283886, after len = 252383\n"
     ]
    },
    {
     "name": "stderr",
     "output_type": "stream",
     "text": [
      "/tmp/ipykernel_22969/1145368434.py:13: FutureWarning: The frame.append method is deprecated and will be removed from pandas in a future version. Use pandas.concat instead.\n",
      "  df_filter = df_filter.append(df.loc[df['filter_keyword'].map(len) != 0], ignore_index= True)\n"
     ]
    },
    {
     "name": "stdout",
     "output_type": "stream",
     "text": [
      "City = 태백시, before len = 58722, after len = 52632\n"
     ]
    },
    {
     "name": "stderr",
     "output_type": "stream",
     "text": [
      "/tmp/ipykernel_22969/1145368434.py:13: FutureWarning: The frame.append method is deprecated and will be removed from pandas in a future version. Use pandas.concat instead.\n",
      "  df_filter = df_filter.append(df.loc[df['filter_keyword'].map(len) != 0], ignore_index= True)\n"
     ]
    }
   ],
   "source": [
    "df_filter = pd.DataFrame()\n",
    "\n",
    "for f in glob.glob(f'../data/merged_data/*.pkl'):\n",
    "    city = re.search('../data/merged_data/(.+?)_merged.pkl', f).group(1)\n",
    "    df = pd.read_pickle(f)\n",
    "    df['city'] = city\n",
    "    filter_keyword = []\n",
    "    for idx, keyword in enumerate(df['키워드']):\n",
    "        keyword =  keyword.split(',')\n",
    "        filter_keyword.append(set(keyword).intersection(set(keyword_list['1차 키워드'])))\n",
    "    df['filter_keyword'] = filter_keyword\n",
    "    print(f\"City = {city}, before len = {len(df)}, after len = {len(df.loc[df['filter_keyword'].map(len) != 0])}\")\n",
    "    df_filter = df_filter.append(df.loc[df['filter_keyword'].map(len) != 0], ignore_index= True)"
   ]
  },
  {
   "cell_type": "code",
   "execution_count": 64,
   "metadata": {},
   "outputs": [
    {
     "data": {
      "text/html": [
       "<div>\n",
       "<style scoped>\n",
       "    .dataframe tbody tr th:only-of-type {\n",
       "        vertical-align: middle;\n",
       "    }\n",
       "\n",
       "    .dataframe tbody tr th {\n",
       "        vertical-align: top;\n",
       "    }\n",
       "\n",
       "    .dataframe thead th {\n",
       "        text-align: right;\n",
       "    }\n",
       "</style>\n",
       "<table border=\"1\" class=\"dataframe\">\n",
       "  <thead>\n",
       "    <tr style=\"text-align: right;\">\n",
       "      <th></th>\n",
       "      <th>뉴스 식별자</th>\n",
       "      <th>일자</th>\n",
       "      <th>언론사</th>\n",
       "      <th>기고자</th>\n",
       "      <th>제목</th>\n",
       "      <th>통합 분류1</th>\n",
       "      <th>통합 분류2</th>\n",
       "      <th>통합 분류3</th>\n",
       "      <th>사건/사고 분류1</th>\n",
       "      <th>사건/사고 분류2</th>\n",
       "      <th>...</th>\n",
       "      <th>인물</th>\n",
       "      <th>위치</th>\n",
       "      <th>기관</th>\n",
       "      <th>키워드</th>\n",
       "      <th>특성추출(가중치순 상위 50개)</th>\n",
       "      <th>본문</th>\n",
       "      <th>URL</th>\n",
       "      <th>분석제외 여부</th>\n",
       "      <th>city</th>\n",
       "      <th>filter_keyword</th>\n",
       "    </tr>\n",
       "  </thead>\n",
       "  <tbody>\n",
       "    <tr>\n",
       "      <th>0</th>\n",
       "      <td>1400351.201712</td>\n",
       "      <td>20171231</td>\n",
       "      <td>중도일보</td>\n",
       "      <td>송교홍 기자</td>\n",
       "      <td>경남교육청, 2020년에 3교 학교 설립</td>\n",
       "      <td>지역&gt;충남</td>\n",
       "      <td>지역&gt;경남</td>\n",
       "      <td>사회&gt;교육_시험</td>\n",
       "      <td>NaN</td>\n",
       "      <td>NaN</td>\n",
       "      <td>...</td>\n",
       "      <td>박종훈,손재경</td>\n",
       "      <td>진주,의창구,대곡면,창원,진주시,혁신도시,거제시,중동,경남교육청,진해구,중동2초,중...</td>\n",
       "      <td>경남교육청,도교육청,용소초,대곡중,대곡중학교,경상남도교육청,웅천중,창원,교육부</td>\n",
       "      <td>경남교육청,2020년,설립,학교,창원,중동,거제,용소초,진주,대곡중,교육부,중앙,투...</td>\n",
       "      <td>교육부,중동,창원시,창원,재검토,진주시,3개,도교육청,웅천중,손재경,경남교육청,진해...</td>\n",
       "      <td>경상남도교육청(교육감 박종훈)은 지난 21일 개최된 교육부 수시2차 중앙투자심사에서...</td>\n",
       "      <td>http://www.joongdo.co.kr/main/view.php?key=201...</td>\n",
       "      <td>NaN</td>\n",
       "      <td>창원시</td>\n",
       "      <td>{계획, 주택, 혁신, 감소, 인구}</td>\n",
       "    </tr>\n",
       "    <tr>\n",
       "      <th>1</th>\n",
       "      <td>1400351.201712</td>\n",
       "      <td>20171231</td>\n",
       "      <td>중도일보</td>\n",
       "      <td>송교홍 기자</td>\n",
       "      <td>창원시, '제2기 무료마을세무사' 위촉</td>\n",
       "      <td>지역&gt;전북</td>\n",
       "      <td>지역&gt;충북</td>\n",
       "      <td>지역&gt;경북</td>\n",
       "      <td>NaN</td>\n",
       "      <td>NaN</td>\n",
       "      <td>...</td>\n",
       "      <td>전차휘</td>\n",
       "      <td>창원시,경남,마을</td>\n",
       "      <td>한국세무사회,창원시</td>\n",
       "      <td>창원시,무료,마을,세무사,위촉,내년,2년,담당구별,무료,세무,상담,진행,경남,창원시...</td>\n",
       "      <td>세무사,마을세무사,창원시,지방세,세무상담,연락처,재능기부,7명,취약계층,사업자,전차...</td>\n",
       "      <td>경남 창원시는 지난 28일 시청 제4회의실에서 '2018년도 제2기 창원시 마을세무...</td>\n",
       "      <td>http://www.joongdo.co.kr/main/view.php?key=201...</td>\n",
       "      <td>NaN</td>\n",
       "      <td>창원시</td>\n",
       "      <td>{사회, 지방세}</td>\n",
       "    </tr>\n",
       "    <tr>\n",
       "      <th>2</th>\n",
       "      <td>1400351.201712</td>\n",
       "      <td>20171231</td>\n",
       "      <td>중도일보</td>\n",
       "      <td>송교홍 기자</td>\n",
       "      <td>창원소방본부, 새내기 소방관 18명 임용</td>\n",
       "      <td>지역&gt;충남</td>\n",
       "      <td>지역&gt;경남</td>\n",
       "      <td>지역&gt;대전</td>\n",
       "      <td>NaN</td>\n",
       "      <td>NaN</td>\n",
       "      <td>...</td>\n",
       "      <td>안상수,권순호,임용,임용식</td>\n",
       "      <td>경남교육훈련장,부산소방학교,경남</td>\n",
       "      <td>창원소방본부,창원시장,창원시청,119안전센터</td>\n",
       "      <td>창원소방본부,새내기,소방관,임용,안상수,시장,창원,가족,환영,소방인,자부심,당부,경...</td>\n",
       "      <td>안상수,경남,소방관,창원시청,소방인,공무원,창원소방본부,창원,신체검사,체력시험,부산...</td>\n",
       "      <td>경남 창원소방본부(본부장 권순호)는 지난 28일 창원시청 제3회의실에서 신규 소방공...</td>\n",
       "      <td>http://www.joongdo.co.kr/main/view.php?key=201...</td>\n",
       "      <td>NaN</td>\n",
       "      <td>창원시</td>\n",
       "      <td>{교육}</td>\n",
       "    </tr>\n",
       "    <tr>\n",
       "      <th>3</th>\n",
       "      <td>2100101.201712</td>\n",
       "      <td>20171231</td>\n",
       "      <td>매일경제</td>\n",
       "      <td>최승균</td>\n",
       "      <td>경남도, 1조 들여 가야史 복원한다</td>\n",
       "      <td>문화&gt;학술_문화재</td>\n",
       "      <td>지역&gt;충북</td>\n",
       "      <td>지역&gt;경남</td>\n",
       "      <td>NaN</td>\n",
       "      <td>NaN</td>\n",
       "      <td>...</td>\n",
       "      <td>한경호</td>\n",
       "      <td>사천시,김해시,다호리,거창군,다라국,신라,전라남도,고구려,경남도,합천군,가야,전라북...</td>\n",
       "      <td>정치국,거열산성 복원,경남도,자원,가야,국회,경주,부여,가야사,가야문화아카데미,경상남도</td>\n",
       "      <td>경남도,1조,복원,경상남도,광역단체,1조,투입,본격적,프로젝트,가야사,복원,경남도,...</td>\n",
       "      <td>가야사,영호남,문화재,경남도,가야,경남,1조,전라북도,광역단체,한경호,신라,백제,고...</td>\n",
       "      <td>경상남도가 광역단체 최초로 1조원을 투입해 올해부터 본격적인 '가야사 복원 프로젝트...</td>\n",
       "      <td>http://news.mk.co.kr/newsRead.php?year=2017&amp;no...</td>\n",
       "      <td>NaN</td>\n",
       "      <td>창원시</td>\n",
       "      <td>{교육, 문화, 관광}</td>\n",
       "    </tr>\n",
       "    <tr>\n",
       "      <th>4</th>\n",
       "      <td>1100401.201712</td>\n",
       "      <td>20171230</td>\n",
       "      <td>동아일보</td>\n",
       "      <td>NaN</td>\n",
       "      <td>“이젠 나도 해군 수병이다”</td>\n",
       "      <td>사회&gt;교육_시험</td>\n",
       "      <td>지역&gt;울산</td>\n",
       "      <td>지역&gt;강원</td>\n",
       "      <td>NaN</td>\n",
       "      <td>NaN</td>\n",
       "      <td>...</td>\n",
       "      <td>NaN</td>\n",
       "      <td>경남,창원시,진해구</td>\n",
       "      <td>해군병,교육사령부,해군교육사령부,해군</td>\n",
       "      <td>이젠,해군,수병,경남,창원시,진해구,해군,교육,사령부,수료식,해군병,참석,수병들,선...</td>\n",
       "      <td>해군병,경남,사령부,정모,창원시,수료식,수병들,진해구,이젠,해군,수병,허가,외출,제...</td>\n",
       "      <td>29일 경남 창원시 진해구 해군 교육사령부에서 열린 해군병 제645기 수료식에 참석...</td>\n",
       "      <td>https://www.donga.com/news/article/all/2017123...</td>\n",
       "      <td>NaN</td>\n",
       "      <td>창원시</td>\n",
       "      <td>{교육}</td>\n",
       "    </tr>\n",
       "  </tbody>\n",
       "</table>\n",
       "<p>5 rows × 21 columns</p>\n",
       "</div>"
      ],
      "text/plain": [
       "           뉴스 식별자        일자   언론사     기고자                      제목     통합 분류1  \\\n",
       "0  1400351.201712  20171231  중도일보  송교홍 기자  경남교육청, 2020년에 3교 학교 설립      지역>충남   \n",
       "1  1400351.201712  20171231  중도일보  송교홍 기자   창원시, '제2기 무료마을세무사' 위촉      지역>전북   \n",
       "2  1400351.201712  20171231  중도일보  송교홍 기자  창원소방본부, 새내기 소방관 18명 임용      지역>충남   \n",
       "3  2100101.201712  20171231  매일경제     최승균     경남도, 1조 들여 가야史 복원한다  문화>학술_문화재   \n",
       "4  1100401.201712  20171230  동아일보     NaN         “이젠 나도 해군 수병이다”   사회>교육_시험   \n",
       "\n",
       "   통합 분류2     통합 분류3 사건/사고 분류1 사건/사고 분류2  ...              인물  \\\n",
       "0   지역>경남   사회>교육_시험       NaN       NaN  ...         박종훈,손재경   \n",
       "1   지역>충북      지역>경북       NaN       NaN  ...             전차휘   \n",
       "2   지역>경남      지역>대전       NaN       NaN  ...  안상수,권순호,임용,임용식   \n",
       "3   지역>충북      지역>경남       NaN       NaN  ...             한경호   \n",
       "4   지역>울산      지역>강원       NaN       NaN  ...             NaN   \n",
       "\n",
       "                                                  위치  \\\n",
       "0  진주,의창구,대곡면,창원,진주시,혁신도시,거제시,중동,경남교육청,진해구,중동2초,중...   \n",
       "1                                          창원시,경남,마을   \n",
       "2                                  경남교육훈련장,부산소방학교,경남   \n",
       "3  사천시,김해시,다호리,거창군,다라국,신라,전라남도,고구려,경남도,합천군,가야,전라북...   \n",
       "4                                         경남,창원시,진해구   \n",
       "\n",
       "                                                 기관  \\\n",
       "0       경남교육청,도교육청,용소초,대곡중,대곡중학교,경상남도교육청,웅천중,창원,교육부   \n",
       "1                                        한국세무사회,창원시   \n",
       "2                          창원소방본부,창원시장,창원시청,119안전센터   \n",
       "3  정치국,거열산성 복원,경남도,자원,가야,국회,경주,부여,가야사,가야문화아카데미,경상남도   \n",
       "4                              해군병,교육사령부,해군교육사령부,해군   \n",
       "\n",
       "                                                 키워드  \\\n",
       "0  경남교육청,2020년,설립,학교,창원,중동,거제,용소초,진주,대곡중,교육부,중앙,투...   \n",
       "1  창원시,무료,마을,세무사,위촉,내년,2년,담당구별,무료,세무,상담,진행,경남,창원시...   \n",
       "2  창원소방본부,새내기,소방관,임용,안상수,시장,창원,가족,환영,소방인,자부심,당부,경...   \n",
       "3  경남도,1조,복원,경상남도,광역단체,1조,투입,본격적,프로젝트,가야사,복원,경남도,...   \n",
       "4  이젠,해군,수병,경남,창원시,진해구,해군,교육,사령부,수료식,해군병,참석,수병들,선...   \n",
       "\n",
       "                                   특성추출(가중치순 상위 50개)  \\\n",
       "0  교육부,중동,창원시,창원,재검토,진주시,3개,도교육청,웅천중,손재경,경남교육청,진해...   \n",
       "1  세무사,마을세무사,창원시,지방세,세무상담,연락처,재능기부,7명,취약계층,사업자,전차...   \n",
       "2  안상수,경남,소방관,창원시청,소방인,공무원,창원소방본부,창원,신체검사,체력시험,부산...   \n",
       "3  가야사,영호남,문화재,경남도,가야,경남,1조,전라북도,광역단체,한경호,신라,백제,고...   \n",
       "4  해군병,경남,사령부,정모,창원시,수료식,수병들,진해구,이젠,해군,수병,허가,외출,제...   \n",
       "\n",
       "                                                  본문  \\\n",
       "0  경상남도교육청(교육감 박종훈)은 지난 21일 개최된 교육부 수시2차 중앙투자심사에서...   \n",
       "1  경남 창원시는 지난 28일 시청 제4회의실에서 '2018년도 제2기 창원시 마을세무...   \n",
       "2  경남 창원소방본부(본부장 권순호)는 지난 28일 창원시청 제3회의실에서 신규 소방공...   \n",
       "3  경상남도가 광역단체 최초로 1조원을 투입해 올해부터 본격적인 '가야사 복원 프로젝트...   \n",
       "4  29일 경남 창원시 진해구 해군 교육사령부에서 열린 해군병 제645기 수료식에 참석...   \n",
       "\n",
       "                                                 URL 분석제외 여부 city  \\\n",
       "0  http://www.joongdo.co.kr/main/view.php?key=201...     NaN  창원시   \n",
       "1  http://www.joongdo.co.kr/main/view.php?key=201...     NaN  창원시   \n",
       "2  http://www.joongdo.co.kr/main/view.php?key=201...     NaN  창원시   \n",
       "3  http://news.mk.co.kr/newsRead.php?year=2017&no...     NaN  창원시   \n",
       "4  https://www.donga.com/news/article/all/2017123...     NaN  창원시   \n",
       "\n",
       "         filter_keyword  \n",
       "0  {계획, 주택, 혁신, 감소, 인구}  \n",
       "1             {사회, 지방세}  \n",
       "2                  {교육}  \n",
       "3          {교육, 문화, 관광}  \n",
       "4                  {교육}  \n",
       "\n",
       "[5 rows x 21 columns]"
      ]
     },
     "execution_count": 64,
     "metadata": {},
     "output_type": "execute_result"
    }
   ],
   "source": [
    "df_filter.head()"
   ]
  },
  {
   "cell_type": "code",
   "execution_count": 59,
   "metadata": {},
   "outputs": [],
   "source": [
    "df_filter.to_pickle(\"../data/merged_data/total/merged_filtered.pkl\")"
   ]
  },
  {
   "cell_type": "markdown",
   "metadata": {},
   "source": [
    "### OLD"
   ]
  },
  {
   "cell_type": "code",
   "execution_count": 61,
   "metadata": {},
   "outputs": [
    {
     "ename": "KeyboardInterrupt",
     "evalue": "",
     "output_type": "error",
     "traceback": [
      "\u001b[0;31m---------------------------------------------------------------------------\u001b[0m",
      "\u001b[0;31mKeyboardInterrupt\u001b[0m                         Traceback (most recent call last)",
      "\u001b[0;32m/var/folders/ks/zdzpzdss37j5m0f27_d5d7qh0000gn/T/ipykernel_6085/3108126036.py\u001b[0m in \u001b[0;36m<module>\u001b[0;34m\u001b[0m\n\u001b[1;32m      2\u001b[0m \u001b[0mi\u001b[0m \u001b[0;34m=\u001b[0m \u001b[0;36m0\u001b[0m\u001b[0;34m\u001b[0m\u001b[0;34m\u001b[0m\u001b[0m\n\u001b[1;32m      3\u001b[0m \u001b[0;32mfor\u001b[0m \u001b[0mf\u001b[0m \u001b[0;32min\u001b[0m \u001b[0mglob\u001b[0m\u001b[0;34m.\u001b[0m\u001b[0mglob\u001b[0m\u001b[0;34m(\u001b[0m\u001b[0;34mf'/Users/mglee/Desktop/folder/merged_data/*.pkl'\u001b[0m\u001b[0;34m)\u001b[0m\u001b[0;34m:\u001b[0m\u001b[0;34m\u001b[0m\u001b[0;34m\u001b[0m\u001b[0m\n\u001b[0;32m----> 4\u001b[0;31m     \u001b[0mdf\u001b[0m \u001b[0;34m=\u001b[0m \u001b[0mpd\u001b[0m\u001b[0;34m.\u001b[0m\u001b[0mread_pickle\u001b[0m\u001b[0;34m(\u001b[0m\u001b[0mf\u001b[0m\u001b[0;34m)\u001b[0m\u001b[0;34m\u001b[0m\u001b[0;34m\u001b[0m\u001b[0m\n\u001b[0m\u001b[1;32m      5\u001b[0m     \u001b[0mdf\u001b[0m\u001b[0;34m[\u001b[0m\u001b[0;34m'filepath'\u001b[0m\u001b[0;34m]\u001b[0m \u001b[0;34m=\u001b[0m \u001b[0mf\u001b[0m\u001b[0;34m\u001b[0m\u001b[0;34m\u001b[0m\u001b[0m\n\u001b[1;32m      6\u001b[0m     \u001b[0midx_list\u001b[0m\u001b[0;34m=\u001b[0m \u001b[0;34m[\u001b[0m\u001b[0;34m]\u001b[0m\u001b[0;34m\u001b[0m\u001b[0;34m\u001b[0m\u001b[0m\n",
      "\u001b[0;32m~/miniforge3/envs/mglee/lib/python3.9/site-packages/pandas/io/pickle.py\u001b[0m in \u001b[0;36mread_pickle\u001b[0;34m(filepath_or_buffer, compression, storage_options)\u001b[0m\n\u001b[1;32m    215\u001b[0m                     \u001b[0;31m# RawIOBase, BufferedIOBase, TextIOBase, TextIOWrapper, mmap]\";\u001b[0m\u001b[0;34m\u001b[0m\u001b[0;34m\u001b[0m\u001b[0m\n\u001b[1;32m    216\u001b[0m                     \u001b[0;31m# expected \"IO[bytes]\"\u001b[0m\u001b[0;34m\u001b[0m\u001b[0;34m\u001b[0m\u001b[0m\n\u001b[0;32m--> 217\u001b[0;31m                     \u001b[0;32mreturn\u001b[0m \u001b[0mpickle\u001b[0m\u001b[0;34m.\u001b[0m\u001b[0mload\u001b[0m\u001b[0;34m(\u001b[0m\u001b[0mhandles\u001b[0m\u001b[0;34m.\u001b[0m\u001b[0mhandle\u001b[0m\u001b[0;34m)\u001b[0m  \u001b[0;31m# type: ignore[arg-type]\u001b[0m\u001b[0;34m\u001b[0m\u001b[0;34m\u001b[0m\u001b[0m\n\u001b[0m\u001b[1;32m    218\u001b[0m             \u001b[0;32mexcept\u001b[0m \u001b[0mexcs_to_catch\u001b[0m\u001b[0;34m:\u001b[0m\u001b[0;34m\u001b[0m\u001b[0;34m\u001b[0m\u001b[0m\n\u001b[1;32m    219\u001b[0m                 \u001b[0;31m# e.g.\u001b[0m\u001b[0;34m\u001b[0m\u001b[0;34m\u001b[0m\u001b[0m\n",
      "\u001b[0;32m~/miniforge3/envs/mglee/lib/python3.9/site-packages/pandas/core/internals/blocks.py\u001b[0m in \u001b[0;36mnew_block\u001b[0;34m(values, placement, ndim, klass)\u001b[0m\n\u001b[1;32m   1929\u001b[0m \u001b[0;34m\u001b[0m\u001b[0m\n\u001b[1;32m   1930\u001b[0m \u001b[0;34m\u001b[0m\u001b[0m\n\u001b[0;32m-> 1931\u001b[0;31m \u001b[0;32mdef\u001b[0m \u001b[0mnew_block\u001b[0m\u001b[0;34m(\u001b[0m\u001b[0mvalues\u001b[0m\u001b[0;34m,\u001b[0m \u001b[0mplacement\u001b[0m\u001b[0;34m,\u001b[0m \u001b[0;34m*\u001b[0m\u001b[0;34m,\u001b[0m \u001b[0mndim\u001b[0m\u001b[0;34m:\u001b[0m \u001b[0mint\u001b[0m\u001b[0;34m,\u001b[0m \u001b[0mklass\u001b[0m\u001b[0;34m=\u001b[0m\u001b[0;32mNone\u001b[0m\u001b[0;34m)\u001b[0m \u001b[0;34m->\u001b[0m \u001b[0mBlock\u001b[0m\u001b[0;34m:\u001b[0m\u001b[0;34m\u001b[0m\u001b[0;34m\u001b[0m\u001b[0m\n\u001b[0m\u001b[1;32m   1932\u001b[0m \u001b[0;34m\u001b[0m\u001b[0m\n\u001b[1;32m   1933\u001b[0m     \u001b[0;32mif\u001b[0m \u001b[0;32mnot\u001b[0m \u001b[0misinstance\u001b[0m\u001b[0;34m(\u001b[0m\u001b[0mplacement\u001b[0m\u001b[0;34m,\u001b[0m \u001b[0mBlockPlacement\u001b[0m\u001b[0;34m)\u001b[0m\u001b[0;34m:\u001b[0m\u001b[0;34m\u001b[0m\u001b[0;34m\u001b[0m\u001b[0m\n",
      "\u001b[0;31mKeyboardInterrupt\u001b[0m: "
     ]
    }
   ],
   "source": [
    "data_all = pd.DataFrame()\n",
    "i = 0\n",
    "for f in glob.glob(f'/Users/mglee/Desktop/folder/merged_data/*.pkl'):\n",
    "    df = pd.read_pickle(f)\n",
    "    df['filepath'] = f\n",
    "    idx_list= []\n",
    "    for idx, keyword in enumerate(df['키워드']):\n",
    "        key_list = []\n",
    "        for item in keyword.split(','):\n",
    "            if item in list(keyword_list['1차 키워드']):\n",
    "                key_list.append(item)\n",
    "        if len(key_list) > 0:\n",
    "            idx_list.append(list(set(key_list)))\n",
    "        else:\n",
    "            idx_list.append(0)\n",
    "    df['keyword'] = idx_list\n",
    "    df_use = df[df['keyword'] != 0]\n",
    "    print(f\"File Path = {f}, Before len = {len(df)}, after len = {len(df_use)}\")\n",
    "    data_all = data_all.append(df_use, ignore_index=True)"
   ]
  }
 ],
 "metadata": {
  "interpreter": {
   "hash": "c6f34507fa43ba317958b721fa8398d2051b96ef3f3b32ff98429c26ce06f8cf"
  },
  "kernelspec": {
   "display_name": "Python 3.8.12 ('svmglee')",
   "language": "python",
   "name": "python3"
  },
  "language_info": {
   "codemirror_mode": {
    "name": "ipython",
    "version": 3
   },
   "file_extension": ".py",
   "mimetype": "text/x-python",
   "name": "python",
   "nbconvert_exporter": "python",
   "pygments_lexer": "ipython3",
   "version": "3.8.12"
  },
  "orig_nbformat": 4
 },
 "nbformat": 4,
 "nbformat_minor": 2
}
