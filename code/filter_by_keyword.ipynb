{
 "cells": [
  {
   "cell_type": "code",
   "execution_count": 1,
   "metadata": {},
   "outputs": [],
   "source": [
    "import pandas as pd\n",
    "import glob  \n",
    "import sys\n",
    "import os\n",
    "import time\n",
    "import re"
   ]
  },
  {
   "cell_type": "markdown",
   "metadata": {},
   "source": [
    "### Get Keyword list"
   ]
  },
  {
   "cell_type": "code",
   "execution_count": 2,
   "metadata": {},
   "outputs": [],
   "source": [
    "keyword_list = pd.read_excel(\"../data/Text_keyword.xlsx\")"
   ]
  },
  {
   "cell_type": "markdown",
   "metadata": {},
   "source": [
    "### Make Dictionary"
   ]
  },
  {
   "cell_type": "code",
   "execution_count": 3,
   "metadata": {},
   "outputs": [],
   "source": [
    "cat_to_key = {}\n",
    "for item in keyword_list['분류']:\n",
    "    cat_to_key[item] = []\n",
    "for i in range(len(keyword_list)):\n",
    "    cat_to_key[keyword_list.iloc[i][0]].append(keyword_list.iloc[i][1])\n",
    "\n",
    "key_to_cat = {}\n",
    "for item in keyword_list['1차 키워드']:\n",
    "    key_to_cat[item] = []\n",
    "for i in range(len(keyword_list)):\n",
    "    key_to_cat[keyword_list.iloc[i][1]].append(keyword_list.iloc[i][0])\n"
   ]
  },
  {
   "cell_type": "markdown",
   "metadata": {},
   "source": [
    "### Find list"
   ]
  },
  {
   "cell_type": "code",
   "execution_count": 4,
   "metadata": {},
   "outputs": [],
   "source": [
    "DATA_PATH = '../data/pkl/'"
   ]
  },
  {
   "cell_type": "code",
   "execution_count": 7,
   "metadata": {},
   "outputs": [
    {
     "name": "stdout",
     "output_type": "stream",
     "text": [
      "City = 김해시, before len = 125033, after len = 111035\n"
     ]
    },
    {
     "name": "stderr",
     "output_type": "stream",
     "text": [
      "/tmp/ipykernel_2225/2857279445.py:16: FutureWarning: The frame.append method is deprecated and will be removed from pandas in a future version. Use pandas.concat instead.\n",
      "  df_filter = df_filter.append(df.loc[df['filter_keyword'].map(len) != 0], ignore_index= True)\n"
     ]
    },
    {
     "name": "stdout",
     "output_type": "stream",
     "text": [
      "City = 광주시, before len = 471484, after len = 432402\n"
     ]
    },
    {
     "name": "stderr",
     "output_type": "stream",
     "text": [
      "/tmp/ipykernel_2225/2857279445.py:16: FutureWarning: The frame.append method is deprecated and will be removed from pandas in a future version. Use pandas.concat instead.\n",
      "  df_filter = df_filter.append(df.loc[df['filter_keyword'].map(len) != 0], ignore_index= True)\n"
     ]
    },
    {
     "name": "stdout",
     "output_type": "stream",
     "text": [
      "City = 남양주시, before len = 94225, after len = 85453\n"
     ]
    },
    {
     "name": "stderr",
     "output_type": "stream",
     "text": [
      "/tmp/ipykernel_2225/2857279445.py:16: FutureWarning: The frame.append method is deprecated and will be removed from pandas in a future version. Use pandas.concat instead.\n",
      "  df_filter = df_filter.append(df.loc[df['filter_keyword'].map(len) != 0], ignore_index= True)\n"
     ]
    },
    {
     "name": "stdout",
     "output_type": "stream",
     "text": [
      "City = 의정부시, before len = 77393, after len = 69298\n"
     ]
    },
    {
     "name": "stderr",
     "output_type": "stream",
     "text": [
      "/tmp/ipykernel_2225/2857279445.py:16: FutureWarning: The frame.append method is deprecated and will be removed from pandas in a future version. Use pandas.concat instead.\n",
      "  df_filter = df_filter.append(df.loc[df['filter_keyword'].map(len) != 0], ignore_index= True)\n"
     ]
    },
    {
     "name": "stdout",
     "output_type": "stream",
     "text": [
      "City = 포항시, before len = 97735, after len = 87802\n"
     ]
    },
    {
     "name": "stderr",
     "output_type": "stream",
     "text": [
      "/tmp/ipykernel_2225/2857279445.py:16: FutureWarning: The frame.append method is deprecated and will be removed from pandas in a future version. Use pandas.concat instead.\n",
      "  df_filter = df_filter.append(df.loc[df['filter_keyword'].map(len) != 0], ignore_index= True)\n"
     ]
    },
    {
     "name": "stdout",
     "output_type": "stream",
     "text": [
      "City = 제주시, before len = 284538, after len = 240633\n"
     ]
    },
    {
     "name": "stderr",
     "output_type": "stream",
     "text": [
      "/tmp/ipykernel_2225/2857279445.py:16: FutureWarning: The frame.append method is deprecated and will be removed from pandas in a future version. Use pandas.concat instead.\n",
      "  df_filter = df_filter.append(df.loc[df['filter_keyword'].map(len) != 0], ignore_index= True)\n"
     ]
    },
    {
     "name": "stdout",
     "output_type": "stream",
     "text": [
      "City = 김제시, before len = 61176, after len = 55837\n"
     ]
    },
    {
     "name": "stderr",
     "output_type": "stream",
     "text": [
      "/tmp/ipykernel_2225/2857279445.py:16: FutureWarning: The frame.append method is deprecated and will be removed from pandas in a future version. Use pandas.concat instead.\n",
      "  df_filter = df_filter.append(df.loc[df['filter_keyword'].map(len) != 0], ignore_index= True)\n"
     ]
    },
    {
     "name": "stdout",
     "output_type": "stream",
     "text": [
      "City = 원주시, before len = 139658, after len = 124002\n"
     ]
    },
    {
     "name": "stderr",
     "output_type": "stream",
     "text": [
      "/tmp/ipykernel_2225/2857279445.py:16: FutureWarning: The frame.append method is deprecated and will be removed from pandas in a future version. Use pandas.concat instead.\n",
      "  df_filter = df_filter.append(df.loc[df['filter_keyword'].map(len) != 0], ignore_index= True)\n"
     ]
    },
    {
     "name": "stdout",
     "output_type": "stream",
     "text": [
      "City = 진주시, before len = 91358, after len = 81197\n"
     ]
    },
    {
     "name": "stderr",
     "output_type": "stream",
     "text": [
      "/tmp/ipykernel_2225/2857279445.py:16: FutureWarning: The frame.append method is deprecated and will be removed from pandas in a future version. Use pandas.concat instead.\n",
      "  df_filter = df_filter.append(df.loc[df['filter_keyword'].map(len) != 0], ignore_index= True)\n"
     ]
    },
    {
     "name": "stdout",
     "output_type": "stream",
     "text": [
      "City = 안양시, before len = 106131, after len = 94550\n"
     ]
    },
    {
     "name": "stderr",
     "output_type": "stream",
     "text": [
      "/tmp/ipykernel_2225/2857279445.py:16: FutureWarning: The frame.append method is deprecated and will be removed from pandas in a future version. Use pandas.concat instead.\n",
      "  df_filter = df_filter.append(df.loc[df['filter_keyword'].map(len) != 0], ignore_index= True)\n"
     ]
    },
    {
     "name": "stdout",
     "output_type": "stream",
     "text": [
      "City = 과천시, before len = 66452, after len = 60514\n"
     ]
    },
    {
     "name": "stderr",
     "output_type": "stream",
     "text": [
      "/tmp/ipykernel_2225/2857279445.py:16: FutureWarning: The frame.append method is deprecated and will be removed from pandas in a future version. Use pandas.concat instead.\n",
      "  df_filter = df_filter.append(df.loc[df['filter_keyword'].map(len) != 0], ignore_index= True)\n"
     ]
    },
    {
     "name": "stdout",
     "output_type": "stream",
     "text": [
      "City = 광양시, before len = 46056, after len = 43288\n"
     ]
    },
    {
     "name": "stderr",
     "output_type": "stream",
     "text": [
      "/tmp/ipykernel_2225/2857279445.py:16: FutureWarning: The frame.append method is deprecated and will be removed from pandas in a future version. Use pandas.concat instead.\n",
      "  df_filter = df_filter.append(df.loc[df['filter_keyword'].map(len) != 0], ignore_index= True)\n"
     ]
    },
    {
     "name": "stdout",
     "output_type": "stream",
     "text": [
      "City = 김천시, before len = 33887, after len = 30325\n"
     ]
    },
    {
     "name": "stderr",
     "output_type": "stream",
     "text": [
      "/tmp/ipykernel_2225/2857279445.py:16: FutureWarning: The frame.append method is deprecated and will be removed from pandas in a future version. Use pandas.concat instead.\n",
      "  df_filter = df_filter.append(df.loc[df['filter_keyword'].map(len) != 0], ignore_index= True)\n"
     ]
    },
    {
     "name": "stdout",
     "output_type": "stream",
     "text": [
      "City = 남원시, before len = 57705, after len = 52710\n"
     ]
    },
    {
     "name": "stderr",
     "output_type": "stream",
     "text": [
      "/tmp/ipykernel_2225/2857279445.py:16: FutureWarning: The frame.append method is deprecated and will be removed from pandas in a future version. Use pandas.concat instead.\n",
      "  df_filter = df_filter.append(df.loc[df['filter_keyword'].map(len) != 0], ignore_index= True)\n"
     ]
    },
    {
     "name": "stdout",
     "output_type": "stream",
     "text": [
      "City = 강릉시, before len = 155832, after len = 135934\n"
     ]
    },
    {
     "name": "stderr",
     "output_type": "stream",
     "text": [
      "/tmp/ipykernel_2225/2857279445.py:16: FutureWarning: The frame.append method is deprecated and will be removed from pandas in a future version. Use pandas.concat instead.\n",
      "  df_filter = df_filter.append(df.loc[df['filter_keyword'].map(len) != 0], ignore_index= True)\n"
     ]
    },
    {
     "name": "stdout",
     "output_type": "stream",
     "text": [
      "City = 사천시, before len = 51548, after len = 46264\n"
     ]
    },
    {
     "name": "stderr",
     "output_type": "stream",
     "text": [
      "/tmp/ipykernel_2225/2857279445.py:16: FutureWarning: The frame.append method is deprecated and will be removed from pandas in a future version. Use pandas.concat instead.\n",
      "  df_filter = df_filter.append(df.loc[df['filter_keyword'].map(len) != 0], ignore_index= True)\n"
     ]
    },
    {
     "name": "stdout",
     "output_type": "stream",
     "text": [
      "City = 동해시, before len = 80516, after len = 71166\n"
     ]
    },
    {
     "name": "stderr",
     "output_type": "stream",
     "text": [
      "/tmp/ipykernel_2225/2857279445.py:16: FutureWarning: The frame.append method is deprecated and will be removed from pandas in a future version. Use pandas.concat instead.\n",
      "  df_filter = df_filter.append(df.loc[df['filter_keyword'].map(len) != 0], ignore_index= True)\n"
     ]
    },
    {
     "name": "stdout",
     "output_type": "stream",
     "text": [
      "City = 용인시, before len = 181420, after len = 166260\n"
     ]
    },
    {
     "name": "stderr",
     "output_type": "stream",
     "text": [
      "/tmp/ipykernel_2225/2857279445.py:16: FutureWarning: The frame.append method is deprecated and will be removed from pandas in a future version. Use pandas.concat instead.\n",
      "  df_filter = df_filter.append(df.loc[df['filter_keyword'].map(len) != 0], ignore_index= True)\n"
     ]
    },
    {
     "name": "stdout",
     "output_type": "stream",
     "text": [
      "City = 전주시, before len = 270971, after len = 238770\n"
     ]
    },
    {
     "name": "stderr",
     "output_type": "stream",
     "text": [
      "/tmp/ipykernel_2225/2857279445.py:16: FutureWarning: The frame.append method is deprecated and will be removed from pandas in a future version. Use pandas.concat instead.\n",
      "  df_filter = df_filter.append(df.loc[df['filter_keyword'].map(len) != 0], ignore_index= True)\n"
     ]
    },
    {
     "name": "stdout",
     "output_type": "stream",
     "text": [
      "City = 아산시, before len = 134353, after len = 126873\n"
     ]
    },
    {
     "name": "stderr",
     "output_type": "stream",
     "text": [
      "/tmp/ipykernel_2225/2857279445.py:16: FutureWarning: The frame.append method is deprecated and will be removed from pandas in a future version. Use pandas.concat instead.\n",
      "  df_filter = df_filter.append(df.loc[df['filter_keyword'].map(len) != 0], ignore_index= True)\n"
     ]
    },
    {
     "name": "stdout",
     "output_type": "stream",
     "text": [
      "City = 문경시, before len = 28501, after len = 25241\n"
     ]
    },
    {
     "name": "stderr",
     "output_type": "stream",
     "text": [
      "/tmp/ipykernel_2225/2857279445.py:16: FutureWarning: The frame.append method is deprecated and will be removed from pandas in a future version. Use pandas.concat instead.\n",
      "  df_filter = df_filter.append(df.loc[df['filter_keyword'].map(len) != 0], ignore_index= True)\n"
     ]
    },
    {
     "name": "stdout",
     "output_type": "stream",
     "text": [
      "City = 공주시, before len = 112456, after len = 105165\n"
     ]
    },
    {
     "name": "stderr",
     "output_type": "stream",
     "text": [
      "/tmp/ipykernel_2225/2857279445.py:16: FutureWarning: The frame.append method is deprecated and will be removed from pandas in a future version. Use pandas.concat instead.\n",
      "  df_filter = df_filter.append(df.loc[df['filter_keyword'].map(len) != 0], ignore_index= True)\n"
     ]
    },
    {
     "name": "stdout",
     "output_type": "stream",
     "text": [
      "City = 정읍시, before len = 64376, after len = 58465\n"
     ]
    },
    {
     "name": "stderr",
     "output_type": "stream",
     "text": [
      "/tmp/ipykernel_2225/2857279445.py:16: FutureWarning: The frame.append method is deprecated and will be removed from pandas in a future version. Use pandas.concat instead.\n",
      "  df_filter = df_filter.append(df.loc[df['filter_keyword'].map(len) != 0], ignore_index= True)\n"
     ]
    },
    {
     "name": "stdout",
     "output_type": "stream",
     "text": [
      "City = 서산시, before len = 124259, after len = 115494\n"
     ]
    },
    {
     "name": "stderr",
     "output_type": "stream",
     "text": [
      "/tmp/ipykernel_2225/2857279445.py:16: FutureWarning: The frame.append method is deprecated and will be removed from pandas in a future version. Use pandas.concat instead.\n",
      "  df_filter = df_filter.append(df.loc[df['filter_keyword'].map(len) != 0], ignore_index= True)\n"
     ]
    },
    {
     "name": "stdout",
     "output_type": "stream",
     "text": [
      "City = 영주시, before len = 29610, after len = 26368\n"
     ]
    },
    {
     "name": "stderr",
     "output_type": "stream",
     "text": [
      "/tmp/ipykernel_2225/2857279445.py:16: FutureWarning: The frame.append method is deprecated and will be removed from pandas in a future version. Use pandas.concat instead.\n",
      "  df_filter = df_filter.append(df.loc[df['filter_keyword'].map(len) != 0], ignore_index= True)\n"
     ]
    },
    {
     "name": "stdout",
     "output_type": "stream",
     "text": [
      "City = 속초시, before len = 70775, after len = 62804\n"
     ]
    },
    {
     "name": "stderr",
     "output_type": "stream",
     "text": [
      "/tmp/ipykernel_2225/2857279445.py:16: FutureWarning: The frame.append method is deprecated and will be removed from pandas in a future version. Use pandas.concat instead.\n",
      "  df_filter = df_filter.append(df.loc[df['filter_keyword'].map(len) != 0], ignore_index= True)\n"
     ]
    },
    {
     "name": "stdout",
     "output_type": "stream",
     "text": [
      "City = 영천시, before len = 30240, after len = 26618\n"
     ]
    },
    {
     "name": "stderr",
     "output_type": "stream",
     "text": [
      "/tmp/ipykernel_2225/2857279445.py:16: FutureWarning: The frame.append method is deprecated and will be removed from pandas in a future version. Use pandas.concat instead.\n",
      "  df_filter = df_filter.append(df.loc[df['filter_keyword'].map(len) != 0], ignore_index= True)\n"
     ]
    },
    {
     "name": "stdout",
     "output_type": "stream",
     "text": [
      "City = 성남시, before len = 250033, after len = 224567\n"
     ]
    },
    {
     "name": "stderr",
     "output_type": "stream",
     "text": [
      "/tmp/ipykernel_2225/2857279445.py:16: FutureWarning: The frame.append method is deprecated and will be removed from pandas in a future version. Use pandas.concat instead.\n",
      "  df_filter = df_filter.append(df.loc[df['filter_keyword'].map(len) != 0], ignore_index= True)\n"
     ]
    },
    {
     "name": "stdout",
     "output_type": "stream",
     "text": [
      "City = 목포시, before len = 56388, after len = 50420\n"
     ]
    },
    {
     "name": "stderr",
     "output_type": "stream",
     "text": [
      "/tmp/ipykernel_2225/2857279445.py:16: FutureWarning: The frame.append method is deprecated and will be removed from pandas in a future version. Use pandas.concat instead.\n",
      "  df_filter = df_filter.append(df.loc[df['filter_keyword'].map(len) != 0], ignore_index= True)\n"
     ]
    },
    {
     "name": "stdout",
     "output_type": "stream",
     "text": [
      "City = 계룡시, before len = 41018, after len = 38586\n"
     ]
    },
    {
     "name": "stderr",
     "output_type": "stream",
     "text": [
      "/tmp/ipykernel_2225/2857279445.py:16: FutureWarning: The frame.append method is deprecated and will be removed from pandas in a future version. Use pandas.concat instead.\n",
      "  df_filter = df_filter.append(df.loc[df['filter_keyword'].map(len) != 0], ignore_index= True)\n"
     ]
    },
    {
     "name": "stdout",
     "output_type": "stream",
     "text": [
      "City = 논산시, before len = 64788, after len = 59907\n"
     ]
    },
    {
     "name": "stderr",
     "output_type": "stream",
     "text": [
      "/tmp/ipykernel_2225/2857279445.py:16: FutureWarning: The frame.append method is deprecated and will be removed from pandas in a future version. Use pandas.concat instead.\n",
      "  df_filter = df_filter.append(df.loc[df['filter_keyword'].map(len) != 0], ignore_index= True)\n"
     ]
    },
    {
     "name": "stdout",
     "output_type": "stream",
     "text": [
      "City = 동두천시, before len = 37773, after len = 34404\n"
     ]
    },
    {
     "name": "stderr",
     "output_type": "stream",
     "text": [
      "/tmp/ipykernel_2225/2857279445.py:16: FutureWarning: The frame.append method is deprecated and will be removed from pandas in a future version. Use pandas.concat instead.\n",
      "  df_filter = df_filter.append(df.loc[df['filter_keyword'].map(len) != 0], ignore_index= True)\n"
     ]
    },
    {
     "name": "stdout",
     "output_type": "stream",
     "text": [
      "City = 군산시, before len = 105072, after len = 93707\n"
     ]
    },
    {
     "name": "stderr",
     "output_type": "stream",
     "text": [
      "/tmp/ipykernel_2225/2857279445.py:16: FutureWarning: The frame.append method is deprecated and will be removed from pandas in a future version. Use pandas.concat instead.\n",
      "  df_filter = df_filter.append(df.loc[df['filter_keyword'].map(len) != 0], ignore_index= True)\n"
     ]
    },
    {
     "name": "stdout",
     "output_type": "stream",
     "text": [
      "City = 창원시, before len = 283886, after len = 252435\n"
     ]
    },
    {
     "name": "stderr",
     "output_type": "stream",
     "text": [
      "/tmp/ipykernel_2225/2857279445.py:16: FutureWarning: The frame.append method is deprecated and will be removed from pandas in a future version. Use pandas.concat instead.\n",
      "  df_filter = df_filter.append(df.loc[df['filter_keyword'].map(len) != 0], ignore_index= True)\n"
     ]
    },
    {
     "name": "stdout",
     "output_type": "stream",
     "text": [
      "City = 시흥시, before len = 79576, after len = 72951\n"
     ]
    },
    {
     "name": "stderr",
     "output_type": "stream",
     "text": [
      "/tmp/ipykernel_2225/2857279445.py:16: FutureWarning: The frame.append method is deprecated and will be removed from pandas in a future version. Use pandas.concat instead.\n",
      "  df_filter = df_filter.append(df.loc[df['filter_keyword'].map(len) != 0], ignore_index= True)\n"
     ]
    },
    {
     "name": "stdout",
     "output_type": "stream",
     "text": [
      "City = 화성시, before len = 128515, after len = 119973\n"
     ]
    },
    {
     "name": "stderr",
     "output_type": "stream",
     "text": [
      "/tmp/ipykernel_2225/2857279445.py:16: FutureWarning: The frame.append method is deprecated and will be removed from pandas in a future version. Use pandas.concat instead.\n",
      "  df_filter = df_filter.append(df.loc[df['filter_keyword'].map(len) != 0], ignore_index= True)\n"
     ]
    },
    {
     "name": "stdout",
     "output_type": "stream",
     "text": [
      "City = 의왕시, before len = 67085, after len = 61242\n"
     ]
    },
    {
     "name": "stderr",
     "output_type": "stream",
     "text": [
      "/tmp/ipykernel_2225/2857279445.py:16: FutureWarning: The frame.append method is deprecated and will be removed from pandas in a future version. Use pandas.concat instead.\n",
      "  df_filter = df_filter.append(df.loc[df['filter_keyword'].map(len) != 0], ignore_index= True)\n"
     ]
    },
    {
     "name": "stdout",
     "output_type": "stream",
     "text": [
      "City = 여주시, before len = 24732, after len = 23052\n"
     ]
    },
    {
     "name": "stderr",
     "output_type": "stream",
     "text": [
      "/tmp/ipykernel_2225/2857279445.py:16: FutureWarning: The frame.append method is deprecated and will be removed from pandas in a future version. Use pandas.concat instead.\n",
      "  df_filter = df_filter.append(df.loc[df['filter_keyword'].map(len) != 0], ignore_index= True)\n"
     ]
    },
    {
     "name": "stdout",
     "output_type": "stream",
     "text": [
      "City = 삼척시, before len = 76184, after len = 67986\n"
     ]
    },
    {
     "name": "stderr",
     "output_type": "stream",
     "text": [
      "/tmp/ipykernel_2225/2857279445.py:16: FutureWarning: The frame.append method is deprecated and will be removed from pandas in a future version. Use pandas.concat instead.\n",
      "  df_filter = df_filter.append(df.loc[df['filter_keyword'].map(len) != 0], ignore_index= True)\n"
     ]
    },
    {
     "name": "stdout",
     "output_type": "stream",
     "text": [
      "City = 안산시, before len = 121826, after len = 108459\n"
     ]
    },
    {
     "name": "stderr",
     "output_type": "stream",
     "text": [
      "/tmp/ipykernel_2225/2857279445.py:16: FutureWarning: The frame.append method is deprecated and will be removed from pandas in a future version. Use pandas.concat instead.\n",
      "  df_filter = df_filter.append(df.loc[df['filter_keyword'].map(len) != 0], ignore_index= True)\n"
     ]
    },
    {
     "name": "stdout",
     "output_type": "stream",
     "text": [
      "City = 안성시, before len = 51275, after len = 46637\n"
     ]
    },
    {
     "name": "stderr",
     "output_type": "stream",
     "text": [
      "/tmp/ipykernel_2225/2857279445.py:16: FutureWarning: The frame.append method is deprecated and will be removed from pandas in a future version. Use pandas.concat instead.\n",
      "  df_filter = df_filter.append(df.loc[df['filter_keyword'].map(len) != 0], ignore_index= True)\n"
     ]
    },
    {
     "name": "stdout",
     "output_type": "stream",
     "text": [
      "City = 춘천시, before len = 189104, after len = 162392\n"
     ]
    },
    {
     "name": "stderr",
     "output_type": "stream",
     "text": [
      "/tmp/ipykernel_2225/2857279445.py:16: FutureWarning: The frame.append method is deprecated and will be removed from pandas in a future version. Use pandas.concat instead.\n",
      "  df_filter = df_filter.append(df.loc[df['filter_keyword'].map(len) != 0], ignore_index= True)\n"
     ]
    },
    {
     "name": "stdout",
     "output_type": "stream",
     "text": [
      "City = 구미시, before len = 74586, after len = 67118\n"
     ]
    },
    {
     "name": "stderr",
     "output_type": "stream",
     "text": [
      "/tmp/ipykernel_2225/2857279445.py:16: FutureWarning: The frame.append method is deprecated and will be removed from pandas in a future version. Use pandas.concat instead.\n",
      "  df_filter = df_filter.append(df.loc[df['filter_keyword'].map(len) != 0], ignore_index= True)\n"
     ]
    },
    {
     "name": "stdout",
     "output_type": "stream",
     "text": [
      "City = 광명시, before len = 78024, after len = 71371\n"
     ]
    },
    {
     "name": "stderr",
     "output_type": "stream",
     "text": [
      "/tmp/ipykernel_2225/2857279445.py:16: FutureWarning: The frame.append method is deprecated and will be removed from pandas in a future version. Use pandas.concat instead.\n",
      "  df_filter = df_filter.append(df.loc[df['filter_keyword'].map(len) != 0], ignore_index= True)\n"
     ]
    },
    {
     "name": "stdout",
     "output_type": "stream",
     "text": [
      "City = 포천시, before len = 50086, after len = 45636\n"
     ]
    },
    {
     "name": "stderr",
     "output_type": "stream",
     "text": [
      "/tmp/ipykernel_2225/2857279445.py:16: FutureWarning: The frame.append method is deprecated and will be removed from pandas in a future version. Use pandas.concat instead.\n",
      "  df_filter = df_filter.append(df.loc[df['filter_keyword'].map(len) != 0], ignore_index= True)\n"
     ]
    },
    {
     "name": "stdout",
     "output_type": "stream",
     "text": [
      "City = 경산시, before len = 45383, after len = 39519\n"
     ]
    },
    {
     "name": "stderr",
     "output_type": "stream",
     "text": [
      "/tmp/ipykernel_2225/2857279445.py:16: FutureWarning: The frame.append method is deprecated and will be removed from pandas in a future version. Use pandas.concat instead.\n",
      "  df_filter = df_filter.append(df.loc[df['filter_keyword'].map(len) != 0], ignore_index= True)\n"
     ]
    },
    {
     "name": "stdout",
     "output_type": "stream",
     "text": [
      "City = 오산시, before len = 47401, after len = 43687\n"
     ]
    },
    {
     "name": "stderr",
     "output_type": "stream",
     "text": [
      "/tmp/ipykernel_2225/2857279445.py:16: FutureWarning: The frame.append method is deprecated and will be removed from pandas in a future version. Use pandas.concat instead.\n",
      "  df_filter = df_filter.append(df.loc[df['filter_keyword'].map(len) != 0], ignore_index= True)\n"
     ]
    },
    {
     "name": "stdout",
     "output_type": "stream",
     "text": [
      "City = 태백시, before len = 58722, after len = 52640\n"
     ]
    },
    {
     "name": "stderr",
     "output_type": "stream",
     "text": [
      "/tmp/ipykernel_2225/2857279445.py:16: FutureWarning: The frame.append method is deprecated and will be removed from pandas in a future version. Use pandas.concat instead.\n",
      "  df_filter = df_filter.append(df.loc[df['filter_keyword'].map(len) != 0], ignore_index= True)\n"
     ]
    },
    {
     "name": "stdout",
     "output_type": "stream",
     "text": [
      "City = 안동시, before len = 53002, after len = 47082\n"
     ]
    },
    {
     "name": "stderr",
     "output_type": "stream",
     "text": [
      "/tmp/ipykernel_2225/2857279445.py:16: FutureWarning: The frame.append method is deprecated and will be removed from pandas in a future version. Use pandas.concat instead.\n",
      "  df_filter = df_filter.append(df.loc[df['filter_keyword'].map(len) != 0], ignore_index= True)\n"
     ]
    },
    {
     "name": "stdout",
     "output_type": "stream",
     "text": [
      "City = 부천시, before len = 128401, after len = 113737\n"
     ]
    },
    {
     "name": "stderr",
     "output_type": "stream",
     "text": [
      "/tmp/ipykernel_2225/2857279445.py:16: FutureWarning: The frame.append method is deprecated and will be removed from pandas in a future version. Use pandas.concat instead.\n",
      "  df_filter = df_filter.append(df.loc[df['filter_keyword'].map(len) != 0], ignore_index= True)\n"
     ]
    },
    {
     "name": "stdout",
     "output_type": "stream",
     "text": [
      "City = 여수시, before len = 87975, after len = 80134\n"
     ]
    },
    {
     "name": "stderr",
     "output_type": "stream",
     "text": [
      "/tmp/ipykernel_2225/2857279445.py:16: FutureWarning: The frame.append method is deprecated and will be removed from pandas in a future version. Use pandas.concat instead.\n",
      "  df_filter = df_filter.append(df.loc[df['filter_keyword'].map(len) != 0], ignore_index= True)\n"
     ]
    },
    {
     "name": "stdout",
     "output_type": "stream",
     "text": [
      "City = 구리시, before len = 54984, after len = 50012\n"
     ]
    },
    {
     "name": "stderr",
     "output_type": "stream",
     "text": [
      "/tmp/ipykernel_2225/2857279445.py:16: FutureWarning: The frame.append method is deprecated and will be removed from pandas in a future version. Use pandas.concat instead.\n",
      "  df_filter = df_filter.append(df.loc[df['filter_keyword'].map(len) != 0], ignore_index= True)\n"
     ]
    },
    {
     "name": "stdout",
     "output_type": "stream",
     "text": [
      "City = 밀양시, before len = 50402, after len = 44893\n"
     ]
    },
    {
     "name": "stderr",
     "output_type": "stream",
     "text": [
      "/tmp/ipykernel_2225/2857279445.py:16: FutureWarning: The frame.append method is deprecated and will be removed from pandas in a future version. Use pandas.concat instead.\n",
      "  df_filter = df_filter.append(df.loc[df['filter_keyword'].map(len) != 0], ignore_index= True)\n"
     ]
    },
    {
     "name": "stdout",
     "output_type": "stream",
     "text": [
      "City = 이천시, before len = 64361, after len = 59394\n"
     ]
    },
    {
     "name": "stderr",
     "output_type": "stream",
     "text": [
      "/tmp/ipykernel_2225/2857279445.py:16: FutureWarning: The frame.append method is deprecated and will be removed from pandas in a future version. Use pandas.concat instead.\n",
      "  df_filter = df_filter.append(df.loc[df['filter_keyword'].map(len) != 0], ignore_index= True)\n"
     ]
    },
    {
     "name": "stdout",
     "output_type": "stream",
     "text": [
      "City = 익산시, before len = 104862, after len = 95138\n"
     ]
    },
    {
     "name": "stderr",
     "output_type": "stream",
     "text": [
      "/tmp/ipykernel_2225/2857279445.py:16: FutureWarning: The frame.append method is deprecated and will be removed from pandas in a future version. Use pandas.concat instead.\n",
      "  df_filter = df_filter.append(df.loc[df['filter_keyword'].map(len) != 0], ignore_index= True)\n"
     ]
    },
    {
     "name": "stdout",
     "output_type": "stream",
     "text": [
      "City = 하남시, before len = 71241, after len = 65876\n"
     ]
    },
    {
     "name": "stderr",
     "output_type": "stream",
     "text": [
      "/tmp/ipykernel_2225/2857279445.py:16: FutureWarning: The frame.append method is deprecated and will be removed from pandas in a future version. Use pandas.concat instead.\n",
      "  df_filter = df_filter.append(df.loc[df['filter_keyword'].map(len) != 0], ignore_index= True)\n"
     ]
    },
    {
     "name": "stdout",
     "output_type": "stream",
     "text": [
      "City = 양주시, before len = 51487, after len = 47880\n"
     ]
    },
    {
     "name": "stderr",
     "output_type": "stream",
     "text": [
      "/tmp/ipykernel_2225/2857279445.py:16: FutureWarning: The frame.append method is deprecated and will be removed from pandas in a future version. Use pandas.concat instead.\n",
      "  df_filter = df_filter.append(df.loc[df['filter_keyword'].map(len) != 0], ignore_index= True)\n"
     ]
    },
    {
     "name": "stdout",
     "output_type": "stream",
     "text": [
      "City = 보령시, before len = 86905, after len = 80769\n"
     ]
    },
    {
     "name": "stderr",
     "output_type": "stream",
     "text": [
      "/tmp/ipykernel_2225/2857279445.py:16: FutureWarning: The frame.append method is deprecated and will be removed from pandas in a future version. Use pandas.concat instead.\n",
      "  df_filter = df_filter.append(df.loc[df['filter_keyword'].map(len) != 0], ignore_index= True)\n"
     ]
    },
    {
     "name": "stdout",
     "output_type": "stream",
     "text": [
      "City = 경주시, before len = 79796, after len = 71098\n"
     ]
    },
    {
     "name": "stderr",
     "output_type": "stream",
     "text": [
      "/tmp/ipykernel_2225/2857279445.py:16: FutureWarning: The frame.append method is deprecated and will be removed from pandas in a future version. Use pandas.concat instead.\n",
      "  df_filter = df_filter.append(df.loc[df['filter_keyword'].map(len) != 0], ignore_index= True)\n"
     ]
    },
    {
     "name": "stdout",
     "output_type": "stream",
     "text": [
      "City = 순천시, before len = 72098, after len = 66243\n"
     ]
    },
    {
     "name": "stderr",
     "output_type": "stream",
     "text": [
      "/tmp/ipykernel_2225/2857279445.py:16: FutureWarning: The frame.append method is deprecated and will be removed from pandas in a future version. Use pandas.concat instead.\n",
      "  df_filter = df_filter.append(df.loc[df['filter_keyword'].map(len) != 0], ignore_index= True)\n"
     ]
    },
    {
     "name": "stdout",
     "output_type": "stream",
     "text": [
      "City = 양산시, before len = 101051, after len = 91202\n"
     ]
    },
    {
     "name": "stderr",
     "output_type": "stream",
     "text": [
      "/tmp/ipykernel_2225/2857279445.py:16: FutureWarning: The frame.append method is deprecated and will be removed from pandas in a future version. Use pandas.concat instead.\n",
      "  df_filter = df_filter.append(df.loc[df['filter_keyword'].map(len) != 0], ignore_index= True)\n"
     ]
    },
    {
     "name": "stdout",
     "output_type": "stream",
     "text": [
      "City = 상주시, before len = 37889, after len = 34064\n"
     ]
    },
    {
     "name": "stderr",
     "output_type": "stream",
     "text": [
      "/tmp/ipykernel_2225/2857279445.py:16: FutureWarning: The frame.append method is deprecated and will be removed from pandas in a future version. Use pandas.concat instead.\n",
      "  df_filter = df_filter.append(df.loc[df['filter_keyword'].map(len) != 0], ignore_index= True)\n"
     ]
    },
    {
     "name": "stdout",
     "output_type": "stream",
     "text": [
      "City = 당진시, before len = 62442, after len = 59488\n"
     ]
    },
    {
     "name": "stderr",
     "output_type": "stream",
     "text": [
      "/tmp/ipykernel_2225/2857279445.py:16: FutureWarning: The frame.append method is deprecated and will be removed from pandas in a future version. Use pandas.concat instead.\n",
      "  df_filter = df_filter.append(df.loc[df['filter_keyword'].map(len) != 0], ignore_index= True)\n"
     ]
    },
    {
     "name": "stdout",
     "output_type": "stream",
     "text": [
      "City = 김포시, before len = 79632, after len = 74084\n"
     ]
    },
    {
     "name": "stderr",
     "output_type": "stream",
     "text": [
      "/tmp/ipykernel_2225/2857279445.py:16: FutureWarning: The frame.append method is deprecated and will be removed from pandas in a future version. Use pandas.concat instead.\n",
      "  df_filter = df_filter.append(df.loc[df['filter_keyword'].map(len) != 0], ignore_index= True)\n"
     ]
    },
    {
     "name": "stdout",
     "output_type": "stream",
     "text": [
      "City = 평택시, before len = 98202, after len = 89956\n"
     ]
    },
    {
     "name": "stderr",
     "output_type": "stream",
     "text": [
      "/tmp/ipykernel_2225/2857279445.py:16: FutureWarning: The frame.append method is deprecated and will be removed from pandas in a future version. Use pandas.concat instead.\n",
      "  df_filter = df_filter.append(df.loc[df['filter_keyword'].map(len) != 0], ignore_index= True)\n"
     ]
    },
    {
     "name": "stdout",
     "output_type": "stream",
     "text": [
      "City = 통영시, before len = 55878, after len = 49079\n"
     ]
    },
    {
     "name": "stderr",
     "output_type": "stream",
     "text": [
      "/tmp/ipykernel_2225/2857279445.py:16: FutureWarning: The frame.append method is deprecated and will be removed from pandas in a future version. Use pandas.concat instead.\n",
      "  df_filter = df_filter.append(df.loc[df['filter_keyword'].map(len) != 0], ignore_index= True)\n"
     ]
    },
    {
     "name": "stdout",
     "output_type": "stream",
     "text": [
      "City = 청주시, before len = 424160, after len = 377284\n"
     ]
    },
    {
     "name": "stderr",
     "output_type": "stream",
     "text": [
      "/tmp/ipykernel_2225/2857279445.py:16: FutureWarning: The frame.append method is deprecated and will be removed from pandas in a future version. Use pandas.concat instead.\n",
      "  df_filter = df_filter.append(df.loc[df['filter_keyword'].map(len) != 0], ignore_index= True)\n"
     ]
    },
    {
     "name": "stdout",
     "output_type": "stream",
     "text": [
      "City = 수원시, before len = 261544, after len = 230488\n"
     ]
    },
    {
     "name": "stderr",
     "output_type": "stream",
     "text": [
      "/tmp/ipykernel_2225/2857279445.py:16: FutureWarning: The frame.append method is deprecated and will be removed from pandas in a future version. Use pandas.concat instead.\n",
      "  df_filter = df_filter.append(df.loc[df['filter_keyword'].map(len) != 0], ignore_index= True)\n"
     ]
    },
    {
     "name": "stdout",
     "output_type": "stream",
     "text": [
      "City = 군포시, before len = 57290, after len = 52273\n"
     ]
    },
    {
     "name": "stderr",
     "output_type": "stream",
     "text": [
      "/tmp/ipykernel_2225/2857279445.py:16: FutureWarning: The frame.append method is deprecated and will be removed from pandas in a future version. Use pandas.concat instead.\n",
      "  df_filter = df_filter.append(df.loc[df['filter_keyword'].map(len) != 0], ignore_index= True)\n"
     ]
    },
    {
     "name": "stdout",
     "output_type": "stream",
     "text": [
      "City = 서귀포시, before len = 191694, after len = 170625\n"
     ]
    },
    {
     "name": "stderr",
     "output_type": "stream",
     "text": [
      "/tmp/ipykernel_2225/2857279445.py:16: FutureWarning: The frame.append method is deprecated and will be removed from pandas in a future version. Use pandas.concat instead.\n",
      "  df_filter = df_filter.append(df.loc[df['filter_keyword'].map(len) != 0], ignore_index= True)\n"
     ]
    },
    {
     "name": "stdout",
     "output_type": "stream",
     "text": [
      "City = 천안시, before len = 241731, after len = 218344\n"
     ]
    },
    {
     "name": "stderr",
     "output_type": "stream",
     "text": [
      "/tmp/ipykernel_2225/2857279445.py:16: FutureWarning: The frame.append method is deprecated and will be removed from pandas in a future version. Use pandas.concat instead.\n",
      "  df_filter = df_filter.append(df.loc[df['filter_keyword'].map(len) != 0], ignore_index= True)\n"
     ]
    },
    {
     "name": "stdout",
     "output_type": "stream",
     "text": [
      "City = 거제시, before len = 67653, after len = 60863\n"
     ]
    },
    {
     "name": "stderr",
     "output_type": "stream",
     "text": [
      "/tmp/ipykernel_2225/2857279445.py:16: FutureWarning: The frame.append method is deprecated and will be removed from pandas in a future version. Use pandas.concat instead.\n",
      "  df_filter = df_filter.append(df.loc[df['filter_keyword'].map(len) != 0], ignore_index= True)\n"
     ]
    },
    {
     "name": "stdout",
     "output_type": "stream",
     "text": [
      "City = 제천시, before len = 133399, after len = 123439\n"
     ]
    },
    {
     "name": "stderr",
     "output_type": "stream",
     "text": [
      "/tmp/ipykernel_2225/2857279445.py:16: FutureWarning: The frame.append method is deprecated and will be removed from pandas in a future version. Use pandas.concat instead.\n",
      "  df_filter = df_filter.append(df.loc[df['filter_keyword'].map(len) != 0], ignore_index= True)\n"
     ]
    },
    {
     "name": "stdout",
     "output_type": "stream",
     "text": [
      "City = 나주시, before len = 55228, after len = 51796\n"
     ]
    },
    {
     "name": "stderr",
     "output_type": "stream",
     "text": [
      "/tmp/ipykernel_2225/2857279445.py:16: FutureWarning: The frame.append method is deprecated and will be removed from pandas in a future version. Use pandas.concat instead.\n",
      "  df_filter = df_filter.append(df.loc[df['filter_keyword'].map(len) != 0], ignore_index= True)\n"
     ]
    },
    {
     "name": "stdout",
     "output_type": "stream",
     "text": [
      "City = 충주시, before len = 204242, after len = 190763\n"
     ]
    },
    {
     "name": "stderr",
     "output_type": "stream",
     "text": [
      "/tmp/ipykernel_2225/2857279445.py:16: FutureWarning: The frame.append method is deprecated and will be removed from pandas in a future version. Use pandas.concat instead.\n",
      "  df_filter = df_filter.append(df.loc[df['filter_keyword'].map(len) != 0], ignore_index= True)\n"
     ]
    },
    {
     "name": "stdout",
     "output_type": "stream",
     "text": [
      "City = 고양시, before len = 265184, after len = 236735\n"
     ]
    },
    {
     "name": "stderr",
     "output_type": "stream",
     "text": [
      "/tmp/ipykernel_2225/2857279445.py:16: FutureWarning: The frame.append method is deprecated and will be removed from pandas in a future version. Use pandas.concat instead.\n",
      "  df_filter = df_filter.append(df.loc[df['filter_keyword'].map(len) != 0], ignore_index= True)\n"
     ]
    },
    {
     "name": "stdout",
     "output_type": "stream",
     "text": [
      "City = 파주시, before len = 114179, after len = 101284\n"
     ]
    },
    {
     "name": "stderr",
     "output_type": "stream",
     "text": [
      "/tmp/ipykernel_2225/2857279445.py:16: FutureWarning: The frame.append method is deprecated and will be removed from pandas in a future version. Use pandas.concat instead.\n",
      "  df_filter = df_filter.append(df.loc[df['filter_keyword'].map(len) != 0], ignore_index= True)\n"
     ]
    }
   ],
   "source": [
    "df_filter = pd.DataFrame()\n",
    "\n",
    "n = 0\n",
    "g = 0\n",
    "\n",
    "for f in glob.glob(f'{DATA_PATH}*.pkl'):\n",
    "    city = re.search(f'{DATA_PATH}(.+?)_merged.pkl', f).group(1)\n",
    "    df = pd.read_pickle(f)\n",
    "    df['city'] = city\n",
    "    filter_keyword = []\n",
    "    for idx, keyword in enumerate(df['키워드']):\n",
    "        keyword =  str(keyword).split(',')\n",
    "        filter_keyword.append(set(keyword).intersection(set(keyword_list['1차 키워드'])))\n",
    "    df['filter_keyword'] = filter_keyword\n",
    "    print(f\"City = {city}, before len = {len(df)}, after len = {len(df.loc[df['filter_keyword'].map(len) != 0])}\")\n",
    "    df_filter = df_filter.append(df.loc[df['filter_keyword'].map(len) != 0], ignore_index= True)"
   ]
  },
  {
   "cell_type": "code",
   "execution_count": 8,
   "metadata": {},
   "outputs": [
    {
     "name": "stdout",
     "output_type": "stream",
     "text": [
      "(7545180, 21)\n"
     ]
    }
   ],
   "source": [
    "print(df_filter.shape)\n",
    "df_filter.to_pickle(f\"{DATA_PATH}merged_filtered.pkl\")"
   ]
  },
  {
   "cell_type": "markdown",
   "metadata": {},
   "source": [
    "### OLD"
   ]
  },
  {
   "cell_type": "code",
   "execution_count": 6,
   "metadata": {},
   "outputs": [],
   "source": [
    "# data_all = pd.DataFrame()\n",
    "# i = 0\n",
    "# for f in glob.glob(f'/Users/mglee/Desktop/folder/merged_data/*.pkl'):\n",
    "#     df = pd.read_pickle(f)\n",
    "#     df['filepath'] = f\n",
    "#     idx_list= []\n",
    "#     for idx, keyword in enumerate(df['키워드']):\n",
    "#         key_list = []\n",
    "#         for item in keyword.split(','):\n",
    "#             if item in list(keyword_list['1차 키워드']):\n",
    "#                 key_list.append(item)\n",
    "#         if len(key_list) > 0:\n",
    "#             idx_list.append(list(set(key_list)))\n",
    "#         else:\n",
    "#             idx_list.append(0)\n",
    "#     df['keyword'] = idx_list\n",
    "#     df_use = df[df['keyword'] != 0]\n",
    "#     print(f\"File Path = {f}, Before len = {len(df)}, after len = {len(df_use)}\")\n",
    "#     data_all = data_all.append(df_use, ignore_index=True)"
   ]
  }
 ],
 "metadata": {
  "interpreter": {
   "hash": "c6f34507fa43ba317958b721fa8398d2051b96ef3f3b32ff98429c26ce06f8cf"
  },
  "kernelspec": {
   "display_name": "Python 3.8.12 ('svmglee')",
   "language": "python",
   "name": "python3"
  },
  "language_info": {
   "codemirror_mode": {
    "name": "ipython",
    "version": 3
   },
   "file_extension": ".py",
   "mimetype": "text/x-python",
   "name": "python",
   "nbconvert_exporter": "python",
   "pygments_lexer": "ipython3",
   "version": "3.8.12"
  },
  "orig_nbformat": 4
 },
 "nbformat": 4,
 "nbformat_minor": 2
}
