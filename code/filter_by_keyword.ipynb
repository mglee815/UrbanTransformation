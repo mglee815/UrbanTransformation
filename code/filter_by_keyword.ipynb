{
 "cells": [
  {
   "cell_type": "code",
   "execution_count": 1,
   "metadata": {},
   "outputs": [],
   "source": [
    "import pandas as pd\n",
    "import glob  \n",
    "import sys\n",
    "import os\n",
    "import time\n",
    "import re"
   ]
  },
  {
   "cell_type": "markdown",
   "metadata": {},
   "source": [
    "### Get Keyword list"
   ]
  },
  {
   "cell_type": "code",
   "execution_count": 2,
   "metadata": {},
   "outputs": [],
   "source": [
    "keyword_list = pd.read_excel(\"../data/Text_keyword.xlsx\")"
   ]
  },
  {
   "cell_type": "markdown",
   "metadata": {},
   "source": [
    "### Make Dictionary"
   ]
  },
  {
   "cell_type": "code",
   "execution_count": 3,
   "metadata": {},
   "outputs": [],
   "source": [
    "cat_to_key = {}\n",
    "for item in keyword_list['분류']:\n",
    "    cat_to_key[item] = []\n",
    "for i in range(len(keyword_list)):\n",
    "    cat_to_key[keyword_list.iloc[i][0]].append(keyword_list.iloc[i][1])\n",
    "\n",
    "key_to_cat = {}\n",
    "for item in keyword_list['1차 키워드']:\n",
    "    key_to_cat[item] = []\n",
    "for i in range(len(keyword_list)):\n",
    "    key_to_cat[keyword_list.iloc[i][1]].append(keyword_list.iloc[i][0])\n"
   ]
  },
  {
   "cell_type": "markdown",
   "metadata": {},
   "source": [
    "### Find list"
   ]
  },
  {
   "cell_type": "code",
   "execution_count": 3,
   "metadata": {},
   "outputs": [
    {
     "name": "stdout",
     "output_type": "stream",
     "text": [
      "City = 포항시, before len = 97735, after len = 87791\n"
     ]
    },
    {
     "name": "stderr",
     "output_type": "stream",
     "text": [
      "/tmp/ipykernel_22969/1145368434.py:13: FutureWarning: The frame.append method is deprecated and will be removed from pandas in a future version. Use pandas.concat instead.\n",
      "  df_filter = df_filter.append(df.loc[df['filter_keyword'].map(len) != 0], ignore_index= True)\n"
     ]
    },
    {
     "name": "stdout",
     "output_type": "stream",
     "text": [
      "City = 원주시, before len = 139658, after len = 123985\n"
     ]
    },
    {
     "name": "stderr",
     "output_type": "stream",
     "text": [
      "/tmp/ipykernel_22969/1145368434.py:13: FutureWarning: The frame.append method is deprecated and will be removed from pandas in a future version. Use pandas.concat instead.\n",
      "  df_filter = df_filter.append(df.loc[df['filter_keyword'].map(len) != 0], ignore_index= True)\n"
     ]
    },
    {
     "name": "stdout",
     "output_type": "stream",
     "text": [
      "City = 전주시, before len = 270971, after len = 238739\n"
     ]
    },
    {
     "name": "stderr",
     "output_type": "stream",
     "text": [
      "/tmp/ipykernel_22969/1145368434.py:13: FutureWarning: The frame.append method is deprecated and will be removed from pandas in a future version. Use pandas.concat instead.\n",
      "  df_filter = df_filter.append(df.loc[df['filter_keyword'].map(len) != 0], ignore_index= True)\n"
     ]
    },
    {
     "name": "stdout",
     "output_type": "stream",
     "text": [
      "City = 서산시, before len = 124259, after len = 115485\n"
     ]
    },
    {
     "name": "stderr",
     "output_type": "stream",
     "text": [
      "/tmp/ipykernel_22969/1145368434.py:13: FutureWarning: The frame.append method is deprecated and will be removed from pandas in a future version. Use pandas.concat instead.\n",
      "  df_filter = df_filter.append(df.loc[df['filter_keyword'].map(len) != 0], ignore_index= True)\n"
     ]
    },
    {
     "name": "stdout",
     "output_type": "stream",
     "text": [
      "City = 영천시, before len = 30240, after len = 26612\n"
     ]
    },
    {
     "name": "stderr",
     "output_type": "stream",
     "text": [
      "/tmp/ipykernel_22969/1145368434.py:13: FutureWarning: The frame.append method is deprecated and will be removed from pandas in a future version. Use pandas.concat instead.\n",
      "  df_filter = df_filter.append(df.loc[df['filter_keyword'].map(len) != 0], ignore_index= True)\n"
     ]
    },
    {
     "name": "stdout",
     "output_type": "stream",
     "text": [
      "City = 창원시, before len = 283886, after len = 252383\n"
     ]
    },
    {
     "name": "stderr",
     "output_type": "stream",
     "text": [
      "/tmp/ipykernel_22969/1145368434.py:13: FutureWarning: The frame.append method is deprecated and will be removed from pandas in a future version. Use pandas.concat instead.\n",
      "  df_filter = df_filter.append(df.loc[df['filter_keyword'].map(len) != 0], ignore_index= True)\n"
     ]
    },
    {
     "name": "stdout",
     "output_type": "stream",
     "text": [
      "City = 태백시, before len = 58722, after len = 52632\n"
     ]
    },
    {
     "name": "stderr",
     "output_type": "stream",
     "text": [
      "/tmp/ipykernel_22969/1145368434.py:13: FutureWarning: The frame.append method is deprecated and will be removed from pandas in a future version. Use pandas.concat instead.\n",
      "  df_filter = df_filter.append(df.loc[df['filter_keyword'].map(len) != 0], ignore_index= True)\n"
     ]
    }
   ],
   "source": [
    "df_filter = pd.DataFrame()\n",
    "\n",
    "for f in glob.glob(f'../data/merged_data/*.pkl'):\n",
    "    city = re.search('../data/merged_data/(.+?)_merged.pkl', f).group(1)\n",
    "    df = pd.read_pickle(f)\n",
    "    df['city'] = city\n",
    "    filter_keyword = []\n",
    "    for idx, keyword in enumerate(df['키워드']):\n",
    "        keyword =  keyword.split(',')\n",
    "        filter_keyword.append(set(keyword).intersection(set(keyword_list['1차 키워드'])))\n",
    "    df['filter_keyword'] = filter_keyword\n",
    "    print(f\"City = {city}, before len = {len(df)}, after len = {len(df.loc[df['filter_keyword'].map(len) != 0])}\")\n",
    "    df_filter = df_filter.append(df.loc[df['filter_keyword'].map(len) != 0], ignore_index= True)"
   ]
  },
  {
   "cell_type": "code",
   "execution_count": 4,
   "metadata": {},
   "outputs": [
    {
     "data": {
      "text/html": [
       "<div>\n",
       "<style scoped>\n",
       "    .dataframe tbody tr th:only-of-type {\n",
       "        vertical-align: middle;\n",
       "    }\n",
       "\n",
       "    .dataframe tbody tr th {\n",
       "        vertical-align: top;\n",
       "    }\n",
       "\n",
       "    .dataframe thead th {\n",
       "        text-align: right;\n",
       "    }\n",
       "</style>\n",
       "<table border=\"1\" class=\"dataframe\">\n",
       "  <thead>\n",
       "    <tr style=\"text-align: right;\">\n",
       "      <th></th>\n",
       "      <th>뉴스 식별자</th>\n",
       "      <th>일자</th>\n",
       "      <th>언론사</th>\n",
       "      <th>기고자</th>\n",
       "      <th>제목</th>\n",
       "      <th>통합 분류1</th>\n",
       "      <th>통합 분류2</th>\n",
       "      <th>통합 분류3</th>\n",
       "      <th>사건/사고 분류1</th>\n",
       "      <th>사건/사고 분류2</th>\n",
       "      <th>...</th>\n",
       "      <th>인물</th>\n",
       "      <th>위치</th>\n",
       "      <th>기관</th>\n",
       "      <th>키워드</th>\n",
       "      <th>특성추출(가중치순 상위 50개)</th>\n",
       "      <th>본문</th>\n",
       "      <th>URL</th>\n",
       "      <th>분석제외 여부</th>\n",
       "      <th>city</th>\n",
       "      <th>filter_keyword</th>\n",
       "    </tr>\n",
       "  </thead>\n",
       "  <tbody>\n",
       "    <tr>\n",
       "      <th>0</th>\n",
       "      <td>1500801.201912</td>\n",
       "      <td>20191231</td>\n",
       "      <td>영남일보</td>\n",
       "      <td>마창성</td>\n",
       "      <td>[인사] 포항시</td>\n",
       "      <td>지역&gt;경북</td>\n",
       "      <td>지역&gt;전북</td>\n",
       "      <td>지역&gt;경기</td>\n",
       "      <td>NaN</td>\n",
       "      <td>NaN</td>\n",
       "      <td>...</td>\n",
       "      <td>박동일,김기원,이윤우,이상배,황철우,김기출,이상근,송영희,정동재,오은용,손병혁,안승...</td>\n",
       "      <td>청림동장,송도동장,흥해읍장,호미곶면,원종배,오천읍장,체육산업과장,죽장면장,동해,대송...</td>\n",
       "      <td>복지환경위생과장,정보통신과장,건설교통과장,북구,포항시,새마을,서울사무소장</td>\n",
       "      <td>포항시,포항시,전보,미래,전략,산업,과장,이윤우,투자,기업,지원,과장,정철,자원,순...</td>\n",
       "      <td>구진규,이복길,김부현,김춘태,송영희,이윤우,이삼우,김현석,이상근,김종현,신정혁,정순...</td>\n",
       "      <td>포항시 &lt;전보&gt; ◆5급 △미래전략산업과장 이윤우 △투자기업지원과장 정철화 △자원순환...</td>\n",
       "      <td>https://www.yeongnam.com/web/view.php?key=2019...</td>\n",
       "      <td>예외</td>\n",
       "      <td>포항시</td>\n",
       "      <td>{복지, 건설, 산업, 투자, 공원, 도시, 환경, 도로, 계획, 토지, 안전, 사...</td>\n",
       "    </tr>\n",
       "    <tr>\n",
       "      <th>1</th>\n",
       "      <td>1500801.201912</td>\n",
       "      <td>20191231</td>\n",
       "      <td>영남일보</td>\n",
       "      <td>마창성</td>\n",
       "      <td>포항새살림봉사회, 연말연시 나눔 소외이웃에 떡국떡 1004상자 전달</td>\n",
       "      <td>지역&gt;충북</td>\n",
       "      <td>지역&gt;부산</td>\n",
       "      <td>지역&gt;강원</td>\n",
       "      <td>NaN</td>\n",
       "      <td>NaN</td>\n",
       "      <td>...</td>\n",
       "      <td>최혜련</td>\n",
       "      <td>북구,포항새살림봉사회,덕수동</td>\n",
       "      <td>새살림봉사회,포항시청,포항시,환경관리원 복지관</td>\n",
       "      <td>포항새살림봉사회,연말연시,소외,이웃,전달,떡국떡,상자,떡국,부인들,포항시청,간부,공...</td>\n",
       "      <td>떡국떡,새살림,떡국,최혜련,복지관,포항시청,연말연시,덕수동,포항시,봉사회,차상위,공...</td>\n",
       "      <td>\"떡국 드시고 힘내세요.\"\\n\\n포항시청 간부공무원 부인들의 모임인 새살림봉사회(회...</td>\n",
       "      <td>https://www.yeongnam.com/web/view.php?key=2019...</td>\n",
       "      <td>NaN</td>\n",
       "      <td>포항시</td>\n",
       "      <td>{독거노인, 행사, 생활, 환경}</td>\n",
       "    </tr>\n",
       "    <tr>\n",
       "      <th>2</th>\n",
       "      <td>1500801.201912</td>\n",
       "      <td>20191231</td>\n",
       "      <td>영남일보</td>\n",
       "      <td>김기태</td>\n",
       "      <td>포항지진대책局→지진특별지원단 '확대 개편'</td>\n",
       "      <td>정치&gt;정치일반</td>\n",
       "      <td>NaN</td>\n",
       "      <td>NaN</td>\n",
       "      <td>재해&gt;자연재해&gt;지진</td>\n",
       "      <td>NaN</td>\n",
       "      <td>...</td>\n",
       "      <td>공원식,이,허상호,공동대표,김재동,이강덕,서재원</td>\n",
       "      <td>포항11·15,포항</td>\n",
       "      <td>범대위,범시민대책위원회,포항시의회,지진특별지원단,국회,이대공,15촉발지진범시민대책위...</td>\n",
       "      <td>포항지진대책,지진특별지원단,확대,개편,범대위,합동,회견,열고,포항,포항시,포항시의회...</td>\n",
       "      <td>특별법,포항,위원회,지진특별법,포항시의회,지원단,대응팀,범대위,피해구제,이강덕,공동...</td>\n",
       "      <td>【 포항】포항시 포항시의회 포항11 15촉발지진범시민대책위원회(범대위)가 포항지진 ...</td>\n",
       "      <td>https://www.yeongnam.com/web/view.php?key=2019...</td>\n",
       "      <td>NaN</td>\n",
       "      <td>포항시</td>\n",
       "      <td>{건설, 도시, 시민, 안전, 주민, 경제, 피해, 회복}</td>\n",
       "    </tr>\n",
       "    <tr>\n",
       "      <th>3</th>\n",
       "      <td>1500801.201912</td>\n",
       "      <td>20191231</td>\n",
       "      <td>영남일보</td>\n",
       "      <td>정재훈</td>\n",
       "      <td>\"정세균 배우자, 포항 임야 증여세 피하려 위장거래 의심\"</td>\n",
       "      <td>정치&gt;국회_정당</td>\n",
       "      <td>경제&gt;금융_재테크</td>\n",
       "      <td>NaN</td>\n",
       "      <td>NaN</td>\n",
       "      <td>NaN</td>\n",
       "      <td>...</td>\n",
       "      <td>장성동,성일종,4억5천만원,유일한,정,주호영,김현아,정세균,김상훈</td>\n",
       "      <td>임야,수성구,서울,서구,대구,포항,광진구</td>\n",
       "      <td>특위,인사청문특별위원회,자유한국당,국회,포항,유가증권,포항시,한국당,청문위</td>\n",
       "      <td>정세균,배우자,증여세,포항,임야,위장,거래,의심,한국당,청문위,제기,연일,의혹,자유...</td>\n",
       "      <td>후보자,한국당,배우자,7억,청문회,증여세,2억,4억,소득세,장성동,대구,3억,인사청...</td>\n",
       "      <td>자유한국당이 30일 정세균 국무총리 후보자 배우자의 포항시 장성동 임야 취득과정에서...</td>\n",
       "      <td>https://www.yeongnam.com/web/view.php?key=2019...</td>\n",
       "      <td>NaN</td>\n",
       "      <td>포항시</td>\n",
       "      <td>{아파트, 계획, 개최, 생활}</td>\n",
       "    </tr>\n",
       "    <tr>\n",
       "      <th>4</th>\n",
       "      <td>1400351.201912</td>\n",
       "      <td>20191231</td>\n",
       "      <td>중도일보</td>\n",
       "      <td>정태희 기자</td>\n",
       "      <td>청주시 ‘문화도시’ 전국 첫 2관왕</td>\n",
       "      <td>지역&gt;제주</td>\n",
       "      <td>지역&gt;경남</td>\n",
       "      <td>지역&gt;충북</td>\n",
       "      <td>NaN</td>\n",
       "      <td>NaN</td>\n",
       "      <td>...</td>\n",
       "      <td>NaN</td>\n",
       "      <td>부천시,대전시,충북,세종시,경기,충남,부산,천안시,강원,경북,원주시,청주시,영도구,...</td>\n",
       "      <td>기초자치단체,유네스코,국제기록유산센터,청주시,유일,청주,문체부,포항시,청주시장,문화...</td>\n",
       "      <td>청주시,문화,도시,전국,2관왕,청주시,전국,기초,지방,자치,단체,문화도시,고지,문화...</td>\n",
       "      <td>문화도시,청주,청주시,창의도시,문체부,현장실사,2관왕,유네스코,한범덕,경북,포항시,...</td>\n",
       "      <td>청주시가 전국 기초지방자치단체로는 처음으로 '문화도시' 2관왕 고지에 올랐다. 문화...</td>\n",
       "      <td>http://www.joongdo.co.kr/main/view.php?key=201...</td>\n",
       "      <td>NaN</td>\n",
       "      <td>포항시</td>\n",
       "      <td>{생활, 도시, 계획, 조성, 시민들, 문화, 지자체, 사업, 인프라, 센터}</td>\n",
       "    </tr>\n",
       "  </tbody>\n",
       "</table>\n",
       "<p>5 rows × 21 columns</p>\n",
       "</div>"
      ],
      "text/plain": [
       "           뉴스 식별자        일자   언론사     기고자  \\\n",
       "0  1500801.201912  20191231  영남일보     마창성   \n",
       "1  1500801.201912  20191231  영남일보     마창성   \n",
       "2  1500801.201912  20191231  영남일보     김기태   \n",
       "3  1500801.201912  20191231  영남일보     정재훈   \n",
       "4  1400351.201912  20191231  중도일보  정태희 기자   \n",
       "\n",
       "                                      제목    통합 분류1      통합 분류2  통합 분류3  \\\n",
       "0                               [인사] 포항시     지역>경북       지역>전북   지역>경기   \n",
       "1  포항새살림봉사회, 연말연시 나눔 소외이웃에 떡국떡 1004상자 전달     지역>충북       지역>부산   지역>강원   \n",
       "2                포항지진대책局→지진특별지원단 '확대 개편'   정치>정치일반         NaN     NaN   \n",
       "3       \"정세균 배우자, 포항 임야 증여세 피하려 위장거래 의심\"  정치>국회_정당   경제>금융_재테크     NaN   \n",
       "4                    청주시 ‘문화도시’ 전국 첫 2관왕     지역>제주       지역>경남   지역>충북   \n",
       "\n",
       "    사건/사고 분류1 사건/사고 분류2  ...  \\\n",
       "0         NaN       NaN  ...   \n",
       "1         NaN       NaN  ...   \n",
       "2  재해>자연재해>지진       NaN  ...   \n",
       "3         NaN       NaN  ...   \n",
       "4         NaN       NaN  ...   \n",
       "\n",
       "                                                  인물  \\\n",
       "0  박동일,김기원,이윤우,이상배,황철우,김기출,이상근,송영희,정동재,오은용,손병혁,안승...   \n",
       "1                                                최혜련   \n",
       "2                         공원식,이,허상호,공동대표,김재동,이강덕,서재원   \n",
       "3               장성동,성일종,4억5천만원,유일한,정,주호영,김현아,정세균,김상훈   \n",
       "4                                                NaN   \n",
       "\n",
       "                                                  위치  \\\n",
       "0  청림동장,송도동장,흥해읍장,호미곶면,원종배,오천읍장,체육산업과장,죽장면장,동해,대송...   \n",
       "1                                    북구,포항새살림봉사회,덕수동   \n",
       "2                                         포항11·15,포항   \n",
       "3                             임야,수성구,서울,서구,대구,포항,광진구   \n",
       "4  부천시,대전시,충북,세종시,경기,충남,부산,천안시,강원,경북,원주시,청주시,영도구,...   \n",
       "\n",
       "                                                  기관  \\\n",
       "0           복지환경위생과장,정보통신과장,건설교통과장,북구,포항시,새마을,서울사무소장   \n",
       "1                          새살림봉사회,포항시청,포항시,환경관리원 복지관   \n",
       "2  범대위,범시민대책위원회,포항시의회,지진특별지원단,국회,이대공,15촉발지진범시민대책위...   \n",
       "3          특위,인사청문특별위원회,자유한국당,국회,포항,유가증권,포항시,한국당,청문위   \n",
       "4  기초자치단체,유네스코,국제기록유산센터,청주시,유일,청주,문체부,포항시,청주시장,문화...   \n",
       "\n",
       "                                                 키워드  \\\n",
       "0  포항시,포항시,전보,미래,전략,산업,과장,이윤우,투자,기업,지원,과장,정철,자원,순...   \n",
       "1  포항새살림봉사회,연말연시,소외,이웃,전달,떡국떡,상자,떡국,부인들,포항시청,간부,공...   \n",
       "2  포항지진대책,지진특별지원단,확대,개편,범대위,합동,회견,열고,포항,포항시,포항시의회...   \n",
       "3  정세균,배우자,증여세,포항,임야,위장,거래,의심,한국당,청문위,제기,연일,의혹,자유...   \n",
       "4  청주시,문화,도시,전국,2관왕,청주시,전국,기초,지방,자치,단체,문화도시,고지,문화...   \n",
       "\n",
       "                                   특성추출(가중치순 상위 50개)  \\\n",
       "0  구진규,이복길,김부현,김춘태,송영희,이윤우,이삼우,김현석,이상근,김종현,신정혁,정순...   \n",
       "1  떡국떡,새살림,떡국,최혜련,복지관,포항시청,연말연시,덕수동,포항시,봉사회,차상위,공...   \n",
       "2  특별법,포항,위원회,지진특별법,포항시의회,지원단,대응팀,범대위,피해구제,이강덕,공동...   \n",
       "3  후보자,한국당,배우자,7억,청문회,증여세,2억,4억,소득세,장성동,대구,3억,인사청...   \n",
       "4  문화도시,청주,청주시,창의도시,문체부,현장실사,2관왕,유네스코,한범덕,경북,포항시,...   \n",
       "\n",
       "                                                  본문  \\\n",
       "0  포항시 <전보> ◆5급 △미래전략산업과장 이윤우 △투자기업지원과장 정철화 △자원순환...   \n",
       "1  \"떡국 드시고 힘내세요.\"\\n\\n포항시청 간부공무원 부인들의 모임인 새살림봉사회(회...   \n",
       "2  【 포항】포항시 포항시의회 포항11 15촉발지진범시민대책위원회(범대위)가 포항지진 ...   \n",
       "3  자유한국당이 30일 정세균 국무총리 후보자 배우자의 포항시 장성동 임야 취득과정에서...   \n",
       "4  청주시가 전국 기초지방자치단체로는 처음으로 '문화도시' 2관왕 고지에 올랐다. 문화...   \n",
       "\n",
       "                                                 URL 분석제외 여부 city  \\\n",
       "0  https://www.yeongnam.com/web/view.php?key=2019...      예외  포항시   \n",
       "1  https://www.yeongnam.com/web/view.php?key=2019...     NaN  포항시   \n",
       "2  https://www.yeongnam.com/web/view.php?key=2019...     NaN  포항시   \n",
       "3  https://www.yeongnam.com/web/view.php?key=2019...     NaN  포항시   \n",
       "4  http://www.joongdo.co.kr/main/view.php?key=201...     NaN  포항시   \n",
       "\n",
       "                                      filter_keyword  \n",
       "0  {복지, 건설, 산업, 투자, 공원, 도시, 환경, 도로, 계획, 토지, 안전, 사...  \n",
       "1                                 {독거노인, 행사, 생활, 환경}  \n",
       "2                   {건설, 도시, 시민, 안전, 주민, 경제, 피해, 회복}  \n",
       "3                                  {아파트, 계획, 개최, 생활}  \n",
       "4        {생활, 도시, 계획, 조성, 시민들, 문화, 지자체, 사업, 인프라, 센터}  \n",
       "\n",
       "[5 rows x 21 columns]"
      ]
     },
     "execution_count": 4,
     "metadata": {},
     "output_type": "execute_result"
    }
   ],
   "source": [
    "df_filter.head()"
   ]
  },
  {
   "cell_type": "code",
   "execution_count": 5,
   "metadata": {},
   "outputs": [],
   "source": [
    "df_filter.to_pickle(\"../data/merged_data/total/merged_filtered.pkl\")"
   ]
  },
  {
   "cell_type": "markdown",
   "metadata": {},
   "source": [
    "### OLD"
   ]
  },
  {
   "cell_type": "code",
   "execution_count": 6,
   "metadata": {},
   "outputs": [],
   "source": [
    "# data_all = pd.DataFrame()\n",
    "# i = 0\n",
    "# for f in glob.glob(f'/Users/mglee/Desktop/folder/merged_data/*.pkl'):\n",
    "#     df = pd.read_pickle(f)\n",
    "#     df['filepath'] = f\n",
    "#     idx_list= []\n",
    "#     for idx, keyword in enumerate(df['키워드']):\n",
    "#         key_list = []\n",
    "#         for item in keyword.split(','):\n",
    "#             if item in list(keyword_list['1차 키워드']):\n",
    "#                 key_list.append(item)\n",
    "#         if len(key_list) > 0:\n",
    "#             idx_list.append(list(set(key_list)))\n",
    "#         else:\n",
    "#             idx_list.append(0)\n",
    "#     df['keyword'] = idx_list\n",
    "#     df_use = df[df['keyword'] != 0]\n",
    "#     print(f\"File Path = {f}, Before len = {len(df)}, after len = {len(df_use)}\")\n",
    "#     data_all = data_all.append(df_use, ignore_index=True)"
   ]
  }
 ],
 "metadata": {
  "interpreter": {
   "hash": "c6f34507fa43ba317958b721fa8398d2051b96ef3f3b32ff98429c26ce06f8cf"
  },
  "kernelspec": {
   "display_name": "Python 3.8.12 ('svmglee')",
   "language": "python",
   "name": "python3"
  },
  "language_info": {
   "codemirror_mode": {
    "name": "ipython",
    "version": 3
   },
   "file_extension": ".py",
   "mimetype": "text/x-python",
   "name": "python",
   "nbconvert_exporter": "python",
   "pygments_lexer": "ipython3",
   "version": "3.8.12"
  },
  "orig_nbformat": 4
 },
 "nbformat": 4,
 "nbformat_minor": 2
}
