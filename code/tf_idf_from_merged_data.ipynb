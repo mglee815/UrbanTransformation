{
 "cells": [
  {
   "cell_type": "code",
   "execution_count": 1,
   "metadata": {},
   "outputs": [],
   "source": [
    "import pandas as pd\n",
    "import numpy as np  \n",
    "import glob  \n",
    "import sys\n",
    "import warnings\n",
    "import os\n",
    "import time"
   ]
  },
  {
   "cell_type": "code",
   "execution_count": 2,
   "metadata": {},
   "outputs": [],
   "source": [
    "df = pd.read_pickle('/Users/mglee/Desktop/folder/merged_data/total/merged_filtered.pkl')"
   ]
  },
  {
   "cell_type": "code",
   "execution_count": 3,
   "metadata": {},
   "outputs": [],
   "source": [
    "group = df.groupby('filepath')\n",
    "group = [group.get_group(x) for x in group.groups]\n"
   ]
  },
  {
   "cell_type": "code",
   "execution_count": 4,
   "metadata": {},
   "outputs": [],
   "source": [
    "key_lst = []\n",
    "\n",
    "for df in group:\n",
    "    col = df.columns\n",
    "    key = df['키워드']\n",
    "    keywords = \"\"\n",
    "    features = \"\"\n",
    "    for item in key:\n",
    "        try:\n",
    "            keywords += item.replace(\",\" , \" \")\n",
    "        except:\n",
    "            pass\n",
    "    \n",
    "    key_lst.append(keywords)"
   ]
  },
  {
   "cell_type": "code",
   "execution_count": 5,
   "metadata": {},
   "outputs": [
    {
     "name": "stdout",
     "output_type": "stream",
     "text": [
      "7\n"
     ]
    }
   ],
   "source": [
    "print(len(key_lst))"
   ]
  },
  {
   "cell_type": "code",
   "execution_count": 6,
   "metadata": {},
   "outputs": [],
   "source": [
    "from sklearn.feature_extraction.text import TfidfVectorizer"
   ]
  },
  {
   "cell_type": "code",
   "execution_count": 7,
   "metadata": {},
   "outputs": [
    {
     "name": "stderr",
     "output_type": "stream",
     "text": [
      "/Users/mglee/miniforge3/envs/mglee/lib/python3.9/site-packages/sklearn/utils/deprecation.py:87: FutureWarning: Function get_feature_names is deprecated; get_feature_names is deprecated in 1.0 and will be removed in 1.2. Please use get_feature_names_out instead.\n",
      "  warnings.warn(msg, category=FutureWarning)\n"
     ]
    }
   ],
   "source": [
    "T_Vec = TfidfVectorizer(min_df= 5, analyzer='word', sublinear_tf= True)\n",
    "DTM = T_Vec.fit_transform(key_lst)\n",
    "tfidf = pd.DataFrame(DTM.toarray(), columns = T_Vec.get_feature_names())"
   ]
  },
  {
   "cell_type": "code",
   "execution_count": 8,
   "metadata": {},
   "outputs": [],
   "source": [
    "tfidf.T.to_csv(\"/Users/mglee/Desktop/TF_IDF_fiter.csv\")"
   ]
  }
 ],
 "metadata": {
  "interpreter": {
   "hash": "418ec1ce35a4fd63396f5da21f0079b494a3a09ebdcc1e5da80233ed37ee8285"
  },
  "kernelspec": {
   "display_name": "Python 3.9.7",
   "language": "python",
   "name": "python3"
  },
  "language_info": {
   "codemirror_mode": {
    "name": "ipython",
    "version": 3
   },
   "file_extension": ".py",
   "mimetype": "text/x-python",
   "name": "python",
   "nbconvert_exporter": "python",
   "pygments_lexer": "ipython3",
   "version": "3.9.7"
  },
  "orig_nbformat": 4
 },
 "nbformat": 4,
 "nbformat_minor": 2
}
