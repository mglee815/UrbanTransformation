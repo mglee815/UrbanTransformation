{
 "cells": [
  {
   "cell_type": "code",
   "execution_count": 1,
   "metadata": {},
   "outputs": [],
   "source": [
    "import pandas as pd\n",
    "import numpy as np  \n",
    "import glob  \n",
    "import sys\n",
    "import warnings\n",
    "import os\n",
    "import time"
   ]
  },
  {
   "cell_type": "code",
   "execution_count": 2,
   "metadata": {},
   "outputs": [],
   "source": [
    "df = pd.read_pickle('../data/pkl/merged_filtered_0620.pkl')"
   ]
  },
  {
   "cell_type": "code",
   "execution_count": 8,
   "metadata": {},
   "outputs": [
    {
     "data": {
      "text/html": [
       "<div>\n",
       "<style scoped>\n",
       "    .dataframe tbody tr th:only-of-type {\n",
       "        vertical-align: middle;\n",
       "    }\n",
       "\n",
       "    .dataframe tbody tr th {\n",
       "        vertical-align: top;\n",
       "    }\n",
       "\n",
       "    .dataframe thead th {\n",
       "        text-align: right;\n",
       "    }\n",
       "</style>\n",
       "<table border=\"1\" class=\"dataframe\">\n",
       "  <thead>\n",
       "    <tr style=\"text-align: right;\">\n",
       "      <th></th>\n",
       "      <th>name_kor</th>\n",
       "      <th>type</th>\n",
       "    </tr>\n",
       "  </thead>\n",
       "  <tbody>\n",
       "    <tr>\n",
       "      <th>0</th>\n",
       "      <td>서울특별시</td>\n",
       "      <td>0 Recent decline</td>\n",
       "    </tr>\n",
       "    <tr>\n",
       "      <th>1</th>\n",
       "      <td>서울특별시 종로구</td>\n",
       "      <td>0 Continuous decline</td>\n",
       "    </tr>\n",
       "    <tr>\n",
       "      <th>2</th>\n",
       "      <td>서울특별시 중구</td>\n",
       "      <td>1 Recovery</td>\n",
       "    </tr>\n",
       "    <tr>\n",
       "      <th>3</th>\n",
       "      <td>서울특별시 용산구</td>\n",
       "      <td>1 Recovery</td>\n",
       "    </tr>\n",
       "    <tr>\n",
       "      <th>4</th>\n",
       "      <td>서울특별시 성동구</td>\n",
       "      <td>0 Continuous decline</td>\n",
       "    </tr>\n",
       "    <tr>\n",
       "      <th>...</th>\n",
       "      <td>...</td>\n",
       "      <td>...</td>\n",
       "    </tr>\n",
       "    <tr>\n",
       "      <th>230</th>\n",
       "      <td>경상남도 함양군</td>\n",
       "      <td>0 Continuous decline</td>\n",
       "    </tr>\n",
       "    <tr>\n",
       "      <th>231</th>\n",
       "      <td>경상남도 거창군</td>\n",
       "      <td>0 Continuous decline/slowdown</td>\n",
       "    </tr>\n",
       "    <tr>\n",
       "      <th>232</th>\n",
       "      <td>경상남도 합천군</td>\n",
       "      <td>0 Continuous decline</td>\n",
       "    </tr>\n",
       "    <tr>\n",
       "      <th>233</th>\n",
       "      <td>제주특별자치도 제주시</td>\n",
       "      <td>2 Continuous growth</td>\n",
       "    </tr>\n",
       "    <tr>\n",
       "      <th>234</th>\n",
       "      <td>제주특별자치도 서귀포시</td>\n",
       "      <td>2 Continuous growth</td>\n",
       "    </tr>\n",
       "  </tbody>\n",
       "</table>\n",
       "<p>235 rows × 2 columns</p>\n",
       "</div>"
      ],
      "text/plain": [
       "         name_kor                           type\n",
       "0           서울특별시               0 Recent decline\n",
       "1       서울특별시 종로구           0 Continuous decline\n",
       "2        서울특별시 중구                     1 Recovery\n",
       "3       서울특별시 용산구                     1 Recovery\n",
       "4       서울특별시 성동구           0 Continuous decline\n",
       "..            ...                            ...\n",
       "230      경상남도 함양군           0 Continuous decline\n",
       "231      경상남도 거창군  0 Continuous decline/slowdown\n",
       "232      경상남도 합천군           0 Continuous decline\n",
       "233   제주특별자치도 제주시            2 Continuous growth\n",
       "234  제주특별자치도 서귀포시            2 Continuous growth\n",
       "\n",
       "[235 rows x 2 columns]"
      ]
     },
     "execution_count": 8,
     "metadata": {},
     "output_type": "execute_result"
    }
   ],
   "source": [
    "cat_lst = pd.read_excel('../data/decline_cities_kor_list.xlsx')\n",
    "cat_lst = cat_lst[['name_kor', 'type']]\n",
    "cat_lst\n"
   ]
  },
  {
   "cell_type": "code",
   "execution_count": 9,
   "metadata": {},
   "outputs": [],
   "source": [
    "cat_lst['name_kor'] = cat_lst['name_kor'].apply(lambda x : x.split())"
   ]
  },
  {
   "cell_type": "code",
   "execution_count": 10,
   "metadata": {},
   "outputs": [],
   "source": [
    "lst = []\n",
    "for item  in cat_lst['name_kor']:\n",
    "    try:\n",
    "        lst.append(item[1])\n",
    "    except:\n",
    "        lst.append('pass')"
   ]
  },
  {
   "cell_type": "code",
   "execution_count": 11,
   "metadata": {},
   "outputs": [],
   "source": [
    "cat_lst['city'] = lst"
   ]
  },
  {
   "cell_type": "code",
   "execution_count": 12,
   "metadata": {},
   "outputs": [],
   "source": [
    "import re\n",
    "\n",
    "idx = []\n",
    "for item in cat_lst['city']:\n",
    "    idx.append(re.search('시$', item) != None)"
   ]
  },
  {
   "cell_type": "code",
   "execution_count": 13,
   "metadata": {},
   "outputs": [
    {
     "data": {
      "text/html": [
       "<div>\n",
       "<style scoped>\n",
       "    .dataframe tbody tr th:only-of-type {\n",
       "        vertical-align: middle;\n",
       "    }\n",
       "\n",
       "    .dataframe tbody tr th {\n",
       "        vertical-align: top;\n",
       "    }\n",
       "\n",
       "    .dataframe thead th {\n",
       "        text-align: right;\n",
       "    }\n",
       "</style>\n",
       "<table border=\"1\" class=\"dataframe\">\n",
       "  <thead>\n",
       "    <tr style=\"text-align: right;\">\n",
       "      <th></th>\n",
       "      <th>city</th>\n",
       "      <th>type</th>\n",
       "    </tr>\n",
       "  </thead>\n",
       "  <tbody>\n",
       "    <tr>\n",
       "      <th>81</th>\n",
       "      <td>동해시</td>\n",
       "      <td>0 Continuous decline</td>\n",
       "    </tr>\n",
       "    <tr>\n",
       "      <th>82</th>\n",
       "      <td>태백시</td>\n",
       "      <td>0 Continuous decline</td>\n",
       "    </tr>\n",
       "    <tr>\n",
       "      <th>83</th>\n",
       "      <td>삼척시</td>\n",
       "      <td>0 Continuous decline</td>\n",
       "    </tr>\n",
       "    <tr>\n",
       "      <th>84</th>\n",
       "      <td>공주시</td>\n",
       "      <td>0 Continuous decline</td>\n",
       "    </tr>\n",
       "    <tr>\n",
       "      <th>85</th>\n",
       "      <td>익산시</td>\n",
       "      <td>0 Continuous decline</td>\n",
       "    </tr>\n",
       "    <tr>\n",
       "      <th>...</th>\n",
       "      <td>...</td>\n",
       "      <td>...</td>\n",
       "    </tr>\n",
       "    <tr>\n",
       "      <th>220</th>\n",
       "      <td>진주시</td>\n",
       "      <td>2 Continuous growth</td>\n",
       "    </tr>\n",
       "    <tr>\n",
       "      <th>221</th>\n",
       "      <td>김해시</td>\n",
       "      <td>2 Continuous growth</td>\n",
       "    </tr>\n",
       "    <tr>\n",
       "      <th>222</th>\n",
       "      <td>양산시</td>\n",
       "      <td>2 Continuous growth</td>\n",
       "    </tr>\n",
       "    <tr>\n",
       "      <th>233</th>\n",
       "      <td>제주시</td>\n",
       "      <td>2 Continuous growth</td>\n",
       "    </tr>\n",
       "    <tr>\n",
       "      <th>234</th>\n",
       "      <td>서귀포시</td>\n",
       "      <td>2 Continuous growth</td>\n",
       "    </tr>\n",
       "  </tbody>\n",
       "</table>\n",
       "<p>77 rows × 2 columns</p>\n",
       "</div>"
      ],
      "text/plain": [
       "     city                  type\n",
       "81    동해시  0 Continuous decline\n",
       "82    태백시  0 Continuous decline\n",
       "83    삼척시  0 Continuous decline\n",
       "84    공주시  0 Continuous decline\n",
       "85    익산시  0 Continuous decline\n",
       "..    ...                   ...\n",
       "220   진주시   2 Continuous growth\n",
       "221   김해시   2 Continuous growth\n",
       "222   양산시   2 Continuous growth\n",
       "233   제주시   2 Continuous growth\n",
       "234  서귀포시   2 Continuous growth\n",
       "\n",
       "[77 rows x 2 columns]"
      ]
     },
     "execution_count": 13,
     "metadata": {},
     "output_type": "execute_result"
    }
   ],
   "source": [
    "cat_lst_use = cat_lst[idx]\n",
    "cat_lst_use[['city', 'type']]"
   ]
  },
  {
   "cell_type": "code",
   "execution_count": 14,
   "metadata": {},
   "outputs": [],
   "source": [
    "df_group = pd.merge(left = df, right = cat_lst_use, how = 'left', on = 'city')"
   ]
  },
  {
   "cell_type": "code",
   "execution_count": 15,
   "metadata": {},
   "outputs": [],
   "source": [
    "group = df_group.groupby('type')\n",
    "group = [group.get_group(x) for x in group.groups]\n"
   ]
  },
  {
   "cell_type": "code",
   "execution_count": 16,
   "metadata": {},
   "outputs": [],
   "source": [
    "key_lst = []\n",
    "\n",
    "for df in group:\n",
    "    col = df.columns\n",
    "    key = df['키워드']\n",
    "    keywords = \"\"\n",
    "    features = \"\"\n",
    "    for item in key:\n",
    "        try:\n",
    "            keywords += item.replace(\",\" , \" \")\n",
    "        except:\n",
    "            pass\n",
    "    \n",
    "    key_lst.append(keywords)"
   ]
  },
  {
   "cell_type": "code",
   "execution_count": 17,
   "metadata": {},
   "outputs": [
    {
     "name": "stdout",
     "output_type": "stream",
     "text": [
      "5\n"
     ]
    }
   ],
   "source": [
    "print(len(key_lst))"
   ]
  },
  {
   "cell_type": "code",
   "execution_count": 18,
   "metadata": {},
   "outputs": [],
   "source": [
    "from sklearn.feature_extraction.text import TfidfVectorizer"
   ]
  },
  {
   "cell_type": "code",
   "execution_count": 19,
   "metadata": {},
   "outputs": [
    {
     "name": "stderr",
     "output_type": "stream",
     "text": [
      "/home/mglee/.conda/envs/svmglee/lib/python3.8/site-packages/sklearn/utils/deprecation.py:87: FutureWarning: Function get_feature_names is deprecated; get_feature_names is deprecated in 1.0 and will be removed in 1.2. Please use get_feature_names_out instead.\n",
      "  warnings.warn(msg, category=FutureWarning)\n"
     ]
    }
   ],
   "source": [
    "T_Vec = TfidfVectorizer(min_df= 5, analyzer='word', sublinear_tf= True)\n",
    "DTM = T_Vec.fit_transform(key_lst)\n",
    "tfidf = pd.DataFrame(DTM.toarray(), columns = T_Vec.get_feature_names())"
   ]
  },
  {
   "cell_type": "code",
   "execution_count": 43,
   "metadata": {},
   "outputs": [],
   "source": [
    "idx_lst = []\n",
    "for type in group:\n",
    "    idx_lst.append(str(type['type'].unique()))"
   ]
  },
  {
   "cell_type": "code",
   "execution_count": 44,
   "metadata": {},
   "outputs": [
    {
     "data": {
      "text/plain": [
       "[\"['0 Continuous decline']\",\n",
       " \"['0 Recent decline']\",\n",
       " \"['0 Recent decline/Peak']\",\n",
       " \"['1 Recovery']\",\n",
       " \"['2 Continuous growth']\"]"
      ]
     },
     "execution_count": 44,
     "metadata": {},
     "output_type": "execute_result"
    }
   ],
   "source": [
    "idx_lst"
   ]
  },
  {
   "cell_type": "code",
   "execution_count": 32,
   "metadata": {},
   "outputs": [],
   "source": [
    "tfidf = tfidf.T"
   ]
  },
  {
   "cell_type": "code",
   "execution_count": 46,
   "metadata": {},
   "outputs": [],
   "source": [
    "tfidf.columns = idx_lst"
   ]
  },
  {
   "cell_type": "code",
   "execution_count": 79,
   "metadata": {},
   "outputs": [],
   "source": [
    "tfidf.to_csv(\"../result/TF_IDF_by_group.csv\")"
   ]
  },
  {
   "cell_type": "code",
   "execution_count": 76,
   "metadata": {},
   "outputs": [],
   "source": [
    "tfidf_by_group_df = pd.DataFrame()\n",
    "for i in range(5):\n",
    "    temp = tfidf.iloc[:,i].sort_values(ascending=False)\n",
    "    temp = temp[:100]\n",
    "    temp = temp.reset_index()\n",
    "    tfidf_by_group_df = pd.concat([tfidf_by_group_df, temp], axis = 1)"
   ]
  },
  {
   "cell_type": "code",
   "execution_count": 77,
   "metadata": {},
   "outputs": [
    {
     "data": {
      "text/html": [
       "<div>\n",
       "<style scoped>\n",
       "    .dataframe tbody tr th:only-of-type {\n",
       "        vertical-align: middle;\n",
       "    }\n",
       "\n",
       "    .dataframe tbody tr th {\n",
       "        vertical-align: top;\n",
       "    }\n",
       "\n",
       "    .dataframe thead th {\n",
       "        text-align: right;\n",
       "    }\n",
       "</style>\n",
       "<table border=\"1\" class=\"dataframe\">\n",
       "  <thead>\n",
       "    <tr style=\"text-align: right;\">\n",
       "      <th></th>\n",
       "      <th>index</th>\n",
       "      <th>['0 Continuous decline']</th>\n",
       "      <th>index</th>\n",
       "      <th>['0 Recent decline']</th>\n",
       "      <th>index</th>\n",
       "      <th>['0 Recent decline/Peak']</th>\n",
       "      <th>index</th>\n",
       "      <th>['1 Recovery']</th>\n",
       "      <th>index</th>\n",
       "      <th>['2 Continuous growth']</th>\n",
       "    </tr>\n",
       "  </thead>\n",
       "  <tbody>\n",
       "    <tr>\n",
       "      <th>0</th>\n",
       "      <td>지역</td>\n",
       "      <td>0.005311</td>\n",
       "      <td>지역</td>\n",
       "      <td>0.005321</td>\n",
       "      <td>지역</td>\n",
       "      <td>0.005334</td>\n",
       "      <td>지역</td>\n",
       "      <td>0.005227</td>\n",
       "      <td>지역</td>\n",
       "      <td>0.004191</td>\n",
       "    </tr>\n",
       "    <tr>\n",
       "      <th>1</th>\n",
       "      <td>사업</td>\n",
       "      <td>0.005175</td>\n",
       "      <td>사업</td>\n",
       "      <td>0.005159</td>\n",
       "      <td>사업</td>\n",
       "      <td>0.005206</td>\n",
       "      <td>사업</td>\n",
       "      <td>0.005119</td>\n",
       "      <td>사업</td>\n",
       "      <td>0.004096</td>\n",
       "    </tr>\n",
       "    <tr>\n",
       "      <th>2</th>\n",
       "      <td>지원</td>\n",
       "      <td>0.004994</td>\n",
       "      <td>창원시</td>\n",
       "      <td>0.005064</td>\n",
       "      <td>지원</td>\n",
       "      <td>0.005058</td>\n",
       "      <td>지원</td>\n",
       "      <td>0.004963</td>\n",
       "      <td>지원</td>\n",
       "      <td>0.003973</td>\n",
       "    </tr>\n",
       "    <tr>\n",
       "      <th>3</th>\n",
       "      <td>추진</td>\n",
       "      <td>0.004932</td>\n",
       "      <td>지원</td>\n",
       "      <td>0.005000</td>\n",
       "      <td>경기도</td>\n",
       "      <td>0.005053</td>\n",
       "      <td>추진</td>\n",
       "      <td>0.004888</td>\n",
       "      <td>도시</td>\n",
       "      <td>0.003971</td>\n",
       "    </tr>\n",
       "    <tr>\n",
       "      <th>4</th>\n",
       "      <td>계획</td>\n",
       "      <td>0.004891</td>\n",
       "      <td>시장</td>\n",
       "      <td>0.004976</td>\n",
       "      <td>경기</td>\n",
       "      <td>0.005052</td>\n",
       "      <td>계획</td>\n",
       "      <td>0.004849</td>\n",
       "      <td>계획</td>\n",
       "      <td>0.003945</td>\n",
       "    </tr>\n",
       "    <tr>\n",
       "      <th>...</th>\n",
       "      <td>...</td>\n",
       "      <td>...</td>\n",
       "      <td>...</td>\n",
       "      <td>...</td>\n",
       "      <td>...</td>\n",
       "      <td>...</td>\n",
       "      <td>...</td>\n",
       "      <td>...</td>\n",
       "      <td>...</td>\n",
       "      <td>...</td>\n",
       "    </tr>\n",
       "    <tr>\n",
       "      <th>95</th>\n",
       "      <td>세계</td>\n",
       "      <td>0.004488</td>\n",
       "      <td>단체</td>\n",
       "      <td>0.004538</td>\n",
       "      <td>기관</td>\n",
       "      <td>0.004565</td>\n",
       "      <td>확대</td>\n",
       "      <td>0.004446</td>\n",
       "      <td>개선</td>\n",
       "      <td>0.003636</td>\n",
       "    </tr>\n",
       "    <tr>\n",
       "      <th>96</th>\n",
       "      <td>활성</td>\n",
       "      <td>0.004482</td>\n",
       "      <td>구성</td>\n",
       "      <td>0.004534</td>\n",
       "      <td>서비스</td>\n",
       "      <td>0.004564</td>\n",
       "      <td>사고</td>\n",
       "      <td>0.004440</td>\n",
       "      <td>사용</td>\n",
       "      <td>0.003635</td>\n",
       "    </tr>\n",
       "    <tr>\n",
       "      <th>97</th>\n",
       "      <td>공무원</td>\n",
       "      <td>0.004476</td>\n",
       "      <td>도내</td>\n",
       "      <td>0.004534</td>\n",
       "      <td>코로나19</td>\n",
       "      <td>0.004564</td>\n",
       "      <td>아파트</td>\n",
       "      <td>0.004437</td>\n",
       "      <td>투자</td>\n",
       "      <td>0.003632</td>\n",
       "    </tr>\n",
       "    <tr>\n",
       "      <th>98</th>\n",
       "      <td>프로그램</td>\n",
       "      <td>0.004476</td>\n",
       "      <td>대책</td>\n",
       "      <td>0.004533</td>\n",
       "      <td>현장</td>\n",
       "      <td>0.004564</td>\n",
       "      <td>구성</td>\n",
       "      <td>0.004431</td>\n",
       "      <td>단체</td>\n",
       "      <td>0.003632</td>\n",
       "    </tr>\n",
       "    <tr>\n",
       "      <th>99</th>\n",
       "      <td>정책</td>\n",
       "      <td>0.004474</td>\n",
       "      <td>현장</td>\n",
       "      <td>0.004530</td>\n",
       "      <td>가격</td>\n",
       "      <td>0.004564</td>\n",
       "      <td>위원회</td>\n",
       "      <td>0.004431</td>\n",
       "      <td>활용</td>\n",
       "      <td>0.003631</td>\n",
       "    </tr>\n",
       "  </tbody>\n",
       "</table>\n",
       "<p>100 rows × 10 columns</p>\n",
       "</div>"
      ],
      "text/plain": [
       "   index  ['0 Continuous decline'] index  ['0 Recent decline']  index  \\\n",
       "0     지역                  0.005311    지역              0.005321     지역   \n",
       "1     사업                  0.005175    사업              0.005159     사업   \n",
       "2     지원                  0.004994   창원시              0.005064     지원   \n",
       "3     추진                  0.004932    지원              0.005000    경기도   \n",
       "4     계획                  0.004891    시장              0.004976     경기   \n",
       "..   ...                       ...   ...                   ...    ...   \n",
       "95    세계                  0.004488    단체              0.004538     기관   \n",
       "96    활성                  0.004482    구성              0.004534    서비스   \n",
       "97   공무원                  0.004476    도내              0.004534  코로나19   \n",
       "98  프로그램                  0.004476    대책              0.004533     현장   \n",
       "99    정책                  0.004474    현장              0.004530     가격   \n",
       "\n",
       "    ['0 Recent decline/Peak'] index  ['1 Recovery'] index  \\\n",
       "0                    0.005334    지역        0.005227    지역   \n",
       "1                    0.005206    사업        0.005119    사업   \n",
       "2                    0.005058    지원        0.004963    지원   \n",
       "3                    0.005053    추진        0.004888    도시   \n",
       "4                    0.005052    계획        0.004849    계획   \n",
       "..                        ...   ...             ...   ...   \n",
       "95                   0.004565    확대        0.004446    개선   \n",
       "96                   0.004564    사고        0.004440    사용   \n",
       "97                   0.004564   아파트        0.004437    투자   \n",
       "98                   0.004564    구성        0.004431    단체   \n",
       "99                   0.004564   위원회        0.004431    활용   \n",
       "\n",
       "    ['2 Continuous growth']  \n",
       "0                  0.004191  \n",
       "1                  0.004096  \n",
       "2                  0.003973  \n",
       "3                  0.003971  \n",
       "4                  0.003945  \n",
       "..                      ...  \n",
       "95                 0.003636  \n",
       "96                 0.003635  \n",
       "97                 0.003632  \n",
       "98                 0.003632  \n",
       "99                 0.003631  \n",
       "\n",
       "[100 rows x 10 columns]"
      ]
     },
     "execution_count": 77,
     "metadata": {},
     "output_type": "execute_result"
    }
   ],
   "source": [
    "tfidf_by_group_df"
   ]
  },
  {
   "cell_type": "code",
   "execution_count": 78,
   "metadata": {},
   "outputs": [],
   "source": [
    "tfidf_by_group_df.to_csv(\"../result/TF_IDF_by_group_top100.csv\")"
   ]
  },
  {
   "cell_type": "code",
   "execution_count": 80,
   "metadata": {},
   "outputs": [],
   "source": [
    "from sklearn.feature_extraction.text import CountVectorizer"
   ]
  },
  {
   "cell_type": "code",
   "execution_count": 82,
   "metadata": {},
   "outputs": [
    {
     "ename": "",
     "evalue": "",
     "output_type": "error",
     "traceback": [
      "\u001b[1;31mCanceled future for execute_request message before replies were done"
     ]
    },
    {
     "ename": "",
     "evalue": "",
     "output_type": "error",
     "traceback": [
      "\u001b[1;31mThe Kernel crashed while executing code in the the current cell or a previous cell. Please review the code in the cell(s) to identify a possible cause of the failure. Click <a href='https://aka.ms/vscodeJupyterKernelCrash'>here</a> for more info. View Jupyter <a href='command:jupyter.viewOutput'>log</a> for further details."
     ]
    }
   ],
   "source": [
    "C_Vec = CountVectorizer(min_df= 5, analyzer='word')\n",
    "C_DTM = C_Vec.fit_transform(key_lst)\n",
    "tfidf = pd.DataFrame(DTM.toarray(), columns = T_Vec.get_feature_names())"
   ]
  }
 ],
 "metadata": {
  "kernelspec": {
   "display_name": "Python 3.8.12 ('svmglee')",
   "language": "python",
   "name": "python3"
  },
  "language_info": {
   "codemirror_mode": {
    "name": "ipython",
    "version": 3
   },
   "file_extension": ".py",
   "mimetype": "text/x-python",
   "name": "python",
   "nbconvert_exporter": "python",
   "pygments_lexer": "ipython3",
   "version": "3.8.12"
  },
  "orig_nbformat": 4,
  "vscode": {
   "interpreter": {
    "hash": "c6f34507fa43ba317958b721fa8398d2051b96ef3f3b32ff98429c26ce06f8cf"
   }
  }
 },
 "nbformat": 4,
 "nbformat_minor": 2
}
