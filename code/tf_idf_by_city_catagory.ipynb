{
 "cells": [
  {
   "cell_type": "code",
   "execution_count": 101,
   "metadata": {},
   "outputs": [],
   "source": [
    "import pandas as pd\n",
    "import numpy as np  \n",
    "import glob  \n",
    "import sys\n",
    "import warnings\n",
    "import os\n",
    "import time"
   ]
  },
  {
   "cell_type": "code",
   "execution_count": 102,
   "metadata": {},
   "outputs": [
    {
     "ename": "",
     "evalue": "",
     "output_type": "error",
     "traceback": [
      "\u001b[1;31mThe Kernel crashed while executing code in the the current cell or a previous cell. Please review the code in the cell(s) to identify a possible cause of the failure. Click <a href='https://aka.ms/vscodeJupyterKernelCrash'>here</a> for more info. View Jupyter <a href='command:jupyter.viewOutput'>log</a> for further details."
     ]
    }
   ],
   "source": [
    "df = pd.read_pickle('../data/pkl/merged_filtered_0620.pkl')"
   ]
  },
  {
   "cell_type": "code",
   "execution_count": 100,
   "metadata": {},
   "outputs": [
    {
     "data": {
      "text/plain": [
       "3558589"
      ]
     },
     "execution_count": 100,
     "metadata": {},
     "output_type": "execute_result"
    }
   ],
   "source": [
    "len(df)"
   ]
  },
  {
   "cell_type": "code",
   "execution_count": 3,
   "metadata": {},
   "outputs": [
    {
     "data": {
      "text/html": [
       "<div>\n",
       "<style scoped>\n",
       "    .dataframe tbody tr th:only-of-type {\n",
       "        vertical-align: middle;\n",
       "    }\n",
       "\n",
       "    .dataframe tbody tr th {\n",
       "        vertical-align: top;\n",
       "    }\n",
       "\n",
       "    .dataframe thead th {\n",
       "        text-align: right;\n",
       "    }\n",
       "</style>\n",
       "<table border=\"1\" class=\"dataframe\">\n",
       "  <thead>\n",
       "    <tr style=\"text-align: right;\">\n",
       "      <th></th>\n",
       "      <th>name_kor</th>\n",
       "      <th>type</th>\n",
       "    </tr>\n",
       "  </thead>\n",
       "  <tbody>\n",
       "    <tr>\n",
       "      <th>0</th>\n",
       "      <td>서울특별시</td>\n",
       "      <td>0 Recent decline</td>\n",
       "    </tr>\n",
       "    <tr>\n",
       "      <th>1</th>\n",
       "      <td>서울특별시 종로구</td>\n",
       "      <td>0 Continuous decline</td>\n",
       "    </tr>\n",
       "    <tr>\n",
       "      <th>2</th>\n",
       "      <td>서울특별시 중구</td>\n",
       "      <td>1 Recovery</td>\n",
       "    </tr>\n",
       "    <tr>\n",
       "      <th>3</th>\n",
       "      <td>서울특별시 용산구</td>\n",
       "      <td>1 Recovery</td>\n",
       "    </tr>\n",
       "    <tr>\n",
       "      <th>4</th>\n",
       "      <td>서울특별시 성동구</td>\n",
       "      <td>0 Continuous decline</td>\n",
       "    </tr>\n",
       "    <tr>\n",
       "      <th>...</th>\n",
       "      <td>...</td>\n",
       "      <td>...</td>\n",
       "    </tr>\n",
       "    <tr>\n",
       "      <th>230</th>\n",
       "      <td>경상남도 함양군</td>\n",
       "      <td>0 Continuous decline</td>\n",
       "    </tr>\n",
       "    <tr>\n",
       "      <th>231</th>\n",
       "      <td>경상남도 거창군</td>\n",
       "      <td>0 Continuous decline/slowdown</td>\n",
       "    </tr>\n",
       "    <tr>\n",
       "      <th>232</th>\n",
       "      <td>경상남도 합천군</td>\n",
       "      <td>0 Continuous decline</td>\n",
       "    </tr>\n",
       "    <tr>\n",
       "      <th>233</th>\n",
       "      <td>제주특별자치도 제주시</td>\n",
       "      <td>2 Continuous growth</td>\n",
       "    </tr>\n",
       "    <tr>\n",
       "      <th>234</th>\n",
       "      <td>제주특별자치도 서귀포시</td>\n",
       "      <td>2 Continuous growth</td>\n",
       "    </tr>\n",
       "  </tbody>\n",
       "</table>\n",
       "<p>235 rows × 2 columns</p>\n",
       "</div>"
      ],
      "text/plain": [
       "         name_kor                           type\n",
       "0           서울특별시               0 Recent decline\n",
       "1       서울특별시 종로구           0 Continuous decline\n",
       "2        서울특별시 중구                     1 Recovery\n",
       "3       서울특별시 용산구                     1 Recovery\n",
       "4       서울특별시 성동구           0 Continuous decline\n",
       "..            ...                            ...\n",
       "230      경상남도 함양군           0 Continuous decline\n",
       "231      경상남도 거창군  0 Continuous decline/slowdown\n",
       "232      경상남도 합천군           0 Continuous decline\n",
       "233   제주특별자치도 제주시            2 Continuous growth\n",
       "234  제주특별자치도 서귀포시            2 Continuous growth\n",
       "\n",
       "[235 rows x 2 columns]"
      ]
     },
     "execution_count": 3,
     "metadata": {},
     "output_type": "execute_result"
    }
   ],
   "source": [
    "cat_lst = pd.read_excel('../data/decline_cities_kor_list.xlsx')\n",
    "cat_lst = cat_lst[['name_kor', 'type']]\n",
    "cat_lst\n"
   ]
  },
  {
   "cell_type": "code",
   "execution_count": 4,
   "metadata": {},
   "outputs": [],
   "source": [
    "cat_lst['name_kor'] = cat_lst['name_kor'].apply(lambda x : x.split())"
   ]
  },
  {
   "cell_type": "code",
   "execution_count": 5,
   "metadata": {},
   "outputs": [],
   "source": [
    "lst = []\n",
    "for item  in cat_lst['name_kor']:\n",
    "    try:\n",
    "        lst.append(item[1])\n",
    "    except:\n",
    "        lst.append('pass')"
   ]
  },
  {
   "cell_type": "code",
   "execution_count": 6,
   "metadata": {},
   "outputs": [],
   "source": [
    "cat_lst['city'] = lst"
   ]
  },
  {
   "cell_type": "code",
   "execution_count": 7,
   "metadata": {},
   "outputs": [],
   "source": [
    "import re\n",
    "\n",
    "idx = []\n",
    "for item in cat_lst['city']:\n",
    "    idx.append(re.search('시$', item) != None)"
   ]
  },
  {
   "cell_type": "code",
   "execution_count": 8,
   "metadata": {},
   "outputs": [
    {
     "data": {
      "text/html": [
       "<div>\n",
       "<style scoped>\n",
       "    .dataframe tbody tr th:only-of-type {\n",
       "        vertical-align: middle;\n",
       "    }\n",
       "\n",
       "    .dataframe tbody tr th {\n",
       "        vertical-align: top;\n",
       "    }\n",
       "\n",
       "    .dataframe thead th {\n",
       "        text-align: right;\n",
       "    }\n",
       "</style>\n",
       "<table border=\"1\" class=\"dataframe\">\n",
       "  <thead>\n",
       "    <tr style=\"text-align: right;\">\n",
       "      <th></th>\n",
       "      <th>city</th>\n",
       "      <th>type</th>\n",
       "    </tr>\n",
       "  </thead>\n",
       "  <tbody>\n",
       "    <tr>\n",
       "      <th>81</th>\n",
       "      <td>동해시</td>\n",
       "      <td>0 Continuous decline</td>\n",
       "    </tr>\n",
       "    <tr>\n",
       "      <th>82</th>\n",
       "      <td>태백시</td>\n",
       "      <td>0 Continuous decline</td>\n",
       "    </tr>\n",
       "    <tr>\n",
       "      <th>83</th>\n",
       "      <td>삼척시</td>\n",
       "      <td>0 Continuous decline</td>\n",
       "    </tr>\n",
       "    <tr>\n",
       "      <th>84</th>\n",
       "      <td>공주시</td>\n",
       "      <td>0 Continuous decline</td>\n",
       "    </tr>\n",
       "    <tr>\n",
       "      <th>85</th>\n",
       "      <td>익산시</td>\n",
       "      <td>0 Continuous decline</td>\n",
       "    </tr>\n",
       "    <tr>\n",
       "      <th>...</th>\n",
       "      <td>...</td>\n",
       "      <td>...</td>\n",
       "    </tr>\n",
       "    <tr>\n",
       "      <th>220</th>\n",
       "      <td>진주시</td>\n",
       "      <td>2 Continuous growth</td>\n",
       "    </tr>\n",
       "    <tr>\n",
       "      <th>221</th>\n",
       "      <td>김해시</td>\n",
       "      <td>2 Continuous growth</td>\n",
       "    </tr>\n",
       "    <tr>\n",
       "      <th>222</th>\n",
       "      <td>양산시</td>\n",
       "      <td>2 Continuous growth</td>\n",
       "    </tr>\n",
       "    <tr>\n",
       "      <th>233</th>\n",
       "      <td>제주시</td>\n",
       "      <td>2 Continuous growth</td>\n",
       "    </tr>\n",
       "    <tr>\n",
       "      <th>234</th>\n",
       "      <td>서귀포시</td>\n",
       "      <td>2 Continuous growth</td>\n",
       "    </tr>\n",
       "  </tbody>\n",
       "</table>\n",
       "<p>77 rows × 2 columns</p>\n",
       "</div>"
      ],
      "text/plain": [
       "     city                  type\n",
       "81    동해시  0 Continuous decline\n",
       "82    태백시  0 Continuous decline\n",
       "83    삼척시  0 Continuous decline\n",
       "84    공주시  0 Continuous decline\n",
       "85    익산시  0 Continuous decline\n",
       "..    ...                   ...\n",
       "220   진주시   2 Continuous growth\n",
       "221   김해시   2 Continuous growth\n",
       "222   양산시   2 Continuous growth\n",
       "233   제주시   2 Continuous growth\n",
       "234  서귀포시   2 Continuous growth\n",
       "\n",
       "[77 rows x 2 columns]"
      ]
     },
     "execution_count": 8,
     "metadata": {},
     "output_type": "execute_result"
    }
   ],
   "source": [
    "cat_lst_use = cat_lst[idx]\n",
    "cat_lst_use[['city', 'type']]"
   ]
  },
  {
   "cell_type": "code",
   "execution_count": 9,
   "metadata": {},
   "outputs": [],
   "source": [
    "df_group = pd.merge(left = df, right = cat_lst_use, how = 'left', on = 'city')"
   ]
  },
  {
   "cell_type": "code",
   "execution_count": 10,
   "metadata": {},
   "outputs": [],
   "source": [
    "group = df_group.groupby('type')\n",
    "group = [group.get_group(x) for x in group.groups]\n"
   ]
  },
  {
   "cell_type": "code",
   "execution_count": 11,
   "metadata": {},
   "outputs": [],
   "source": [
    "key_lst = []\n",
    "\n",
    "for df in group:\n",
    "    col = df.columns\n",
    "    key = df['키워드']\n",
    "    keywords = \"\"\n",
    "    features = \"\"\n",
    "    for item in key:\n",
    "        try:\n",
    "            keywords += item.replace(\",\" , \" \")\n",
    "        except:\n",
    "            pass\n",
    "    \n",
    "    key_lst.append(keywords)"
   ]
  },
  {
   "cell_type": "code",
   "execution_count": 17,
   "metadata": {},
   "outputs": [
    {
     "name": "stdout",
     "output_type": "stream",
     "text": [
      "5\n"
     ]
    }
   ],
   "source": [
    "print(len(key_lst))"
   ]
  },
  {
   "cell_type": "code",
   "execution_count": 45,
   "metadata": {},
   "outputs": [],
   "source": [
    "from sklearn.feature_extraction.text import TfidfVectorizer"
   ]
  },
  {
   "cell_type": "code",
   "execution_count": 46,
   "metadata": {},
   "outputs": [
    {
     "name": "stderr",
     "output_type": "stream",
     "text": [
      "/home/mglee/.conda/envs/svmglee/lib/python3.8/site-packages/sklearn/utils/deprecation.py:87: FutureWarning: Function get_feature_names is deprecated; get_feature_names is deprecated in 1.0 and will be removed in 1.2. Please use get_feature_names_out instead.\n",
      "  warnings.warn(msg, category=FutureWarning)\n"
     ]
    }
   ],
   "source": [
    "T_Vec = TfidfVectorizer(min_df= 5, analyzer='word', sublinear_tf= True)\n",
    "DTM = T_Vec.fit_transform(key_lst)\n",
    "tfidf = pd.DataFrame(DTM.toarray(), columns = T_Vec.get_feature_names())"
   ]
  },
  {
   "cell_type": "code",
   "execution_count": 47,
   "metadata": {},
   "outputs": [],
   "source": [
    "idx_lst = []\n",
    "for type in group:\n",
    "    idx_lst.append(str(type['type'].unique()))"
   ]
  },
  {
   "cell_type": "code",
   "execution_count": 48,
   "metadata": {},
   "outputs": [
    {
     "data": {
      "text/plain": [
       "[\"['0 Continuous decline']\",\n",
       " \"['0 Recent decline']\",\n",
       " \"['0 Recent decline/Peak']\",\n",
       " \"['1 Recovery']\",\n",
       " \"['2 Continuous growth']\"]"
      ]
     },
     "execution_count": 48,
     "metadata": {},
     "output_type": "execute_result"
    }
   ],
   "source": [
    "idx_lst"
   ]
  },
  {
   "cell_type": "code",
   "execution_count": 49,
   "metadata": {},
   "outputs": [],
   "source": [
    "tfidf = tfidf.T"
   ]
  },
  {
   "cell_type": "code",
   "execution_count": 50,
   "metadata": {},
   "outputs": [],
   "source": [
    "tfidf.columns = idx_lst"
   ]
  },
  {
   "cell_type": "code",
   "execution_count": 79,
   "metadata": {},
   "outputs": [],
   "source": [
    "tfidf.to_csv(\"../result/TF_IDF_by_group.csv\")"
   ]
  },
  {
   "cell_type": "code",
   "execution_count": 14,
   "metadata": {},
   "outputs": [
    {
     "name": "stderr",
     "output_type": "stream",
     "text": [
      "/home/mglee/.conda/envs/svmglee/lib/python3.8/site-packages/sklearn/utils/deprecation.py:87: FutureWarning: Function get_feature_names is deprecated; get_feature_names is deprecated in 1.0 and will be removed in 1.2. Please use get_feature_names_out instead.\n",
      "  warnings.warn(msg, category=FutureWarning)\n"
     ]
    }
   ],
   "source": [
    "from sklearn.feature_extraction.text import CountVectorizer\n",
    "\n",
    "C_Vec = CountVectorizer(min_df= 5, analyzer='word')\n",
    "C_DTM = C_Vec.fit_transform(key_lst)\n",
    "tf = pd.DataFrame(C_DTM.toarray(), columns = C_Vec.get_feature_names())\n",
    "\n",
    "tf = tf.T\n",
    "tf_sum = tf.apply(lambda x : sum(x))\n",
    "tf_ratio = tf / tf_sum\n",
    "\n",
    "common_term = tf_ratio.sum(axis = 1).sort_values(ascending= False)[:500]"
   ]
  },
  {
   "cell_type": "code",
   "execution_count": 99,
   "metadata": {},
   "outputs": [],
   "source": [
    "pd.Series(common_term.index).to_csv(\"../result/common_term.csv\")"
   ]
  },
  {
   "cell_type": "code",
   "execution_count": 94,
   "metadata": {},
   "outputs": [
    {
     "name": "stderr",
     "output_type": "stream",
     "text": [
      "/tmp/ipykernel_14978/1275396579.py:5: FutureWarning: Passing a set as an indexer is deprecated and will raise in a future version. Use a list instead.\n",
      "  temp = temp[set(temp.index) - set(common_term.index)]\n",
      "/tmp/ipykernel_14978/1275396579.py:5: FutureWarning: Passing a set as an indexer is deprecated and will raise in a future version. Use a list instead.\n",
      "  temp = temp[set(temp.index) - set(common_term.index)]\n"
     ]
    },
    {
     "name": "stdout",
     "output_type": "stream",
     "text": [
      "523\n",
      "515\n"
     ]
    },
    {
     "name": "stderr",
     "output_type": "stream",
     "text": [
      "/tmp/ipykernel_14978/1275396579.py:5: FutureWarning: Passing a set as an indexer is deprecated and will raise in a future version. Use a list instead.\n",
      "  temp = temp[set(temp.index) - set(common_term.index)]\n"
     ]
    },
    {
     "name": "stdout",
     "output_type": "stream",
     "text": [
      "521\n",
      "526\n",
      "521\n"
     ]
    },
    {
     "name": "stderr",
     "output_type": "stream",
     "text": [
      "/tmp/ipykernel_14978/1275396579.py:5: FutureWarning: Passing a set as an indexer is deprecated and will raise in a future version. Use a list instead.\n",
      "  temp = temp[set(temp.index) - set(common_term.index)]\n",
      "/tmp/ipykernel_14978/1275396579.py:5: FutureWarning: Passing a set as an indexer is deprecated and will raise in a future version. Use a list instead.\n",
      "  temp = temp[set(temp.index) - set(common_term.index)]\n"
     ]
    }
   ],
   "source": [
    "tfidf_by_group_df = pd.DataFrame()\n",
    "for i in range(5):\n",
    "    temp = tfidf.iloc[:,i].sort_values(ascending=False)\n",
    "    temp = temp[:1000]\n",
    "    temp = temp[set(temp.index) - set(common_term.index)]\n",
    "    temp.sort_values(inplace = True, ascending= False)\n",
    "    temp = temp.reset_index()\n",
    "    print(len(temp))\n",
    "    tfidf_by_group_df = pd.concat([tfidf_by_group_df, temp], axis = 1)"
   ]
  },
  {
   "cell_type": "code",
   "execution_count": 95,
   "metadata": {},
   "outputs": [
    {
     "data": {
      "text/html": [
       "<div>\n",
       "<style scoped>\n",
       "    .dataframe tbody tr th:only-of-type {\n",
       "        vertical-align: middle;\n",
       "    }\n",
       "\n",
       "    .dataframe tbody tr th {\n",
       "        vertical-align: top;\n",
       "    }\n",
       "\n",
       "    .dataframe thead th {\n",
       "        text-align: right;\n",
       "    }\n",
       "</style>\n",
       "<table border=\"1\" class=\"dataframe\">\n",
       "  <thead>\n",
       "    <tr style=\"text-align: right;\">\n",
       "      <th></th>\n",
       "      <th>index</th>\n",
       "      <th>['0 Continuous decline']</th>\n",
       "      <th>index</th>\n",
       "      <th>['0 Recent decline']</th>\n",
       "      <th>index</th>\n",
       "      <th>['0 Recent decline/Peak']</th>\n",
       "      <th>index</th>\n",
       "      <th>['1 Recovery']</th>\n",
       "      <th>index</th>\n",
       "      <th>['2 Continuous growth']</th>\n",
       "    </tr>\n",
       "  </thead>\n",
       "  <tbody>\n",
       "    <tr>\n",
       "      <th>0</th>\n",
       "      <td>익산</td>\n",
       "      <td>0.004569</td>\n",
       "      <td>속초시</td>\n",
       "      <td>0.004555</td>\n",
       "      <td>부천</td>\n",
       "      <td>0.004629</td>\n",
       "      <td>제천</td>\n",
       "      <td>0.004528</td>\n",
       "      <td>제주시</td>\n",
       "      <td>0.003593</td>\n",
       "    </tr>\n",
       "    <tr>\n",
       "      <th>1</th>\n",
       "      <td>김제시</td>\n",
       "      <td>0.004553</td>\n",
       "      <td>과천시</td>\n",
       "      <td>0.004525</td>\n",
       "      <td>안산</td>\n",
       "      <td>0.004602</td>\n",
       "      <td>보령시</td>\n",
       "      <td>0.004476</td>\n",
       "      <td>천안시</td>\n",
       "      <td>0.003591</td>\n",
       "    </tr>\n",
       "    <tr>\n",
       "      <th>2</th>\n",
       "      <td>삼척</td>\n",
       "      <td>0.004548</td>\n",
       "      <td>목포시</td>\n",
       "      <td>0.004469</td>\n",
       "      <td>거제시</td>\n",
       "      <td>0.004581</td>\n",
       "      <td>나주시</td>\n",
       "      <td>0.004401</td>\n",
       "      <td>청주</td>\n",
       "      <td>0.003582</td>\n",
       "    </tr>\n",
       "    <tr>\n",
       "      <th>3</th>\n",
       "      <td>정읍시</td>\n",
       "      <td>0.004528</td>\n",
       "      <td>마산</td>\n",
       "      <td>0.004468</td>\n",
       "      <td>군포시</td>\n",
       "      <td>0.004530</td>\n",
       "      <td>광양시</td>\n",
       "      <td>0.004376</td>\n",
       "      <td>서귀포시</td>\n",
       "      <td>0.003530</td>\n",
       "    </tr>\n",
       "    <tr>\n",
       "      <th>4</th>\n",
       "      <td>공주</td>\n",
       "      <td>0.004519</td>\n",
       "      <td>속초</td>\n",
       "      <td>0.004467</td>\n",
       "      <td>판교</td>\n",
       "      <td>0.004497</td>\n",
       "      <td>논산시</td>\n",
       "      <td>0.004370</td>\n",
       "      <td>천안</td>\n",
       "      <td>0.003525</td>\n",
       "    </tr>\n",
       "    <tr>\n",
       "      <th>...</th>\n",
       "      <td>...</td>\n",
       "      <td>...</td>\n",
       "      <td>...</td>\n",
       "      <td>...</td>\n",
       "      <td>...</td>\n",
       "      <td>...</td>\n",
       "      <td>...</td>\n",
       "      <td>...</td>\n",
       "      <td>...</td>\n",
       "      <td>...</td>\n",
       "    </tr>\n",
       "    <tr>\n",
       "      <th>521</th>\n",
       "      <td>클러스터</td>\n",
       "      <td>0.003852</td>\n",
       "      <td>NaN</td>\n",
       "      <td>NaN</td>\n",
       "      <td>NaN</td>\n",
       "      <td>NaN</td>\n",
       "      <td>마당</td>\n",
       "      <td>0.003815</td>\n",
       "      <td>NaN</td>\n",
       "      <td>NaN</td>\n",
       "    </tr>\n",
       "    <tr>\n",
       "      <th>522</th>\n",
       "      <td>글로벌</td>\n",
       "      <td>0.003852</td>\n",
       "      <td>NaN</td>\n",
       "      <td>NaN</td>\n",
       "      <td>NaN</td>\n",
       "      <td>NaN</td>\n",
       "      <td>충청</td>\n",
       "      <td>0.003815</td>\n",
       "      <td>NaN</td>\n",
       "      <td>NaN</td>\n",
       "    </tr>\n",
       "    <tr>\n",
       "      <th>523</th>\n",
       "      <td>NaN</td>\n",
       "      <td>NaN</td>\n",
       "      <td>NaN</td>\n",
       "      <td>NaN</td>\n",
       "      <td>NaN</td>\n",
       "      <td>NaN</td>\n",
       "      <td>공정</td>\n",
       "      <td>0.003815</td>\n",
       "      <td>NaN</td>\n",
       "      <td>NaN</td>\n",
       "    </tr>\n",
       "    <tr>\n",
       "      <th>524</th>\n",
       "      <td>NaN</td>\n",
       "      <td>NaN</td>\n",
       "      <td>NaN</td>\n",
       "      <td>NaN</td>\n",
       "      <td>NaN</td>\n",
       "      <td>NaN</td>\n",
       "      <td>명소</td>\n",
       "      <td>0.003815</td>\n",
       "      <td>NaN</td>\n",
       "      <td>NaN</td>\n",
       "    </tr>\n",
       "    <tr>\n",
       "      <th>525</th>\n",
       "      <td>NaN</td>\n",
       "      <td>NaN</td>\n",
       "      <td>NaN</td>\n",
       "      <td>NaN</td>\n",
       "      <td>NaN</td>\n",
       "      <td>NaN</td>\n",
       "      <td>송전탑</td>\n",
       "      <td>0.003815</td>\n",
       "      <td>NaN</td>\n",
       "      <td>NaN</td>\n",
       "    </tr>\n",
       "  </tbody>\n",
       "</table>\n",
       "<p>526 rows × 10 columns</p>\n",
       "</div>"
      ],
      "text/plain": [
       "    index  ['0 Continuous decline'] index  ['0 Recent decline'] index  \\\n",
       "0      익산                  0.004569   속초시              0.004555    부천   \n",
       "1     김제시                  0.004553   과천시              0.004525    안산   \n",
       "2      삼척                  0.004548   목포시              0.004469   거제시   \n",
       "3     정읍시                  0.004528    마산              0.004468   군포시   \n",
       "4      공주                  0.004519    속초              0.004467    판교   \n",
       "..    ...                       ...   ...                   ...   ...   \n",
       "521  클러스터                  0.003852   NaN                   NaN   NaN   \n",
       "522   글로벌                  0.003852   NaN                   NaN   NaN   \n",
       "523   NaN                       NaN   NaN                   NaN   NaN   \n",
       "524   NaN                       NaN   NaN                   NaN   NaN   \n",
       "525   NaN                       NaN   NaN                   NaN   NaN   \n",
       "\n",
       "     ['0 Recent decline/Peak'] index  ['1 Recovery'] index  \\\n",
       "0                     0.004629    제천        0.004528   제주시   \n",
       "1                     0.004602   보령시        0.004476   천안시   \n",
       "2                     0.004581   나주시        0.004401    청주   \n",
       "3                     0.004530   광양시        0.004376  서귀포시   \n",
       "4                     0.004497   논산시        0.004370    천안   \n",
       "..                         ...   ...             ...   ...   \n",
       "521                        NaN    마당        0.003815   NaN   \n",
       "522                        NaN    충청        0.003815   NaN   \n",
       "523                        NaN    공정        0.003815   NaN   \n",
       "524                        NaN    명소        0.003815   NaN   \n",
       "525                        NaN   송전탑        0.003815   NaN   \n",
       "\n",
       "     ['2 Continuous growth']  \n",
       "0                   0.003593  \n",
       "1                   0.003591  \n",
       "2                   0.003582  \n",
       "3                   0.003530  \n",
       "4                   0.003525  \n",
       "..                       ...  \n",
       "521                      NaN  \n",
       "522                      NaN  \n",
       "523                      NaN  \n",
       "524                      NaN  \n",
       "525                      NaN  \n",
       "\n",
       "[526 rows x 10 columns]"
      ]
     },
     "execution_count": 95,
     "metadata": {},
     "output_type": "execute_result"
    }
   ],
   "source": [
    "tfidf_by_group_df"
   ]
  },
  {
   "cell_type": "code",
   "execution_count": 96,
   "metadata": {},
   "outputs": [],
   "source": [
    "tfidf_by_group_df.to_csv(\"../result/TF_IDF_by_group_anti_common.csv\")"
   ]
  }
 ],
 "metadata": {
  "kernelspec": {
   "display_name": "Python 3.8.12 ('svmglee')",
   "language": "python",
   "name": "python3"
  },
  "language_info": {
   "codemirror_mode": {
    "name": "ipython",
    "version": 3
   },
   "file_extension": ".py",
   "mimetype": "text/x-python",
   "name": "python",
   "nbconvert_exporter": "python",
   "pygments_lexer": "ipython3",
   "version": "3.8.12"
  },
  "orig_nbformat": 4,
  "vscode": {
   "interpreter": {
    "hash": "c6f34507fa43ba317958b721fa8398d2051b96ef3f3b32ff98429c26ce06f8cf"
   }
  }
 },
 "nbformat": 4,
 "nbformat_minor": 2
}
