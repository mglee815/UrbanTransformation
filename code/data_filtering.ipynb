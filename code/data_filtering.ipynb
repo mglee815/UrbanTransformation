{
 "cells": [
  {
   "cell_type": "code",
   "execution_count": 2,
   "metadata": {},
   "outputs": [],
   "source": [
    "import pandas as pd\n",
    "import glob  \n",
    "import sys\n",
    "import os\n",
    "import time\n",
    "import re\n",
    "import numpy as np\n",
    "from tqdm import tqdm"
   ]
  },
  {
   "cell_type": "markdown",
   "metadata": {},
   "source": [
    "# Get Data with filtering"
   ]
  },
  {
   "cell_type": "markdown",
   "metadata": {},
   "source": [
    "Get keyword list"
   ]
  },
  {
   "cell_type": "code",
   "execution_count": 3,
   "metadata": {},
   "outputs": [],
   "source": [
    "keyword_list = pd.read_excel(\"../data/Text_keyword_0620.xlsx\")"
   ]
  },
  {
   "cell_type": "code",
   "execution_count": 4,
   "metadata": {},
   "outputs": [
    {
     "name": "stdout",
     "output_type": "stream",
     "text": [
      "65\n"
     ]
    },
    {
     "data": {
      "text/html": [
       "<div>\n",
       "<style scoped>\n",
       "    .dataframe tbody tr th:only-of-type {\n",
       "        vertical-align: middle;\n",
       "    }\n",
       "\n",
       "    .dataframe tbody tr th {\n",
       "        vertical-align: top;\n",
       "    }\n",
       "\n",
       "    .dataframe thead th {\n",
       "        text-align: right;\n",
       "    }\n",
       "</style>\n",
       "<table border=\"1\" class=\"dataframe\">\n",
       "  <thead>\n",
       "    <tr style=\"text-align: right;\">\n",
       "      <th></th>\n",
       "      <th>Unnamed: 0</th>\n",
       "      <th>Target 키워드</th>\n",
       "    </tr>\n",
       "  </thead>\n",
       "  <tbody>\n",
       "    <tr>\n",
       "      <th>0</th>\n",
       "      <td>1</td>\n",
       "      <td>인구</td>\n",
       "    </tr>\n",
       "    <tr>\n",
       "      <th>1</th>\n",
       "      <td>2</td>\n",
       "      <td>도시</td>\n",
       "    </tr>\n",
       "    <tr>\n",
       "      <th>2</th>\n",
       "      <td>3</td>\n",
       "      <td>도심</td>\n",
       "    </tr>\n",
       "    <tr>\n",
       "      <th>3</th>\n",
       "      <td>4</td>\n",
       "      <td>지역</td>\n",
       "    </tr>\n",
       "    <tr>\n",
       "      <th>4</th>\n",
       "      <td>5</td>\n",
       "      <td>지자체</td>\n",
       "    </tr>\n",
       "  </tbody>\n",
       "</table>\n",
       "</div>"
      ],
      "text/plain": [
       "   Unnamed: 0 Target 키워드\n",
       "0           1         인구\n",
       "1           2         도시\n",
       "2           3         도심\n",
       "3           4         지역\n",
       "4           5        지자체"
      ]
     },
     "execution_count": 4,
     "metadata": {},
     "output_type": "execute_result"
    }
   ],
   "source": [
    "print(len(keyword_list))\n",
    "keyword_list.head()"
   ]
  },
  {
   "cell_type": "code",
   "execution_count": 5,
   "metadata": {},
   "outputs": [
    {
     "name": "stderr",
     "output_type": "stream",
     "text": [
      "100%|██████████| 81/81 [06:08<00:00,  4.55s/it]\n"
     ]
    }
   ],
   "source": [
    "DATA_PATH = '../data/pkl/'\n",
    "\n",
    "\n",
    "df_filter = pd.DataFrame()\n",
    "\n",
    "df_len = []\n",
    "city_list = []\n",
    "total_before_len = 0\n",
    "\n",
    "for f in tqdm(glob.glob(f'{DATA_PATH}*.pkl')):\n",
    "    if '시' in f:\n",
    "        city = re.search(f'{DATA_PATH}(.+?)_merged.pkl', f).group(1)\n",
    "        df = pd.read_pickle(f)\n",
    "        df['city'] = city\n",
    "        city_list.append(city)\n",
    "        city_before_len = len(df)\n",
    "        total_before_len += city_before_len\n",
    "        filter_keyword = []\n",
    "        for idx, keyword in enumerate(df['키워드']):\n",
    "            keyword =  str(keyword).split(',')\n",
    "            filter_keyword.append(set(keyword).intersection(set(keyword_list['Target 키워드'])))\n",
    "        df['filter_keyword'] = filter_keyword\n",
    "        filtered_df = df.loc[df['filter_keyword'].map(len) != 0]\n",
    "        #print(f\"City = {city}, before len = {city_before_len}, after len = {len(filtered_df)}\")\n",
    "        df_filter = pd.concat([df_filter, filtered_df])        \n",
    "        temp = [city,  city_before_len]\n",
    "        df_len.append(temp)\n",
    "pd.DataFrame(df_len, columns=['city', 'count']).to_csv(\"../result/before_filter_city_count.csv\")\n",
    "\n",
    "#print(f\"before : {total_before_len}, after : {len(df_filter)}\")"
   ]
  },
  {
   "cell_type": "code",
   "execution_count": 6,
   "metadata": {},
   "outputs": [
    {
     "data": {
      "text/plain": [
       "Index(['뉴스 식별자', '일자', '언론사', '기고자', '제목', '통합 분류1', '통합 분류2', '통합 분류3',\n",
       "       '사건/사고 분류1', '사건/사고 분류2', '사건/사고 분류3', '인물', '위치', '기관', '키워드',\n",
       "       '특성추출(가중치순 상위 50개)', '본문', 'URL', '분석제외 여부', 'city', 'filter_keyword'],\n",
       "      dtype='object')"
      ]
     },
     "execution_count": 6,
     "metadata": {},
     "output_type": "execute_result"
    }
   ],
   "source": [
    "df_filter.columns"
   ]
  },
  {
   "cell_type": "markdown",
   "metadata": {},
   "source": [
    "### 분석제외 여부에 따른 filtering"
   ]
  },
  {
   "cell_type": "code",
   "execution_count": 7,
   "metadata": {},
   "outputs": [
    {
     "data": {
      "text/plain": [
       "중복        178497\n",
       "예외        134544\n",
       "중복, 예외      4648\n",
       "Name: 분석제외 여부, dtype: int64"
      ]
     },
     "execution_count": 7,
     "metadata": {},
     "output_type": "execute_result"
    }
   ],
   "source": [
    "df_filter['분석제외 여부'].value_counts()"
   ]
  },
  {
   "cell_type": "code",
   "execution_count": 8,
   "metadata": {},
   "outputs": [
    {
     "data": {
      "text/plain": [
       "(6305834, 21)"
      ]
     },
     "execution_count": 8,
     "metadata": {},
     "output_type": "execute_result"
    }
   ],
   "source": [
    "df_filter.shape"
   ]
  },
  {
   "cell_type": "code",
   "execution_count": 9,
   "metadata": {},
   "outputs": [],
   "source": [
    "df_filter2 = df_filter[df_filter['분석제외 여부'].isnull()]"
   ]
  },
  {
   "cell_type": "code",
   "execution_count": 10,
   "metadata": {},
   "outputs": [
    {
     "name": "stdout",
     "output_type": "stream",
     "text": [
      "Series([], Name: 분석제외 여부, dtype: int64)\n"
     ]
    },
    {
     "data": {
      "text/plain": [
       "(5988145, 21)"
      ]
     },
     "execution_count": 10,
     "metadata": {},
     "output_type": "execute_result"
    }
   ],
   "source": [
    "print(df_filter2['분석제외 여부'].value_counts())\n",
    "df_filter2.shape"
   ]
  },
  {
   "cell_type": "markdown",
   "metadata": {},
   "source": [
    "### 위치 정보에 너무 많은 도시가 등장하면 제거하기"
   ]
  },
  {
   "cell_type": "code",
   "execution_count": 11,
   "metadata": {},
   "outputs": [],
   "source": [
    "df_filter2.reset_index(inplace=True, drop = True)"
   ]
  },
  {
   "cell_type": "code",
   "execution_count": 12,
   "metadata": {},
   "outputs": [],
   "source": [
    "def find_general_news(article):\n",
    "    related_city = []\n",
    "    article = str(article).split(',')\n",
    "    city = [x for i in article for x in city_list if i in x]\n",
    "    related_city.append(city)\n",
    "    return related_city\n"
   ]
  },
  {
   "cell_type": "code",
   "execution_count": 13,
   "metadata": {},
   "outputs": [],
   "source": [
    "related_city = df_filter2['위치'].apply(lambda x : find_general_news(x))"
   ]
  },
  {
   "cell_type": "code",
   "execution_count": 14,
   "metadata": {},
   "outputs": [
    {
     "name": "stderr",
     "output_type": "stream",
     "text": [
      "/tmp/ipykernel_17364/3785826648.py:1: SettingWithCopyWarning: \n",
      "A value is trying to be set on a copy of a slice from a DataFrame.\n",
      "Try using .loc[row_indexer,col_indexer] = value instead\n",
      "\n",
      "See the caveats in the documentation: https://pandas.pydata.org/pandas-docs/stable/user_guide/indexing.html#returning-a-view-versus-a-copy\n",
      "  df_filter2['related_city'] = related_city\n"
     ]
    }
   ],
   "source": [
    "df_filter2['related_city'] = related_city"
   ]
  },
  {
   "cell_type": "code",
   "execution_count": 15,
   "metadata": {},
   "outputs": [],
   "source": [
    "idx_list = []\n",
    "for idx, city in enumerate(related_city):\n",
    "    if len(city[0]) <5:\n",
    "        idx_list.append(idx)"
   ]
  },
  {
   "cell_type": "code",
   "execution_count": 16,
   "metadata": {},
   "outputs": [],
   "source": [
    "df_filter3 = df_filter2.iloc[idx_list]"
   ]
  },
  {
   "cell_type": "code",
   "execution_count": 17,
   "metadata": {},
   "outputs": [
    {
     "data": {
      "text/plain": [
       "5246886"
      ]
     },
     "execution_count": 17,
     "metadata": {},
     "output_type": "execute_result"
    }
   ],
   "source": [
    "len(df_filter3)"
   ]
  },
  {
   "cell_type": "markdown",
   "metadata": {},
   "source": [
    "### 통합 분류1을 기준으로 필터링"
   ]
  },
  {
   "cell_type": "code",
   "execution_count": 18,
   "metadata": {},
   "outputs": [
    {
     "data": {
      "text/plain": [
       "Index(['뉴스 식별자', '일자', '언론사', '기고자', '제목', '통합 분류1', '통합 분류2', '통합 분류3',\n",
       "       '사건/사고 분류1', '사건/사고 분류2', '사건/사고 분류3', '인물', '위치', '기관', '키워드',\n",
       "       '특성추출(가중치순 상위 50개)', '본문', 'URL', '분석제외 여부', 'city', 'filter_keyword',\n",
       "       'related_city'],\n",
       "      dtype='object')"
      ]
     },
     "execution_count": 18,
     "metadata": {},
     "output_type": "execute_result"
    }
   ],
   "source": [
    "df_filter3.columns"
   ]
  },
  {
   "cell_type": "code",
   "execution_count": 19,
   "metadata": {},
   "outputs": [
    {
     "data": {
      "text/plain": [
       "지역>강원            419483\n",
       "지역>충남            418902\n",
       "지역>경기            410381\n",
       "지역>경남            405968\n",
       "지역>충북            282363\n",
       "                  ...  \n",
       "스포츠>축구>국가대표팀        385\n",
       "경제>외환               210\n",
       "스포츠>야구>메이저리그        106\n",
       "스포츠>야구>일본프로야구        20\n",
       "006000000             1\n",
       "Name: 통합 분류1, Length: 87, dtype: int64"
      ]
     },
     "execution_count": 19,
     "metadata": {},
     "output_type": "execute_result"
    }
   ],
   "source": [
    "df_filter3['통합 분류1'].value_counts()"
   ]
  },
  {
   "cell_type": "code",
   "execution_count": 20,
   "metadata": {},
   "outputs": [
    {
     "data": {
      "text/plain": [
       "7383"
      ]
     },
     "execution_count": 20,
     "metadata": {},
     "output_type": "execute_result"
    }
   ],
   "source": [
    "sum(df_filter3['통합 분류1'] == '정치>북한')\n",
    "sum(df_filter3['통합 분류1'] == '정치>국회_정당')\n",
    "sum(df_filter3['통합 분류1'] == '정치>선거')\n",
    "sum(df_filter3['통합 분류1'] == '정치>외교')"
   ]
  },
  {
   "cell_type": "code",
   "execution_count": 21,
   "metadata": {},
   "outputs": [
    {
     "data": {
      "text/plain": [
       "False"
      ]
     },
     "execution_count": 21,
     "metadata": {},
     "output_type": "execute_result"
    }
   ],
   "source": [
    "'국제>예시' == re.compile(\"^국제\")"
   ]
  },
  {
   "cell_type": "code",
   "execution_count": 22,
   "metadata": {},
   "outputs": [],
   "source": [
    "import re\n",
    "\n",
    "idx_lst = []\n",
    "for idx, cat in enumerate(df_filter3['통합 분류1']):\n",
    "    if re.compile('^국제').findall(cat):\n",
    "        continue\n",
    "    elif re.compile('^스포츠').findall(cat):\n",
    "        continue\n",
    "    elif re.compile('^정치>북한').findall(cat):\n",
    "        continue\n",
    "    elif re.compile('^정치>국회_정당').findall(cat):\n",
    "        continue\n",
    "    elif re.compile('^정치>선거').findall(cat):\n",
    "        continue\n",
    "    elif re.compile('^정치>외교').findall(cat):\n",
    "        continue\n",
    "    else:\n",
    "        idx_lst.append(idx)"
   ]
  },
  {
   "cell_type": "code",
   "execution_count": 37,
   "metadata": {},
   "outputs": [],
   "source": [
    "df_filter4 = df_filter3.iloc[idx_lst]\n",
    "df_filter4.reset_index(inplace = True, drop = True)"
   ]
  },
  {
   "cell_type": "code",
   "execution_count": 40,
   "metadata": {},
   "outputs": [
    {
     "data": {
      "text/html": [
       "<div>\n",
       "<style scoped>\n",
       "    .dataframe tbody tr th:only-of-type {\n",
       "        vertical-align: middle;\n",
       "    }\n",
       "\n",
       "    .dataframe tbody tr th {\n",
       "        vertical-align: top;\n",
       "    }\n",
       "\n",
       "    .dataframe thead th {\n",
       "        text-align: right;\n",
       "    }\n",
       "</style>\n",
       "<table border=\"1\" class=\"dataframe\">\n",
       "  <thead>\n",
       "    <tr style=\"text-align: right;\">\n",
       "      <th></th>\n",
       "      <th>뉴스 식별자</th>\n",
       "      <th>일자</th>\n",
       "      <th>언론사</th>\n",
       "      <th>기고자</th>\n",
       "      <th>제목</th>\n",
       "      <th>통합 분류1</th>\n",
       "      <th>통합 분류2</th>\n",
       "      <th>통합 분류3</th>\n",
       "      <th>사건/사고 분류1</th>\n",
       "      <th>사건/사고 분류2</th>\n",
       "      <th>...</th>\n",
       "      <th>위치</th>\n",
       "      <th>기관</th>\n",
       "      <th>키워드</th>\n",
       "      <th>특성추출(가중치순 상위 50개)</th>\n",
       "      <th>본문</th>\n",
       "      <th>URL</th>\n",
       "      <th>분석제외 여부</th>\n",
       "      <th>city</th>\n",
       "      <th>filter_keyword</th>\n",
       "      <th>related_city</th>\n",
       "    </tr>\n",
       "  </thead>\n",
       "  <tbody>\n",
       "    <tr>\n",
       "      <th>0</th>\n",
       "      <td>1500701.201604</td>\n",
       "      <td>19911212</td>\n",
       "      <td>부산일보</td>\n",
       "      <td>부산일보</td>\n",
       "      <td>[사람]</td>\n",
       "      <td>지역&gt;대전</td>\n",
       "      <td>지역&gt;부산</td>\n",
       "      <td>지역&gt;충남</td>\n",
       "      <td>NaN</td>\n",
       "      <td>NaN</td>\n",
       "      <td>...</td>\n",
       "      <td>전남,최고경영자,凡一6동</td>\n",
       "      <td>金泉시의회,알래스카간,KBS홀,여성단체협의회장,동력자원부,모금추진위원회,학교,농림수...</td>\n",
       "      <td>사람,국제통상,주제,강연,전무,金殷湘,한국무역협회,11일,6시,강의실,부산대,경영,...</td>\n",
       "      <td>격려금,손목시계,국제통상,동구,원씩,慶南,金泉,머코스키,회의실,釜山日報社,근로자들,...</td>\n",
       "      <td>‘국제통상’ 주제 강연\\n◇金殷湘 한국무역협회 전무=11일 오후 6시40분 부산대 ...</td>\n",
       "      <td>NaN</td>\n",
       "      <td>NaN</td>\n",
       "      <td>김해시</td>\n",
       "      <td>{지역, 사업, 개최}</td>\n",
       "      <td>[[]]</td>\n",
       "    </tr>\n",
       "    <tr>\n",
       "      <th>1</th>\n",
       "      <td>1100611.201604</td>\n",
       "      <td>19911208</td>\n",
       "      <td>서울신문</td>\n",
       "      <td>NaN</td>\n",
       "      <td>농수산물 음성정보/74개 시 군으로 확대</td>\n",
       "      <td>IT_과학&gt;인터넷_SNS</td>\n",
       "      <td>IT_과학&gt;과학</td>\n",
       "      <td>IT_과학&gt;모바일</td>\n",
       "      <td>NaN</td>\n",
       "      <td>NaN</td>\n",
       "      <td>...</td>\n",
       "      <td>김해시,홍성군,서울,부산</td>\n",
       "      <td>농수산물유통공사,농수산</td>\n",
       "      <td>농수산물,음성,정보,74개,확대,농수산물유통공사,7일,농수산물,정보,음성,서비스,제...</td>\n",
       "      <td>농수산물,부산,김해시,전자식,부산등,전자식전화기,홍성군등,전화기,이용자,서울,농수산...</td>\n",
       "      <td>농수산물유통공사는 7일부터 농수산물정보음성서비스 제공지역을 서울 부산등 15개 시에...</td>\n",
       "      <td>http://www.seoul.co.kr/news/newsView.php?id=19...</td>\n",
       "      <td>NaN</td>\n",
       "      <td>김해시</td>\n",
       "      <td>{지역}</td>\n",
       "      <td>[[김해시]]</td>\n",
       "    </tr>\n",
       "    <tr>\n",
       "      <th>2</th>\n",
       "      <td>1100611.201604</td>\n",
       "      <td>19911206</td>\n",
       "      <td>서울신문</td>\n",
       "      <td>NaN</td>\n",
       "      <td>뇌물 받고 서류 위조/피해보상금 받게해/공무원등 둘 구속</td>\n",
       "      <td>지역&gt;부산</td>\n",
       "      <td>사회&gt;사건_사고</td>\n",
       "      <td>지역&gt;강원</td>\n",
       "      <td>범죄&gt;정치&gt;뇌물수수</td>\n",
       "      <td>범죄&gt;범죄일반&gt;사기</td>\n",
       "      <td>...</td>\n",
       "      <td>김해시,외동,구포1동,북구,경남,부산</td>\n",
       "      <td>부산지검,김해군청,특수부</td>\n",
       "      <td>뇌물,서류,위조,피해보상금,공무원등,구속,부산,부산지검,특수,임태성,검사,뇌물,허위...</td>\n",
       "      <td>축정계,공무원,보상금,부산,부산지검,임태성,김해군청,경남,어업피해보상금,김해시,외동...</td>\n",
       "      <td>【부산】 부산지검 특수부 임태성 검사는 5일 뇌물을 받고 허위어업허가자 확인신청서를...</td>\n",
       "      <td>http://www.seoul.co.kr/news/newsView.php?id=19...</td>\n",
       "      <td>NaN</td>\n",
       "      <td>김해시</td>\n",
       "      <td>{산업}</td>\n",
       "      <td>[[김해시]]</td>\n",
       "    </tr>\n",
       "    <tr>\n",
       "      <th>3</th>\n",
       "      <td>1100701.199112</td>\n",
       "      <td>19911206</td>\n",
       "      <td>세계일보</td>\n",
       "      <td>김기현</td>\n",
       "      <td>허위서류 꾸며 보상금/뇌물 받은 공무원 구속</td>\n",
       "      <td>지역&gt;부산</td>\n",
       "      <td>사회&gt;사건_사고</td>\n",
       "      <td>지역&gt;전북</td>\n",
       "      <td>범죄&gt;정치&gt;뇌물수수</td>\n",
       "      <td>범죄&gt;범죄일반&gt;사기</td>\n",
       "      <td>...</td>\n",
       "      <td>김해시,부산시,낙동강,외동,구포1동,북구,경남,남원</td>\n",
       "      <td>부산지검,검찰,김해군청</td>\n",
       "      <td>허위서류,보상금,뇌물,공무원,구속,임태성검사,부산지검,특수,임태성,검사,뇌물,허위,...</td>\n",
       "      <td>보상금,공무원,김해군청,손씨,부산지검,낙동강,김상수,축정계,신청서,김씨,어업피해보상...</td>\n",
       "      <td>【부산=김기현기자】 부산지검 특수부 임태성검사는 5일 뇌물을 받고 허위어업허가자 확...</td>\n",
       "      <td>NaN</td>\n",
       "      <td>NaN</td>\n",
       "      <td>김해시</td>\n",
       "      <td>{지역, 주민, 산업}</td>\n",
       "      <td>[[김해시, 남원시]]</td>\n",
       "    </tr>\n",
       "    <tr>\n",
       "      <th>4</th>\n",
       "      <td>1100901.199111</td>\n",
       "      <td>19911128</td>\n",
       "      <td>중앙일보</td>\n",
       "      <td>NaN</td>\n",
       "      <td>청와대 비서 사칭 백90억 사기 미수</td>\n",
       "      <td>사회&gt;사건_사고</td>\n",
       "      <td>사회&gt;노동_복지</td>\n",
       "      <td>정치&gt;정치일반</td>\n",
       "      <td>범죄&gt;범죄일반&gt;사기</td>\n",
       "      <td>NaN</td>\n",
       "      <td>...</td>\n",
       "      <td>김해시,대성동,10만3천평,서울,부산,쌍림동,(주)대도건설</td>\n",
       "      <td>정부,경찰청,청와대,특수대</td>\n",
       "      <td>청와대,비서,사칭,사기,미수,영장,3명,수배,경찰청,특수대,비서관,청와대,행세,건설...</td>\n",
       "      <td>청와대,3명,부동산,김해시,비서관,부산,이씨,대도건설,40억,계약금,서울,이일용,김...</td>\n",
       "      <td>경찰청 특수대는 28일 청와대 비서관 등의 행세를 하면서 건설업체를 상대로 구획정리...</td>\n",
       "      <td>https://www.joongang.co.kr/article/2663652</td>\n",
       "      <td>NaN</td>\n",
       "      <td>김해시</td>\n",
       "      <td>{사업}</td>\n",
       "      <td>[[김해시]]</td>\n",
       "    </tr>\n",
       "    <tr>\n",
       "      <th>...</th>\n",
       "      <td>...</td>\n",
       "      <td>...</td>\n",
       "      <td>...</td>\n",
       "      <td>...</td>\n",
       "      <td>...</td>\n",
       "      <td>...</td>\n",
       "      <td>...</td>\n",
       "      <td>...</td>\n",
       "      <td>...</td>\n",
       "      <td>...</td>\n",
       "      <td>...</td>\n",
       "      <td>...</td>\n",
       "      <td>...</td>\n",
       "      <td>...</td>\n",
       "      <td>...</td>\n",
       "      <td>...</td>\n",
       "      <td>...</td>\n",
       "      <td>...</td>\n",
       "      <td>...</td>\n",
       "      <td>...</td>\n",
       "      <td>...</td>\n",
       "    </tr>\n",
       "    <tr>\n",
       "      <th>4964635</th>\n",
       "      <td>1200101.201604</td>\n",
       "      <td>20140103</td>\n",
       "      <td>경기일보</td>\n",
       "      <td>박상돈 기자</td>\n",
       "      <td>현안 전과정 공개 ‘소통시정’</td>\n",
       "      <td>미분류</td>\n",
       "      <td>NaN</td>\n",
       "      <td>NaN</td>\n",
       "      <td>NaN</td>\n",
       "      <td>NaN</td>\n",
       "      <td>...</td>\n",
       "      <td>연풍,운정,문산</td>\n",
       "      <td>파주시,파주시청</td>\n",
       "      <td>현안,현안,공개,소통,시정,파주시,현안,시정,투자,사업,사업,입안,시민,공개,사업내...</td>\n",
       "      <td>홈페이지,정책실명제,10억,추진과정,43건,이력서,파주시청,장기간,책임소재,도로확,...</td>\n",
       "      <td>파주시는 2일 시정 현안 및 대규모 투자사업 등 주요 사업에 대해 입안부터 완료까지...</td>\n",
       "      <td>http://www.kyeonggi.com/news/articleView.html?...</td>\n",
       "      <td>NaN</td>\n",
       "      <td>파주시</td>\n",
       "      <td>{주민생활, 사업, 도시, 건설}</td>\n",
       "      <td>[[]]</td>\n",
       "    </tr>\n",
       "    <tr>\n",
       "      <th>4964636</th>\n",
       "      <td>1400501.201401</td>\n",
       "      <td>20140102</td>\n",
       "      <td>중부일보</td>\n",
       "      <td>NaN</td>\n",
       "      <td>대규모 산업단지 조성사업 엇갈린 운명 '시장 뜻따라'</td>\n",
       "      <td>지역&gt;경기</td>\n",
       "      <td>지역&gt;전북</td>\n",
       "      <td>경제&gt;부동산</td>\n",
       "      <td>NaN</td>\n",
       "      <td>NaN</td>\n",
       "      <td>...</td>\n",
       "      <td>피해,경기,파주,도일동,파주시,운정3지구,평택시,평택,법원읍,평택브레인시티,경기도</td>\n",
       "      <td>news,평택시장,파주시장,평택브레인시티통합지주협의회,평택브레인시티개발주식회사,법원...</td>\n",
       "      <td>조성사업,산업,단지,조성,사업,운명,시장,평택브레인시티,조감도,수년,존폐,수년,기로...</td>\n",
       "      <td>경기도,파주,브레인시티,평택시,파주시,평택,사업기간,만큼,3천,관계자,산업단지,시행...</td>\n",
       "      <td>평택브레인시티 조감도 \\n\\n수년 간 존폐의 기로에 서서 위태롭게 추진돼온 대규모 ...</td>\n",
       "      <td>www.joongboo.com/?mod=news&amp;act=articleView&amp;idx...</td>\n",
       "      <td>NaN</td>\n",
       "      <td>파주시</td>\n",
       "      <td>{피해, 사업, 조성, 유치, 주민, 주민들, 산업}</td>\n",
       "      <td>[[파주시, 파주시, 평택시, 평택시]]</td>\n",
       "    </tr>\n",
       "    <tr>\n",
       "      <th>4964637</th>\n",
       "      <td>1200101.201604</td>\n",
       "      <td>20140102</td>\n",
       "      <td>경기일보</td>\n",
       "      <td>이호준 기자</td>\n",
       "      <td>[지방자치, 해법을 묻다] 임창열 민선 2기 경기지사</td>\n",
       "      <td>정치&gt;정치일반</td>\n",
       "      <td>NaN</td>\n",
       "      <td>NaN</td>\n",
       "      <td>NaN</td>\n",
       "      <td>NaN</td>\n",
       "      <td>...</td>\n",
       "      <td>세종시,서울,대중국,경기,한류월드,평택항,경기도,수도권,경기북,시흥,경기지사,경기지...</td>\n",
       "      <td>지역신용보증재단법,서울대,명지대학교대학원,평택항,미래산업,LG필립스 산업단지,경기도...</td>\n",
       "      <td>임창열,민선,경기,지사,국무,회의,참석,차관,도지사,도민,자존심,상처,세종시장,인구...</td>\n",
       "      <td>경기도,경기지사,지자체,고양시,수도권,임창열,대통령령,판교테크노밸리,imf,박근혜,...</td>\n",
       "      <td>국무회의 참석 못하는 차관급 도지사, 도민 자존심에 상처\\n\\n인구 20만 세종시장...</td>\n",
       "      <td>http://www.kyeonggi.com/news/articleView.html?...</td>\n",
       "      <td>NaN</td>\n",
       "      <td>파주시</td>\n",
       "      <td>{사업, 지자체, 조성, 인프라, 유치, 개최, 지역, 주민, 인구, 관광, 산업,...</td>\n",
       "      <td>[[시흥시, 파주시, 의정부시, 고양시]]</td>\n",
       "    </tr>\n",
       "    <tr>\n",
       "      <th>4964638</th>\n",
       "      <td>1200201.201401</td>\n",
       "      <td>20140101</td>\n",
       "      <td>경인일보</td>\n",
       "      <td>NaN</td>\n",
       "      <td>2013년 마지막까지 줄이은 화마</td>\n",
       "      <td>사회&gt;사건_사고</td>\n",
       "      <td>사회&gt;사회일반</td>\n",
       "      <td>NaN</td>\n",
       "      <td>사고&gt;산업사고&gt;화재</td>\n",
       "      <td>NaN</td>\n",
       "      <td>...</td>\n",
       "      <td>곤지암읍,경기도내,파주,광주시,파주시,광주</td>\n",
       "      <td>금촌동,신촌리,경찰,국립과학수사연구원</td>\n",
       "      <td>마지막,화마,31일,경기도내,발생,화재,3명,목숨,이날,2시,파주시,금촌동,원룸,발...</td>\n",
       "      <td>이씨,광주시,곤지암읍,이윤희기자,경기도내,이종태,광주,파주,연구원,국립과학수사연구원...</td>\n",
       "      <td>31일 새벽 경기도내 곳곳에서 발생한 화재로 모두 3명이 목숨을 잃었다.\\n\\n이날...</td>\n",
       "      <td>http://www.kyeongin.com/news/articleView.html?...</td>\n",
       "      <td>NaN</td>\n",
       "      <td>파주시</td>\n",
       "      <td>{피해, 발생}</td>\n",
       "      <td>[[파주시, 광주시, 파주시, 광주시]]</td>\n",
       "    </tr>\n",
       "    <tr>\n",
       "      <th>4964639</th>\n",
       "      <td>1200201.201401</td>\n",
       "      <td>20140101</td>\n",
       "      <td>경인일보</td>\n",
       "      <td>황성규</td>\n",
       "      <td>2013년 마지막까지 줄이은 화마</td>\n",
       "      <td>사회&gt;사건_사고</td>\n",
       "      <td>NaN</td>\n",
       "      <td>NaN</td>\n",
       "      <td>사고&gt;산업사고&gt;화재</td>\n",
       "      <td>NaN</td>\n",
       "      <td>...</td>\n",
       "      <td>곤지암읍,경기도내,파주,광주시,파주시,광주</td>\n",
       "      <td>금촌동,신촌리,경찰,국립과학수사연구원</td>\n",
       "      <td>마지막,화마,파주,광주등,3명,31일,경기도내,발생,화재,3명,목숨,이날,2시,파주...</td>\n",
       "      <td>3명,이씨,파주,광주시,곤지암읍,경기도내,연구원,국립과학수사연구원,소방당국,4천,금...</td>\n",
       "      <td>31일 새벽 경기도내 곳곳에서 발생한 화재로 모두 3명이 목숨을 잃었다.이날 오전 ...</td>\n",
       "      <td>NaN</td>\n",
       "      <td>NaN</td>\n",
       "      <td>파주시</td>\n",
       "      <td>{피해, 발생}</td>\n",
       "      <td>[[파주시, 광주시, 파주시, 광주시]]</td>\n",
       "    </tr>\n",
       "  </tbody>\n",
       "</table>\n",
       "<p>4964640 rows × 22 columns</p>\n",
       "</div>"
      ],
      "text/plain": [
       "                 뉴스 식별자        일자   언론사     기고자  \\\n",
       "0        1500701.201604  19911212  부산일보    부산일보   \n",
       "1        1100611.201604  19911208  서울신문     NaN   \n",
       "2        1100611.201604  19911206  서울신문     NaN   \n",
       "3        1100701.199112  19911206  세계일보     김기현   \n",
       "4        1100901.199111  19911128  중앙일보     NaN   \n",
       "...                 ...       ...   ...     ...   \n",
       "4964635  1200101.201604  20140103  경기일보  박상돈 기자   \n",
       "4964636  1400501.201401  20140102  중부일보     NaN   \n",
       "4964637  1200101.201604  20140102  경기일보  이호준 기자   \n",
       "4964638  1200201.201401  20140101  경인일보     NaN   \n",
       "4964639  1200201.201401  20140101  경인일보     황성규   \n",
       "\n",
       "                                      제목         통합 분류1     통합 분류2  \\\n",
       "0                                   [사람]          지역>대전      지역>부산   \n",
       "1                 농수산물 음성정보/74개 시 군으로 확대  IT_과학>인터넷_SNS   IT_과학>과학   \n",
       "2        뇌물 받고 서류 위조/피해보상금 받게해/공무원등 둘 구속          지역>부산   사회>사건_사고   \n",
       "3               허위서류 꾸며 보상금/뇌물 받은 공무원 구속          지역>부산   사회>사건_사고   \n",
       "4                   청와대 비서 사칭 백90억 사기 미수       사회>사건_사고   사회>노동_복지   \n",
       "...                                  ...            ...        ...   \n",
       "4964635                 현안 전과정 공개 ‘소통시정’            미분류        NaN   \n",
       "4964636    대규모 산업단지 조성사업 엇갈린 운명 '시장 뜻따라'          지역>경기      지역>전북   \n",
       "4964637    [지방자치, 해법을 묻다] 임창열 민선 2기 경기지사        정치>정치일반        NaN   \n",
       "4964638               2013년 마지막까지 줄이은 화마       사회>사건_사고    사회>사회일반   \n",
       "4964639               2013년 마지막까지 줄이은 화마       사회>사건_사고        NaN   \n",
       "\n",
       "             통합 분류3   사건/사고 분류1    사건/사고 분류2  ...  \\\n",
       "0             지역>충남         NaN          NaN  ...   \n",
       "1         IT_과학>모바일         NaN          NaN  ...   \n",
       "2             지역>강원  범죄>정치>뇌물수수   범죄>범죄일반>사기  ...   \n",
       "3             지역>전북  범죄>정치>뇌물수수   범죄>범죄일반>사기  ...   \n",
       "4           정치>정치일반  범죄>범죄일반>사기          NaN  ...   \n",
       "...             ...         ...          ...  ...   \n",
       "4964635         NaN         NaN          NaN  ...   \n",
       "4964636      경제>부동산         NaN          NaN  ...   \n",
       "4964637         NaN         NaN          NaN  ...   \n",
       "4964638         NaN  사고>산업사고>화재          NaN  ...   \n",
       "4964639         NaN  사고>산업사고>화재          NaN  ...   \n",
       "\n",
       "                                                        위치  \\\n",
       "0                                            전남,최고경영자,凡一6동   \n",
       "1                                            김해시,홍성군,서울,부산   \n",
       "2                                     김해시,외동,구포1동,북구,경남,부산   \n",
       "3                             김해시,부산시,낙동강,외동,구포1동,북구,경남,남원   \n",
       "4                         김해시,대성동,10만3천평,서울,부산,쌍림동,(주)대도건설   \n",
       "...                                                    ...   \n",
       "4964635                                           연풍,운정,문산   \n",
       "4964636      피해,경기,파주,도일동,파주시,운정3지구,평택시,평택,법원읍,평택브레인시티,경기도   \n",
       "4964637  세종시,서울,대중국,경기,한류월드,평택항,경기도,수도권,경기북,시흥,경기지사,경기지...   \n",
       "4964638                            곤지암읍,경기도내,파주,광주시,파주시,광주   \n",
       "4964639                            곤지암읍,경기도내,파주,광주시,파주시,광주   \n",
       "\n",
       "                                                        기관  \\\n",
       "0        金泉시의회,알래스카간,KBS홀,여성단체협의회장,동력자원부,모금추진위원회,학교,농림수...   \n",
       "1                                             농수산물유통공사,농수산   \n",
       "2                                            부산지검,김해군청,특수부   \n",
       "3                                             부산지검,검찰,김해군청   \n",
       "4                                           정부,경찰청,청와대,특수대   \n",
       "...                                                    ...   \n",
       "4964635                                           파주시,파주시청   \n",
       "4964636  news,평택시장,파주시장,평택브레인시티통합지주협의회,평택브레인시티개발주식회사,법원...   \n",
       "4964637  지역신용보증재단법,서울대,명지대학교대학원,평택항,미래산업,LG필립스 산업단지,경기도...   \n",
       "4964638                               금촌동,신촌리,경찰,국립과학수사연구원   \n",
       "4964639                               금촌동,신촌리,경찰,국립과학수사연구원   \n",
       "\n",
       "                                                       키워드  \\\n",
       "0        사람,국제통상,주제,강연,전무,金殷湘,한국무역협회,11일,6시,강의실,부산대,경영,...   \n",
       "1        농수산물,음성,정보,74개,확대,농수산물유통공사,7일,농수산물,정보,음성,서비스,제...   \n",
       "2        뇌물,서류,위조,피해보상금,공무원등,구속,부산,부산지검,특수,임태성,검사,뇌물,허위...   \n",
       "3        허위서류,보상금,뇌물,공무원,구속,임태성검사,부산지검,특수,임태성,검사,뇌물,허위,...   \n",
       "4        청와대,비서,사칭,사기,미수,영장,3명,수배,경찰청,특수대,비서관,청와대,행세,건설...   \n",
       "...                                                    ...   \n",
       "4964635  현안,현안,공개,소통,시정,파주시,현안,시정,투자,사업,사업,입안,시민,공개,사업내...   \n",
       "4964636  조성사업,산업,단지,조성,사업,운명,시장,평택브레인시티,조감도,수년,존폐,수년,기로...   \n",
       "4964637  임창열,민선,경기,지사,국무,회의,참석,차관,도지사,도민,자존심,상처,세종시장,인구...   \n",
       "4964638  마지막,화마,31일,경기도내,발생,화재,3명,목숨,이날,2시,파주시,금촌동,원룸,발...   \n",
       "4964639  마지막,화마,파주,광주등,3명,31일,경기도내,발생,화재,3명,목숨,이날,2시,파주...   \n",
       "\n",
       "                                         특성추출(가중치순 상위 50개)  \\\n",
       "0        격려금,손목시계,국제통상,동구,원씩,慶南,金泉,머코스키,회의실,釜山日報社,근로자들,...   \n",
       "1        농수산물,부산,김해시,전자식,부산등,전자식전화기,홍성군등,전화기,이용자,서울,농수산...   \n",
       "2        축정계,공무원,보상금,부산,부산지검,임태성,김해군청,경남,어업피해보상금,김해시,외동...   \n",
       "3        보상금,공무원,김해군청,손씨,부산지검,낙동강,김상수,축정계,신청서,김씨,어업피해보상...   \n",
       "4        청와대,3명,부동산,김해시,비서관,부산,이씨,대도건설,40억,계약금,서울,이일용,김...   \n",
       "...                                                    ...   \n",
       "4964635  홈페이지,정책실명제,10억,추진과정,43건,이력서,파주시청,장기간,책임소재,도로확,...   \n",
       "4964636  경기도,파주,브레인시티,평택시,파주시,평택,사업기간,만큼,3천,관계자,산업단지,시행...   \n",
       "4964637  경기도,경기지사,지자체,고양시,수도권,임창열,대통령령,판교테크노밸리,imf,박근혜,...   \n",
       "4964638  이씨,광주시,곤지암읍,이윤희기자,경기도내,이종태,광주,파주,연구원,국립과학수사연구원...   \n",
       "4964639  3명,이씨,파주,광주시,곤지암읍,경기도내,연구원,국립과학수사연구원,소방당국,4천,금...   \n",
       "\n",
       "                                                        본문  \\\n",
       "0        ‘국제통상’ 주제 강연\\n◇金殷湘 한국무역협회 전무=11일 오후 6시40분 부산대 ...   \n",
       "1        농수산물유통공사는 7일부터 농수산물정보음성서비스 제공지역을 서울 부산등 15개 시에...   \n",
       "2        【부산】 부산지검 특수부 임태성 검사는 5일 뇌물을 받고 허위어업허가자 확인신청서를...   \n",
       "3        【부산=김기현기자】 부산지검 특수부 임태성검사는 5일 뇌물을 받고 허위어업허가자 확...   \n",
       "4        경찰청 특수대는 28일 청와대 비서관 등의 행세를 하면서 건설업체를 상대로 구획정리...   \n",
       "...                                                    ...   \n",
       "4964635  파주시는 2일 시정 현안 및 대규모 투자사업 등 주요 사업에 대해 입안부터 완료까지...   \n",
       "4964636  평택브레인시티 조감도 \\n\\n수년 간 존폐의 기로에 서서 위태롭게 추진돼온 대규모 ...   \n",
       "4964637  국무회의 참석 못하는 차관급 도지사, 도민 자존심에 상처\\n\\n인구 20만 세종시장...   \n",
       "4964638  31일 새벽 경기도내 곳곳에서 발생한 화재로 모두 3명이 목숨을 잃었다.\\n\\n이날...   \n",
       "4964639  31일 새벽 경기도내 곳곳에서 발생한 화재로 모두 3명이 목숨을 잃었다.이날 오전 ...   \n",
       "\n",
       "                                                       URL 분석제외 여부 city  \\\n",
       "0                                                      NaN     NaN  김해시   \n",
       "1        http://www.seoul.co.kr/news/newsView.php?id=19...     NaN  김해시   \n",
       "2        http://www.seoul.co.kr/news/newsView.php?id=19...     NaN  김해시   \n",
       "3                                                      NaN     NaN  김해시   \n",
       "4               https://www.joongang.co.kr/article/2663652     NaN  김해시   \n",
       "...                                                    ...     ...  ...   \n",
       "4964635  http://www.kyeonggi.com/news/articleView.html?...     NaN  파주시   \n",
       "4964636  www.joongboo.com/?mod=news&act=articleView&idx...     NaN  파주시   \n",
       "4964637  http://www.kyeonggi.com/news/articleView.html?...     NaN  파주시   \n",
       "4964638  http://www.kyeongin.com/news/articleView.html?...     NaN  파주시   \n",
       "4964639                                                NaN     NaN  파주시   \n",
       "\n",
       "                                            filter_keyword  \\\n",
       "0                                             {지역, 사업, 개최}   \n",
       "1                                                     {지역}   \n",
       "2                                                     {산업}   \n",
       "3                                             {지역, 주민, 산업}   \n",
       "4                                                     {사업}   \n",
       "...                                                    ...   \n",
       "4964635                                 {주민생활, 사업, 도시, 건설}   \n",
       "4964636                      {피해, 사업, 조성, 유치, 주민, 주민들, 산업}   \n",
       "4964637  {사업, 지자체, 조성, 인프라, 유치, 개최, 지역, 주민, 인구, 관광, 산업,...   \n",
       "4964638                                           {피해, 발생}   \n",
       "4964639                                           {피해, 발생}   \n",
       "\n",
       "                    related_city  \n",
       "0                           [[]]  \n",
       "1                        [[김해시]]  \n",
       "2                        [[김해시]]  \n",
       "3                   [[김해시, 남원시]]  \n",
       "4                        [[김해시]]  \n",
       "...                          ...  \n",
       "4964635                     [[]]  \n",
       "4964636   [[파주시, 파주시, 평택시, 평택시]]  \n",
       "4964637  [[시흥시, 파주시, 의정부시, 고양시]]  \n",
       "4964638   [[파주시, 광주시, 파주시, 광주시]]  \n",
       "4964639   [[파주시, 광주시, 파주시, 광주시]]  \n",
       "\n",
       "[4964640 rows x 22 columns]"
      ]
     },
     "execution_count": 40,
     "metadata": {},
     "output_type": "execute_result"
    }
   ],
   "source": [
    "df_filter4"
   ]
  },
  {
   "cell_type": "code",
   "execution_count": 41,
   "metadata": {},
   "outputs": [
    {
     "data": {
      "text/plain": [
       "4964640"
      ]
     },
     "execution_count": 41,
     "metadata": {},
     "output_type": "execute_result"
    }
   ],
   "source": [
    "len(df_filter4)"
   ]
  },
  {
   "cell_type": "markdown",
   "metadata": {},
   "source": [
    "### Count # by city"
   ]
  },
  {
   "cell_type": "code",
   "execution_count": 25,
   "metadata": {},
   "outputs": [],
   "source": [
    "df_after_filter_len = pd.DataFrame(df_filter4['city'].value_counts())"
   ]
  },
  {
   "cell_type": "code",
   "execution_count": 26,
   "metadata": {},
   "outputs": [],
   "source": [
    "df_after_filter_len.reset_index(inplace = True)"
   ]
  },
  {
   "cell_type": "code",
   "execution_count": 27,
   "metadata": {},
   "outputs": [],
   "source": [
    "df_len = pd.DataFrame(df_len)"
   ]
  },
  {
   "cell_type": "code",
   "execution_count": 28,
   "metadata": {},
   "outputs": [],
   "source": [
    "df_len.columns = ['city', 'before']\n",
    "df_after_filter_len.columns = ['city', 'after']"
   ]
  },
  {
   "cell_type": "code",
   "execution_count": 29,
   "metadata": {},
   "outputs": [],
   "source": [
    "city_count = pd.merge(df_len, df_after_filter_len)"
   ]
  },
  {
   "cell_type": "code",
   "execution_count": 30,
   "metadata": {},
   "outputs": [],
   "source": [
    "city_count['reduced ratio'] = city_count['after'] / city_count['before']"
   ]
  },
  {
   "cell_type": "code",
   "execution_count": 31,
   "metadata": {},
   "outputs": [],
   "source": [
    "city_count.to_csv(\"../result/city_count_before_and_after.csv\")"
   ]
  },
  {
   "cell_type": "markdown",
   "metadata": {},
   "source": [
    "save"
   ]
  },
  {
   "cell_type": "code",
   "execution_count": 33,
   "metadata": {},
   "outputs": [
    {
     "name": "stdout",
     "output_type": "stream",
     "text": [
      "(6305834, 21)\n",
      "done well\n"
     ]
    }
   ],
   "source": [
    "print(df_filter4.shape)\n",
    "df_filter4.to_pickle(f\"{DATA_PATH}merged_filtered_0630.pkl\")\n",
    "print('done well')"
   ]
  },
  {
   "cell_type": "code",
   "execution_count": 5,
   "metadata": {},
   "outputs": [],
   "source": [
    "DATA_PATH = '../data/pkl/'\n",
    "df_filter4 = pd.read_pickle(f\"{DATA_PATH}merged_filtered_0630.pkl\")"
   ]
  },
  {
   "cell_type": "code",
   "execution_count": 6,
   "metadata": {},
   "outputs": [],
   "source": [
    "empty_dummy = pd.DataFrame(\n",
    "    index = range(0, len(df_filter4)),\n",
    "    columns = keyword_list['Target 키워드']\n",
    "    )"
   ]
  },
  {
   "cell_type": "code",
   "execution_count": 53,
   "metadata": {},
   "outputs": [
    {
     "data": {
      "text/plain": [
       "nan"
      ]
     },
     "execution_count": 53,
     "metadata": {},
     "output_type": "execute_result"
    }
   ],
   "source": [
    "empty_dummy.loc[0,'지역']"
   ]
  },
  {
   "cell_type": "code",
   "execution_count": 7,
   "metadata": {},
   "outputs": [
    {
     "name": "stderr",
     "output_type": "stream",
     "text": [
      "4964640it [06:46, 12228.05it/s]\n"
     ]
    }
   ],
   "source": [
    "for idx, keywords in tqdm(enumerate(df_filter4.filter_keyword)):\n",
    "    for token in keywords:\n",
    "        empty_dummy.loc[idx, token] = 1"
   ]
  },
  {
   "cell_type": "code",
   "execution_count": 8,
   "metadata": {},
   "outputs": [
    {
     "data": {
      "text/html": [
       "<div>\n",
       "<style scoped>\n",
       "    .dataframe tbody tr th:only-of-type {\n",
       "        vertical-align: middle;\n",
       "    }\n",
       "\n",
       "    .dataframe tbody tr th {\n",
       "        vertical-align: top;\n",
       "    }\n",
       "\n",
       "    .dataframe thead th {\n",
       "        text-align: right;\n",
       "    }\n",
       "</style>\n",
       "<table border=\"1\" class=\"dataframe\">\n",
       "  <thead>\n",
       "    <tr style=\"text-align: right;\">\n",
       "      <th>Target 키워드</th>\n",
       "      <th>인구</th>\n",
       "      <th>도시</th>\n",
       "      <th>도심</th>\n",
       "      <th>지역</th>\n",
       "      <th>지자체</th>\n",
       "      <th>마을</th>\n",
       "      <th>쇠퇴</th>\n",
       "      <th>감소</th>\n",
       "      <th>활성화</th>\n",
       "      <th>도시발전</th>\n",
       "      <th>...</th>\n",
       "      <th>공공시설</th>\n",
       "      <th>생활시설</th>\n",
       "      <th>기반시설</th>\n",
       "      <th>인프라</th>\n",
       "      <th>재개발</th>\n",
       "      <th>재건축</th>\n",
       "      <th>공동화</th>\n",
       "      <th>조성</th>\n",
       "      <th>건설</th>\n",
       "      <th>공원화</th>\n",
       "    </tr>\n",
       "  </thead>\n",
       "  <tbody>\n",
       "    <tr>\n",
       "      <th>0</th>\n",
       "      <td>0</td>\n",
       "      <td>0</td>\n",
       "      <td>0</td>\n",
       "      <td>1</td>\n",
       "      <td>0</td>\n",
       "      <td>0</td>\n",
       "      <td>0</td>\n",
       "      <td>0</td>\n",
       "      <td>0</td>\n",
       "      <td>0</td>\n",
       "      <td>...</td>\n",
       "      <td>0</td>\n",
       "      <td>0</td>\n",
       "      <td>0</td>\n",
       "      <td>0</td>\n",
       "      <td>0</td>\n",
       "      <td>0</td>\n",
       "      <td>0</td>\n",
       "      <td>0</td>\n",
       "      <td>0</td>\n",
       "      <td>0</td>\n",
       "    </tr>\n",
       "    <tr>\n",
       "      <th>1</th>\n",
       "      <td>0</td>\n",
       "      <td>0</td>\n",
       "      <td>0</td>\n",
       "      <td>1</td>\n",
       "      <td>0</td>\n",
       "      <td>0</td>\n",
       "      <td>0</td>\n",
       "      <td>0</td>\n",
       "      <td>0</td>\n",
       "      <td>0</td>\n",
       "      <td>...</td>\n",
       "      <td>0</td>\n",
       "      <td>0</td>\n",
       "      <td>0</td>\n",
       "      <td>0</td>\n",
       "      <td>0</td>\n",
       "      <td>0</td>\n",
       "      <td>0</td>\n",
       "      <td>0</td>\n",
       "      <td>0</td>\n",
       "      <td>0</td>\n",
       "    </tr>\n",
       "    <tr>\n",
       "      <th>2</th>\n",
       "      <td>0</td>\n",
       "      <td>0</td>\n",
       "      <td>0</td>\n",
       "      <td>0</td>\n",
       "      <td>0</td>\n",
       "      <td>0</td>\n",
       "      <td>0</td>\n",
       "      <td>0</td>\n",
       "      <td>0</td>\n",
       "      <td>0</td>\n",
       "      <td>...</td>\n",
       "      <td>0</td>\n",
       "      <td>0</td>\n",
       "      <td>0</td>\n",
       "      <td>0</td>\n",
       "      <td>0</td>\n",
       "      <td>0</td>\n",
       "      <td>0</td>\n",
       "      <td>0</td>\n",
       "      <td>0</td>\n",
       "      <td>0</td>\n",
       "    </tr>\n",
       "    <tr>\n",
       "      <th>3</th>\n",
       "      <td>0</td>\n",
       "      <td>0</td>\n",
       "      <td>0</td>\n",
       "      <td>1</td>\n",
       "      <td>0</td>\n",
       "      <td>0</td>\n",
       "      <td>0</td>\n",
       "      <td>0</td>\n",
       "      <td>0</td>\n",
       "      <td>0</td>\n",
       "      <td>...</td>\n",
       "      <td>0</td>\n",
       "      <td>0</td>\n",
       "      <td>0</td>\n",
       "      <td>0</td>\n",
       "      <td>0</td>\n",
       "      <td>0</td>\n",
       "      <td>0</td>\n",
       "      <td>0</td>\n",
       "      <td>0</td>\n",
       "      <td>0</td>\n",
       "    </tr>\n",
       "    <tr>\n",
       "      <th>4</th>\n",
       "      <td>0</td>\n",
       "      <td>0</td>\n",
       "      <td>0</td>\n",
       "      <td>0</td>\n",
       "      <td>0</td>\n",
       "      <td>0</td>\n",
       "      <td>0</td>\n",
       "      <td>0</td>\n",
       "      <td>0</td>\n",
       "      <td>0</td>\n",
       "      <td>...</td>\n",
       "      <td>0</td>\n",
       "      <td>0</td>\n",
       "      <td>0</td>\n",
       "      <td>0</td>\n",
       "      <td>0</td>\n",
       "      <td>0</td>\n",
       "      <td>0</td>\n",
       "      <td>0</td>\n",
       "      <td>0</td>\n",
       "      <td>0</td>\n",
       "    </tr>\n",
       "    <tr>\n",
       "      <th>...</th>\n",
       "      <td>...</td>\n",
       "      <td>...</td>\n",
       "      <td>...</td>\n",
       "      <td>...</td>\n",
       "      <td>...</td>\n",
       "      <td>...</td>\n",
       "      <td>...</td>\n",
       "      <td>...</td>\n",
       "      <td>...</td>\n",
       "      <td>...</td>\n",
       "      <td>...</td>\n",
       "      <td>...</td>\n",
       "      <td>...</td>\n",
       "      <td>...</td>\n",
       "      <td>...</td>\n",
       "      <td>...</td>\n",
       "      <td>...</td>\n",
       "      <td>...</td>\n",
       "      <td>...</td>\n",
       "      <td>...</td>\n",
       "      <td>...</td>\n",
       "    </tr>\n",
       "    <tr>\n",
       "      <th>4964635</th>\n",
       "      <td>0</td>\n",
       "      <td>1</td>\n",
       "      <td>0</td>\n",
       "      <td>0</td>\n",
       "      <td>0</td>\n",
       "      <td>0</td>\n",
       "      <td>0</td>\n",
       "      <td>0</td>\n",
       "      <td>0</td>\n",
       "      <td>0</td>\n",
       "      <td>...</td>\n",
       "      <td>0</td>\n",
       "      <td>0</td>\n",
       "      <td>0</td>\n",
       "      <td>0</td>\n",
       "      <td>0</td>\n",
       "      <td>0</td>\n",
       "      <td>0</td>\n",
       "      <td>0</td>\n",
       "      <td>1</td>\n",
       "      <td>0</td>\n",
       "    </tr>\n",
       "    <tr>\n",
       "      <th>4964636</th>\n",
       "      <td>0</td>\n",
       "      <td>0</td>\n",
       "      <td>0</td>\n",
       "      <td>0</td>\n",
       "      <td>0</td>\n",
       "      <td>0</td>\n",
       "      <td>0</td>\n",
       "      <td>0</td>\n",
       "      <td>0</td>\n",
       "      <td>0</td>\n",
       "      <td>...</td>\n",
       "      <td>0</td>\n",
       "      <td>0</td>\n",
       "      <td>0</td>\n",
       "      <td>0</td>\n",
       "      <td>0</td>\n",
       "      <td>0</td>\n",
       "      <td>0</td>\n",
       "      <td>1</td>\n",
       "      <td>0</td>\n",
       "      <td>0</td>\n",
       "    </tr>\n",
       "    <tr>\n",
       "      <th>4964637</th>\n",
       "      <td>1</td>\n",
       "      <td>0</td>\n",
       "      <td>0</td>\n",
       "      <td>1</td>\n",
       "      <td>1</td>\n",
       "      <td>0</td>\n",
       "      <td>0</td>\n",
       "      <td>0</td>\n",
       "      <td>0</td>\n",
       "      <td>0</td>\n",
       "      <td>...</td>\n",
       "      <td>0</td>\n",
       "      <td>0</td>\n",
       "      <td>0</td>\n",
       "      <td>1</td>\n",
       "      <td>0</td>\n",
       "      <td>0</td>\n",
       "      <td>0</td>\n",
       "      <td>1</td>\n",
       "      <td>0</td>\n",
       "      <td>0</td>\n",
       "    </tr>\n",
       "    <tr>\n",
       "      <th>4964638</th>\n",
       "      <td>0</td>\n",
       "      <td>0</td>\n",
       "      <td>0</td>\n",
       "      <td>0</td>\n",
       "      <td>0</td>\n",
       "      <td>0</td>\n",
       "      <td>0</td>\n",
       "      <td>0</td>\n",
       "      <td>0</td>\n",
       "      <td>0</td>\n",
       "      <td>...</td>\n",
       "      <td>0</td>\n",
       "      <td>0</td>\n",
       "      <td>0</td>\n",
       "      <td>0</td>\n",
       "      <td>0</td>\n",
       "      <td>0</td>\n",
       "      <td>0</td>\n",
       "      <td>0</td>\n",
       "      <td>0</td>\n",
       "      <td>0</td>\n",
       "    </tr>\n",
       "    <tr>\n",
       "      <th>4964639</th>\n",
       "      <td>0</td>\n",
       "      <td>0</td>\n",
       "      <td>0</td>\n",
       "      <td>0</td>\n",
       "      <td>0</td>\n",
       "      <td>0</td>\n",
       "      <td>0</td>\n",
       "      <td>0</td>\n",
       "      <td>0</td>\n",
       "      <td>0</td>\n",
       "      <td>...</td>\n",
       "      <td>0</td>\n",
       "      <td>0</td>\n",
       "      <td>0</td>\n",
       "      <td>0</td>\n",
       "      <td>0</td>\n",
       "      <td>0</td>\n",
       "      <td>0</td>\n",
       "      <td>0</td>\n",
       "      <td>0</td>\n",
       "      <td>0</td>\n",
       "    </tr>\n",
       "  </tbody>\n",
       "</table>\n",
       "<p>4964640 rows × 65 columns</p>\n",
       "</div>"
      ],
      "text/plain": [
       "Target 키워드  인구  도시  도심  지역  지자체   마을  쇠퇴  감소  활성화  도시발전  ...  공공시설  생활시설  \\\n",
       "0            0   0   0   1    0    0   0   0    0     0  ...     0     0   \n",
       "1            0   0   0   1    0    0   0   0    0     0  ...     0     0   \n",
       "2            0   0   0   0    0    0   0   0    0     0  ...     0     0   \n",
       "3            0   0   0   1    0    0   0   0    0     0  ...     0     0   \n",
       "4            0   0   0   0    0    0   0   0    0     0  ...     0     0   \n",
       "...         ..  ..  ..  ..  ...  ...  ..  ..  ...   ...  ...   ...   ...   \n",
       "4964635      0   1   0   0    0    0   0   0    0     0  ...     0     0   \n",
       "4964636      0   0   0   0    0    0   0   0    0     0  ...     0     0   \n",
       "4964637      1   0   0   1    1    0   0   0    0     0  ...     0     0   \n",
       "4964638      0   0   0   0    0    0   0   0    0     0  ...     0     0   \n",
       "4964639      0   0   0   0    0    0   0   0    0     0  ...     0     0   \n",
       "\n",
       "Target 키워드  기반시설  인프라  재개발  재건축  공동화  조성  건설  공원화  \n",
       "0              0    0    0    0    0   0   0    0  \n",
       "1              0    0    0    0    0   0   0    0  \n",
       "2              0    0    0    0    0   0   0    0  \n",
       "3              0    0    0    0    0   0   0    0  \n",
       "4              0    0    0    0    0   0   0    0  \n",
       "...          ...  ...  ...  ...  ...  ..  ..  ...  \n",
       "4964635        0    0    0    0    0   0   1    0  \n",
       "4964636        0    0    0    0    0   1   0    0  \n",
       "4964637        0    1    0    0    0   1   0    0  \n",
       "4964638        0    0    0    0    0   0   0    0  \n",
       "4964639        0    0    0    0    0   0   0    0  \n",
       "\n",
       "[4964640 rows x 65 columns]"
      ]
     },
     "execution_count": 8,
     "metadata": {},
     "output_type": "execute_result"
    }
   ],
   "source": [
    "empty_dummy = empty_dummy.fillna(0)\n",
    "empty_dummy"
   ]
  },
  {
   "cell_type": "code",
   "execution_count": 15,
   "metadata": {},
   "outputs": [],
   "source": [
    "df_filter4.reset_index(inplace=True, drop = True)"
   ]
  },
  {
   "cell_type": "code",
   "execution_count": 16,
   "metadata": {},
   "outputs": [],
   "source": [
    "df_keyword_dummy = pd.concat([df_filter4, empty_dummy], axis = 1)"
   ]
  },
  {
   "cell_type": "code",
   "execution_count": 19,
   "metadata": {},
   "outputs": [],
   "source": [
    "df_keyword_dummy.to_pickle(\"../data/df_filter_dummy.pkl\")"
   ]
  },
  {
   "cell_type": "code",
   "execution_count": 22,
   "metadata": {},
   "outputs": [],
   "source": [
    "df_keyword_dummy[df_keyword_dummy['city'] == '포항시'].to_excel('../data/df_filter_dummy_pohang.xlsx')"
   ]
  }
 ],
 "metadata": {
  "interpreter": {
   "hash": "c6f34507fa43ba317958b721fa8398d2051b96ef3f3b32ff98429c26ce06f8cf"
  },
  "kernelspec": {
   "display_name": "Python 3.8.12 ('svmglee')",
   "language": "python",
   "name": "python3"
  },
  "language_info": {
   "codemirror_mode": {
    "name": "ipython",
    "version": 3
   },
   "file_extension": ".py",
   "mimetype": "text/x-python",
   "name": "python",
   "nbconvert_exporter": "python",
   "pygments_lexer": "ipython3",
   "version": "3.8.12"
  },
  "orig_nbformat": 4
 },
 "nbformat": 4,
 "nbformat_minor": 2
}
