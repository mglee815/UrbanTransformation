{
 "cells": [
  {
   "cell_type": "code",
   "execution_count": 17,
   "metadata": {},
   "outputs": [],
   "source": [
    "import pandas as pd\n",
    "from datetime import datetime\n",
    "import matplotlib.pyplot as plt"
   ]
  },
  {
   "cell_type": "code",
   "execution_count": 3,
   "metadata": {},
   "outputs": [],
   "source": [
    "data = pd.read_pickle(\"../data/pkl/merged_filtered.pkl\")"
   ]
  },
  {
   "cell_type": "code",
   "execution_count": 20,
   "metadata": {},
   "outputs": [
    {
     "name": "stdout",
     "output_type": "stream",
     "text": [
      "<class 'pandas.core.frame.DataFrame'>\n",
      "Int64Index: 7545180 entries, 1 to 114175\n",
      "Data columns (total 24 columns):\n",
      " #   Column             Dtype \n",
      "---  ------             ----- \n",
      " 0   뉴스 식별자             object\n",
      " 1   일자                 int64 \n",
      " 2   언론사                object\n",
      " 3   기고자                object\n",
      " 4   제목                 object\n",
      " 5   통합 분류1             object\n",
      " 6   통합 분류2             object\n",
      " 7   통합 분류3             object\n",
      " 8   사건/사고 분류1          object\n",
      " 9   사건/사고 분류2          object\n",
      " 10  사건/사고 분류3          object\n",
      " 11  인물                 object\n",
      " 12  위치                 object\n",
      " 13  기관                 object\n",
      " 14  키워드                object\n",
      " 15  특성추출(가중치순 상위 50개)  object\n",
      " 16  본문                 object\n",
      " 17  URL                object\n",
      " 18  분석제외 여부            object\n",
      " 19  city               object\n",
      " 20  filter_keyword     object\n",
      " 21  year               int64 \n",
      " 22  month              int64 \n",
      " 23  day                int64 \n",
      "dtypes: int64(4), object(20)\n",
      "memory usage: 1.4+ GB\n"
     ]
    }
   ],
   "source": [
    "data.info()"
   ]
  },
  {
   "cell_type": "code",
   "execution_count": 9,
   "metadata": {},
   "outputs": [
    {
     "data": {
      "text/plain": [
       "1         None\n",
       "2         None\n",
       "4         None\n",
       "5         None\n",
       "6         None\n",
       "          ... \n",
       "114171    None\n",
       "114172    None\n",
       "114173    None\n",
       "114174    None\n",
       "114175    None\n",
       "Name: 일자, Length: 7545180, dtype: object"
      ]
     },
     "execution_count": 9,
     "metadata": {},
     "output_type": "execute_result"
    }
   ],
   "source": [
    "y = []\n",
    "m = []\n",
    "d = []\n",
    "def str_to_dt(x):\n",
    "    temp = datetime.strptime(str(x), '%Y%m%d')\n",
    "    y.append(temp.year)\n",
    "    m.append(temp.month)\n",
    "    d.append(temp.day)\n",
    "\n",
    "data['일자'].apply(lambda x : str_to_dt(x))"
   ]
  },
  {
   "cell_type": "code",
   "execution_count": 12,
   "metadata": {},
   "outputs": [],
   "source": [
    "data['year'] = y\n",
    "data['month'] = m\n",
    "data['day'] = d"
   ]
  },
  {
   "cell_type": "code",
   "execution_count": 16,
   "metadata": {},
   "outputs": [],
   "source": [
    "count_by_year = data.groupby('year').count()['일자']"
   ]
  },
  {
   "cell_type": "code",
   "execution_count": 18,
   "metadata": {},
   "outputs": [
    {
     "data": {
      "text/plain": [
       "[<matplotlib.lines.Line2D at 0x7fdaa06734c0>]"
      ]
     },
     "execution_count": 18,
     "metadata": {},
     "output_type": "execute_result"
    },
    {
     "data": {
      "image/png": "[encoded data removed]",
      "text/plain": [
       "<Figure size 432x288 with 1 Axes>"
      ]
     },
     "metadata": {
      "needs_background": "light"
     },
     "output_type": "display_data"
    }
   ],
   "source": [
    "plt.plot(count_by_year)"
   ]
  },
  {
   "cell_type": "code",
   "execution_count": 19,
   "metadata": {},
   "outputs": [
    {
     "data": {
      "text/plain": [
       "year\n",
       "1990     34164\n",
       "1991     40652\n",
       "1992     34518\n",
       "1993     35446\n",
       "1994     37018\n",
       "1995     44674\n",
       "1996     50278\n",
       "1997     66225\n",
       "1998     73578\n",
       "1999     95489\n",
       "2000    126662\n",
       "2001    149686\n",
       "2002    172166\n",
       "2003    170057\n",
       "2004    189479\n",
       "2005    199809\n",
       "2006    172941\n",
       "2007    179968\n",
       "2008    283643\n",
       "2009    351961\n",
       "2010    385099\n",
       "2011    402735\n",
       "2012    409196\n",
       "2013    406490\n",
       "2014    399798\n",
       "2015    417658\n",
       "2016    389792\n",
       "2017    383122\n",
       "2018    390077\n",
       "2019    438463\n",
       "2020    473152\n",
       "2021    422527\n",
       "2022    118657\n",
       "Name: 일자, dtype: int64"
      ]
     },
     "execution_count": 19,
     "metadata": {},
     "output_type": "execute_result"
    }
   ],
   "source": [
    "count_by_year"
   ]
  },
  {
   "cell_type": "code",
   "execution_count": 24,
   "metadata": {},
   "outputs": [
    {
     "ename": "",
     "evalue": "",
     "output_type": "error",
     "traceback": [
      "\u001b[1;31mThe Kernel crashed while executing code in the the current cell or a previous cell. Please review the code in the cell(s) to identify a possible cause of the failure. Click <a href='https://aka.ms/vscodeJupyterKernelCrash'>here</a> for more info. View Jupyter <a href='command:jupyter.viewOutput'>log</a> for further details."
     ]
    }
   ],
   "source": [
    "data.groupby('city').count()['일자'].to_excel(\"../result/city_count.xlsx\")"
   ]
  }
 ],
 "metadata": {
  "interpreter": {
   "hash": "c6f34507fa43ba317958b721fa8398d2051b96ef3f3b32ff98429c26ce06f8cf"
  },
  "kernelspec": {
   "display_name": "Python 3.8.12 ('svmglee')",
   "language": "python",
   "name": "python3"
  },
  "language_info": {
   "codemirror_mode": {
    "name": "ipython",
    "version": 3
   },
   "file_extension": ".py",
   "mimetype": "text/x-python",
   "name": "python",
   "nbconvert_exporter": "python",
   "pygments_lexer": "ipython3",
   "version": "3.8.12"
  },
  "orig_nbformat": 4
 },
 "nbformat": 4,
 "nbformat_minor": 2
}
