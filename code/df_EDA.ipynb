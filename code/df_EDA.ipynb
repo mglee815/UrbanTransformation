{
 "cells": [
  {
   "cell_type": "code",
   "execution_count": 2,
   "metadata": {},
   "outputs": [
    {
     "name": "stderr",
     "output_type": "stream",
     "text": [
      "/home/mglee/.conda/envs/svmglee/lib/python3.8/site-packages/cupy/_environment.py:436: UserWarning: \n",
      "--------------------------------------------------------------------------------\n",
      "\n",
      "  CuPy may not function correctly because multiple CuPy packages are installed\n",
      "  in your environment:\n",
      "\n",
      "    cupy, cupy-cuda112\n",
      "\n",
      "  Follow these steps to resolve this issue:\n",
      "\n",
      "    1. For all packages listed above, run the following command to remove all\n",
      "       existing CuPy installations:\n",
      "\n",
      "         $ pip uninstall <package_name>\n",
      "\n",
      "      If you previously installed CuPy via conda, also run the following:\n",
      "\n",
      "         $ conda uninstall cupy\n",
      "\n",
      "    2. Install the appropriate CuPy package.\n",
      "       Refer to the Installation Guide for detailed instructions.\n",
      "\n",
      "         https://docs.cupy.dev/en/stable/install.html\n",
      "\n",
      "--------------------------------------------------------------------------------\n",
      "\n",
      "  warnings.warn(f'''\n"
     ]
    }
   ],
   "source": [
    "import pandas as pd\n",
    "import dask.dataframe as dd"
   ]
  },
  {
   "cell_type": "code",
   "execution_count": 4,
   "metadata": {},
   "outputs": [
    {
     "ename": "ValueError",
     "evalue": "Exactly one of npartitions and chunksize must be specified.",
     "output_type": "error",
     "traceback": [
      "\u001b[0;31m---------------------------------------------------------------------------\u001b[0m",
      "\u001b[0;31mValueError\u001b[0m                                Traceback (most recent call last)",
      "\u001b[1;32m/home/mglee/VSCODE/git_folder/UrbanTransformation/code/df_EDA.ipynb Cell 2'\u001b[0m in \u001b[0;36m<cell line: 1>\u001b[0;34m()\u001b[0m\n\u001b[0;32m----> <a href='vscode-notebook-cell://ssh-remote%2B141.223.144.85/home/mglee/VSCODE/git_folder/UrbanTransformation/code/df_EDA.ipynb#ch0000001vscode-remote?line=0'>1</a>\u001b[0m df \u001b[39m=\u001b[39m dd\u001b[39m.\u001b[39;49mfrom_pandas(\n\u001b[1;32m      <a href='vscode-notebook-cell://ssh-remote%2B141.223.144.85/home/mglee/VSCODE/git_folder/UrbanTransformation/code/df_EDA.ipynb#ch0000001vscode-remote?line=1'>2</a>\u001b[0m     pd\u001b[39m.\u001b[39;49mread_pickle(\n\u001b[1;32m      <a href='vscode-notebook-cell://ssh-remote%2B141.223.144.85/home/mglee/VSCODE/git_folder/UrbanTransformation/code/df_EDA.ipynb#ch0000001vscode-remote?line=2'>3</a>\u001b[0m          \u001b[39m\"\u001b[39;49m\u001b[39m/home/mglee/VSCODE/git_folder/UrbanTransformation/data/merged_data/total/merged_filtered.pkl\u001b[39;49m\u001b[39m\"\u001b[39;49m\n\u001b[1;32m      <a href='vscode-notebook-cell://ssh-remote%2B141.223.144.85/home/mglee/VSCODE/git_folder/UrbanTransformation/code/df_EDA.ipynb#ch0000001vscode-remote?line=3'>4</a>\u001b[0m      )\n\u001b[1;32m      <a href='vscode-notebook-cell://ssh-remote%2B141.223.144.85/home/mglee/VSCODE/git_folder/UrbanTransformation/code/df_EDA.ipynb#ch0000001vscode-remote?line=4'>5</a>\u001b[0m  )\n",
      "File \u001b[0;32m~/.conda/envs/svmglee/lib/python3.8/site-packages/dask/dataframe/io/io.py:218\u001b[0m, in \u001b[0;36mfrom_pandas\u001b[0;34m(data, npartitions, chunksize, sort, name)\u001b[0m\n\u001b[1;32m    <a href='file:///home/mglee/.conda/envs/svmglee/lib/python3.8/site-packages/dask/dataframe/io/io.py?line=214'>215</a>\u001b[0m     \u001b[39mraise\u001b[39;00m \u001b[39mTypeError\u001b[39;00m(\u001b[39m\"\u001b[39m\u001b[39mInput must be a pandas DataFrame or Series\u001b[39m\u001b[39m\"\u001b[39m)\n\u001b[1;32m    <a href='file:///home/mglee/.conda/envs/svmglee/lib/python3.8/site-packages/dask/dataframe/io/io.py?line=216'>217</a>\u001b[0m \u001b[39mif\u001b[39;00m (npartitions \u001b[39mis\u001b[39;00m \u001b[39mNone\u001b[39;00m) \u001b[39m==\u001b[39m (chunksize \u001b[39mis\u001b[39;00m \u001b[39mNone\u001b[39;00m):\n\u001b[0;32m--> <a href='file:///home/mglee/.conda/envs/svmglee/lib/python3.8/site-packages/dask/dataframe/io/io.py?line=217'>218</a>\u001b[0m     \u001b[39mraise\u001b[39;00m \u001b[39mValueError\u001b[39;00m(\u001b[39m\"\u001b[39m\u001b[39mExactly one of npartitions and chunksize must be specified.\u001b[39m\u001b[39m\"\u001b[39m)\n\u001b[1;32m    <a href='file:///home/mglee/.conda/envs/svmglee/lib/python3.8/site-packages/dask/dataframe/io/io.py?line=219'>220</a>\u001b[0m nrows \u001b[39m=\u001b[39m \u001b[39mlen\u001b[39m(data)\n\u001b[1;32m    <a href='file:///home/mglee/.conda/envs/svmglee/lib/python3.8/site-packages/dask/dataframe/io/io.py?line=221'>222</a>\u001b[0m \u001b[39mif\u001b[39;00m chunksize \u001b[39mis\u001b[39;00m \u001b[39mNone\u001b[39;00m:\n",
      "\u001b[0;31mValueError\u001b[0m: Exactly one of npartitions and chunksize must be specified."
     ]
    }
   ],
   "source": [
    "df = dd.from_pandas(\n",
    "    pd.read_pickle(\n",
    "         \"/home/mglee/VSCODE/git_folder/UrbanTransformation/data/merged_data/total/merged_filtered.pkl\"\n",
    "     )\n",
    " )"
   ]
  },
  {
   "cell_type": "code",
   "execution_count": null,
   "metadata": {},
   "outputs": [],
   "source": []
  }
 ],
 "metadata": {
  "interpreter": {
   "hash": "c6f34507fa43ba317958b721fa8398d2051b96ef3f3b32ff98429c26ce06f8cf"
  },
  "kernelspec": {
   "display_name": "Python 3.8.12 ('svmglee')",
   "language": "python",
   "name": "python3"
  },
  "language_info": {
   "codemirror_mode": {
    "name": "ipython",
    "version": 3
   },
   "file_extension": ".py",
   "mimetype": "text/x-python",
   "name": "python",
   "nbconvert_exporter": "python",
   "pygments_lexer": "ipython3",
   "version": "3.8.12"
  },
  "orig_nbformat": 4
 },
 "nbformat": 4,
 "nbformat_minor": 2
}
