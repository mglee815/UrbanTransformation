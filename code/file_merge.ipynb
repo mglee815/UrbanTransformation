{
 "cells": [
  {
   "cell_type": "code",
   "execution_count": 2,
   "metadata": {},
   "outputs": [
    {
     "name": "stdout",
     "output_type": "stream",
     "text": [
      "서산시 : (124259, 19), tiem : 33.30658674240112\n",
      "태백시 : (58722, 19), tiem : 15.605146169662476\n",
      "영천시 : (30240, 19), tiem : 8.476839780807495\n",
      "포항시 : (97735, 19), tiem : 26.725565910339355\n",
      "창원시 : (283886, 19), tiem : 77.97855997085571\n",
      "전주시 : (270971, 19), tiem : 75.52717995643616\n",
      "원주시 : (139658, 19), tiem : 36.83899807929993\n"
     ]
    }
   ],
   "source": [
    "import pandas as pd\n",
    "import numpy as np  \n",
    "import glob  \n",
    "import sys\n",
    "import warnings\n",
    "import os\n",
    "import time\n",
    "\n",
    "city_lst = ['서산시', '태백시', '영천시', '포항시', '창원시', '전주시', '원주시']\n",
    "#파일 Union\n",
    "for city in city_lst:\n",
    "    start = time.time()\n",
    "    all_data = pd.DataFrame()  \n",
    "    for f in glob.glob(f'/Users/mglee/Desktop/folder/data_by_period/{city}/*.xlsx'): # 예를들어 201901, 201902 로 된 파일이면 2019_*  \n",
    "        with warnings.catch_warnings(record=True):\n",
    "            warnings.simplefilter(\"always\")\n",
    "            df = pd.read_excel(f, engine = \"openpyxl\")\n",
    "        col = df.columns\n",
    "        all_data = all_data.append(df, ignore_index=True)\n",
    "        \n",
    "    all_data.columns = col\n",
    "\n",
    "    #파일저장  \n",
    "    all_data.to_pickle(f\"/Users/mglee/Desktop/folder/merged_data/{city}_merged.pkl\")\n",
    "    print(f\"{city} : {all_data.shape}, tiem : {time.time() - start}\")\n",
    "    "
   ]
  }
 ],
 "metadata": {
  "interpreter": {
   "hash": "418ec1ce35a4fd63396f5da21f0079b494a3a09ebdcc1e5da80233ed37ee8285"
  },
  "kernelspec": {
   "display_name": "Python 3.9.7",
   "language": "python",
   "name": "python3"
  },
  "language_info": {
   "codemirror_mode": {
    "name": "ipython",
    "version": 3
   },
   "file_extension": ".py",
   "mimetype": "text/x-python",
   "name": "python",
   "nbconvert_exporter": "python",
   "pygments_lexer": "ipython3",
   "version": "3.9.7"
  },
  "orig_nbformat": 4
 },
 "nbformat": 4,
 "nbformat_minor": 2
}
