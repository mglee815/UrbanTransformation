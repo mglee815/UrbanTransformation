{
 "cells": [
  {
   "cell_type": "code",
   "execution_count": 10,
   "id": "bc5e0d45-6b44-4b64-a41a-2ab939ca5650",
   "metadata": {},
   "outputs": [
    {
     "name": "stdout",
     "output_type": "stream",
     "text": [
      "Requirement already satisfied: pandas==1.4.1 in c:\\users\\niuser01\\anaconda3\\lib\\site-packages (1.4.1)\n",
      "Collecting 0\n",
      "  Downloading 0-0.0.0-py2.py3-none-any.whl (2.0 kB)\n",
      "Requirement already satisfied: numpy>=1.18.5 in c:\\users\\niuser01\\anaconda3\\lib\\site-packages (from pandas==1.4.1) (1.22.0)\n",
      "Requirement already satisfied: pytz>=2020.1 in c:\\users\\niuser01\\anaconda3\\lib\\site-packages (from pandas==1.4.1) (2021.1)\n",
      "Requirement already satisfied: python-dateutil>=2.8.1 in c:\\users\\niuser01\\anaconda3\\lib\\site-packages (from pandas==1.4.1) (2.8.1)\n",
      "Requirement already satisfied: six>=1.5 in c:\\users\\niuser01\\anaconda3\\lib\\site-packages (from python-dateutil>=2.8.1->pandas==1.4.1) (1.15.0)\n",
      "Installing collected packages: 0\n",
      "Successfully installed 0-0.0.0\n"
     ]
    }
   ],
   "source": [
    "#!pip install pandas==1.4.1 0 --user"
   ]
  },
  {
   "cell_type": "code",
   "execution_count": 11,
   "id": "8cf6f0a9-b0bf-42c8-904a-94181ef68299",
   "metadata": {
    "collapsed": true,
    "jupyter": {
     "outputs_hidden": true
    },
    "tags": []
   },
   "outputs": [
    {
     "name": "stderr",
     "output_type": "stream",
     "text": [
      "C:\\Users\\niuser01\\anaconda3\\lib\\site-packages\\ipykernel\\ipkernel.py:287: DeprecationWarning: `should_run_async` will not call `transform_cell` automatically in the future. Please pass the result to `transformed_cell` argument and any exception that happen during thetransform in `preprocessing_exc_tuple` in IPython 7.17 and above.\n",
      "  and should_run_async(code)\n"
     ]
    },
    {
     "name": "stdout",
     "output_type": "stream",
     "text": [
      "Requirement already satisfied: ipykernel in c:\\users\\niuser01\\anaconda3\\lib\\site-packages (5.3.4)\n",
      "Collecting ipykernel\n",
      "  Downloading ipykernel-6.15.0-py3-none-any.whl (133 kB)\n",
      "Collecting traitlets>=5.1.0\n",
      "  Downloading traitlets-5.3.0-py3-none-any.whl (106 kB)\n",
      "Requirement already satisfied: tornado>=6.1 in c:\\users\\niuser01\\anaconda3\\lib\\site-packages (from ipykernel) (6.1)\n",
      "Requirement already satisfied: jupyter-client>=6.1.12 in c:\\users\\niuser01\\anaconda3\\lib\\site-packages (from ipykernel) (6.1.12)\n",
      "Collecting matplotlib-inline>=0.1\n",
      "  Downloading matplotlib_inline-0.1.3-py3-none-any.whl (8.2 kB)\n",
      "Requirement already satisfied: psutil in c:\\users\\niuser01\\anaconda3\\lib\\site-packages (from ipykernel) (5.8.0)\n",
      "Requirement already satisfied: pyzmq>=17 in c:\\users\\niuser01\\anaconda3\\lib\\site-packages (from ipykernel) (20.0.0)\n",
      "Requirement already satisfied: nest-asyncio in c:\\users\\niuser01\\anaconda3\\lib\\site-packages (from ipykernel) (1.5.1)\n",
      "Collecting ipython>=7.23.1\n",
      "  Downloading ipython-8.4.0-py3-none-any.whl (750 kB)\n",
      "Requirement already satisfied: packaging in c:\\users\\niuser01\\anaconda3\\lib\\site-packages (from ipykernel) (20.9)\n",
      "Collecting debugpy>=1.0\n",
      "  Downloading debugpy-1.6.0-cp38-cp38-win_amd64.whl (4.3 MB)\n",
      "Requirement already satisfied: jedi>=0.16 in c:\\users\\niuser01\\anaconda3\\lib\\site-packages (from ipython>=7.23.1->ipykernel) (0.17.2)\n",
      "Requirement already satisfied: colorama in c:\\users\\niuser01\\anaconda3\\lib\\site-packages (from ipython>=7.23.1->ipykernel) (0.4.4)\n",
      "Requirement already satisfied: backcall in c:\\users\\niuser01\\anaconda3\\lib\\site-packages (from ipython>=7.23.1->ipykernel) (0.2.0)\n",
      "Requirement already satisfied: pickleshare in c:\\users\\niuser01\\anaconda3\\lib\\site-packages (from ipython>=7.23.1->ipykernel) (0.7.5)\n",
      "Requirement already satisfied: pygments>=2.4.0 in c:\\users\\niuser01\\anaconda3\\lib\\site-packages (from ipython>=7.23.1->ipykernel) (2.8.1)\n",
      "Collecting stack-data\n",
      "  Downloading stack_data-0.3.0-py3-none-any.whl (23 kB)\n",
      "Requirement already satisfied: decorator in c:\\users\\niuser01\\anaconda3\\lib\\site-packages (from ipython>=7.23.1->ipykernel) (5.0.6)\n",
      "Requirement already satisfied: prompt-toolkit!=3.0.0,!=3.0.1,<3.1.0,>=2.0.0 in c:\\users\\niuser01\\anaconda3\\lib\\site-packages (from ipython>=7.23.1->ipykernel) (3.0.17)\n",
      "Requirement already satisfied: setuptools>=18.5 in c:\\users\\niuser01\\anaconda3\\lib\\site-packages (from ipython>=7.23.1->ipykernel) (52.0.0.post20210125)\n",
      "Requirement already satisfied: parso<0.8.0,>=0.7.0 in c:\\users\\niuser01\\anaconda3\\lib\\site-packages (from jedi>=0.16->ipython>=7.23.1->ipykernel) (0.7.0)\n",
      "Requirement already satisfied: python-dateutil>=2.1 in c:\\users\\niuser01\\anaconda3\\lib\\site-packages (from jupyter-client>=6.1.12->ipykernel) (2.8.1)\n",
      "Requirement already satisfied: jupyter-core>=4.6.0 in c:\\users\\niuser01\\anaconda3\\lib\\site-packages (from jupyter-client>=6.1.12->ipykernel) (4.7.1)\n",
      "Requirement already satisfied: pywin32>=1.0 in c:\\users\\niuser01\\anaconda3\\lib\\site-packages (from jupyter-core>=4.6.0->jupyter-client>=6.1.12->ipykernel) (227)\n",
      "Requirement already satisfied: wcwidth in c:\\users\\niuser01\\anaconda3\\lib\\site-packages (from prompt-toolkit!=3.0.0,!=3.0.1,<3.1.0,>=2.0.0->ipython>=7.23.1->ipykernel) (0.2.5)\n",
      "Requirement already satisfied: six>=1.5 in c:\\users\\niuser01\\anaconda3\\lib\\site-packages (from python-dateutil>=2.1->jupyter-client>=6.1.12->ipykernel) (1.15.0)\n",
      "Requirement already satisfied: pyparsing>=2.0.2 in c:\\users\\niuser01\\anaconda3\\lib\\site-packages (from packaging->ipykernel) (2.4.7)\n",
      "Collecting asttokens\n",
      "  Downloading asttokens-2.0.5-py2.py3-none-any.whl (20 kB)\n",
      "Collecting executing\n",
      "  Downloading executing-0.8.3-py2.py3-none-any.whl (16 kB)\n",
      "Collecting pure-eval\n",
      "  Downloading pure_eval-0.2.2-py3-none-any.whl (11 kB)\n",
      "Installing collected packages: traitlets, pure-eval, executing, asttokens, stack-data, matplotlib-inline, ipython, debugpy, ipykernel\n",
      "  Attempting uninstall: traitlets\n",
      "    Found existing installation: traitlets 5.0.5\n",
      "    Uninstalling traitlets-5.0.5:\n",
      "      Successfully uninstalled traitlets-5.0.5\n",
      "  Attempting uninstall: ipython\n",
      "    Found existing installation: ipython 7.22.0\n",
      "    Uninstalling ipython-7.22.0:\n",
      "      Successfully uninstalled ipython-7.22.0\n",
      "  Attempting uninstall: ipykernel\n",
      "    Found existing installation: ipykernel 5.3.4\n",
      "    Uninstalling ipykernel-5.3.4:\n",
      "      Successfully uninstalled ipykernel-5.3.4\n",
      "Successfully installed asttokens-2.0.5 debugpy-1.6.0 executing-0.8.3 ipykernel-6.15.0 ipython-8.4.0 matplotlib-inline-0.1.3 pure-eval-0.2.2 stack-data-0.3.0 traitlets-5.3.0\n"
     ]
    },
    {
     "name": "stderr",
     "output_type": "stream",
     "text": [
      "ERROR: pip's dependency resolver does not currently take into account all the packages that are installed. This behaviour is the source of the following dependency conflicts.\n",
      "spyder 4.2.5 requires pyqt5<5.13, which is not installed.\n",
      "spyder 4.2.5 requires pyqtwebengine<5.13, which is not installed.\n",
      "conda-repo-cli 1.0.4 requires pathlib, which is not installed.\n"
     ]
    }
   ],
   "source": [
    "#!pip install --upgrade ipykernel"
   ]
  },
  {
   "cell_type": "markdown",
   "id": "c5720fc8-ea3d-4963-88ac-836b5194d665",
   "metadata": {},
   "source": [
    "### 데이터 불러오기"
   ]
  },
  {
   "cell_type": "code",
   "execution_count": 1,
   "id": "07de4006-b1f9-41d3-b321-cdece2885af4",
   "metadata": {},
   "outputs": [],
   "source": [
    "import pandas as pd\n",
    "import pickle\n",
    "\n",
    "from tqdm import tqdm"
   ]
  },
  {
   "cell_type": "code",
   "execution_count": 2,
   "id": "8e795758",
   "metadata": {},
   "outputs": [],
   "source": [
    "DATA_PATH = \"../data/pkl/\""
   ]
  },
  {
   "cell_type": "code",
   "execution_count": 3,
   "id": "8b51cbe2-a568-4574-ad41-2c1bd0a97abb",
   "metadata": {},
   "outputs": [
    {
     "data": {
      "text/html": [
       "<div>\n",
       "<style scoped>\n",
       "    .dataframe tbody tr th:only-of-type {\n",
       "        vertical-align: middle;\n",
       "    }\n",
       "\n",
       "    .dataframe tbody tr th {\n",
       "        vertical-align: top;\n",
       "    }\n",
       "\n",
       "    .dataframe thead th {\n",
       "        text-align: right;\n",
       "    }\n",
       "</style>\n",
       "<table border=\"1\" class=\"dataframe\">\n",
       "  <thead>\n",
       "    <tr style=\"text-align: right;\">\n",
       "      <th></th>\n",
       "      <th>뉴스 식별자</th>\n",
       "      <th>일자</th>\n",
       "      <th>언론사</th>\n",
       "      <th>기고자</th>\n",
       "      <th>제목</th>\n",
       "      <th>통합 분류1</th>\n",
       "      <th>통합 분류2</th>\n",
       "      <th>통합 분류3</th>\n",
       "      <th>사건/사고 분류1</th>\n",
       "      <th>사건/사고 분류2</th>\n",
       "      <th>...</th>\n",
       "      <th>위치</th>\n",
       "      <th>기관</th>\n",
       "      <th>키워드</th>\n",
       "      <th>특성추출(가중치순 상위 50개)</th>\n",
       "      <th>본문</th>\n",
       "      <th>URL</th>\n",
       "      <th>분석제외 여부</th>\n",
       "      <th>city</th>\n",
       "      <th>filter_keyword</th>\n",
       "      <th>related_city</th>\n",
       "    </tr>\n",
       "  </thead>\n",
       "  <tbody>\n",
       "    <tr>\n",
       "      <th>1</th>\n",
       "      <td>1500701.201604</td>\n",
       "      <td>19911212</td>\n",
       "      <td>부산일보</td>\n",
       "      <td>부산일보</td>\n",
       "      <td>[사람]</td>\n",
       "      <td>지역&gt;대전</td>\n",
       "      <td>지역&gt;부산</td>\n",
       "      <td>지역&gt;충남</td>\n",
       "      <td>NaN</td>\n",
       "      <td>NaN</td>\n",
       "      <td>...</td>\n",
       "      <td>전남,최고경영자,凡一6동</td>\n",
       "      <td>金泉시의회,알래스카간,KBS홀,여성단체협의회장,동력자원부,모금추진위원회,학교,농림수...</td>\n",
       "      <td>사람,국제통상,주제,강연,전무,金殷湘,한국무역협회,11일,6시,강의실,부산대,경영,...</td>\n",
       "      <td>격려금,손목시계,국제통상,동구,원씩,慶南,金泉,머코스키,회의실,釜山日報社,근로자들,...</td>\n",
       "      <td>‘국제통상’ 주제 강연\\n◇金殷湘 한국무역협회 전무=11일 오후 6시40분 부산대 ...</td>\n",
       "      <td>NaN</td>\n",
       "      <td>NaN</td>\n",
       "      <td>김해시</td>\n",
       "      <td>{개최, 사업, 지역}</td>\n",
       "      <td>[[]]</td>\n",
       "    </tr>\n",
       "    <tr>\n",
       "      <th>2</th>\n",
       "      <td>1100611.201604</td>\n",
       "      <td>19911208</td>\n",
       "      <td>서울신문</td>\n",
       "      <td>NaN</td>\n",
       "      <td>농수산물 음성정보/74개 시 군으로 확대</td>\n",
       "      <td>IT_과학&gt;인터넷_SNS</td>\n",
       "      <td>IT_과학&gt;과학</td>\n",
       "      <td>IT_과학&gt;모바일</td>\n",
       "      <td>NaN</td>\n",
       "      <td>NaN</td>\n",
       "      <td>...</td>\n",
       "      <td>김해시,홍성군,서울,부산</td>\n",
       "      <td>농수산물유통공사,농수산</td>\n",
       "      <td>농수산물,음성,정보,74개,확대,농수산물유통공사,7일,농수산물,정보,음성,서비스,제...</td>\n",
       "      <td>농수산물,부산,김해시,전자식,부산등,전자식전화기,홍성군등,전화기,이용자,서울,농수산...</td>\n",
       "      <td>농수산물유통공사는 7일부터 농수산물정보음성서비스 제공지역을 서울 부산등 15개 시에...</td>\n",
       "      <td>http://www.seoul.co.kr/news/newsView.php?id=19...</td>\n",
       "      <td>NaN</td>\n",
       "      <td>김해시</td>\n",
       "      <td>{지역}</td>\n",
       "      <td>[[김해시]]</td>\n",
       "    </tr>\n",
       "  </tbody>\n",
       "</table>\n",
       "<p>2 rows × 22 columns</p>\n",
       "</div>"
      ],
      "text/plain": [
       "           뉴스 식별자        일자   언론사   기고자                      제목  \\\n",
       "1  1500701.201604  19911212  부산일보  부산일보                    [사람]   \n",
       "2  1100611.201604  19911208  서울신문   NaN  농수산물 음성정보/74개 시 군으로 확대   \n",
       "\n",
       "          통합 분류1     통합 분류2      통합 분류3 사건/사고 분류1 사건/사고 분류2  ...  \\\n",
       "1          지역>대전      지역>부산       지역>충남       NaN       NaN  ...   \n",
       "2  IT_과학>인터넷_SNS   IT_과학>과학   IT_과학>모바일       NaN       NaN  ...   \n",
       "\n",
       "              위치                                                 기관  \\\n",
       "1  전남,최고경영자,凡一6동  金泉시의회,알래스카간,KBS홀,여성단체협의회장,동력자원부,모금추진위원회,학교,농림수...   \n",
       "2  김해시,홍성군,서울,부산                                       농수산물유통공사,농수산   \n",
       "\n",
       "                                                 키워드  \\\n",
       "1  사람,국제통상,주제,강연,전무,金殷湘,한국무역협회,11일,6시,강의실,부산대,경영,...   \n",
       "2  농수산물,음성,정보,74개,확대,농수산물유통공사,7일,농수산물,정보,음성,서비스,제...   \n",
       "\n",
       "                                   특성추출(가중치순 상위 50개)  \\\n",
       "1  격려금,손목시계,국제통상,동구,원씩,慶南,金泉,머코스키,회의실,釜山日報社,근로자들,...   \n",
       "2  농수산물,부산,김해시,전자식,부산등,전자식전화기,홍성군등,전화기,이용자,서울,농수산...   \n",
       "\n",
       "                                                  본문  \\\n",
       "1  ‘국제통상’ 주제 강연\\n◇金殷湘 한국무역협회 전무=11일 오후 6시40분 부산대 ...   \n",
       "2  농수산물유통공사는 7일부터 농수산물정보음성서비스 제공지역을 서울 부산등 15개 시에...   \n",
       "\n",
       "                                                 URL 분석제외 여부 city  \\\n",
       "1                                                NaN     NaN  김해시   \n",
       "2  http://www.seoul.co.kr/news/newsView.php?id=19...     NaN  김해시   \n",
       "\n",
       "  filter_keyword related_city  \n",
       "1   {개최, 사업, 지역}         [[]]  \n",
       "2           {지역}      [[김해시]]  \n",
       "\n",
       "[2 rows x 22 columns]"
      ]
     },
     "execution_count": 3,
     "metadata": {},
     "output_type": "execute_result"
    }
   ],
   "source": [
    "data = pd.read_pickle(f'{DATA_PATH}merged_filtered_0630.pkl')\n",
    "data.head(2)"
   ]
  },
  {
   "cell_type": "code",
   "execution_count": 4,
   "id": "daf3c379",
   "metadata": {},
   "outputs": [
    {
     "data": {
      "text/plain": [
       "Index(['뉴스 식별자', '일자', '언론사', '기고자', '제목', '통합 분류1', '통합 분류2', '통합 분류3',\n",
       "       '사건/사고 분류1', '사건/사고 분류2', '사건/사고 분류3', '인물', '위치', '기관', '키워드',\n",
       "       '특성추출(가중치순 상위 50개)', '본문', 'URL', '분석제외 여부', 'city', 'filter_keyword',\n",
       "       'related_city'],\n",
       "      dtype='object')"
      ]
     },
     "execution_count": 4,
     "metadata": {},
     "output_type": "execute_result"
    }
   ],
   "source": [
    "data.columns"
   ]
  },
  {
   "cell_type": "code",
   "execution_count": 5,
   "id": "2cb1f441",
   "metadata": {},
   "outputs": [
    {
     "data": {
      "text/plain": [
       "(62638, 22)"
      ]
     },
     "execution_count": 5,
     "metadata": {},
     "output_type": "execute_result"
    }
   ],
   "source": [
    "data_PH = data[data['city'] == '포항시']\n"
   ]
  },
  {
   "cell_type": "code",
   "execution_count": 6,
   "id": "dfc5c506",
   "metadata": {},
   "outputs": [],
   "source": [
    "keyword_lst = data_PH['특성추출(가중치순 상위 50개)']"
   ]
  },
  {
   "cell_type": "code",
   "execution_count": 7,
   "id": "388b3a17",
   "metadata": {},
   "outputs": [
    {
     "data": {
      "text/plain": [
       "(62638,)"
      ]
     },
     "execution_count": 7,
     "metadata": {},
     "output_type": "execute_result"
    }
   ],
   "source": [
    "keyword_lst.shape"
   ]
  },
  {
   "cell_type": "code",
   "execution_count": 8,
   "id": "0e986d49",
   "metadata": {},
   "outputs": [
    {
     "name": "stderr",
     "output_type": "stream",
     "text": [
      "62638it [00:00, 63260.09it/s]\n"
     ]
    }
   ],
   "source": [
    "token_lst = []\n",
    "for tokens in tqdm(enumerate(keyword_lst)):\n",
    "    temp = str(tokens).split(\",\")\n",
    "    temp_lst = []\n",
    "    for item in temp:\n",
    "        item = item.replace('\"', \"\")\n",
    "        item = item.replace(\"'\", \"\")\n",
    "        item = item.replace(\" \", \"\")\n",
    "        item = item.replace(\"(\", \"\")\n",
    "        item = item.replace(\")\", \"\")\n",
    "        temp_lst.append(item)\n",
    "    token_lst.append(temp_lst)"
   ]
  },
  {
   "cell_type": "markdown",
   "id": "daf537ad-c271-4763-afcc-e1717ab62fe4",
   "metadata": {},
   "source": [
    "### 최적의 토픽 개수 찾기"
   ]
  },
  {
   "cell_type": "code",
   "execution_count": 11,
   "id": "d545b169-212d-4010-b43f-747949d2b077",
   "metadata": {
    "collapsed": true,
    "jupyter": {
     "outputs_hidden": true
    },
    "tags": []
   },
   "outputs": [
    {
     "name": "stderr",
     "output_type": "stream",
     "text": [
      "Duplicate key in file PosixPath('/home/mglee/.conda/envs/svmglee/lib/python3.8/site-packages/matplotlib/mpl-data/matplotlibrc'), line 257 ('font.family:  NanumGothic')\n"
     ]
    }
   ],
   "source": [
    "# -*- coding: utf-8 -*-\n",
    "from konlpy.tag import Mecab\n",
    "from tqdm import tqdm\n",
    "import re\n",
    "from gensim.models.ldamodel import LdaModel\n",
    "from gensim.models.callbacks import CoherenceMetric\n",
    "from gensim import corpora\n",
    "from gensim.models.callbacks import PerplexityMetric\n",
    "import logging\n",
    "import pickle\n",
    "import pyLDAvis.gensim_models\n",
    "from gensim.models.coherencemodel import CoherenceModel\n",
    "import matplotlib.pyplot as plt\n",
    "\n",
    "\n",
    "def compute_coherence_values(dictionary, corpus, texts, limit, start=2, step=3):\n",
    "    \"\"\"\n",
    "    Compute c_v coherence for various number of topics\n",
    "\n",
    "    Parameters:\n",
    "    ----------\n",
    "    dictionary : Gensim dictionary\n",
    "    corpus : Gensim corpus\n",
    "    texts : List of input texts\n",
    "    limit : Max num of topics\n",
    "\n",
    "    Returns:\n",
    "    -------\n",
    "    model_list : List of LDA topic models\n",
    "    coherence_values : Coherence values corresponding to the LDA model with respective number of topics\n",
    "    \"\"\"\n",
    "    coherence_values = []\n",
    "    model_list = []\n",
    "    for num_topics in range(start, limit, step):\n",
    "        model = LdaModel(corpus=corpus, id2word=dictionary, num_topics=num_topics)\n",
    "        model_list.append(model)\n",
    "        coherencemodel = CoherenceModel(model=model, texts=texts, dictionary=dictionary, coherence='c_v')\n",
    "        coherence_values.append(coherencemodel.get_coherence())\n",
    "\n",
    "    return model_list, coherence_values\n",
    "\n",
    "\n",
    "def find_optimal_number_of_topics(dictionary, corpus, processed_data):\n",
    "    limit = 100;\n",
    "    start = 10;\n",
    "    step = 10;\n",
    "\n",
    "    model_list, coherence_values = compute_coherence_values(dictionary=dictionary, corpus=corpus, texts=processed_data, start=start, limit=limit, step=step)\n",
    "\n",
    "    x = range(start, limit, step)\n",
    "    plt.plot(x, coherence_values)\n",
    "    plt.xlabel(\"Num Topics\")\n",
    "    plt.ylabel(\"Coherence score\")\n",
    "    plt.legend((\"coherence_values\"), loc='best')\n",
    "    plt.show()\n",
    "    \n",
    "    return x, coherence_values\n"
   ]
  },
  {
   "cell_type": "code",
   "execution_count": 12,
   "id": "6c0d0bde",
   "metadata": {},
   "outputs": [],
   "source": [
    "processed_data = token_lst.copy()\n",
    "# 정수 인코딩과 빈도수 생성\n",
    "dictionary = corpora.Dictionary(processed_data)"
   ]
  },
  {
   "cell_type": "code",
   "execution_count": 13,
   "id": "e62ed274",
   "metadata": {},
   "outputs": [
    {
     "data": {
      "image/png": "[encoded data removed]",
      "text/plain": [
       "<Figure size 432x288 with 1 Axes>"
      ]
     },
     "metadata": {
      "needs_background": "light"
     },
     "output_type": "display_data"
    }
   ],
   "source": [
    "# 출현빈도가 적거나 자주 등장하는 단어는 제거\n",
    "#dictionary.filter_extremes(no_below=5, no_above=0.02)\n",
    "corpus = [dictionary.doc2bow(text) for text in processed_data]\n",
    "# 최적의 토픽 수 찾기\n",
    "x, coherence_values = find_optimal_number_of_topics(dictionary, corpus, processed_data)"
   ]
  },
  {
   "cell_type": "code",
   "execution_count": null,
   "id": "d2d35a25-f24f-471b-9ea1-1bc5585cb7d0",
   "metadata": {},
   "outputs": [],
   "source": [
    "for m, cv in zip(x, coherence_values):\n",
    "    print(\"Num Topics =\", m, \" has Coherence Value of\", round(cv, 4))"
   ]
  },
  {
   "cell_type": "markdown",
   "id": "718ee1b1-6416-40e6-9f55-9f4bf2521ad9",
   "metadata": {},
   "source": [
    "### tn 개의 토픽으로 LDA 돌리기 & LDA 결과 html로 시각화"
   ]
  },
  {
   "cell_type": "code",
   "execution_count": 20,
   "id": "dabc8b46-e985-406b-b212-03914c785081",
   "metadata": {},
   "outputs": [],
   "source": [
    "from gensim import corpora\n",
    "import gensim\n",
    "import pyLDAvis.gensim_models\n",
    "import time\n",
    "from tqdm import tqdm\n",
    "\n",
    "def LDA(tokenized_doc, tn):\n",
    "    dictionary = corpora.Dictionary(tokenized_doc)\n",
    "    corpus = [dictionary.doc2bow(text) for text in tokenized_doc]\n",
    "\n",
    "    NUM_TOPICS = tn #10개의 토픽, k=10\n",
    "    ldamodel = gensim.models.ldamodel.LdaModel(corpus, num_topics = NUM_TOPICS, id2word=dictionary, passes=15)\n",
    "    topics = ldamodel.print_topics(num_words=5)\n",
    "\n",
    "    # sabe visualized LDA result\n",
    "    pyLDAvis.enable_notebook()\n",
    "    vis = pyLDAvis.gensim_models.prepare(ldamodel, corpus, dictionary)\n",
    "    pyLDAvis.display(vis)\n",
    "    pyLDAvis.save_html(vis, f'{DATA_PATH}4.html')\n",
    "\n",
    "\n",
    "    return topics, ldamodel"
   ]
  },
  {
   "cell_type": "code",
   "execution_count": 30,
   "id": "e730f144-bfbb-4347-ad1f-e52c7a2e5207",
   "metadata": {
    "tags": []
   },
   "outputs": [
    {
     "name": "stderr",
     "output_type": "stream",
     "text": [
      "C:\\Users\\niuser01\\anaconda3\\lib\\site-packages\\pyLDAvis\\_prepare.py:246: FutureWarning: In a future version of pandas all arguments of DataFrame.drop except for the argument 'labels' will be keyword-only.\n",
      "  default_term_info = default_term_info.sort_values(\n"
     ]
    },
    {
     "data": {
      "text/plain": [
       "[(0, '0.057*\"부산\" + 0.034*\"대구\" + 0.033*\"경기도\" + 0.016*\"장애인\" + 0.016*\"당사자\"'),\n",
       " (1, '0.075*\"유권자\" + 0.035*\"혐한\" + 0.030*\"일본\" + 0.027*\"도쿄\" + 0.025*\"유권자들\"'),\n",
       " (2, '0.054*\"동성애\" + 0.041*\"성소수자\" + 0.026*\"소수자\" + 0.022*\"동성애자\" + 0.019*\"유튜브\"'),\n",
       " (3, '0.046*\"한국\" + 0.041*\"외국인\" + 0.036*\"한국인\" + 0.029*\"노동자\" + 0.026*\"우리나라\"'),\n",
       " (4, '0.060*\"한국당\" + 0.050*\"민주당\" + 0.034*\"정치인\" + 0.033*\"청와대\" + 0.029*\"막말\"'),\n",
       " (5, '0.060*\"피해자\" + 0.035*\"서울\" + 0.031*\"여성들\" + 0.026*\"강남역\" + 0.023*\"성폭력\"'),\n",
       " (6, '0.097*\"일본\" + 0.086*\"한국\" + 0.029*\"매립장\" + 0.028*\"사람들\" + 0.027*\"폐기물\"'),\n",
       " (7, '0.035*\"청원\" + 0.029*\"일베\" + 0.028*\"그동안\" + 0.027*\"게시판\" + 0.024*\"청와대\"'),\n",
       " (8, '0.040*\"온라인\" + 0.024*\"악플\" + 0.023*\"누리꾼\" + 0.021*\"sns\" + 0.021*\"시민들\"'),\n",
       " (9, '0.041*\"학생들\" + 0.034*\"새누리당\" + 0.030*\"일본\" + 0.029*\"위안부\" + 0.022*\"아베\"'),\n",
       " (10, '0.131*\"미국\" + 0.036*\"영국\" + 0.034*\"독일\" + 0.030*\"프랑스\" + 0.027*\"한국\"'),\n",
       " (11, '0.086*\"주민들\" + 0.037*\"혐오시설\" + 0.035*\"처리장\" + 0.029*\"소각장\" + 0.025*\"위원회\"'),\n",
       " (12, '0.151*\"서울\" + 0.036*\"서울시\" + 0.018*\"한국\" + 0.013*\"부시\" + 0.013*\"개고기\"'),\n",
       " (13, '0.035*\"공무원\" + 0.021*\"소비자\" + 0.015*\"네트워크\" + 0.015*\"환경부\" + 0.013*\"뉴질랜드\"')]"
      ]
     },
     "execution_count": 30,
     "metadata": {},
     "output_type": "execute_result"
    }
   ],
   "source": [
    "# topic number & LDA data preparation\n",
    "# tokenized_doc은 [[a,b,c],[e,d,f]]의 형식일 것!\n",
    "\n",
    "tn = 14\n",
    "topics, ldamodel = LDA(tokenized_doc, tn)\n",
    "\n",
    "topics"
   ]
  },
  {
   "cell_type": "code",
   "execution_count": 32,
   "id": "3dd170ac-5bd4-4413-939b-15957f93a46c",
   "metadata": {},
   "outputs": [],
   "source": [
    "ldamodel.save('20220624.lda')"
   ]
  },
  {
   "cell_type": "markdown",
   "id": "258bab4d-fef3-41b6-ac48-9273e77c7981",
   "metadata": {},
   "source": [
    "### 기사별 토픽분포 확인"
   ]
  },
  {
   "cell_type": "code",
   "execution_count": 41,
   "id": "148972d4-3a49-4780-ab44-f1cbc872fc53",
   "metadata": {},
   "outputs": [
    {
     "data": {
      "text/plain": [
       "[(0, '0.057*\"부산\" + 0.034*\"대구\" + 0.033*\"경기도\" + 0.016*\"장애인\" + 0.016*\"당사자\"'),\n",
       " (1, '0.075*\"유권자\" + 0.035*\"혐한\" + 0.030*\"일본\" + 0.027*\"도쿄\" + 0.025*\"유권자들\"'),\n",
       " (2, '0.054*\"동성애\" + 0.041*\"성소수자\" + 0.026*\"소수자\" + 0.022*\"동성애자\" + 0.019*\"유튜브\"'),\n",
       " (3, '0.046*\"한국\" + 0.041*\"외국인\" + 0.036*\"한국인\" + 0.029*\"노동자\" + 0.026*\"우리나라\"'),\n",
       " (4, '0.060*\"한국당\" + 0.050*\"민주당\" + 0.034*\"정치인\" + 0.033*\"청와대\" + 0.029*\"막말\"'),\n",
       " (5, '0.060*\"피해자\" + 0.035*\"서울\" + 0.031*\"여성들\" + 0.026*\"강남역\" + 0.023*\"성폭력\"'),\n",
       " (6, '0.097*\"일본\" + 0.086*\"한국\" + 0.029*\"매립장\" + 0.028*\"사람들\" + 0.027*\"폐기물\"'),\n",
       " (7, '0.035*\"청원\" + 0.029*\"일베\" + 0.028*\"그동안\" + 0.027*\"게시판\" + 0.024*\"청와대\"'),\n",
       " (8, '0.040*\"온라인\" + 0.024*\"악플\" + 0.023*\"누리꾼\" + 0.021*\"sns\" + 0.021*\"시민들\"'),\n",
       " (9, '0.041*\"학생들\" + 0.034*\"새누리당\" + 0.030*\"일본\" + 0.029*\"위안부\" + 0.022*\"아베\"'),\n",
       " (10, '0.131*\"미국\" + 0.036*\"영국\" + 0.034*\"독일\" + 0.030*\"프랑스\" + 0.027*\"한국\"'),\n",
       " (11, '0.086*\"주민들\" + 0.037*\"혐오시설\" + 0.035*\"처리장\" + 0.029*\"소각장\" + 0.025*\"위원회\"'),\n",
       " (12, '0.151*\"서울\" + 0.036*\"서울시\" + 0.018*\"한국\" + 0.013*\"부시\" + 0.013*\"개고기\"'),\n",
       " (13, '0.035*\"공무원\" + 0.021*\"소비자\" + 0.015*\"네트워크\" + 0.015*\"환경부\" + 0.013*\"뉴질랜드\"')]"
      ]
     },
     "execution_count": 41,
     "metadata": {},
     "output_type": "execute_result"
    }
   ],
   "source": [
    "topics"
   ]
  },
  {
   "cell_type": "code",
   "execution_count": 34,
   "id": "7f30691e-381b-4f1a-97ec-6f6923d7fc03",
   "metadata": {},
   "outputs": [
    {
     "data": {
      "text/plain": [
       "True"
      ]
     },
     "execution_count": 34,
     "metadata": {},
     "output_type": "execute_result"
    }
   ],
   "source": [
    "topic_list = []\n",
    "for i, t in enumerate(ldamodel[corpus]):\n",
    "    topic_list.append(t)\n",
    "    \n",
    "for t in range(len(topic_list)):\n",
    "    topic_list[t] = sorted(dict(topic_list[t]).items(), key = lambda x:x[1], reverse=True)[0]\n",
    "\n",
    "len(tokenized_doc) == len(topic_list)"
   ]
  },
  {
   "cell_type": "code",
   "execution_count": 35,
   "id": "6838d148-0200-4050-b9ac-e242f2debfa7",
   "metadata": {},
   "outputs": [],
   "source": [
    "topic = []\n",
    "rat = []\n",
    "\n",
    "for t in topic_list:\n",
    "    topic.append(t[0])\n",
    "    rat.append(t[1])\n",
    "    \n",
    "split_data['topicnum'] = topic\n",
    "split_data['topic_rat'] = rat"
   ]
  },
  {
   "cell_type": "code",
   "execution_count": 44,
   "id": "27b7624b-6566-4250-93d5-728caf62cb04",
   "metadata": {
    "collapsed": true,
    "jupyter": {
     "outputs_hidden": true
    },
    "tags": []
   },
   "outputs": [
    {
     "data": {
      "text/plain": [
       "4                              [편집국에서] 바르다가 사랑한 노년 / 김은형\n",
       "14                             생명 다루는 새 직장 똥 치울 시간도 부족하다\n",
       "15                               일본 도쿄도 \"혐오 발언 금지\" 조례 시행\n",
       "16                   [월간중앙] 강상중 도쿄대 명예교수가 말하는 ‘멀티튜드의 반란’\n",
       "33                                        [창-박지훈] 약자의 게임\n",
       "64                 “청소년ㆍ성인 소설 둘다 쓰는 비결? 날 항상 공백으로 남기는거죠”\n",
       "66                       “지역경제 살릴 수만 있다면” 교정시설 유치 나선 태백시\n",
       "67                 “청소년ㆍ성인 소설 둘다 쓰는 비결? 날 항상 공백으로 남기는거죠”\n",
       "69                                  [특파원 칼럼] 시대착오적 혐오 경쟁\n",
       "81                                         헤테로토피아의 섬에 서서\n",
       "104                                        헤테로토피아의 섬에 서서\n",
       "114                                           의주로 또는 통일로\n",
       "145                                   [전우용의 우리시대]친일파의 시대\n",
       "151                     “속국 근성의 식분 민족!” 일본연금기구 소장의 혐한 트윗\n",
       "156                       \"유튜브 하루 업로드 동영상, 다 보려면 18년 걸려\"\n",
       "199                  [영상+] “로힝야 난민 반대 시위대는 무엇이 두려운 걸까요?”\n",
       "209                       \"유튜브 하루 업로드 동영상, 다 보려면 18년 걸려\"\n",
       "224                김세경의 월드뮤직- 장고 라인하르트(Django Reinhardt)\n",
       "225                          혐오스러운 중국인 제국주의 시선으로 그린 화보신문\n",
       "233                   ‘공항 난동’ 일본 관료 “술 안 마셨다” 발뺌 귀국해선 딴말\n",
       "248                       \"유튜브 하루 업로드 동영상, 다 보려면 18년 걸려\"\n",
       "262                         '만취' 日공무원 김포공항 '추태' 난동 영상 공개\n",
       "270                              [장정일 칼럼] 불평하는 인간 - 김수영3\n",
       "271            [양상훈 칼럼] ‘싸구려 민족주의’ 팔아 표 얻는 수법, 수명 다하고 있다\n",
       "279    [FN 스포트라이트. 체류 외국인 Live Together]\"중국동포 한국에 살겠단...\n",
       "290                      11살 작가가 던진 질문 ‘노키즈존과 동생의 눈물’ 화제\n",
       "292                   \"우리 사회의 불합리함에 맞서 불편한 동행 지속해야 할 존재\"\n",
       "309    [독립영화관] '시 읽는 시간' 시는 고통의 심연에서 길어 올린 가장 진실한 언어이...\n",
       "324                   ‘캡틴 마블’ 슈퍼히어로급 흥행 독주 원더우먼 ‘턱 밑 추격’\n",
       "348                                           유능제강(柔能制剛)\n",
       "377                        [송호근 칼럼] 백년 후 ‘오등(吾等)’은 누구인가?\n",
       "399                                 교육의 창> 글쓰기는 그렇게 시작된다\n",
       "445                         [기고] 새로이 되새겨 보는 ‘협동과 상생’의 의미\n",
       "460                            국제사회 인권 지적에 일본만 물고 늘어지는 北\n",
       "506                   [서평]세기를 뒤흔든 불멸의 사랑/ 조동숙 지음/ 문이당 펴냄\n",
       "513                  혐오시설지구 조례 어기고 주민지원금 현금 지급 “의회는 뭐했나”\n",
       "562                                [특파원칼럼]무엇을 ‘반일’이라 하는가\n",
       "576                             韓관광객 가득한 日교토 한복판서 ‘혐한’시위\n",
       "585                     [사설] 한일 갈등이 경제협력까지 파국으로 몰아선 안 된다\n",
       "591                        “어린 시절 ‘일본인 같다’는 말은 제게 칭찬이었죠”\n",
       "602                 일본에서 재일조선인 여성으로 사는것 “헤이트 스피치 갈수록 심각”\n",
       "611                  [무비클릭] 캡틴 마블 | 원더우먼과는 다른 역대급 여성 히어로\n",
       "627                           \"조선인 나가\" 日교토 혐한시위 반대단체도 맞서\n",
       "641                                    [2030 세상보기] 빵과 장미\n",
       "650                           [사유와 성찰]진정한 ‘멘탈 갑’으로 살아가려면\n",
       "667                            내 안의 ‘가부장 코르셋’에서 벗어나고 싶다면\n",
       "679                                  왜 여성은 여전히 잘나가지 못하는가\n",
       "715                              [ESC] 살만 빼면 괜찮을 것 같은데요?\n",
       "729                       [데스크 시각-채희종 사회부장] 낙인(烙印) 찍는 사회\n",
       "737                               '룡정 3.13반일운동'도 함께 기억하자\n",
       "Name: 제목, dtype: object"
      ]
     },
     "execution_count": 44,
     "metadata": {},
     "output_type": "execute_result"
    }
   ],
   "source": [
    "split_data[split_data['topicnum'] == 6]['제목'][:50]"
   ]
  },
  {
   "cell_type": "code",
   "execution_count": 45,
   "id": "a20266bf-5a4b-4774-bbe8-58c9b3aa98a0",
   "metadata": {},
   "outputs": [],
   "source": [
    "tname = []\n",
    "hate = {0:'정치', 1: '정치', 2:'LGBT', 3: '이민자', 4: '정치', 5:'남성', 6: '외국내', 7:'정치',\n",
    "        8: '플랫폼', 9:'일본', 10: '외국내', 11: '혐오시설', 12:'정치', 13: '정치'}\n",
    "for t in topic:\n",
    "    tname.append(hate[t])\n",
    "    #tname.append([key for key, value in test.items() if value == t][0])\n",
    "    \n",
    "split_data['topic_name'] = tname"
   ]
  },
  {
   "cell_type": "code",
   "execution_count": 46,
   "id": "d44fb16d-5200-4135-921e-69a8ff96570d",
   "metadata": {},
   "outputs": [
    {
     "data": {
      "text/html": [
       "<div>\n",
       "<style scoped>\n",
       "    .dataframe tbody tr th:only-of-type {\n",
       "        vertical-align: middle;\n",
       "    }\n",
       "\n",
       "    .dataframe tbody tr th {\n",
       "        vertical-align: top;\n",
       "    }\n",
       "\n",
       "    .dataframe thead th {\n",
       "        text-align: right;\n",
       "    }\n",
       "</style>\n",
       "<table border=\"1\" class=\"dataframe\">\n",
       "  <thead>\n",
       "    <tr style=\"text-align: right;\">\n",
       "      <th></th>\n",
       "      <th>뉴스 식별자</th>\n",
       "      <th>일자</th>\n",
       "      <th>언론사</th>\n",
       "      <th>기고자</th>\n",
       "      <th>제목</th>\n",
       "      <th>통합 분류1</th>\n",
       "      <th>통합 분류2</th>\n",
       "      <th>통합 분류3</th>\n",
       "      <th>사건/사고 분류1</th>\n",
       "      <th>사건/사고 분류2</th>\n",
       "      <th>...</th>\n",
       "      <th>본문</th>\n",
       "      <th>URL</th>\n",
       "      <th>분석제외 여부</th>\n",
       "      <th>year</th>\n",
       "      <th>month</th>\n",
       "      <th>day</th>\n",
       "      <th>특성추출top10</th>\n",
       "      <th>topicnum</th>\n",
       "      <th>topic_rat</th>\n",
       "      <th>topic_name</th>\n",
       "    </tr>\n",
       "  </thead>\n",
       "  <tbody>\n",
       "    <tr>\n",
       "      <th>0</th>\n",
       "      <td>1101101.201903</td>\n",
       "      <td>20190331</td>\n",
       "      <td>한국일보</td>\n",
       "      <td>손영하</td>\n",
       "      <td>페이스북 위기에 저커버그 입장 바꿔 \"온라인 규제 강화해야\"</td>\n",
       "      <td>국제&gt;국제일반</td>\n",
       "      <td>IT_과학&gt;인터넷_SNS</td>\n",
       "      <td>NaN</td>\n",
       "      <td>NaN</td>\n",
       "      <td>NaN</td>\n",
       "      <td>...</td>\n",
       "      <td>세계적인 사회관계망서비스(SNS) 페이스북의 창업자이자 최고경영자(CEO)인 마크 ...</td>\n",
       "      <td>NaN</td>\n",
       "      <td>NaN</td>\n",
       "      <td>2019</td>\n",
       "      <td>3</td>\n",
       "      <td>31</td>\n",
       "      <td>[페이스북, 저커버그, 온라인, 생중계, 도빌, 프랑스, 뉴질랜드, 미국, 샌드버그...</td>\n",
       "      <td>10</td>\n",
       "      <td>0.406234</td>\n",
       "      <td>외국내</td>\n",
       "    </tr>\n",
       "    <tr>\n",
       "      <th>1</th>\n",
       "      <td>1100611.201903</td>\n",
       "      <td>20190331</td>\n",
       "      <td>서울신문</td>\n",
       "      <td>이정수</td>\n",
       "      <td>“강간 갱뱅 칼빵 ” 래퍼 김효은 ‘머니 로드’ 가사 논란</td>\n",
       "      <td>문화&gt;방송_연예</td>\n",
       "      <td>문화&gt;생활</td>\n",
       "      <td>NaN</td>\n",
       "      <td>NaN</td>\n",
       "      <td>NaN</td>\n",
       "      <td>...</td>\n",
       "      <td>래퍼 김효은(26)의 신곡 ‘머니 로드’(Money Road)가 폭력적인 혐오 가사...</td>\n",
       "      <td>http://www.seoul.co.kr/news/newsView.php?id=20...</td>\n",
       "      <td>NaN</td>\n",
       "      <td>2019</td>\n",
       "      <td>3</td>\n",
       "      <td>31</td>\n",
       "      <td>[김효은, 갱뱅, 칼빵, 온라인, 엠넷, 한국, 성폭력, 표현들, 가족들, 엠비션뮤직]</td>\n",
       "      <td>5</td>\n",
       "      <td>0.307490</td>\n",
       "      <td>남성</td>\n",
       "    </tr>\n",
       "    <tr>\n",
       "      <th>2</th>\n",
       "      <td>1100101.201903</td>\n",
       "      <td>20190331</td>\n",
       "      <td>경향신문</td>\n",
       "      <td>김희연 문화부장</td>\n",
       "      <td>[아침을 열며]초연결 시대, 우리는 정말 ‘우리’가 될까</td>\n",
       "      <td>문화&gt;영화</td>\n",
       "      <td>문화&gt;출판</td>\n",
       "      <td>문화&gt;미술_건축</td>\n",
       "      <td>사회&gt;사회문제&gt;빈곤</td>\n",
       "      <td>NaN</td>\n",
       "      <td>...</td>\n",
       "      <td>나는 과연 초시대를 살고 있는가, 우리 사회는 초연결 사회가 될까.\\n\\n요즘 TV...</td>\n",
       "      <td>http://news.khan.co.kr/kh_news/khan_art_view.h...</td>\n",
       "      <td>NaN</td>\n",
       "      <td>2019</td>\n",
       "      <td>3</td>\n",
       "      <td>31</td>\n",
       "      <td>[장애인, 미국, 서울, 도플갱어, 스마트한, 김희연, 한국, 5g, 아메리카, 사람들]</td>\n",
       "      <td>10</td>\n",
       "      <td>0.327709</td>\n",
       "      <td>외국내</td>\n",
       "    </tr>\n",
       "    <tr>\n",
       "      <th>3</th>\n",
       "      <td>1100101.201903</td>\n",
       "      <td>20190331</td>\n",
       "      <td>경향신문</td>\n",
       "      <td>오찬호 &amp;lt;진격의 대학교&amp;gt; 저자</td>\n",
       "      <td>[시선]인생을 건 부동산 투기</td>\n",
       "      <td>경제&gt;부동산</td>\n",
       "      <td>문화&gt;출판</td>\n",
       "      <td>사회&gt;여성</td>\n",
       "      <td>사회&gt;사회갈등&gt;시위</td>\n",
       "      <td>NaN</td>\n",
       "      <td>...</td>\n",
       "      <td>그는 공공주택 건설을 반대하는 1인 시위 중이다. 이미 자신의 지역에 대규모 임대아...</td>\n",
       "      <td>http://news.khan.co.kr/kh_news/khan_art_view.h...</td>\n",
       "      <td>예외</td>\n",
       "      <td>2019</td>\n",
       "      <td>3</td>\n",
       "      <td>31</td>\n",
       "      <td>[서울, 공공주택, 부동산, 불평등, 사람들, 임대아파트, 예정지, 쇼핑몰, 대학교...</td>\n",
       "      <td>10</td>\n",
       "      <td>0.494252</td>\n",
       "      <td>외국내</td>\n",
       "    </tr>\n",
       "    <tr>\n",
       "      <th>4</th>\n",
       "      <td>1101001.201903</td>\n",
       "      <td>20190331</td>\n",
       "      <td>한겨레</td>\n",
       "      <td>김은형</td>\n",
       "      <td>[편집국에서] 바르다가 사랑한 노년 / 김은형</td>\n",
       "      <td>문화&gt;방송_연예</td>\n",
       "      <td>문화&gt;영화</td>\n",
       "      <td>문화&gt;전시_공연</td>\n",
       "      <td>NaN</td>\n",
       "      <td>NaN</td>\n",
       "      <td>...</td>\n",
       "      <td>김은형문화에디터\\n\\n 누벨바그의 어머니라고 일컬어지던 아녜스 바르다가 28일(현지...</td>\n",
       "      <td>http://www.hani.co.kr/arti/opinion/column/8881...</td>\n",
       "      <td>NaN</td>\n",
       "      <td>2019</td>\n",
       "      <td>3</td>\n",
       "      <td>31</td>\n",
       "      <td>[바르다, 성형외과, 고다르, 누벨바그, 혜자, 제이아르, 아녜스, 사진가, 김은형...</td>\n",
       "      <td>6</td>\n",
       "      <td>0.767799</td>\n",
       "      <td>외국내</td>\n",
       "    </tr>\n",
       "  </tbody>\n",
       "</table>\n",
       "<p>5 rows × 26 columns</p>\n",
       "</div>"
      ],
      "text/plain": [
       "           뉴스 식별자        일자   언론사                     기고자  \\\n",
       "0  1101101.201903  20190331  한국일보                     손영하   \n",
       "1  1100611.201903  20190331  서울신문                     이정수   \n",
       "2  1100101.201903  20190331  경향신문                김희연 문화부장   \n",
       "3  1100101.201903  20190331  경향신문  오찬호 &lt;진격의 대학교&gt; 저자   \n",
       "4  1101001.201903  20190331   한겨레                     김은형   \n",
       "\n",
       "                                  제목    통합 분류1          통합 분류2     통합 분류3  \\\n",
       "0  페이스북 위기에 저커버그 입장 바꿔 \"온라인 규제 강화해야\"   국제>국제일반   IT_과학>인터넷_SNS        NaN   \n",
       "1   “강간 갱뱅 칼빵 ” 래퍼 김효은 ‘머니 로드’ 가사 논란  문화>방송_연예           문화>생활        NaN   \n",
       "2    [아침을 열며]초연결 시대, 우리는 정말 ‘우리’가 될까     문화>영화           문화>출판   문화>미술_건축   \n",
       "3                   [시선]인생을 건 부동산 투기    경제>부동산           문화>출판      사회>여성   \n",
       "4          [편집국에서] 바르다가 사랑한 노년 / 김은형  문화>방송_연예           문화>영화   문화>전시_공연   \n",
       "\n",
       "    사건/사고 분류1 사건/사고 분류2  ...  \\\n",
       "0         NaN       NaN  ...   \n",
       "1         NaN       NaN  ...   \n",
       "2  사회>사회문제>빈곤       NaN  ...   \n",
       "3  사회>사회갈등>시위       NaN  ...   \n",
       "4         NaN       NaN  ...   \n",
       "\n",
       "                                                  본문  \\\n",
       "0  세계적인 사회관계망서비스(SNS) 페이스북의 창업자이자 최고경영자(CEO)인 마크 ...   \n",
       "1  래퍼 김효은(26)의 신곡 ‘머니 로드’(Money Road)가 폭력적인 혐오 가사...   \n",
       "2  나는 과연 초시대를 살고 있는가, 우리 사회는 초연결 사회가 될까.\\n\\n요즘 TV...   \n",
       "3  그는 공공주택 건설을 반대하는 1인 시위 중이다. 이미 자신의 지역에 대규모 임대아...   \n",
       "4  김은형문화에디터\\n\\n 누벨바그의 어머니라고 일컬어지던 아녜스 바르다가 28일(현지...   \n",
       "\n",
       "                                                 URL 분석제외 여부  year month day  \\\n",
       "0                                                NaN     NaN  2019     3  31   \n",
       "1  http://www.seoul.co.kr/news/newsView.php?id=20...     NaN  2019     3  31   \n",
       "2  http://news.khan.co.kr/kh_news/khan_art_view.h...     NaN  2019     3  31   \n",
       "3  http://news.khan.co.kr/kh_news/khan_art_view.h...      예외  2019     3  31   \n",
       "4  http://www.hani.co.kr/arti/opinion/column/8881...     NaN  2019     3  31   \n",
       "\n",
       "                                           특성추출top10 topicnum topic_rat  \\\n",
       "0  [페이스북, 저커버그, 온라인, 생중계, 도빌, 프랑스, 뉴질랜드, 미국, 샌드버그...       10  0.406234   \n",
       "1   [김효은, 갱뱅, 칼빵, 온라인, 엠넷, 한국, 성폭력, 표현들, 가족들, 엠비션뮤직]        5  0.307490   \n",
       "2  [장애인, 미국, 서울, 도플갱어, 스마트한, 김희연, 한국, 5g, 아메리카, 사람들]       10  0.327709   \n",
       "3  [서울, 공공주택, 부동산, 불평등, 사람들, 임대아파트, 예정지, 쇼핑몰, 대학교...       10  0.494252   \n",
       "4  [바르다, 성형외과, 고다르, 누벨바그, 혜자, 제이아르, 아녜스, 사진가, 김은형...        6  0.767799   \n",
       "\n",
       "   topic_name  \n",
       "0         외국내  \n",
       "1          남성  \n",
       "2         외국내  \n",
       "3         외국내  \n",
       "4         외국내  \n",
       "\n",
       "[5 rows x 26 columns]"
      ]
     },
     "execution_count": 46,
     "metadata": {},
     "output_type": "execute_result"
    }
   ],
   "source": [
    "split_data.head()"
   ]
  },
  {
   "cell_type": "markdown",
   "id": "2234d69b-393c-4a49-a7a7-8fa0177ebf79",
   "metadata": {},
   "source": [
    "### 기사 수 세기"
   ]
  },
  {
   "cell_type": "code",
   "execution_count": 97,
   "id": "a4c2e122-2473-4cde-abf4-919512cc9900",
   "metadata": {
    "tags": []
   },
   "outputs": [],
   "source": [
    "df = split_data.copy()\n",
    "hates = ['정치','LGBT','이민자','남성','외국내','플랫폼','일본','혐오시설']\n",
    "hate_cnt = {'정치':[],'LGBT':[],'이민자':[],'남성':[],'외국내':[],'플랫폼':[],'일본':[],'혐오시설':[]}\n",
    "\n",
    "\n",
    "years = [i for i in range(2000, 2020)]\n",
    "months = [i for i in range(1, 13)]\n",
    "cnt = []\n",
    "tcnt = []\n",
    "\n",
    "for h in hates:\n",
    "    for y in years:\n",
    "        for m in months:\n",
    "            condition = (df.topic_name == h) & (df.year == y) & (df.month == m)\n",
    "            cnt.append(len(df[condition]))\n",
    "        tcnt.extend(cnt)\n",
    "        cnt = []\n",
    "    hate_cnt[h].extend(tcnt)\n",
    "    tcnt = []\n"
   ]
  },
  {
   "cell_type": "code",
   "execution_count": 98,
   "id": "850f8a46-79ca-4977-83d2-59b858774585",
   "metadata": {},
   "outputs": [
    {
     "data": {
      "text/html": [
       "<div>\n",
       "<style scoped>\n",
       "    .dataframe tbody tr th:only-of-type {\n",
       "        vertical-align: middle;\n",
       "    }\n",
       "\n",
       "    .dataframe tbody tr th {\n",
       "        vertical-align: top;\n",
       "    }\n",
       "\n",
       "    .dataframe thead th {\n",
       "        text-align: right;\n",
       "    }\n",
       "</style>\n",
       "<table border=\"1\" class=\"dataframe\">\n",
       "  <thead>\n",
       "    <tr style=\"text-align: right;\">\n",
       "      <th></th>\n",
       "      <th>year</th>\n",
       "      <th>month</th>\n",
       "      <th>정치</th>\n",
       "      <th>LGBT</th>\n",
       "      <th>이민자</th>\n",
       "      <th>남성</th>\n",
       "      <th>외국내</th>\n",
       "      <th>플랫폼</th>\n",
       "      <th>일본</th>\n",
       "      <th>혐오시설</th>\n",
       "    </tr>\n",
       "  </thead>\n",
       "  <tbody>\n",
       "    <tr>\n",
       "      <th>0</th>\n",
       "      <td>NaN</td>\n",
       "      <td>NaN</td>\n",
       "      <td>85</td>\n",
       "      <td>3</td>\n",
       "      <td>4</td>\n",
       "      <td>0</td>\n",
       "      <td>20</td>\n",
       "      <td>1</td>\n",
       "      <td>2</td>\n",
       "      <td>13</td>\n",
       "    </tr>\n",
       "    <tr>\n",
       "      <th>1</th>\n",
       "      <td>NaN</td>\n",
       "      <td>NaN</td>\n",
       "      <td>52</td>\n",
       "      <td>3</td>\n",
       "      <td>6</td>\n",
       "      <td>4</td>\n",
       "      <td>26</td>\n",
       "      <td>1</td>\n",
       "      <td>2</td>\n",
       "      <td>16</td>\n",
       "    </tr>\n",
       "    <tr>\n",
       "      <th>2</th>\n",
       "      <td>NaN</td>\n",
       "      <td>NaN</td>\n",
       "      <td>80</td>\n",
       "      <td>10</td>\n",
       "      <td>6</td>\n",
       "      <td>7</td>\n",
       "      <td>19</td>\n",
       "      <td>3</td>\n",
       "      <td>0</td>\n",
       "      <td>13</td>\n",
       "    </tr>\n",
       "    <tr>\n",
       "      <th>3</th>\n",
       "      <td>NaN</td>\n",
       "      <td>NaN</td>\n",
       "      <td>93</td>\n",
       "      <td>6</td>\n",
       "      <td>8</td>\n",
       "      <td>1</td>\n",
       "      <td>22</td>\n",
       "      <td>2</td>\n",
       "      <td>2</td>\n",
       "      <td>10</td>\n",
       "    </tr>\n",
       "    <tr>\n",
       "      <th>4</th>\n",
       "      <td>NaN</td>\n",
       "      <td>NaN</td>\n",
       "      <td>30</td>\n",
       "      <td>2</td>\n",
       "      <td>8</td>\n",
       "      <td>2</td>\n",
       "      <td>30</td>\n",
       "      <td>3</td>\n",
       "      <td>3</td>\n",
       "      <td>14</td>\n",
       "    </tr>\n",
       "    <tr>\n",
       "      <th>...</th>\n",
       "      <td>...</td>\n",
       "      <td>...</td>\n",
       "      <td>...</td>\n",
       "      <td>...</td>\n",
       "      <td>...</td>\n",
       "      <td>...</td>\n",
       "      <td>...</td>\n",
       "      <td>...</td>\n",
       "      <td>...</td>\n",
       "      <td>...</td>\n",
       "    </tr>\n",
       "    <tr>\n",
       "      <th>235</th>\n",
       "      <td>NaN</td>\n",
       "      <td>NaN</td>\n",
       "      <td>286</td>\n",
       "      <td>82</td>\n",
       "      <td>48</td>\n",
       "      <td>48</td>\n",
       "      <td>282</td>\n",
       "      <td>28</td>\n",
       "      <td>69</td>\n",
       "      <td>16</td>\n",
       "    </tr>\n",
       "    <tr>\n",
       "      <th>236</th>\n",
       "      <td>NaN</td>\n",
       "      <td>NaN</td>\n",
       "      <td>264</td>\n",
       "      <td>56</td>\n",
       "      <td>81</td>\n",
       "      <td>67</td>\n",
       "      <td>173</td>\n",
       "      <td>40</td>\n",
       "      <td>116</td>\n",
       "      <td>36</td>\n",
       "    </tr>\n",
       "    <tr>\n",
       "      <th>237</th>\n",
       "      <td>NaN</td>\n",
       "      <td>NaN</td>\n",
       "      <td>271</td>\n",
       "      <td>53</td>\n",
       "      <td>62</td>\n",
       "      <td>42</td>\n",
       "      <td>182</td>\n",
       "      <td>140</td>\n",
       "      <td>61</td>\n",
       "      <td>21</td>\n",
       "    </tr>\n",
       "    <tr>\n",
       "      <th>238</th>\n",
       "      <td>NaN</td>\n",
       "      <td>NaN</td>\n",
       "      <td>372</td>\n",
       "      <td>57</td>\n",
       "      <td>80</td>\n",
       "      <td>56</td>\n",
       "      <td>195</td>\n",
       "      <td>75</td>\n",
       "      <td>65</td>\n",
       "      <td>20</td>\n",
       "    </tr>\n",
       "    <tr>\n",
       "      <th>239</th>\n",
       "      <td>NaN</td>\n",
       "      <td>NaN</td>\n",
       "      <td>272</td>\n",
       "      <td>55</td>\n",
       "      <td>59</td>\n",
       "      <td>58</td>\n",
       "      <td>199</td>\n",
       "      <td>65</td>\n",
       "      <td>71</td>\n",
       "      <td>20</td>\n",
       "    </tr>\n",
       "  </tbody>\n",
       "</table>\n",
       "<p>240 rows × 10 columns</p>\n",
       "</div>"
      ],
      "text/plain": [
       "    year month   정치  LGBT  이민자  남성  외국내  플랫폼   일본  혐오시설\n",
       "0    NaN   NaN   85     3    4   0   20    1    2    13\n",
       "1    NaN   NaN   52     3    6   4   26    1    2    16\n",
       "2    NaN   NaN   80    10    6   7   19    3    0    13\n",
       "3    NaN   NaN   93     6    8   1   22    2    2    10\n",
       "4    NaN   NaN   30     2    8   2   30    3    3    14\n",
       "..   ...   ...  ...   ...  ...  ..  ...  ...  ...   ...\n",
       "235  NaN   NaN  286    82   48  48  282   28   69    16\n",
       "236  NaN   NaN  264    56   81  67  173   40  116    36\n",
       "237  NaN   NaN  271    53   62  42  182  140   61    21\n",
       "238  NaN   NaN  372    57   80  56  195   75   65    20\n",
       "239  NaN   NaN  272    55   59  58  199   65   71    20\n",
       "\n",
       "[240 rows x 10 columns]"
      ]
     },
     "execution_count": 98,
     "metadata": {},
     "output_type": "execute_result"
    }
   ],
   "source": [
    "year_hatecnt = pd.DataFrame(columns=['year','month','정치','LGBT','이민자','남성','외국내','플랫폼','일본','혐오시설'])\n",
    "\n",
    "for h in hates:\n",
    "    year_hatecnt[h] = hate_cnt[h]\n",
    "    \n",
    "year_hatecnt"
   ]
  },
  {
   "cell_type": "code",
   "execution_count": 104,
   "id": "7c8fd6f9-9715-4f94-bd26-3bdc82a2e8e8",
   "metadata": {},
   "outputs": [
    {
     "data": {
      "text/html": [
       "<div>\n",
       "<style scoped>\n",
       "    .dataframe tbody tr th:only-of-type {\n",
       "        vertical-align: middle;\n",
       "    }\n",
       "\n",
       "    .dataframe tbody tr th {\n",
       "        vertical-align: top;\n",
       "    }\n",
       "\n",
       "    .dataframe thead th {\n",
       "        text-align: right;\n",
       "    }\n",
       "</style>\n",
       "<table border=\"1\" class=\"dataframe\">\n",
       "  <thead>\n",
       "    <tr style=\"text-align: right;\">\n",
       "      <th></th>\n",
       "      <th>year</th>\n",
       "      <th>month</th>\n",
       "      <th>정치</th>\n",
       "      <th>LGBT</th>\n",
       "      <th>이민자</th>\n",
       "      <th>남성</th>\n",
       "      <th>외국내</th>\n",
       "      <th>플랫폼</th>\n",
       "      <th>일본</th>\n",
       "      <th>혐오시설</th>\n",
       "    </tr>\n",
       "  </thead>\n",
       "  <tbody>\n",
       "    <tr>\n",
       "      <th>0</th>\n",
       "      <td>2000</td>\n",
       "      <td>1</td>\n",
       "      <td>85</td>\n",
       "      <td>3</td>\n",
       "      <td>4</td>\n",
       "      <td>0</td>\n",
       "      <td>20</td>\n",
       "      <td>1</td>\n",
       "      <td>2</td>\n",
       "      <td>13</td>\n",
       "    </tr>\n",
       "    <tr>\n",
       "      <th>1</th>\n",
       "      <td>2000</td>\n",
       "      <td>2</td>\n",
       "      <td>52</td>\n",
       "      <td>3</td>\n",
       "      <td>6</td>\n",
       "      <td>4</td>\n",
       "      <td>26</td>\n",
       "      <td>1</td>\n",
       "      <td>2</td>\n",
       "      <td>16</td>\n",
       "    </tr>\n",
       "    <tr>\n",
       "      <th>2</th>\n",
       "      <td>2000</td>\n",
       "      <td>3</td>\n",
       "      <td>80</td>\n",
       "      <td>10</td>\n",
       "      <td>6</td>\n",
       "      <td>7</td>\n",
       "      <td>19</td>\n",
       "      <td>3</td>\n",
       "      <td>0</td>\n",
       "      <td>13</td>\n",
       "    </tr>\n",
       "    <tr>\n",
       "      <th>3</th>\n",
       "      <td>2000</td>\n",
       "      <td>4</td>\n",
       "      <td>93</td>\n",
       "      <td>6</td>\n",
       "      <td>8</td>\n",
       "      <td>1</td>\n",
       "      <td>22</td>\n",
       "      <td>2</td>\n",
       "      <td>2</td>\n",
       "      <td>10</td>\n",
       "    </tr>\n",
       "    <tr>\n",
       "      <th>4</th>\n",
       "      <td>2000</td>\n",
       "      <td>5</td>\n",
       "      <td>30</td>\n",
       "      <td>2</td>\n",
       "      <td>8</td>\n",
       "      <td>2</td>\n",
       "      <td>30</td>\n",
       "      <td>3</td>\n",
       "      <td>3</td>\n",
       "      <td>14</td>\n",
       "    </tr>\n",
       "    <tr>\n",
       "      <th>...</th>\n",
       "      <td>...</td>\n",
       "      <td>...</td>\n",
       "      <td>...</td>\n",
       "      <td>...</td>\n",
       "      <td>...</td>\n",
       "      <td>...</td>\n",
       "      <td>...</td>\n",
       "      <td>...</td>\n",
       "      <td>...</td>\n",
       "      <td>...</td>\n",
       "    </tr>\n",
       "    <tr>\n",
       "      <th>235</th>\n",
       "      <td>2019</td>\n",
       "      <td>8</td>\n",
       "      <td>286</td>\n",
       "      <td>82</td>\n",
       "      <td>48</td>\n",
       "      <td>48</td>\n",
       "      <td>282</td>\n",
       "      <td>28</td>\n",
       "      <td>69</td>\n",
       "      <td>16</td>\n",
       "    </tr>\n",
       "    <tr>\n",
       "      <th>236</th>\n",
       "      <td>2019</td>\n",
       "      <td>9</td>\n",
       "      <td>264</td>\n",
       "      <td>56</td>\n",
       "      <td>81</td>\n",
       "      <td>67</td>\n",
       "      <td>173</td>\n",
       "      <td>40</td>\n",
       "      <td>116</td>\n",
       "      <td>36</td>\n",
       "    </tr>\n",
       "    <tr>\n",
       "      <th>237</th>\n",
       "      <td>2019</td>\n",
       "      <td>10</td>\n",
       "      <td>271</td>\n",
       "      <td>53</td>\n",
       "      <td>62</td>\n",
       "      <td>42</td>\n",
       "      <td>182</td>\n",
       "      <td>140</td>\n",
       "      <td>61</td>\n",
       "      <td>21</td>\n",
       "    </tr>\n",
       "    <tr>\n",
       "      <th>238</th>\n",
       "      <td>2019</td>\n",
       "      <td>11</td>\n",
       "      <td>372</td>\n",
       "      <td>57</td>\n",
       "      <td>80</td>\n",
       "      <td>56</td>\n",
       "      <td>195</td>\n",
       "      <td>75</td>\n",
       "      <td>65</td>\n",
       "      <td>20</td>\n",
       "    </tr>\n",
       "    <tr>\n",
       "      <th>239</th>\n",
       "      <td>2019</td>\n",
       "      <td>12</td>\n",
       "      <td>272</td>\n",
       "      <td>55</td>\n",
       "      <td>59</td>\n",
       "      <td>58</td>\n",
       "      <td>199</td>\n",
       "      <td>65</td>\n",
       "      <td>71</td>\n",
       "      <td>20</td>\n",
       "    </tr>\n",
       "  </tbody>\n",
       "</table>\n",
       "<p>240 rows × 10 columns</p>\n",
       "</div>"
      ],
      "text/plain": [
       "     year  month   정치  LGBT  이민자  남성  외국내  플랫폼   일본  혐오시설\n",
       "0    2000      1   85     3    4   0   20    1    2    13\n",
       "1    2000      2   52     3    6   4   26    1    2    16\n",
       "2    2000      3   80    10    6   7   19    3    0    13\n",
       "3    2000      4   93     6    8   1   22    2    2    10\n",
       "4    2000      5   30     2    8   2   30    3    3    14\n",
       "..    ...    ...  ...   ...  ...  ..  ...  ...  ...   ...\n",
       "235  2019      8  286    82   48  48  282   28   69    16\n",
       "236  2019      9  264    56   81  67  173   40  116    36\n",
       "237  2019     10  271    53   62  42  182  140   61    21\n",
       "238  2019     11  372    57   80  56  195   75   65    20\n",
       "239  2019     12  272    55   59  58  199   65   71    20\n",
       "\n",
       "[240 rows x 10 columns]"
      ]
     },
     "execution_count": 104,
     "metadata": {},
     "output_type": "execute_result"
    }
   ],
   "source": [
    "year_hatecnt['year'] = [k for k in range(2000, 2020) for i in range(12)]\n",
    "year_hatecnt['month'] = [k for k in range(1, 13)]*len(years)\n",
    "\n",
    "\n",
    "year_hatecnt"
   ]
  },
  {
   "cell_type": "code",
   "execution_count": 105,
   "id": "ae049bd3-7eb1-49f9-a45c-7b4b32ab6474",
   "metadata": {},
   "outputs": [],
   "source": [
    "year_hatecnt.to_csv('year_hatecnt_beforecorona_0624.csv')"
   ]
  },
  {
   "cell_type": "code",
   "execution_count": 73,
   "id": "41c39582-5575-43c8-9e54-7b67d0159cde",
   "metadata": {},
   "outputs": [
    {
     "data": {
      "text/plain": [
       "58"
      ]
     },
     "execution_count": 73,
     "metadata": {},
     "output_type": "execute_result"
    }
   ],
   "source": [
    "sum([6, 7, 4, 2, 5, 5, 6, 6, 4, 5, 6, 2])"
   ]
  },
  {
   "cell_type": "code",
   "execution_count": 266,
   "id": "2f880640-2b57-4047-bc85-47ed568b1664",
   "metadata": {},
   "outputs": [
    {
     "data": {
      "text/html": [
       "<div>\n",
       "<style scoped>\n",
       "    .dataframe tbody tr th:only-of-type {\n",
       "        vertical-align: middle;\n",
       "    }\n",
       "\n",
       "    .dataframe tbody tr th {\n",
       "        vertical-align: top;\n",
       "    }\n",
       "\n",
       "    .dataframe thead th {\n",
       "        text-align: right;\n",
       "    }\n",
       "</style>\n",
       "<table border=\"1\" class=\"dataframe\">\n",
       "  <thead>\n",
       "    <tr style=\"text-align: right;\">\n",
       "      <th></th>\n",
       "      <th>topic</th>\n",
       "      <th>title</th>\n",
       "    </tr>\n",
       "  </thead>\n",
       "  <tbody>\n",
       "    <tr>\n",
       "      <th>0</th>\n",
       "      <td>LGBT</td>\n",
       "      <td>“가까운 곳에 성소수자가 있음을 알리고 싶었어요”</td>\n",
       "    </tr>\n",
       "    <tr>\n",
       "      <th>1</th>\n",
       "      <td>LGBT</td>\n",
       "      <td>퀴어축제 “성소수자 혐오 반대에서 전체 소수자 혐오 반대로”</td>\n",
       "    </tr>\n",
       "    <tr>\n",
       "      <th>2</th>\n",
       "      <td>LGBT</td>\n",
       "      <td>김조광수, 국내 첫 '동성 결혼' 공식 발표 혐오는 이제 그만!</td>\n",
       "    </tr>\n",
       "  </tbody>\n",
       "</table>\n",
       "</div>"
      ],
      "text/plain": [
       "  topic                                title\n",
       "0  LGBT          “가까운 곳에 성소수자가 있음을 알리고 싶었어요”\n",
       "1  LGBT    퀴어축제 “성소수자 혐오 반대에서 전체 소수자 혐오 반대로”\n",
       "2  LGBT  김조광수, 국내 첫 '동성 결혼' 공식 발표 혐오는 이제 그만!"
      ]
     },
     "execution_count": 266,
     "metadata": {},
     "output_type": "execute_result"
    }
   ],
   "source": [
    "from random import randrange\n",
    "\n",
    "topic  = []\n",
    "title = []\n",
    "samples_aftercorona = pd.DataFrame(columns = ['topic', 'title'])\n",
    "\n",
    "for h in ['LGBT']:\n",
    "    dff = df[df['topic_name'] == h]\n",
    "    dff = dff.sample(n = 3, random_state = randrange(1100000))\n",
    "\n",
    "    topic.extend(dff['topic_name'].to_list())\n",
    "    title.extend(dff['제목'].to_list())\n",
    "    \n",
    "samples_aftercorona['topic'] = topic\n",
    "samples_aftercorona['title'] = title\n",
    "\n",
    "samples_aftercorona"
   ]
  },
  {
   "cell_type": "code",
   "execution_count": 159,
   "id": "424a22a6-7111-4ae8-9524-1c146e326503",
   "metadata": {},
   "outputs": [
    {
     "data": {
      "text/plain": [
       "\"왕, 황제, 회장님 게임 출시 1년 '미녀'와 재미있으셨나요\""
      ]
     },
     "execution_count": 159,
     "metadata": {},
     "output_type": "execute_result"
    }
   ],
   "source": [
    "samples_aftercorona['title'][0]"
   ]
  },
  {
   "cell_type": "code",
   "execution_count": null,
   "id": "294bf109-636f-4a05-8d67-d3da96349945",
   "metadata": {},
   "outputs": [],
   "source": []
  }
 ],
 "metadata": {
  "kernelspec": {
   "display_name": "mglee_save",
   "language": "python",
   "name": "save"
  },
  "language_info": {
   "codemirror_mode": {
    "name": "ipython",
    "version": 3
   },
   "file_extension": ".py",
   "mimetype": "text/x-python",
   "name": "python",
   "nbconvert_exporter": "python",
   "pygments_lexer": "ipython3",
   "version": "3.8.12"
  },
  "vscode": {
   "interpreter": {
    "hash": "c6f34507fa43ba317958b721fa8398d2051b96ef3f3b32ff98429c26ce06f8cf"
   }
  }
 },
 "nbformat": 4,
 "nbformat_minor": 5
}
