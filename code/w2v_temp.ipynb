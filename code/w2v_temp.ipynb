{
 "cells": [
  {
   "cell_type": "code",
   "execution_count": 2,
   "metadata": {},
   "outputs": [
    {
     "name": "stdout",
     "output_type": "stream",
     "text": [
      "data load start\n"
     ]
    }
   ],
   "source": [
    "import pandas as pd\n",
    "import datetime\n",
    "import numpy as np\n",
    "\n",
    "\n",
    "w = int(input(\"window size: \"))\n",
    "m = int(input(\"min size: \"))\n",
    "\n",
    "start_time = datetime.datetime.now()\n",
    "print(\"data load start\")\n",
    "DATA_PATH = \"../data/pkl/\"\n",
    "data = pd.read_pickle(f\"{DATA_PATH}merged_filtered_0620.pkl\")\n",
    "print(\"loaded\")\n",
    "print(datetime.datetime.now() - start_time)"
   ]
  },
  {
   "cell_type": "code",
   "execution_count": 7,
   "metadata": {},
   "outputs": [
    {
     "data": {
      "text/plain": [
       "Index(['뉴스 식별자', '일자', '언론사', '기고자', '제목', '통합 분류1', '통합 분류2', '통합 분류3',\n",
       "       '사건/사고 분류1', '사건/사고 분류2', '사건/사고 분류3', '인물', '위치', '기관', '키워드',\n",
       "       '특성추출(가중치순 상위 50개)', '본문', 'URL', '분석제외 여부', 'city', 'filter_keyword'],\n",
       "      dtype='object')"
      ]
     },
     "execution_count": 7,
     "metadata": {},
     "output_type": "execute_result"
    }
   ],
   "source": [
    "data.columns"
   ]
  },
  {
   "cell_type": "code",
   "execution_count": 24,
   "metadata": {},
   "outputs": [],
   "source": [
    "# for idx, txt in enumerate(list(data['특성추출(가중치순 상위 50개)'])):\n",
    "#     if type(txt) == float:\n",
    "#         data.iloc[idx, 15] = \"NONE\"\n",
    "\n",
    "# for idx, txt in enumerate(list(data['특성추출(가중치순 상위 50개)'])):\n",
    "#     if type(txt) == float:\n",
    "#         print(txt)        "
   ]
  },
  {
   "cell_type": "code",
   "execution_count": 8,
   "metadata": {},
   "outputs": [],
   "source": [
    "y = []\n",
    "m = []\n",
    "d = []\n",
    "def str_to_dt(x):\n",
    "    temp = datetime.datetime.strptime(str(x), '%Y%m%d')\n",
    "    y.append(temp.year)\n",
    "    m.append(temp.month)\n",
    "    d.append(temp.day)\n",
    "\n",
    "data['일자'].apply(lambda x : str_to_dt(x))\n",
    "data['year'] = y\n",
    "data['month'] = m\n",
    "data['day'] = d\n",
    "\n",
    "del y, m, d"
   ]
  },
  {
   "cell_type": "code",
   "execution_count": 9,
   "metadata": {},
   "outputs": [
    {
     "name": "stdout",
     "output_type": "stream",
     "text": [
      "<class 'pandas.core.frame.DataFrame'>\n",
      "Int64Index: 486123 entries, 1 to 75862\n",
      "Data columns (total 24 columns):\n",
      " #   Column             Non-Null Count   Dtype \n",
      "---  ------             --------------   ----- \n",
      " 0   뉴스 식별자             486123 non-null  object\n",
      " 1   일자                 486123 non-null  int64 \n",
      " 2   언론사                486123 non-null  object\n",
      " 3   기고자                411200 non-null  object\n",
      " 4   제목                 486123 non-null  object\n",
      " 5   통합 분류1             486123 non-null  object\n",
      " 6   통합 분류2             429661 non-null  object\n",
      " 7   통합 분류3             388250 non-null  object\n",
      " 8   사건/사고 분류1          67901 non-null   object\n",
      " 9   사건/사고 분류2          18098 non-null   object\n",
      " 10  사건/사고 분류3          6180 non-null    object\n",
      " 11  인물                 202185 non-null  object\n",
      " 12  위치                 476814 non-null  object\n",
      " 13  기관                 470954 non-null  object\n",
      " 14  키워드                486123 non-null  object\n",
      " 15  특성추출(가중치순 상위 50개)  486123 non-null  object\n",
      " 16  본문                 486123 non-null  object\n",
      " 17  URL                61306 non-null   object\n",
      " 18  분석제외 여부            12226 non-null   object\n",
      " 19  city               486123 non-null  object\n",
      " 20  filter_keyword     486123 non-null  object\n",
      " 21  year               486123 non-null  int64 \n",
      " 22  month              486123 non-null  int64 \n",
      " 23  day                486123 non-null  int64 \n",
      "dtypes: int64(4), object(20)\n",
      "memory usage: 92.7+ MB\n",
      "None\n"
     ]
    }
   ],
   "source": [
    "start = int(input(\"from : \"))\n",
    "end = int(input(\"to : \"))\n",
    "\n",
    "temp = data[data['year'] >= start]\n",
    "data = temp[temp['year'] <= end]\n",
    "del temp\n",
    "print(data.info())"
   ]
  },
  {
   "cell_type": "code",
   "execution_count": 10,
   "metadata": {},
   "outputs": [],
   "source": [
    "key_lst = list(data['특성추출(가중치순 상위 50개)'])\n",
    "del data\n",
    "\n",
    "for idx, txt in enumerate(key_lst):\n",
    "    if type(txt) == float:\n",
    "        key_lst[idx] = \"NONE\""
   ]
  },
  {
   "cell_type": "code",
   "execution_count": 12,
   "metadata": {},
   "outputs": [
    {
     "data": {
      "text/plain": [
       "['김전무,이의원,김해중,민자당,김은상,민주당,종친회,위원장,지역구,13대,무소속,김영일,1천,중앙당,박용덕,1만,조직책,오랫동안,오세호,5공,유씨,이학봉,통일원,동창회,선거운동,유신현,지역사업,유신현씨,미지수',\n",
       " '격려금,손목시계,국제통상,동구,원씩,慶南,金泉,머코스키,회의실,釜山日報社,근로자들,부산대,진념,국민학생,李鳳瑞,金昌局,사무국장,曹京植,부위원장,金殷湘,대학원,전남,한국무역협회,장학금,도장학관,愛鄕大賞,6명,이틀간',\n",
       " '농수산물,부산,김해시,전자식,부산등,전자식전화기,홍성군등,전화기,이용자,서울,농수산물유통공사,홍성군,군지역,정보,확대,시황,서비스,지역,음성,도소매,가격,이용,제공,제도']"
      ]
     },
     "execution_count": 12,
     "metadata": {},
     "output_type": "execute_result"
    }
   ],
   "source": [
    "key_lst[:3]"
   ]
  },
  {
   "cell_type": "code",
   "execution_count": 13,
   "metadata": {},
   "outputs": [
    {
     "name": "stdout",
     "output_type": "stream",
     "text": [
      "model build\n"
     ]
    },
    {
     "ename": "TypeError",
     "evalue": "'>=' not supported between instances of 'int' and 'list'",
     "output_type": "error",
     "traceback": [
      "\u001b[0;31m---------------------------------------------------------------------------\u001b[0m",
      "\u001b[0;31mTypeError\u001b[0m                                 Traceback (most recent call last)",
      "\u001b[1;32m/home/mglee/VSCODE/git_folder/UrbanTransformation/code/w2v_temp.ipynb Cell 8'\u001b[0m in \u001b[0;36m<cell line: 3>\u001b[0;34m()\u001b[0m\n\u001b[1;32m      <a href='vscode-notebook-cell://ssh-remote%2B141.223.144.85/home/mglee/VSCODE/git_folder/UrbanTransformation/code/w2v_temp.ipynb#ch0000001vscode-remote?line=0'>1</a>\u001b[0m \u001b[39mprint\u001b[39m(\u001b[39m'\u001b[39m\u001b[39mmodel build\u001b[39m\u001b[39m'\u001b[39m)\n\u001b[1;32m      <a href='vscode-notebook-cell://ssh-remote%2B141.223.144.85/home/mglee/VSCODE/git_folder/UrbanTransformation/code/w2v_temp.ipynb#ch0000001vscode-remote?line=1'>2</a>\u001b[0m \u001b[39mfrom\u001b[39;00m \u001b[39mgensim\u001b[39;00m\u001b[39m.\u001b[39;00m\u001b[39mmodels\u001b[39;00m \u001b[39mimport\u001b[39;00m Word2Vec\n\u001b[0;32m----> <a href='vscode-notebook-cell://ssh-remote%2B141.223.144.85/home/mglee/VSCODE/git_folder/UrbanTransformation/code/w2v_temp.ipynb#ch0000001vscode-remote?line=2'>3</a>\u001b[0m model \u001b[39m=\u001b[39m Word2Vec(sentences\u001b[39m=\u001b[39;49m key_lst, window\u001b[39m=\u001b[39;49mw, min_count\u001b[39m=\u001b[39;49mm, workers\u001b[39m=\u001b[39;49m\u001b[39m8\u001b[39;49m, sg\u001b[39m=\u001b[39;49m\u001b[39m0\u001b[39;49m)\n\u001b[1;32m      <a href='vscode-notebook-cell://ssh-remote%2B141.223.144.85/home/mglee/VSCODE/git_folder/UrbanTransformation/code/w2v_temp.ipynb#ch0000001vscode-remote?line=3'>4</a>\u001b[0m \u001b[39mprint\u001b[39m(\u001b[39m\"\u001b[39m\u001b[39mmodle builded\u001b[39m\u001b[39m\"\u001b[39m)\n\u001b[1;32m      <a href='vscode-notebook-cell://ssh-remote%2B141.223.144.85/home/mglee/VSCODE/git_folder/UrbanTransformation/code/w2v_temp.ipynb#ch0000001vscode-remote?line=5'>6</a>\u001b[0m \u001b[39mfrom\u001b[39;00m \u001b[39mgensim\u001b[39;00m\u001b[39m.\u001b[39;00m\u001b[39mmodels\u001b[39;00m \u001b[39mimport\u001b[39;00m KeyedVectors\n",
      "File \u001b[0;32m~/.conda/envs/svmglee/lib/python3.8/site-packages/gensim/models/word2vec.py:425\u001b[0m, in \u001b[0;36mWord2Vec.__init__\u001b[0;34m(self, sentences, corpus_file, vector_size, alpha, window, min_count, max_vocab_size, sample, seed, workers, min_alpha, sg, hs, negative, ns_exponent, cbow_mean, hashfxn, epochs, null_word, trim_rule, sorted_vocab, batch_words, compute_loss, callbacks, comment, max_final_vocab, shrink_windows)\u001b[0m\n\u001b[1;32m    423\u001b[0m \u001b[39mif\u001b[39;00m corpus_iterable \u001b[39mis\u001b[39;00m \u001b[39mnot\u001b[39;00m \u001b[39mNone\u001b[39;00m \u001b[39mor\u001b[39;00m corpus_file \u001b[39mis\u001b[39;00m \u001b[39mnot\u001b[39;00m \u001b[39mNone\u001b[39;00m:\n\u001b[1;32m    424\u001b[0m     \u001b[39mself\u001b[39m\u001b[39m.\u001b[39m_check_corpus_sanity(corpus_iterable\u001b[39m=\u001b[39mcorpus_iterable, corpus_file\u001b[39m=\u001b[39mcorpus_file, passes\u001b[39m=\u001b[39m(epochs \u001b[39m+\u001b[39m \u001b[39m1\u001b[39m))\n\u001b[0;32m--> 425\u001b[0m     \u001b[39mself\u001b[39;49m\u001b[39m.\u001b[39;49mbuild_vocab(corpus_iterable\u001b[39m=\u001b[39;49mcorpus_iterable, corpus_file\u001b[39m=\u001b[39;49mcorpus_file, trim_rule\u001b[39m=\u001b[39;49mtrim_rule)\n\u001b[1;32m    426\u001b[0m     \u001b[39mself\u001b[39m\u001b[39m.\u001b[39mtrain(\n\u001b[1;32m    427\u001b[0m         corpus_iterable\u001b[39m=\u001b[39mcorpus_iterable, corpus_file\u001b[39m=\u001b[39mcorpus_file, total_examples\u001b[39m=\u001b[39m\u001b[39mself\u001b[39m\u001b[39m.\u001b[39mcorpus_count,\n\u001b[1;32m    428\u001b[0m         total_words\u001b[39m=\u001b[39m\u001b[39mself\u001b[39m\u001b[39m.\u001b[39mcorpus_total_words, epochs\u001b[39m=\u001b[39m\u001b[39mself\u001b[39m\u001b[39m.\u001b[39mepochs, start_alpha\u001b[39m=\u001b[39m\u001b[39mself\u001b[39m\u001b[39m.\u001b[39malpha,\n\u001b[1;32m    429\u001b[0m         end_alpha\u001b[39m=\u001b[39m\u001b[39mself\u001b[39m\u001b[39m.\u001b[39mmin_alpha, compute_loss\u001b[39m=\u001b[39m\u001b[39mself\u001b[39m\u001b[39m.\u001b[39mcompute_loss, callbacks\u001b[39m=\u001b[39mcallbacks)\n\u001b[1;32m    430\u001b[0m \u001b[39melse\u001b[39;00m:\n",
      "File \u001b[0;32m~/.conda/envs/svmglee/lib/python3.8/site-packages/gensim/models/word2vec.py:491\u001b[0m, in \u001b[0;36mWord2Vec.build_vocab\u001b[0;34m(self, corpus_iterable, corpus_file, update, progress_per, keep_raw_vocab, trim_rule, **kwargs)\u001b[0m\n\u001b[1;32m    489\u001b[0m \u001b[39mself\u001b[39m\u001b[39m.\u001b[39mcorpus_count \u001b[39m=\u001b[39m corpus_count\n\u001b[1;32m    490\u001b[0m \u001b[39mself\u001b[39m\u001b[39m.\u001b[39mcorpus_total_words \u001b[39m=\u001b[39m total_words\n\u001b[0;32m--> 491\u001b[0m report_values \u001b[39m=\u001b[39m \u001b[39mself\u001b[39;49m\u001b[39m.\u001b[39;49mprepare_vocab(update\u001b[39m=\u001b[39;49mupdate, keep_raw_vocab\u001b[39m=\u001b[39;49mkeep_raw_vocab, trim_rule\u001b[39m=\u001b[39;49mtrim_rule, \u001b[39m*\u001b[39;49m\u001b[39m*\u001b[39;49mkwargs)\n\u001b[1;32m    492\u001b[0m report_values[\u001b[39m'\u001b[39m\u001b[39mmemory\u001b[39m\u001b[39m'\u001b[39m] \u001b[39m=\u001b[39m \u001b[39mself\u001b[39m\u001b[39m.\u001b[39mestimate_memory(vocab_size\u001b[39m=\u001b[39mreport_values[\u001b[39m'\u001b[39m\u001b[39mnum_retained_words\u001b[39m\u001b[39m'\u001b[39m])\n\u001b[1;32m    493\u001b[0m \u001b[39mself\u001b[39m\u001b[39m.\u001b[39mprepare_weights(update\u001b[39m=\u001b[39mupdate)\n",
      "File \u001b[0;32m~/.conda/envs/svmglee/lib/python3.8/site-packages/gensim/models/word2vec.py:644\u001b[0m, in \u001b[0;36mWord2Vec.prepare_vocab\u001b[0;34m(self, update, keep_raw_vocab, trim_rule, min_count, sample, dry_run)\u001b[0m\n\u001b[1;32m    641\u001b[0m     \u001b[39mself\u001b[39m\u001b[39m.\u001b[39mwv\u001b[39m.\u001b[39mkey_to_index \u001b[39m=\u001b[39m {}\n\u001b[1;32m    643\u001b[0m \u001b[39mfor\u001b[39;00m word, v \u001b[39min\u001b[39;00m \u001b[39mself\u001b[39m\u001b[39m.\u001b[39mraw_vocab\u001b[39m.\u001b[39mitems():\n\u001b[0;32m--> 644\u001b[0m     \u001b[39mif\u001b[39;00m keep_vocab_item(word, v, \u001b[39mself\u001b[39;49m\u001b[39m.\u001b[39;49meffective_min_count, trim_rule\u001b[39m=\u001b[39;49mtrim_rule):\n\u001b[1;32m    645\u001b[0m         retain_words\u001b[39m.\u001b[39mappend(word)\n\u001b[1;32m    646\u001b[0m         retain_total \u001b[39m+\u001b[39m\u001b[39m=\u001b[39m v\n",
      "File \u001b[0;32m~/.conda/envs/svmglee/lib/python3.8/site-packages/gensim/utils.py:1848\u001b[0m, in \u001b[0;36mkeep_vocab_item\u001b[0;34m(word, count, min_count, trim_rule)\u001b[0m\n\u001b[1;32m   1827\u001b[0m \u001b[39mdef\u001b[39;00m \u001b[39mkeep_vocab_item\u001b[39m(word, count, min_count, trim_rule\u001b[39m=\u001b[39m\u001b[39mNone\u001b[39;00m):\n\u001b[1;32m   1828\u001b[0m     \u001b[39m\"\"\"Should we keep `word` in the vocab or remove it?\u001b[39;00m\n\u001b[1;32m   1829\u001b[0m \n\u001b[1;32m   1830\u001b[0m \u001b[39m    Parameters\u001b[39;00m\n\u001b[0;32m   (...)\u001b[0m\n\u001b[1;32m   1846\u001b[0m \n\u001b[1;32m   1847\u001b[0m \u001b[39m    \"\"\"\u001b[39;00m\n\u001b[0;32m-> 1848\u001b[0m     default_res \u001b[39m=\u001b[39m count \u001b[39m>\u001b[39;49m\u001b[39m=\u001b[39;49m min_count\n\u001b[1;32m   1850\u001b[0m     \u001b[39mif\u001b[39;00m trim_rule \u001b[39mis\u001b[39;00m \u001b[39mNone\u001b[39;00m:\n\u001b[1;32m   1851\u001b[0m         \u001b[39mreturn\u001b[39;00m default_res\n",
      "\u001b[0;31mTypeError\u001b[0m: '>=' not supported between instances of 'int' and 'list'"
     ]
    }
   ],
   "source": [
    "\n",
    "print('model build')\n",
    "from gensim.models import Word2Vec\n",
    "model = Word2Vec(sentences= key_lst, window=w, min_count=m, workers=8, sg=0)\n",
    "print(\"modle builded\")\n",
    "\n",
    "from gensim.models import KeyedVectors\n",
    "model.save(f'../result/w2v_model/{datetime.datetime.now().strftime(\"%m_%d_%H\")}_w2v_w{w}m{m}') # 모델 저장\n",
    "print('model saved')\n",
    "#print(datetime.datetime.now() - start_time)\n"
   ]
  }
 ],
 "metadata": {
  "kernelspec": {
   "display_name": "Python 3.8.12 ('svmglee')",
   "language": "python",
   "name": "python3"
  },
  "language_info": {
   "codemirror_mode": {
    "name": "ipython",
    "version": 3
   },
   "file_extension": ".py",
   "mimetype": "text/x-python",
   "name": "python",
   "nbconvert_exporter": "python",
   "pygments_lexer": "ipython3",
   "version": "3.8.12"
  },
  "orig_nbformat": 4,
  "vscode": {
   "interpreter": {
    "hash": "c6f34507fa43ba317958b721fa8398d2051b96ef3f3b32ff98429c26ce06f8cf"
   }
  }
 },
 "nbformat": 4,
 "nbformat_minor": 2
}
