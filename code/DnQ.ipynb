{
 "cells": [
  {
   "cell_type": "code",
   "execution_count": 1,
   "metadata": {},
   "outputs": [
    {
     "name": "stdout",
     "output_type": "stream",
     "text": [
      "start\n",
      "loaded\n"
     ]
    }
   ],
   "source": [
    "import pandas as pd\n",
    "import numpy as np\n",
    "import copy\n",
    "\n",
    "print(\"start\")\n",
    "DATA_PATH = \"../data/pkl/\"\n",
    "data = pd.read_pickle(f\"{DATA_PATH}merged_filtered.pkl\")\n",
    "print(\"loaded\")\n",
    "\n"
   ]
  },
  {
   "cell_type": "code",
   "execution_count": 2,
   "metadata": {},
   "outputs": [],
   "source": [
    "splited_df = data[4000000:]\n",
    "\n",
    "#splited_df1 = data[:2000000]\n",
    "#splited_df2 = data[2000000:4000000]\n",
    "#splited_df3 = data[4000000:6000000]\n",
    "#splited_df4 = data[6000000:]"
   ]
  },
  {
   "cell_type": "code",
   "execution_count": 3,
   "metadata": {},
   "outputs": [
    {
     "name": "stdout",
     "output_type": "stream",
     "text": [
      "0\n",
      "1000000\n",
      "2000000\n",
      "3000000\n"
     ]
    }
   ],
   "source": [
    "lst = []\n",
    "for i, article in enumerate(splited_df['키워드']):\n",
    "    if i % 1000000 == 0:\n",
    "        print(i)\n",
    "    lst.append(article.split(','))\n",
    "pd.Series(lst).to_pickle(\"../data/pkl/splited2.pkl\")"
   ]
  }
 ],
 "metadata": {
  "interpreter": {
   "hash": "c6f34507fa43ba317958b721fa8398d2051b96ef3f3b32ff98429c26ce06f8cf"
  },
  "kernelspec": {
   "display_name": "Python 3.8.12 ('svmglee')",
   "language": "python",
   "name": "python3"
  },
  "language_info": {
   "codemirror_mode": {
    "name": "ipython",
    "version": 3
   },
   "file_extension": ".py",
   "mimetype": "text/x-python",
   "name": "python",
   "nbconvert_exporter": "python",
   "pygments_lexer": "ipython3",
   "version": "3.8.12"
  },
  "orig_nbformat": 4
 },
 "nbformat": 4,
 "nbformat_minor": 2
}
