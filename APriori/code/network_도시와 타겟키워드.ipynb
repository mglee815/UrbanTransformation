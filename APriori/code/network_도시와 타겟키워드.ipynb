{
 "cells": [
  {
   "cell_type": "code",
   "execution_count": 1,
   "metadata": {},
   "outputs": [],
   "source": [
    "#import and set data\n",
    "import pandas as pd\n",
    "import numpy as np\n",
    "import warnings\n",
    "from tqdm import tqdm\n",
    "import stopword_pre\n",
    "warnings.filterwarnings('ignore')\n"
   ]
  },
  {
   "cell_type": "code",
   "execution_count": 3,
   "metadata": {},
   "outputs": [
    {
     "name": "stdout",
     "output_type": "stream",
     "text": [
      "DATA LOADING........\n",
      "DONE\n"
     ]
    }
   ],
   "source": [
    "#==========get data=========================================\n",
    "print(\"DATA LOADING........\")\n",
    "#cat_arti_mat = np.loadtxt(\"../../result/topic_idx.csv\", delimiter=\",\", dtype = np.int8)\n",
    "data_all = pd.read_csv(\"../../data/topic_data.csv\")\n",
    "keyword_list = pd.read_excel(\"../../data/Text_keyword_0620.xlsx\")\n",
    "keyword_list = list(keyword_list['Target 키워드'])\n",
    "\n",
    "print(\"DONE\")"
   ]
  },
  {
   "cell_type": "code",
   "execution_count": 5,
   "metadata": {},
   "outputs": [
    {
     "name": "stdout",
     "output_type": "stream",
     "text": [
      "If you don't have NanumGothic in your computer, It will rasie error here\n"
     ]
    }
   ],
   "source": [
    "print(\"If you don't have NanumGothic in your computer, It will rasie error here\")\n",
    "import matplotlib.font_manager as fm\n",
    "import matplotlib\n",
    "\n",
    "font_path = \"/usr/share/fonts/truetype/nanum/NanumGothic.ttf\"\n",
    "fontprop = fm.FontProperties(fname=font_path, size=18)\n",
    "font_name = fm.FontProperties(fname=\"/usr/share/fonts/truetype/nanum/NanumGothic.ttf\").get_name()\n",
    "\n",
    "matplotlib.rcParams['font.family'] ='NanumGothic'\n",
    "matplotlib.rcParams['axes.unicode_minus'] = False"
   ]
  },
  {
   "cell_type": "code",
   "execution_count": 149,
   "metadata": {},
   "outputs": [],
   "source": [
    "#Parameter\n",
    "\n",
    "TARGET_CITY = ['포항시', '안성시']\n",
    "MIN_SUPPORT = 0.005\n",
    "MIN_THOLD = 0.1\n",
    "TARGET_KEYWORD = ['빈집']"
   ]
  },
  {
   "cell_type": "code",
   "execution_count": 142,
   "metadata": {},
   "outputs": [
    {
     "name": "stdout",
     "output_type": "stream",
     "text": [
      "['포항시', '안성시'] START\n"
     ]
    }
   ],
   "source": [
    "data_len_lst = []\n",
    "\n",
    "#========filter by city and separate into three data set======================\n",
    "dataset = data_all[data_all['city'].apply(lambda x: x in TARGET_CITY)]\n",
    "dataset.reset_index(inplace=True, drop = True)\n",
    "print(f\"{TARGET_CITY} START\")\n",
    "\n",
    "keyword_set = dataset['특성추출(가중치순 상위 50개)']\n",
    "\n",
    "#기사를 먼저 필터링 할 경우\n",
    "                \n",
    "key_temp = []\n",
    "for item in keyword_set:\n",
    "    item = str(item)\n",
    "    item = stopword_pre.stopword(item)\n",
    "    splited = item.split(\",\")\n",
    "    temp = []\n",
    "    for tok in splited:                         \n",
    "        temp.append(tok.replace(\" \", \"\"))\n",
    "    key_temp.append(temp)\n",
    "\n"
   ]
  },
  {
   "cell_type": "markdown",
   "metadata": {},
   "source": [
    "a. 전체 기사를 데상으로 분석한 이후 타겟 키워드를 추출하려면 아래의 코드를 실행"
   ]
  },
  {
   "cell_type": "code",
   "execution_count": 143,
   "metadata": {},
   "outputs": [],
   "source": [
    "key_set = key_temp"
   ]
  },
  {
   "cell_type": "markdown",
   "metadata": {},
   "source": [
    "b. 타겟 키워드가 들어간 기사를 먼저 필터링해서 분석에 사용할 경우 아래의 코드 실행"
   ]
  },
  {
   "cell_type": "code",
   "execution_count": 64,
   "metadata": {},
   "outputs": [],
   "source": [
    "# key_set = []\n",
    "# for key in key_temp:\n",
    "#     if len(set(key).intersection(set(TARGET_KEYWORD))):\n",
    "#         key_set.append(key)"
   ]
  },
  {
   "cell_type": "code",
   "execution_count": 150,
   "metadata": {},
   "outputs": [
    {
     "name": "stdout",
     "output_type": "stream",
     "text": [
      "apriori start\n",
      "association start\n"
     ]
    },
    {
     "data": {
      "text/html": [
       "<div>\n",
       "<style scoped>\n",
       "    .dataframe tbody tr th:only-of-type {\n",
       "        vertical-align: middle;\n",
       "    }\n",
       "\n",
       "    .dataframe tbody tr th {\n",
       "        vertical-align: top;\n",
       "    }\n",
       "\n",
       "    .dataframe thead th {\n",
       "        text-align: right;\n",
       "    }\n",
       "</style>\n",
       "<table border=\"1\" class=\"dataframe\">\n",
       "  <thead>\n",
       "    <tr style=\"text-align: right;\">\n",
       "      <th></th>\n",
       "      <th>antecedents</th>\n",
       "      <th>consequents</th>\n",
       "      <th>antecedent support</th>\n",
       "      <th>consequent support</th>\n",
       "      <th>support</th>\n",
       "      <th>confidence</th>\n",
       "      <th>lift</th>\n",
       "      <th>leverage</th>\n",
       "      <th>conviction</th>\n",
       "    </tr>\n",
       "  </thead>\n",
       "  <tbody>\n",
       "    <tr>\n",
       "      <th>0</th>\n",
       "      <td>(1만)</td>\n",
       "      <td>(안성시)</td>\n",
       "      <td>0.019979</td>\n",
       "      <td>0.275710</td>\n",
       "      <td>0.005188</td>\n",
       "      <td>0.259649</td>\n",
       "      <td>0.941748</td>\n",
       "      <td>-0.000321</td>\n",
       "      <td>0.978307</td>\n",
       "    </tr>\n",
       "    <tr>\n",
       "      <th>1</th>\n",
       "      <td>(1만)</td>\n",
       "      <td>(활성화)</td>\n",
       "      <td>0.019979</td>\n",
       "      <td>0.181703</td>\n",
       "      <td>0.005959</td>\n",
       "      <td>0.298246</td>\n",
       "      <td>1.641386</td>\n",
       "      <td>0.002328</td>\n",
       "      <td>1.166073</td>\n",
       "    </tr>\n",
       "    <tr>\n",
       "      <th>2</th>\n",
       "      <td>(1명)</td>\n",
       "      <td>(발생)</td>\n",
       "      <td>0.014231</td>\n",
       "      <td>0.275780</td>\n",
       "      <td>0.009954</td>\n",
       "      <td>0.699507</td>\n",
       "      <td>2.536470</td>\n",
       "      <td>0.006030</td>\n",
       "      <td>2.410110</td>\n",
       "    </tr>\n",
       "    <tr>\n",
       "      <th>3</th>\n",
       "      <td>(1억)</td>\n",
       "      <td>(피해)</td>\n",
       "      <td>0.012408</td>\n",
       "      <td>0.200421</td>\n",
       "      <td>0.006449</td>\n",
       "      <td>0.519774</td>\n",
       "      <td>2.593416</td>\n",
       "      <td>0.003963</td>\n",
       "      <td>1.665006</td>\n",
       "    </tr>\n",
       "    <tr>\n",
       "      <th>4</th>\n",
       "      <td>(1천)</td>\n",
       "      <td>(발생)</td>\n",
       "      <td>0.030004</td>\n",
       "      <td>0.275780</td>\n",
       "      <td>0.005188</td>\n",
       "      <td>0.172897</td>\n",
       "      <td>0.626939</td>\n",
       "      <td>-0.003087</td>\n",
       "      <td>0.875611</td>\n",
       "    </tr>\n",
       "  </tbody>\n",
       "</table>\n",
       "</div>"
      ],
      "text/plain": [
       "  antecedents consequents  antecedent support  consequent support   support  \\\n",
       "0        (1만)       (안성시)            0.019979            0.275710  0.005188   \n",
       "1        (1만)       (활성화)            0.019979            0.181703  0.005959   \n",
       "2        (1명)        (발생)            0.014231            0.275780  0.009954   \n",
       "3        (1억)        (피해)            0.012408            0.200421  0.006449   \n",
       "4        (1천)        (발생)            0.030004            0.275780  0.005188   \n",
       "\n",
       "   confidence      lift  leverage  conviction  \n",
       "0    0.259649  0.941748 -0.000321    0.978307  \n",
       "1    0.298246  1.641386  0.002328    1.166073  \n",
       "2    0.699507  2.536470  0.006030    2.410110  \n",
       "3    0.519774  2.593416  0.003963    1.665006  \n",
       "4    0.172897  0.626939 -0.003087    0.875611  "
      ]
     },
     "execution_count": 150,
     "metadata": {},
     "output_type": "execute_result"
    }
   ],
   "source": [
    "te = TransactionEncoder()\n",
    "te_result = te.fit(key_set).transform(key_set)\n",
    "key_df = pd.DataFrame(te_result, columns=te.columns_)\n",
    "\n",
    "\n",
    "#==================apriori=====================================\n",
    "#apriori\n",
    "\n",
    "from mlxtend.preprocessing import TransactionEncoder\n",
    "from mlxtend.frequent_patterns import apriori\n",
    "print(\"apriori start\")\n",
    "if len(key_set) <= 30:\n",
    "    print(\"too small keyset\")\n",
    "    itemset = apriori(key_df, use_colnames=True)\n",
    "\n",
    "else:\n",
    "    itemset = apriori(key_df, min_support=MIN_SUPPORT, use_colnames=True)\n",
    "\n",
    "from mlxtend.frequent_patterns import association_rules\n",
    "print('association start')\n",
    "apriori_result = association_rules(itemset, metric=\"confidence\", min_threshold=MIN_THOLD)\n",
    "\n",
    "apriori_result.head()"
   ]
  },
  {
   "cell_type": "markdown",
   "metadata": {},
   "source": [
    "같은 도시에서 TARGET KEYWORD만 바꿔서 결과를 보고 싶은 경우\n",
    "상위 코드 다시 실행할 필요 없이 아래 코드만 다시 돌리면 됩니다"
   ]
  },
  {
   "cell_type": "code",
   "execution_count": 169,
   "metadata": {},
   "outputs": [],
   "source": [
    "TARGET_KEYWORD = ['지역']"
   ]
  },
  {
   "cell_type": "code",
   "execution_count": 170,
   "metadata": {},
   "outputs": [
    {
     "name": "stdout",
     "output_type": "stream",
     "text": [
      "# of single keyword set : 141\n"
     ]
    },
    {
     "data": {
      "text/html": [
       "<div>\n",
       "<style scoped>\n",
       "    .dataframe tbody tr th:only-of-type {\n",
       "        vertical-align: middle;\n",
       "    }\n",
       "\n",
       "    .dataframe tbody tr th {\n",
       "        vertical-align: top;\n",
       "    }\n",
       "\n",
       "    .dataframe thead th {\n",
       "        text-align: right;\n",
       "    }\n",
       "</style>\n",
       "<table border=\"1\" class=\"dataframe\">\n",
       "  <thead>\n",
       "    <tr style=\"text-align: right;\">\n",
       "      <th></th>\n",
       "      <th>antecedents</th>\n",
       "      <th>consequents</th>\n",
       "      <th>antecedent support</th>\n",
       "      <th>consequent support</th>\n",
       "      <th>support</th>\n",
       "      <th>confidence</th>\n",
       "      <th>lift</th>\n",
       "      <th>leverage</th>\n",
       "      <th>conviction</th>\n",
       "    </tr>\n",
       "  </thead>\n",
       "  <tbody>\n",
       "    <tr>\n",
       "      <th>0</th>\n",
       "      <td>(1회)</td>\n",
       "      <td>(지역)</td>\n",
       "      <td>0.010726</td>\n",
       "      <td>0.203926</td>\n",
       "      <td>0.005678</td>\n",
       "      <td>0.529412</td>\n",
       "      <td>2.596101</td>\n",
       "      <td>0.003491</td>\n",
       "      <td>1.691658</td>\n",
       "    </tr>\n",
       "    <tr>\n",
       "      <th>1</th>\n",
       "      <td>(감지)</td>\n",
       "      <td>(지역)</td>\n",
       "      <td>0.009534</td>\n",
       "      <td>0.203926</td>\n",
       "      <td>0.006099</td>\n",
       "      <td>0.639706</td>\n",
       "      <td>3.136956</td>\n",
       "      <td>0.004155</td>\n",
       "      <td>2.209512</td>\n",
       "    </tr>\n",
       "    <tr>\n",
       "      <th>2</th>\n",
       "      <td>(개최)</td>\n",
       "      <td>(지역)</td>\n",
       "      <td>0.070452</td>\n",
       "      <td>0.203926</td>\n",
       "      <td>0.013039</td>\n",
       "      <td>0.185075</td>\n",
       "      <td>0.907559</td>\n",
       "      <td>-0.001328</td>\n",
       "      <td>0.976868</td>\n",
       "    </tr>\n",
       "    <tr>\n",
       "      <th>3</th>\n",
       "      <td>(건물)</td>\n",
       "      <td>(지역)</td>\n",
       "      <td>0.032317</td>\n",
       "      <td>0.203926</td>\n",
       "      <td>0.007781</td>\n",
       "      <td>0.240781</td>\n",
       "      <td>1.180729</td>\n",
       "      <td>0.001191</td>\n",
       "      <td>1.048544</td>\n",
       "    </tr>\n",
       "    <tr>\n",
       "      <th>4</th>\n",
       "      <td>(건설)</td>\n",
       "      <td>(지역)</td>\n",
       "      <td>0.044865</td>\n",
       "      <td>0.203926</td>\n",
       "      <td>0.009043</td>\n",
       "      <td>0.201563</td>\n",
       "      <td>0.988412</td>\n",
       "      <td>-0.000106</td>\n",
       "      <td>0.997040</td>\n",
       "    </tr>\n",
       "    <tr>\n",
       "      <th>...</th>\n",
       "      <td>...</td>\n",
       "      <td>...</td>\n",
       "      <td>...</td>\n",
       "      <td>...</td>\n",
       "      <td>...</td>\n",
       "      <td>...</td>\n",
       "      <td>...</td>\n",
       "      <td>...</td>\n",
       "      <td>...</td>\n",
       "    </tr>\n",
       "    <tr>\n",
       "      <th>136</th>\n",
       "      <td>(환경)</td>\n",
       "      <td>(지역)</td>\n",
       "      <td>0.021311</td>\n",
       "      <td>0.203926</td>\n",
       "      <td>0.005959</td>\n",
       "      <td>0.279605</td>\n",
       "      <td>1.371113</td>\n",
       "      <td>0.001613</td>\n",
       "      <td>1.105053</td>\n",
       "    </tr>\n",
       "    <tr>\n",
       "      <th>137</th>\n",
       "      <td>(활동)</td>\n",
       "      <td>(지역)</td>\n",
       "      <td>0.027971</td>\n",
       "      <td>0.203926</td>\n",
       "      <td>0.010866</td>\n",
       "      <td>0.388471</td>\n",
       "      <td>1.904964</td>\n",
       "      <td>0.005162</td>\n",
       "      <td>1.301777</td>\n",
       "    </tr>\n",
       "    <tr>\n",
       "      <th>138</th>\n",
       "      <td>(활성)</td>\n",
       "      <td>(지역)</td>\n",
       "      <td>0.014020</td>\n",
       "      <td>0.203926</td>\n",
       "      <td>0.006870</td>\n",
       "      <td>0.490000</td>\n",
       "      <td>2.402836</td>\n",
       "      <td>0.004011</td>\n",
       "      <td>1.560930</td>\n",
       "    </tr>\n",
       "    <tr>\n",
       "      <th>139</th>\n",
       "      <td>(회장)</td>\n",
       "      <td>(지역)</td>\n",
       "      <td>0.021451</td>\n",
       "      <td>0.203926</td>\n",
       "      <td>0.006449</td>\n",
       "      <td>0.300654</td>\n",
       "      <td>1.474329</td>\n",
       "      <td>0.002075</td>\n",
       "      <td>1.138312</td>\n",
       "    </tr>\n",
       "    <tr>\n",
       "      <th>140</th>\n",
       "      <td>(흥해읍)</td>\n",
       "      <td>(지역)</td>\n",
       "      <td>0.040519</td>\n",
       "      <td>0.203926</td>\n",
       "      <td>0.007080</td>\n",
       "      <td>0.174740</td>\n",
       "      <td>0.856883</td>\n",
       "      <td>-0.001183</td>\n",
       "      <td>0.964635</td>\n",
       "    </tr>\n",
       "  </tbody>\n",
       "</table>\n",
       "<p>141 rows × 9 columns</p>\n",
       "</div>"
      ],
      "text/plain": [
       "    antecedents consequents  antecedent support  consequent support   support  \\\n",
       "0          (1회)        (지역)            0.010726            0.203926  0.005678   \n",
       "1          (감지)        (지역)            0.009534            0.203926  0.006099   \n",
       "2          (개최)        (지역)            0.070452            0.203926  0.013039   \n",
       "3          (건물)        (지역)            0.032317            0.203926  0.007781   \n",
       "4          (건설)        (지역)            0.044865            0.203926  0.009043   \n",
       "..          ...         ...                 ...                 ...       ...   \n",
       "136        (환경)        (지역)            0.021311            0.203926  0.005959   \n",
       "137        (활동)        (지역)            0.027971            0.203926  0.010866   \n",
       "138        (활성)        (지역)            0.014020            0.203926  0.006870   \n",
       "139        (회장)        (지역)            0.021451            0.203926  0.006449   \n",
       "140       (흥해읍)        (지역)            0.040519            0.203926  0.007080   \n",
       "\n",
       "     confidence      lift  leverage  conviction  \n",
       "0      0.529412  2.596101  0.003491    1.691658  \n",
       "1      0.639706  3.136956  0.004155    2.209512  \n",
       "2      0.185075  0.907559 -0.001328    0.976868  \n",
       "3      0.240781  1.180729  0.001191    1.048544  \n",
       "4      0.201563  0.988412 -0.000106    0.997040  \n",
       "..          ...       ...       ...         ...  \n",
       "136    0.279605  1.371113  0.001613    1.105053  \n",
       "137    0.388471  1.904964  0.005162    1.301777  \n",
       "138    0.490000  2.402836  0.004011    1.560930  \n",
       "139    0.300654  1.474329  0.002075    1.138312  \n",
       "140    0.174740  0.856883 -0.001183    0.964635  \n",
       "\n",
       "[141 rows x 9 columns]"
      ]
     },
     "execution_count": 170,
     "metadata": {},
     "output_type": "execute_result"
    }
   ],
   "source": [
    "idx_lst = []\n",
    "for idx, (a, b) in enumerate(zip(apriori_result['antecedents'], apriori_result['consequents'])):\n",
    "    if len(a) == 1:\n",
    "        if len(b) == 1:\n",
    "            if list(a)[0] in TARGET_KEYWORD or list(b)[0] in TARGET_KEYWORD:\n",
    "                idx_lst.append(idx)\n",
    "\n",
    "print(f\"# of single keyword set : {len(idx_lst)}\")\n",
    "apriori_single = apriori_result.iloc[idx_lst,:]\n",
    "apriori_single.reset_index(drop = True, inplace = True)\n",
    "apriori_single"
   ]
  },
  {
   "cell_type": "code",
   "execution_count": 171,
   "metadata": {},
   "outputs": [
    {
     "name": "stderr",
     "output_type": "stream",
     "text": [
      "100%|██████████| 117/117 [00:00<00:00, 4397.96it/s]"
     ]
    },
    {
     "name": "stdout",
     "output_type": "stream",
     "text": [
      "Number of node : 107\n",
      "Draw Net\n"
     ]
    },
    {
     "name": "stderr",
     "output_type": "stream",
     "text": [
      "\n"
     ]
    }
   ],
   "source": [
    "#===============Draw Network=======================================\n",
    "network_data = apriori_single[['antecedents', 'consequents', 'lift']]\n",
    "#print(f\"netword_data : {network_data.shape}\")\n",
    "\n",
    "import matplotlib.pyplot as plt\n",
    "import networkx as nx\n",
    "\n",
    "# lift 값의 기준도 바꿔도 됩니다.\n",
    "thold = 1\n",
    "\n",
    "#===============Build graph===================================\n",
    "network_data = network_data[network_data['lift'] > thold]\n",
    "graph = nx.DiGraph()\n",
    "for i in tqdm(range(len(network_data))):\n",
    "    a, b, c = network_data.iloc[i, :]\n",
    "    a = list(a)\n",
    "    b = list(b)\n",
    "    a = a[0].replace(\" \", \"\")\n",
    "    b = b[0].replace(\" \", \"\")\n",
    "    graph.add_edge(a, b, weight = round(c,3))\n",
    "\n",
    "print(f\"Number of node : {graph.number_of_nodes()}\")\n",
    "\n",
    "key_match_lst = []\n",
    "i = 0\n",
    "for node in graph.nodes:\n",
    "    if node in keyword_list:\n",
    "        key_match_lst.append(node)\n",
    "print(\"Draw Net\")\n"
   ]
  },
  {
   "cell_type": "code",
   "execution_count": 172,
   "metadata": {},
   "outputs": [
    {
     "data": {
      "image/png": "[encoded data removed]",
      "text/plain": [
       "<Figure size 432x288 with 1 Axes>"
      ]
     },
     "metadata": {},
     "output_type": "display_data"
    },
    {
     "data": {
      "text/plain": [
       "<Figure size 432x288 with 0 Axes>"
      ]
     },
     "metadata": {},
     "output_type": "display_data"
    }
   ],
   "source": [
    "#===========Check edges and weights=====================\n",
    "try:\n",
    "    edges,weights = zip(*nx.get_edge_attributes(graph,'weight').items())\n",
    "except:\n",
    "    print(f\"It is empty graph\")\n",
    "else:\n",
    "    n_size = dict(graph.degree)\n",
    "    pos = nx.kamada_kawai_layout(graph)\n",
    "    nx.draw(graph, nodelist=n_size.keys(), \n",
    "            #node_size=[n_size.values()],\n",
    "            with_labels = True, \n",
    "            font_family = font_name, \n",
    "            font_size = 5,\n",
    "            alpha = 0.7,\n",
    "            pos = pos,\n",
    "            node_color = 'grey',\n",
    "            edgelist=edges, edge_color=weights, width=1, edge_cmap=plt.cm.binary)\n",
    "\n",
    "    nx.draw_networkx_nodes(\n",
    "        graph.subgraph(key_match_lst),\n",
    "        pos = pos,\n",
    "        node_color = 'blue'\n",
    "    )\n",
    "\n",
    "    plt.title(f\"{TARGET_CITY} keyword network\")\n",
    "    plt.show()\n",
    "    plt.clf()\n"
   ]
  }
 ],
 "metadata": {
  "kernelspec": {
   "display_name": "Python 3",
   "language": "python",
   "name": "python3"
  },
  "language_info": {
   "codemirror_mode": {
    "name": "ipython",
    "version": 3
   },
   "file_extension": ".py",
   "mimetype": "text/x-python",
   "name": "python",
   "nbconvert_exporter": "python",
   "pygments_lexer": "ipython3",
   "version": "3.8.12"
  },
  "vscode": {
   "interpreter": {
    "hash": "6632c70ce360d611e847e5318887868e2366d56c00e5f501b5a0b067a934dfe7"
   }
  }
 },
 "nbformat": 4,
 "nbformat_minor": 2
}
