{
 "cells": [
  {
   "cell_type": "code",
   "execution_count": 1,
   "metadata": {},
   "outputs": [
    {
     "name": "stdout",
     "output_type": "stream",
     "text": [
      "DATA LOADING........\n"
     ]
    },
    {
     "name": "stderr",
     "output_type": "stream",
     "text": [
      "Duplicate key in file PosixPath('/home/mglee/anaconda3/envs/svmglee/lib/python3.8/site-packages/matplotlib/mpl-data/matplotlibrc'), line 257 ('font.family:  NanumGothic')\n"
     ]
    },
    {
     "name": "stdout",
     "output_type": "stream",
     "text": [
      "DONE\n",
      "If you don't have NanumGothic in your computer, It will rasie error here\n"
     ]
    }
   ],
   "source": [
    "#import and set data\n",
    "import pandas as pd\n",
    "import numpy as np\n",
    "import warnings\n",
    "from tqdm import tqdm\n",
    "warnings.filterwarnings('ignore')\n",
    "\n",
    "# DATA_PATH = \"../../data/\"\n",
    "# data = pd.read_pickle(f\"{DATA_PATH}df_filter_dummy_{TARGET_CITY}.pkl\")\n",
    "\n",
    "#==========get data=========================================\n",
    "print(\"DATA LOADING........\")\n",
    "cat_arti_mat = np.loadtxt(\"../../result/topic_idx.csv\", delimiter=\",\", dtype = np.int8)\n",
    "data_all = pd.read_csv(\"../../data/topic_data.csv\")\n",
    "print(\"DONE\")\n",
    "\n",
    "#TARGET_CITY = str(input(\"Which City You want to draw network?  ex)포항시   :  \"))\n",
    "TARGET_CITY = '포항시'\n",
    "\n",
    "\n",
    "\n",
    "print(\"If you don't have NanumGothic in your computer, It will rasie error here\")\n",
    "import matplotlib.font_manager as fm\n",
    "import matplotlib\n",
    "\n",
    "font_path = \"/usr/share/fonts/truetype/nanum/NanumGothic.ttf\"\n",
    "fontprop = fm.FontProperties(fname=font_path, size=18)\n",
    "font_name = fm.FontProperties(fname=\"/usr/share/fonts/truetype/nanum/NanumGothic.ttf\").get_name()\n",
    "\n",
    "matplotlib.rcParams['font.family'] ='NanumGothic'\n",
    "matplotlib.rcParams['axes.unicode_minus'] = False\n"
   ]
  },
  {
   "cell_type": "code",
   "execution_count": 2,
   "metadata": {},
   "outputs": [
    {
     "name": "stdout",
     "output_type": "stream",
     "text": [
      "Topic 1 START\n",
      "포항시 START\n",
      "1 / total : (4240, 23), \n",
      "1 / period1 : (197, 23), \n",
      "1 / period2 : (459, 23), \n",
      "1 / period3 : (3584, 23), \n"
     ]
    }
   ],
   "source": [
    "for topic in range(1):\n",
    "    print(f\"Topic {topic +1} START\")\n",
    "    data_topic = data_all.iloc[cat_arti_mat[topic] == 1, :]\n",
    "\n",
    "#========filter by city and separate into three data set======================\n",
    "    data = data_topic[data_topic['city'] == TARGET_CITY]\n",
    "    data.reset_index(inplace=True, drop = True)\n",
    "    print(f\"{TARGET_CITY} START\")\n",
    "\n",
    "    data1 = data[data['일자'] < 20000000]\n",
    "    data1.reset_index(inplace=True, drop = True)\n",
    "    data2 = data[data['일자'] < 20100000]\n",
    "    data2 = data2[data2['일자'] > 20000000]\n",
    "    data2.reset_index(inplace=True, drop = True)\n",
    "    data3 = data[data['일자'] > 20100000]\n",
    "    data3.reset_index(inplace=True, drop = True)\n",
    "\n",
    "    print(f\"{topic+1} / total : {data.shape}, \")\n",
    "    print(f\"{topic+1} / period1 : {data1.shape}, \")\n",
    "    print(f\"{topic+1} / period2 : {data2.shape}, \")\n",
    "    print(f\"{topic+1} / period3 : {data3.shape}, \")\n",
    "\n",
    "    data_lst = [data, data1, data2, data3]\n"
   ]
  },
  {
   "cell_type": "code",
   "execution_count": 20,
   "metadata": {},
   "outputs": [
    {
     "name": "stdout",
     "output_type": "stream",
     "text": [
      "====================C포항시_T1_P0 START======================\n",
      "Keyword_set_prepared\n",
      "itemset_built\n",
      "netword_data : (69, 3)\n",
      "          lift\n",
      "0.50  1.104926\n",
      "0.70  1.265204\n",
      "0.90  2.413631\n",
      "0.99  3.439957\n",
      "H = 0\n"
     ]
    },
    {
     "name": "stderr",
     "output_type": "stream",
     "text": [
      "100%|██████████| 12/12 [00:00<00:00, 9453.73it/s]\n"
     ]
    },
    {
     "name": "stdout",
     "output_type": "stream",
     "text": [
      "====================C포항시_T1_P1 START======================\n",
      "Keyword_set_prepared\n",
      "itemset_built\n",
      "netword_data : (24, 3)\n",
      "          lift\n",
      "0.50  1.000000\n",
      "0.70  1.144251\n",
      "0.90  1.695650\n",
      "0.99  5.244213\n",
      "H = 0\n"
     ]
    },
    {
     "name": "stderr",
     "output_type": "stream",
     "text": [
      "100%|██████████| 3/3 [00:00<00:00, 7117.03it/s]\n"
     ]
    },
    {
     "name": "stdout",
     "output_type": "stream",
     "text": [
      "====================C포항시_T1_P2 START======================\n",
      "Keyword_set_prepared\n",
      "itemset_built\n",
      "netword_data : (38, 3)\n",
      "          lift\n",
      "0.50  1.024554\n",
      "0.70  1.085742\n",
      "0.90  1.110863\n",
      "0.99  1.160599\n",
      "H = 0\n"
     ]
    },
    {
     "name": "stderr",
     "output_type": "stream",
     "text": [
      "0it [00:00, ?it/s]"
     ]
    },
    {
     "name": "stdout",
     "output_type": "stream",
     "text": [
      "====================C포항시_T1_P3 START======================\n",
      "Keyword_set_prepared\n"
     ]
    },
    {
     "name": "stderr",
     "output_type": "stream",
     "text": [
      "\n"
     ]
    },
    {
     "name": "stdout",
     "output_type": "stream",
     "text": [
      "itemset_built\n",
      "netword_data : (83, 3)\n",
      "          lift\n",
      "0.50  1.076650\n",
      "0.70  1.287146\n",
      "0.90  2.393410\n",
      "0.99  3.158069\n",
      "H = 0\n"
     ]
    },
    {
     "name": "stderr",
     "output_type": "stream",
     "text": [
      "100%|██████████| 15/15 [00:00<00:00, 9751.17it/s]\n"
     ]
    }
   ],
   "source": [
    "\n",
    "\n",
    "#========for loop for three period===============\n",
    "for period, dataset in enumerate(data_lst):\n",
    "    print(f\"====================C{TARGET_CITY}_T{topic + 1}_P{period} START======================\")\n",
    "    keyword_set = dataset['특성추출(가중치순 상위 50개)']\n",
    "    key_set = []\n",
    "    for item in keyword_set:\n",
    "        item = str(item)\n",
    "        splited = item.split(\",\")\n",
    "        temp = []\n",
    "        for tok in splited:                         \n",
    "            temp.append(tok.replace(\" \", \"\"))\n",
    "        key_set.append(temp)\n",
    "    print(\"Keyword_set_prepared\")\n",
    "    #==================apriori=====================================\n",
    "    #apriori\n",
    "    from mlxtend.preprocessing import TransactionEncoder\n",
    "    from mlxtend.frequent_patterns import apriori\n",
    "\n",
    "    te = TransactionEncoder()\n",
    "    te_result = te.fit(key_set).transform(key_set)\n",
    "    key_df = pd.DataFrame(te_result, columns=te.columns_)\n",
    "\n",
    "    itemset = apriori(key_df, min_support=0.1, use_colnames=True)\n",
    "    print('itemset_built')\n",
    "    from mlxtend.frequent_patterns import association_rules\n",
    "    apriori_result = association_rules(itemset, metric=\"confidence\", min_threshold=0.7)\n",
    "\n",
    "    idx_lst = []\n",
    "    i = 0\n",
    "    for a, b in zip(apriori_result['antecedents'], apriori_result['consequents']):\n",
    "        if len(a) == 1:\n",
    "            if len(b) == 1:\n",
    "                idx_lst.append(i)\n",
    "        i += 1  \n",
    "    \n",
    "    apriori_single = apriori_result.iloc[idx_lst,:]\n",
    "\n",
    "    #===============Draw Network=======================================\n",
    "    network_data = apriori_single[['antecedents', 'consequents', 'lift']]\n",
    "    print(f\"netword_data : {network_data.shape}\")\n",
    "\n",
    "    import matplotlib.pyplot as plt\n",
    "    import networkx as nx\n",
    "\n",
    "    node_lst = []\n",
    "    for node in network_data['antecedents']:\n",
    "        node_lst.append(', '.join(list(node)))\n",
    "\n",
    "    thold = 1.5\n",
    "    qtl = pd.DataFrame(network_data['lift']).quantile([0.5, 0.7, 0.9, 0.99])\n",
    "    print(qtl)\n",
    "\n",
    "    #===============Build graph===================================\n",
    "    graph = nx.DiGraph()\n",
    "    child_node = []\n",
    "    print(\"H = 0\")\n",
    "\n",
    "    # for i in tqdm(range(len(network_data))):\n",
    "    #     a, b, c = network_data.iloc[i, :]\n",
    "    #     a = ', '.join(list(a))\n",
    "    #     b = ', '.join(list(b))\n",
    "    #     if c > thold:\n",
    "    #         graph.add_edge(a, b, weight = round(c,3))\n",
    "    #         child_node.append(b)\n",
    "    #     else:\n",
    "    #        pass\n",
    "\n",
    "    network_data = network_data[network_data['lift'] > thold]\n",
    "    for i in tqdm(range(len(network_data))):\n",
    "        a, b, c = network_data.iloc[i, :]\n",
    "        a = ', '.join(list(a))\n",
    "        b = ', '.join(list(b))\n",
    "        graph.add_edge(a, b, weight = round(c,3))\n"
   ]
  },
  {
   "cell_type": "code",
   "execution_count": 25,
   "metadata": {},
   "outputs": [],
   "source": [
    "keyword_list = pd.read_excel(\"../../data/Text_keyword_0620.xlsx\")"
   ]
  },
  {
   "cell_type": "code",
   "execution_count": 56,
   "metadata": {},
   "outputs": [],
   "source": [
    "key_set = set(keyword_list['Target 키워드'].apply(lambda x : x.strip()))"
   ]
  },
  {
   "cell_type": "code",
   "execution_count": 52,
   "metadata": {},
   "outputs": [],
   "source": [
    "key_match_lst = []\n",
    "for node in graph.nodes:\n",
    "    if node in key_set:\n",
    "        key_match_lst.append(node)"
   ]
  },
  {
   "cell_type": "code",
   "execution_count": 55,
   "metadata": {},
   "outputs": [
    {
     "name": "stdout",
     "output_type": "stream",
     "text": [
      "기상청\n",
      "규모\n",
      "동경\n",
      "북쪽\n",
      "여진\n",
      "지진\n",
      "북구\n",
      "지역\n"
     ]
    }
   ],
   "source": [
    "for i in graph.nodes:\n",
    "    print(i)"
   ]
  },
  {
   "cell_type": "code",
   "execution_count": 53,
   "metadata": {},
   "outputs": [
    {
     "data": {
      "text/plain": [
       "['지역']"
      ]
     },
     "execution_count": 53,
     "metadata": {},
     "output_type": "execute_result"
    }
   ],
   "source": [
    "key_match_lst"
   ]
  },
  {
   "cell_type": "code",
   "execution_count": 47,
   "metadata": {},
   "outputs": [
    {
     "name": "stdout",
     "output_type": "stream",
     "text": [
      "Draw Net\n"
     ]
    },
    {
     "data": {
      "image/png": "[encoded data removed]",
      "text/plain": [
       "<Figure size 432x288 with 1 Axes>"
      ]
     },
     "metadata": {},
     "output_type": "display_data"
    }
   ],
   "source": [
    "print(\"Draw Net\")\n",
    "#===========Check edges and weights=====================\n",
    "try:\n",
    "    edges,weights = zip(*nx.get_edge_attributes(graph,'weight').items())\n",
    "except:\n",
    "    print(f\"It it empty graph\")\n",
    "else:\n",
    "    n_size = dict(graph.degree)\n",
    "    pos = nx.kamada_kawai_layout(graph)\n",
    "    nx.draw(graph, nodelist=n_size.keys(), \n",
    "            with_labels = True, font_family = font_name, font_size = 2,\n",
    "            pos = pos,\n",
    "            alpha = 0.5,\n",
    "            node_color = 'grey',\n",
    "            edgelist=edges, edge_color=weights, width=0.5, edge_cmap=plt.cm.binary)\n",
    "    nx.draw_networkx_nodes(\n",
    "        graph.subgraph(key_match_lst),\n",
    "        pos = pos,\n",
    "        node_color = 'blue'\n",
    "    )\n",
    "\n",
    "    plt.title(f\"{TARGET_CITY}시 {topic+1}토픽의 {period}시기 keyword network\")\n",
    "    #plt.show(block=False)\n",
    "    plt.show()\n"
   ]
  }
 ],
 "metadata": {
  "kernelspec": {
   "display_name": "Python 3.8.12 ('svmglee')",
   "language": "python",
   "name": "python3"
  },
  "language_info": {
   "codemirror_mode": {
    "name": "ipython",
    "version": 3
   },
   "file_extension": ".py",
   "mimetype": "text/x-python",
   "name": "python",
   "nbconvert_exporter": "python",
   "pygments_lexer": "ipython3",
   "version": "3.8.12"
  },
  "orig_nbformat": 4,
  "vscode": {
   "interpreter": {
    "hash": "f75aeab59ff03ee2e291b4684758ee4ba4238bacc5beaacd4e7ff7cc7ef03731"
   }
  }
 },
 "nbformat": 4,
 "nbformat_minor": 2
}
