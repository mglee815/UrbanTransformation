{
 "cells": [
  {
   "cell_type": "code",
   "execution_count": 1,
   "metadata": {},
   "outputs": [],
   "source": [
    "import pandas as pd\n",
    "import numpy as np\n",
    "import warnings\n",
    "warnings.filterwarnings('ignore')"
   ]
  },
  {
   "cell_type": "markdown",
   "metadata": {},
   "source": [
    "### Data Preparation"
   ]
  },
  {
   "cell_type": "code",
   "execution_count": 2,
   "metadata": {},
   "outputs": [],
   "source": [
    "DATA_PATH = \"../../data/\"\n",
    "#TARGET_CITY = str(input(\"Which City You want to draw network?\"))"
   ]
  },
  {
   "cell_type": "code",
   "execution_count": 4,
   "metadata": {},
   "outputs": [],
   "source": [
    "data = pd.read_excel(f\"{DATA_PATH}df_filter_dummy_pohang.xlsx\")"
   ]
  },
  {
   "cell_type": "code",
   "execution_count": 38,
   "metadata": {},
   "outputs": [],
   "source": [
    "# data = pd.read_pickle(f\"{DATA_PATH}df_filter_dummy_{TARGET_CITY}.pkl\")"
   ]
  },
  {
   "cell_type": "code",
   "execution_count": 3,
   "metadata": {},
   "outputs": [],
   "source": [
    "#data = pd.read_pickle(\"../../data/pkl/merged_filtered_0630.pkl\")"
   ]
  },
  {
   "cell_type": "code",
   "execution_count": 5,
   "metadata": {},
   "outputs": [],
   "source": [
    "keyword_set = data['filter_keyword']"
   ]
  },
  {
   "cell_type": "code",
   "execution_count": 41,
   "metadata": {},
   "outputs": [
    {
     "data": {
      "text/plain": [
       "2917491    {조성, 주민, 관광, 지역, 주민들, 건설}\n",
       "2917492                {실업, 지자체, 지역}\n",
       "2917493                     {주민, 지역}\n",
       "2917494                       {환경오염}\n",
       "2917495                         {지역}\n",
       "                     ...            \n",
       "2952569                         {도시}\n",
       "2952570                    {발생, 주민들}\n",
       "2952571                         {주민}\n",
       "2952572                         {주민}\n",
       "2952573                         {사업}\n",
       "Name: filter_keyword, Length: 35083, dtype: object"
      ]
     },
     "execution_count": 41,
     "metadata": {},
     "output_type": "execute_result"
    }
   ],
   "source": [
    "# keyword_set"
   ]
  },
  {
   "cell_type": "code",
   "execution_count": 6,
   "metadata": {},
   "outputs": [],
   "source": [
    "key_set = []\n",
    "for item in keyword_set:\n",
    "    item = str(item)\n",
    "    item = item.replace(\"{\", \"\")\n",
    "    item = item.replace(\"}\", \"\")\n",
    "    item = item.replace(\"'\", \"\")\n",
    "    splited = item.split(\",\")\n",
    "    temp = []\n",
    "    for tok in splited:\n",
    "        temp.append(tok.replace(\" \", \"\"))\n",
    "    key_set.append(temp)"
   ]
  },
  {
   "cell_type": "markdown",
   "metadata": {},
   "source": [
    "### Apriori algorithm"
   ]
  },
  {
   "cell_type": "code",
   "execution_count": 7,
   "metadata": {},
   "outputs": [],
   "source": [
    "from mlxtend.preprocessing import TransactionEncoder\n",
    "from mlxtend.frequent_patterns import apriori"
   ]
  },
  {
   "cell_type": "code",
   "execution_count": 8,
   "metadata": {},
   "outputs": [],
   "source": [
    "te = TransactionEncoder()\n",
    "te_result = te.fit(key_set).transform(key_set)"
   ]
  },
  {
   "cell_type": "code",
   "execution_count": 9,
   "metadata": {},
   "outputs": [],
   "source": [
    "key_df = pd.DataFrame(te_result, columns=te.columns_)"
   ]
  },
  {
   "cell_type": "code",
   "execution_count": 10,
   "metadata": {},
   "outputs": [],
   "source": [
    "itemset = apriori(key_df, min_support=0.001, use_colnames=True)"
   ]
  },
  {
   "cell_type": "code",
   "execution_count": 47,
   "metadata": {},
   "outputs": [],
   "source": [
    "for idx, item in enumerate(itemset.itemsets):\n",
    "    if len(item) == 3:\n",
    "        idx\n",
    "        break\n",
    "itemset_2gram = itemset[:idx]"
   ]
  },
  {
   "cell_type": "code",
   "execution_count": 14,
   "metadata": {},
   "outputs": [
    {
     "data": {
      "text/html": [
       "<div>\n",
       "<style scoped>\n",
       "    .dataframe tbody tr th:only-of-type {\n",
       "        vertical-align: middle;\n",
       "    }\n",
       "\n",
       "    .dataframe tbody tr th {\n",
       "        vertical-align: top;\n",
       "    }\n",
       "\n",
       "    .dataframe thead th {\n",
       "        text-align: right;\n",
       "    }\n",
       "</style>\n",
       "<table border=\"1\" class=\"dataframe\">\n",
       "  <thead>\n",
       "    <tr style=\"text-align: right;\">\n",
       "      <th></th>\n",
       "      <th>support</th>\n",
       "      <th>itemsets</th>\n",
       "    </tr>\n",
       "  </thead>\n",
       "  <tbody>\n",
       "    <tr>\n",
       "      <th>0</th>\n",
       "      <td>0.036047</td>\n",
       "      <td>(감소)</td>\n",
       "    </tr>\n",
       "    <tr>\n",
       "      <th>1</th>\n",
       "      <td>0.140734</td>\n",
       "      <td>(개최)</td>\n",
       "    </tr>\n",
       "    <tr>\n",
       "      <th>2</th>\n",
       "      <td>0.072415</td>\n",
       "      <td>(건설)</td>\n",
       "    </tr>\n",
       "    <tr>\n",
       "      <th>3</th>\n",
       "      <td>0.002644</td>\n",
       "      <td>(경제활동)</td>\n",
       "    </tr>\n",
       "    <tr>\n",
       "      <th>4</th>\n",
       "      <td>0.004348</td>\n",
       "      <td>(고령화)</td>\n",
       "    </tr>\n",
       "    <tr>\n",
       "      <th>...</th>\n",
       "      <td>...</td>\n",
       "      <td>...</td>\n",
       "    </tr>\n",
       "    <tr>\n",
       "      <th>488</th>\n",
       "      <td>0.001921</td>\n",
       "      <td>(체험, 혁신)</td>\n",
       "    </tr>\n",
       "    <tr>\n",
       "      <th>489</th>\n",
       "      <td>0.005164</td>\n",
       "      <td>(체험, 활성화)</td>\n",
       "    </tr>\n",
       "    <tr>\n",
       "      <th>490</th>\n",
       "      <td>0.001204</td>\n",
       "      <td>(혁신, 피해)</td>\n",
       "    </tr>\n",
       "    <tr>\n",
       "      <th>491</th>\n",
       "      <td>0.001563</td>\n",
       "      <td>(활성화, 피해)</td>\n",
       "    </tr>\n",
       "    <tr>\n",
       "      <th>492</th>\n",
       "      <td>0.004466</td>\n",
       "      <td>(활성화, 혁신)</td>\n",
       "    </tr>\n",
       "  </tbody>\n",
       "</table>\n",
       "<p>493 rows × 2 columns</p>\n",
       "</div>"
      ],
      "text/plain": [
       "      support   itemsets\n",
       "0    0.036047       (감소)\n",
       "1    0.140734       (개최)\n",
       "2    0.072415       (건설)\n",
       "3    0.002644     (경제활동)\n",
       "4    0.004348      (고령화)\n",
       "..        ...        ...\n",
       "488  0.001921   (체험, 혁신)\n",
       "489  0.005164  (체험, 활성화)\n",
       "490  0.001204   (혁신, 피해)\n",
       "491  0.001563  (활성화, 피해)\n",
       "492  0.004466  (활성화, 혁신)\n",
       "\n",
       "[493 rows x 2 columns]"
      ]
     },
     "execution_count": 14,
     "metadata": {},
     "output_type": "execute_result"
    }
   ],
   "source": [
    "# itemset_2gram"
   ]
  },
  {
   "cell_type": "code",
   "execution_count": 48,
   "metadata": {},
   "outputs": [],
   "source": [
    "from mlxtend.frequent_patterns import association_rules\n",
    "apriori_result = association_rules(itemset_2gram, metric=\"lift\", min_threshold=1)"
   ]
  },
  {
   "cell_type": "code",
   "execution_count": 69,
   "metadata": {},
   "outputs": [],
   "source": [
    "apriori_result.to_excel(f\"./result/{TARGET_CITY}_apriori_result.xlsx\")"
   ]
  },
  {
   "cell_type": "code",
   "execution_count": 49,
   "metadata": {},
   "outputs": [],
   "source": [
    "network_data = apriori_result[['antecedents', 'consequents', 'lift']]"
   ]
  },
  {
   "cell_type": "code",
   "execution_count": 51,
   "metadata": {},
   "outputs": [
    {
     "data": {
      "text/html": [
       "<div>\n",
       "<style scoped>\n",
       "    .dataframe tbody tr th:only-of-type {\n",
       "        vertical-align: middle;\n",
       "    }\n",
       "\n",
       "    .dataframe tbody tr th {\n",
       "        vertical-align: top;\n",
       "    }\n",
       "\n",
       "    .dataframe thead th {\n",
       "        text-align: right;\n",
       "    }\n",
       "</style>\n",
       "<table border=\"1\" class=\"dataframe\">\n",
       "  <thead>\n",
       "    <tr style=\"text-align: right;\">\n",
       "      <th></th>\n",
       "      <th>antecedents</th>\n",
       "      <th>consequents</th>\n",
       "      <th>antecedent support</th>\n",
       "      <th>consequent support</th>\n",
       "      <th>support</th>\n",
       "      <th>confidence</th>\n",
       "      <th>lift</th>\n",
       "      <th>leverage</th>\n",
       "      <th>conviction</th>\n",
       "    </tr>\n",
       "  </thead>\n",
       "  <tbody>\n",
       "    <tr>\n",
       "      <th>0</th>\n",
       "      <td>(건설)</td>\n",
       "      <td>(감소)</td>\n",
       "      <td>0.083431</td>\n",
       "      <td>0.042471</td>\n",
       "      <td>0.004532</td>\n",
       "      <td>0.054322</td>\n",
       "      <td>1.279042</td>\n",
       "      <td>0.000989</td>\n",
       "      <td>1.012532</td>\n",
       "    </tr>\n",
       "    <tr>\n",
       "      <th>1</th>\n",
       "      <td>(감소)</td>\n",
       "      <td>(건설)</td>\n",
       "      <td>0.042471</td>\n",
       "      <td>0.083431</td>\n",
       "      <td>0.004532</td>\n",
       "      <td>0.106711</td>\n",
       "      <td>1.279042</td>\n",
       "      <td>0.000989</td>\n",
       "      <td>1.026062</td>\n",
       "    </tr>\n",
       "    <tr>\n",
       "      <th>2</th>\n",
       "      <td>(고령화)</td>\n",
       "      <td>(감소)</td>\n",
       "      <td>0.003107</td>\n",
       "      <td>0.042471</td>\n",
       "      <td>0.001026</td>\n",
       "      <td>0.330275</td>\n",
       "      <td>7.776541</td>\n",
       "      <td>0.000894</td>\n",
       "      <td>1.429736</td>\n",
       "    </tr>\n",
       "    <tr>\n",
       "      <th>3</th>\n",
       "      <td>(감소)</td>\n",
       "      <td>(고령화)</td>\n",
       "      <td>0.042471</td>\n",
       "      <td>0.003107</td>\n",
       "      <td>0.001026</td>\n",
       "      <td>0.024161</td>\n",
       "      <td>7.776541</td>\n",
       "      <td>0.000894</td>\n",
       "      <td>1.021575</td>\n",
       "    </tr>\n",
       "    <tr>\n",
       "      <th>4</th>\n",
       "      <td>(관광)</td>\n",
       "      <td>(감소)</td>\n",
       "      <td>0.130662</td>\n",
       "      <td>0.042471</td>\n",
       "      <td>0.006356</td>\n",
       "      <td>0.048647</td>\n",
       "      <td>1.145436</td>\n",
       "      <td>0.000807</td>\n",
       "      <td>1.006493</td>\n",
       "    </tr>\n",
       "    <tr>\n",
       "      <th>...</th>\n",
       "      <td>...</td>\n",
       "      <td>...</td>\n",
       "      <td>...</td>\n",
       "      <td>...</td>\n",
       "      <td>...</td>\n",
       "      <td>...</td>\n",
       "      <td>...</td>\n",
       "      <td>...</td>\n",
       "      <td>...</td>\n",
       "    </tr>\n",
       "    <tr>\n",
       "      <th>735</th>\n",
       "      <td>(혁신)</td>\n",
       "      <td>(지자체)</td>\n",
       "      <td>0.011002</td>\n",
       "      <td>0.062537</td>\n",
       "      <td>0.002594</td>\n",
       "      <td>0.235751</td>\n",
       "      <td>3.769764</td>\n",
       "      <td>0.001906</td>\n",
       "      <td>1.226646</td>\n",
       "    </tr>\n",
       "    <tr>\n",
       "      <th>736</th>\n",
       "      <td>(활성화)</td>\n",
       "      <td>(지자체)</td>\n",
       "      <td>0.041160</td>\n",
       "      <td>0.062537</td>\n",
       "      <td>0.005330</td>\n",
       "      <td>0.129501</td>\n",
       "      <td>2.070783</td>\n",
       "      <td>0.002756</td>\n",
       "      <td>1.076926</td>\n",
       "    </tr>\n",
       "    <tr>\n",
       "      <th>737</th>\n",
       "      <td>(지자체)</td>\n",
       "      <td>(활성화)</td>\n",
       "      <td>0.062537</td>\n",
       "      <td>0.041160</td>\n",
       "      <td>0.005330</td>\n",
       "      <td>0.085232</td>\n",
       "      <td>2.070783</td>\n",
       "      <td>0.002756</td>\n",
       "      <td>1.048179</td>\n",
       "    </tr>\n",
       "    <tr>\n",
       "      <th>738</th>\n",
       "      <td>(활성화)</td>\n",
       "      <td>(체험)</td>\n",
       "      <td>0.041160</td>\n",
       "      <td>0.085711</td>\n",
       "      <td>0.004931</td>\n",
       "      <td>0.119806</td>\n",
       "      <td>1.397791</td>\n",
       "      <td>0.001403</td>\n",
       "      <td>1.038736</td>\n",
       "    </tr>\n",
       "    <tr>\n",
       "      <th>739</th>\n",
       "      <td>(체험)</td>\n",
       "      <td>(활성화)</td>\n",
       "      <td>0.085711</td>\n",
       "      <td>0.041160</td>\n",
       "      <td>0.004931</td>\n",
       "      <td>0.057532</td>\n",
       "      <td>1.397791</td>\n",
       "      <td>0.001403</td>\n",
       "      <td>1.017372</td>\n",
       "    </tr>\n",
       "  </tbody>\n",
       "</table>\n",
       "<p>740 rows × 9 columns</p>\n",
       "</div>"
      ],
      "text/plain": [
       "    antecedents consequents  antecedent support  consequent support   support  \\\n",
       "0          (건설)        (감소)            0.083431            0.042471  0.004532   \n",
       "1          (감소)        (건설)            0.042471            0.083431  0.004532   \n",
       "2         (고령화)        (감소)            0.003107            0.042471  0.001026   \n",
       "3          (감소)       (고령화)            0.042471            0.003107  0.001026   \n",
       "4          (관광)        (감소)            0.130662            0.042471  0.006356   \n",
       "..          ...         ...                 ...                 ...       ...   \n",
       "735        (혁신)       (지자체)            0.011002            0.062537  0.002594   \n",
       "736       (활성화)       (지자체)            0.041160            0.062537  0.005330   \n",
       "737       (지자체)       (활성화)            0.062537            0.041160  0.005330   \n",
       "738       (활성화)        (체험)            0.041160            0.085711  0.004931   \n",
       "739        (체험)       (활성화)            0.085711            0.041160  0.004931   \n",
       "\n",
       "     confidence      lift  leverage  conviction  \n",
       "0      0.054322  1.279042  0.000989    1.012532  \n",
       "1      0.106711  1.279042  0.000989    1.026062  \n",
       "2      0.330275  7.776541  0.000894    1.429736  \n",
       "3      0.024161  7.776541  0.000894    1.021575  \n",
       "4      0.048647  1.145436  0.000807    1.006493  \n",
       "..          ...       ...       ...         ...  \n",
       "735    0.235751  3.769764  0.001906    1.226646  \n",
       "736    0.129501  2.070783  0.002756    1.076926  \n",
       "737    0.085232  2.070783  0.002756    1.048179  \n",
       "738    0.119806  1.397791  0.001403    1.038736  \n",
       "739    0.057532  1.397791  0.001403    1.017372  \n",
       "\n",
       "[740 rows x 9 columns]"
      ]
     },
     "execution_count": 51,
     "metadata": {},
     "output_type": "execute_result"
    }
   ],
   "source": [
    "# network_data"
   ]
  },
  {
   "cell_type": "markdown",
   "metadata": {},
   "source": [
    "### Visualize network"
   ]
  },
  {
   "cell_type": "code",
   "execution_count": 52,
   "metadata": {},
   "outputs": [],
   "source": [
    "import matplotlib.pyplot as plt\n",
    "import networkx as nx"
   ]
  },
  {
   "cell_type": "code",
   "execution_count": 1,
   "metadata": {
    "collapsed": true,
    "jupyter": {
     "outputs_hidden": true,
     "source_hidden": true
    },
    "tags": []
   },
   "outputs": [
    {
     "name": "stderr",
     "output_type": "stream",
     "text": [
      "Duplicate key in file PosixPath('/home/mglee/.conda/envs/svmglee/lib/python3.8/site-packages/matplotlib/mpl-data/matplotlibrc'), line 257 ('font.family:  NanumGothic')\n"
     ]
    },
    {
     "data": {
      "text/plain": [
       "['NanumGothic',\n",
       " 'NanumSquare',\n",
       " 'NanumGothicCoding',\n",
       " 'Nanum Pen Script',\n",
       " 'NanumMyeongjo',\n",
       " 'NanumSquare',\n",
       " 'NanumSquareRound',\n",
       " 'NanumGothic',\n",
       " 'NanumGothic',\n",
       " 'Nanum Brush Script',\n",
       " 'NanumMyeongjo Eco',\n",
       " 'NanumBarunGothic',\n",
       " 'NanumMyeongjo',\n",
       " 'NanumBarunpen',\n",
       " 'NanumMyeongjo',\n",
       " 'NanumGothic Eco',\n",
       " 'NanumBarunGothic',\n",
       " 'NanumSquareRound',\n",
       " 'NanumSquare',\n",
       " 'NanumGothic',\n",
       " 'NanumGothic Eco',\n",
       " 'NanumGothic Eco',\n",
       " 'NanumSquareRound',\n",
       " 'NanumBarunGothic',\n",
       " 'NanumGothicCoding',\n",
       " 'NanumBarunGothic',\n",
       " 'NanumMyeongjo Eco',\n",
       " 'NanumSquareRound',\n",
       " 'NanumMyeongjo Eco',\n",
       " 'NanumBarunpen',\n",
       " 'NanumSquare',\n",
       " 'NanumGothic',\n",
       " 'NanumGothic Eco',\n",
       " 'NanumGothic',\n",
       " 'NanumMyeongjo',\n",
       " 'NanumMyeongjo',\n",
       " 'NanumBarunpen',\n",
       " 'NanumGothic Eco',\n",
       " 'NanumMyeongjo Eco',\n",
       " 'NanumMyeongjo',\n",
       " 'NanumMyeongjo Eco',\n",
       " 'NanumMyeongjo',\n",
       " 'Nanum Pen Script',\n",
       " 'NanumSquareRound',\n",
       " 'NanumMyeongjo',\n",
       " 'NanumBarunGothic',\n",
       " 'NanumGothic',\n",
       " 'Nanum Brush Script',\n",
       " 'NanumGothic',\n",
       " 'NanumGothicCoding',\n",
       " 'NanumSquare',\n",
       " 'NanumSquareRound',\n",
       " 'NanumSquareRound',\n",
       " 'NanumBarunGothic',\n",
       " 'Nanum Brush Script',\n",
       " 'NanumGothicCoding',\n",
       " 'NanumGothic Eco',\n",
       " 'NanumGothic',\n",
       " 'NanumSquare',\n",
       " 'Nanum Pen Script',\n",
       " 'NanumBarunGothic',\n",
       " 'NanumGothic',\n",
       " 'NanumSquare',\n",
       " 'NanumSquareRound',\n",
       " 'NanumBarunGothic',\n",
       " 'NanumGothic',\n",
       " 'NanumBarunpen',\n",
       " 'NanumMyeongjo',\n",
       " 'NanumSquare',\n",
       " 'NanumMyeongjo Eco']"
      ]
     },
     "execution_count": 1,
     "metadata": {},
     "output_type": "execute_result"
    }
   ],
   "source": [
    "# import matplotlib\n",
    "# import matplotlib.font_manager\n",
    "\n",
    "# [f.name for f in matplotlib.font_manager.fontManager.ttflist if 'Nanum' in f.name]"
   ]
  },
  {
   "cell_type": "code",
   "execution_count": 53,
   "metadata": {},
   "outputs": [
    {
     "data": {
      "text/plain": [
       "1.922103632741239"
      ]
     },
     "execution_count": 53,
     "metadata": {},
     "output_type": "execute_result"
    }
   ],
   "source": [
    "# np.mean(network_data['lift'])"
   ]
  },
  {
   "cell_type": "code",
   "execution_count": 54,
   "metadata": {
    "tags": []
   },
   "outputs": [],
   "source": [
    "node_lst = []\n",
    "for node in network_data['antecedents']:\n",
    "    node_lst.append(', '.join(list(node)))"
   ]
  },
  {
   "cell_type": "code",
   "execution_count": 55,
   "metadata": {},
   "outputs": [],
   "source": [
    "graph = nx.Graph()\n",
    "#graph.add_nodes_from(node_lst)\n",
    "for i in range(len(network_data)):\n",
    "    a, b, c = network_data.iloc[i, :]\n",
    "    a = ', '.join(list(a))\n",
    "    b = ', '.join(list(b))\n",
    "    if c > 1:\n",
    "        graph.add_edge(a, b, weight = round(c,3))\n",
    "    else:\n",
    "        pass"
   ]
  },
  {
   "cell_type": "code",
   "execution_count": 67,
   "metadata": {
    "tags": []
   },
   "outputs": [],
   "source": [
    "import matplotlib.font_manager as fm\n",
    "\n",
    "font_path = \"/usr/share/fonts/truetype/nanum/NanumGothic.ttf\"\n",
    "fontprop = fm.FontProperties(fname=font_path, size=18)\n",
    "\n",
    "import matplotlib.font_manager as fm \n",
    "from matplotlib import rc\n",
    "font_name = fm.FontProperties(fname=\"/usr/share/fonts/truetype/nanum/NanumGothic.ttf\").get_name()"
   ]
  },
  {
   "cell_type": "code",
   "execution_count": 26,
   "metadata": {},
   "outputs": [
    {
     "name": "stdout",
     "output_type": "stream",
     "text": [
      "NanumGothic\n"
     ]
    }
   ],
   "source": [
    "\n",
    "# rc('font', family=font_name)\n",
    "# print(font_name)"
   ]
  },
  {
   "cell_type": "code",
   "execution_count": 57,
   "metadata": {
    "tags": []
   },
   "outputs": [],
   "source": [
    "import matplotlib\n",
    "\n",
    "matplotlib.rcParams['font.family'] ='NanumGothic'\n",
    "matplotlib.rcParams['axes.unicode_minus'] =False"
   ]
  },
  {
   "cell_type": "code",
   "execution_count": 58,
   "metadata": {},
   "outputs": [],
   "source": [
    "labels = nx.get_edge_attributes(graph,'weight')"
   ]
  },
  {
   "cell_type": "code",
   "execution_count": 59,
   "metadata": {},
   "outputs": [],
   "source": [
    "edges,weights = zip(*nx.get_edge_attributes(graph,'weight').items())"
   ]
  },
  {
   "cell_type": "code",
   "execution_count": 1,
   "metadata": {
    "tags": []
   },
   "outputs": [
    {
     "ename": "NameError",
     "evalue": "name 'pd' is not defined",
     "output_type": "error",
     "traceback": [
      "\u001b[0;31m---------------------------------------------------------------------------\u001b[0m",
      "\u001b[0;31mNameError\u001b[0m                                 Traceback (most recent call last)",
      "\u001b[1;32m/home/mglee/VSCODE/git_folder/UrbanTransformation/code/APriori/APriori_0709.ipynb Cell 1'\u001b[0m in \u001b[0;36m<cell line: 1>\u001b[0;34m()\u001b[0m\n\u001b[0;32m----> <a href='vscode-notebook-cell://ssh-remote%2B141.223.144.85/home/mglee/VSCODE/git_folder/UrbanTransformation/code/APriori/APriori_0709.ipynb#ch0000000vscode-remote?line=0'>1</a>\u001b[0m pd\u001b[39m.\u001b[39mDataFrame(weights)\u001b[39m.\u001b[39mquantile([\u001b[39m0.99\u001b[39m])\n",
      "\u001b[0;31mNameError\u001b[0m: name 'pd' is not defined"
     ]
    }
   ],
   "source": [
    "pd.DataFrame(weights).quantile([0.99])"
   ]
  },
  {
   "cell_type": "code",
   "execution_count": 63,
   "metadata": {},
   "outputs": [],
   "source": [
    "weights = list(weights)\n",
    "weights[np.argmax(weights)] = 10"
   ]
  },
  {
   "cell_type": "code",
   "execution_count": 64,
   "metadata": {
    "tags": []
   },
   "outputs": [
    {
     "data": {
      "text/plain": [
       "10"
      ]
     },
     "execution_count": 64,
     "metadata": {},
     "output_type": "execute_result"
    }
   ],
   "source": [
    "# max(weights)"
   ]
  },
  {
   "cell_type": "code",
   "execution_count": 65,
   "metadata": {
    "tags": []
   },
   "outputs": [],
   "source": [
    "def weights_multiple(weights, n):\n",
    "    lst = []\n",
    "    for w in weights:\n",
    "        lst.append(w * n)\n",
    "    return lst"
   ]
  },
  {
   "cell_type": "code",
   "execution_count": 66,
   "metadata": {
    "tags": []
   },
   "outputs": [],
   "source": [
    "weights_m = weights_multiple(weights, 1)"
   ]
  },
  {
   "cell_type": "code",
   "execution_count": 68,
   "metadata": {},
   "outputs": [
    {
     "data": {
      "image/png": "[encoded data removed]",
      "text/plain": [
       "<Figure size 432x288 with 1 Axes>"
      ]
     },
     "metadata": {},
     "output_type": "display_data"
    }
   ],
   "source": [
    "n_size = dict(graph.degree)\n",
    "pos = nx.shell_layout(graph)\n",
    "\n",
    "nx.draw(graph, nodelist=n_size.keys(), node_size=[v * 10 for v in n_size.values()], \n",
    "        with_labels = True, font_family = font_name, font_size = 5,\n",
    "       alpha = 0.7,\n",
    "       edgelist=edges, edge_color=weights_m, width=1, edge_cmap=plt.cm.binary)\n",
    "\n",
    "plt.title(\"태백시의 keyword network\")\n",
    "#plt.show(block=False)\n",
    "plt.savefig(\"태백시.png\", format=\"PNG\", dpi = 1000)"
   ]
  }
 ],
 "metadata": {
  "kernelspec": {
   "display_name": "Python 3 (ipykernel)",
   "language": "python",
   "name": "python3"
  },
  "language_info": {
   "codemirror_mode": {
    "name": "ipython",
    "version": 3
   },
   "file_extension": ".py",
   "mimetype": "text/x-python",
   "name": "python",
   "nbconvert_exporter": "python",
   "pygments_lexer": "ipython3",
   "version": "3.8.12"
  },
  "vscode": {
   "interpreter": {
    "hash": "c6f34507fa43ba317958b721fa8398d2051b96ef3f3b32ff98429c26ce06f8cf"
   }
  }
 },
 "nbformat": 4,
 "nbformat_minor": 4
}
