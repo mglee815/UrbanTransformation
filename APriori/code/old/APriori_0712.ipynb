{
 "cells": [
  {
   "cell_type": "code",
   "execution_count": 21,
   "metadata": {},
   "outputs": [],
   "source": [
    "import pandas as pd\n",
    "import numpy as np\n",
    "import warnings\n",
    "warnings.filterwarnings('ignore')"
   ]
  },
  {
   "cell_type": "markdown",
   "metadata": {},
   "source": [
    "### Data Preparation"
   ]
  },
  {
   "cell_type": "code",
   "execution_count": 22,
   "metadata": {},
   "outputs": [],
   "source": [
    "DATA_PATH = \"../../data/\"\n",
    "#TARGET_CITY = str(input(\"Which City You want to draw network?\"))"
   ]
  },
  {
   "cell_type": "code",
   "execution_count": 3,
   "metadata": {},
   "outputs": [],
   "source": [
    "#data = pd.read_excel(f\"{DATA_PATH}df_filter_dummy_pohang.xlsx\")"
   ]
  },
  {
   "cell_type": "code",
   "execution_count": 38,
   "metadata": {},
   "outputs": [],
   "source": [
    "# data = pd.read_pickle(f\"{DATA_PATH}df_filter_dummy_{TARGET_CITY}.pkl\")"
   ]
  },
  {
   "cell_type": "code",
   "execution_count": 23,
   "metadata": {},
   "outputs": [],
   "source": [
    "data = pd.read_pickle(\"../../data/pkl/merged_filtered_0630.pkl\")"
   ]
  },
  {
   "cell_type": "code",
   "execution_count": 27,
   "metadata": {},
   "outputs": [],
   "source": [
    "data = data[data['city'] == '태백시']"
   ]
  },
  {
   "cell_type": "code",
   "execution_count": 28,
   "metadata": {},
   "outputs": [],
   "source": [
    "keyword_set = data['filter_keyword']"
   ]
  },
  {
   "cell_type": "code",
   "execution_count": 41,
   "metadata": {},
   "outputs": [
    {
     "data": {
      "text/plain": [
       "2917491    {조성, 주민, 관광, 지역, 주민들, 건설}\n",
       "2917492                {실업, 지자체, 지역}\n",
       "2917493                     {주민, 지역}\n",
       "2917494                       {환경오염}\n",
       "2917495                         {지역}\n",
       "                     ...            \n",
       "2952569                         {도시}\n",
       "2952570                    {발생, 주민들}\n",
       "2952571                         {주민}\n",
       "2952572                         {주민}\n",
       "2952573                         {사업}\n",
       "Name: filter_keyword, Length: 35083, dtype: object"
      ]
     },
     "execution_count": 41,
     "metadata": {},
     "output_type": "execute_result"
    }
   ],
   "source": [
    "# keyword_set"
   ]
  },
  {
   "cell_type": "code",
   "execution_count": 29,
   "metadata": {},
   "outputs": [],
   "source": [
    "key_set = []\n",
    "for item in keyword_set:\n",
    "    item = str(item)\n",
    "    item = item.replace(\"{\", \"\")\n",
    "    item = item.replace(\"}\", \"\")\n",
    "    item = item.replace(\"'\", \"\")\n",
    "    splited = item.split(\",\")\n",
    "    temp = []\n",
    "    for tok in splited:\n",
    "        temp.append(tok.replace(\" \", \"\"))\n",
    "    key_set.append(temp)"
   ]
  },
  {
   "cell_type": "markdown",
   "metadata": {},
   "source": [
    "### Apriori algorithm"
   ]
  },
  {
   "cell_type": "code",
   "execution_count": 30,
   "metadata": {},
   "outputs": [],
   "source": [
    "from mlxtend.preprocessing import TransactionEncoder\n",
    "from mlxtend.frequent_patterns import apriori"
   ]
  },
  {
   "cell_type": "code",
   "execution_count": 31,
   "metadata": {},
   "outputs": [],
   "source": [
    "te = TransactionEncoder()\n",
    "te_result = te.fit(key_set).transform(key_set)"
   ]
  },
  {
   "cell_type": "code",
   "execution_count": 32,
   "metadata": {},
   "outputs": [],
   "source": [
    "key_df = pd.DataFrame(te_result, columns=te.columns_)"
   ]
  },
  {
   "cell_type": "code",
   "execution_count": 33,
   "metadata": {},
   "outputs": [],
   "source": [
    "itemset = apriori(key_df, min_support=0.001, use_colnames=True)"
   ]
  },
  {
   "cell_type": "code",
   "execution_count": 47,
   "metadata": {},
   "outputs": [],
   "source": [
    "for idx, item in enumerate(itemset.itemsets):\n",
    "    if len(item) == 5:\n",
    "        idx\n",
    "        break\n",
    "itemset_ngram = itemset[:idx]"
   ]
  },
  {
   "cell_type": "code",
   "execution_count": 12,
   "metadata": {},
   "outputs": [],
   "source": [
    "from mlxtend.frequent_patterns import association_rules\n",
    "apriori_result = association_rules(itemset, metric=\"lift\", min_threshold=1)"
   ]
  },
  {
   "cell_type": "code",
   "execution_count": 13,
   "metadata": {},
   "outputs": [
    {
     "data": {
      "text/html": [
       "<div>\n",
       "<style scoped>\n",
       "    .dataframe tbody tr th:only-of-type {\n",
       "        vertical-align: middle;\n",
       "    }\n",
       "\n",
       "    .dataframe tbody tr th {\n",
       "        vertical-align: top;\n",
       "    }\n",
       "\n",
       "    .dataframe thead th {\n",
       "        text-align: right;\n",
       "    }\n",
       "</style>\n",
       "<table border=\"1\" class=\"dataframe\">\n",
       "  <thead>\n",
       "    <tr style=\"text-align: right;\">\n",
       "      <th></th>\n",
       "      <th>antecedents</th>\n",
       "      <th>consequents</th>\n",
       "      <th>antecedent support</th>\n",
       "      <th>consequent support</th>\n",
       "      <th>support</th>\n",
       "      <th>confidence</th>\n",
       "      <th>lift</th>\n",
       "      <th>leverage</th>\n",
       "      <th>conviction</th>\n",
       "    </tr>\n",
       "  </thead>\n",
       "  <tbody>\n",
       "    <tr>\n",
       "      <th>0</th>\n",
       "      <td>(건설)</td>\n",
       "      <td>(감소)</td>\n",
       "      <td>0.116447</td>\n",
       "      <td>0.038140</td>\n",
       "      <td>0.004821</td>\n",
       "      <td>0.041404</td>\n",
       "      <td>1.085583</td>\n",
       "      <td>0.000380</td>\n",
       "      <td>1.003405</td>\n",
       "    </tr>\n",
       "    <tr>\n",
       "      <th>1</th>\n",
       "      <td>(감소)</td>\n",
       "      <td>(건설)</td>\n",
       "      <td>0.038140</td>\n",
       "      <td>0.116447</td>\n",
       "      <td>0.004821</td>\n",
       "      <td>0.126413</td>\n",
       "      <td>1.085583</td>\n",
       "      <td>0.000380</td>\n",
       "      <td>1.011408</td>\n",
       "    </tr>\n",
       "    <tr>\n",
       "      <th>2</th>\n",
       "      <td>(감소)</td>\n",
       "      <td>(고령화)</td>\n",
       "      <td>0.038140</td>\n",
       "      <td>0.003512</td>\n",
       "      <td>0.001038</td>\n",
       "      <td>0.027208</td>\n",
       "      <td>7.746623</td>\n",
       "      <td>0.000904</td>\n",
       "      <td>1.024359</td>\n",
       "    </tr>\n",
       "    <tr>\n",
       "      <th>3</th>\n",
       "      <td>(고령화)</td>\n",
       "      <td>(감소)</td>\n",
       "      <td>0.003512</td>\n",
       "      <td>0.038140</td>\n",
       "      <td>0.001038</td>\n",
       "      <td>0.295455</td>\n",
       "      <td>7.746623</td>\n",
       "      <td>0.000904</td>\n",
       "      <td>1.365221</td>\n",
       "    </tr>\n",
       "    <tr>\n",
       "      <th>4</th>\n",
       "      <td>(감소)</td>\n",
       "      <td>(농업)</td>\n",
       "      <td>0.038140</td>\n",
       "      <td>0.021121</td>\n",
       "      <td>0.001389</td>\n",
       "      <td>0.036417</td>\n",
       "      <td>1.724174</td>\n",
       "      <td>0.000583</td>\n",
       "      <td>1.015874</td>\n",
       "    </tr>\n",
       "    <tr>\n",
       "      <th>...</th>\n",
       "      <td>...</td>\n",
       "      <td>...</td>\n",
       "      <td>...</td>\n",
       "      <td>...</td>\n",
       "      <td>...</td>\n",
       "      <td>...</td>\n",
       "      <td>...</td>\n",
       "      <td>...</td>\n",
       "      <td>...</td>\n",
       "    </tr>\n",
       "    <tr>\n",
       "      <th>103265</th>\n",
       "      <td>(사업)</td>\n",
       "      <td>(관광, 인프라, 지역, 유치, 산업, 도시, 조성)</td>\n",
       "      <td>0.279431</td>\n",
       "      <td>0.001133</td>\n",
       "      <td>0.001006</td>\n",
       "      <td>0.003599</td>\n",
       "      <td>3.175467</td>\n",
       "      <td>0.000689</td>\n",
       "      <td>1.002475</td>\n",
       "    </tr>\n",
       "    <tr>\n",
       "      <th>103266</th>\n",
       "      <td>(유치)</td>\n",
       "      <td>(관광, 인프라, 지역, 사업, 산업, 도시, 조성)</td>\n",
       "      <td>0.102829</td>\n",
       "      <td>0.001756</td>\n",
       "      <td>0.001006</td>\n",
       "      <td>0.009781</td>\n",
       "      <td>5.569708</td>\n",
       "      <td>0.000825</td>\n",
       "      <td>1.008104</td>\n",
       "    </tr>\n",
       "    <tr>\n",
       "      <th>103267</th>\n",
       "      <td>(산업)</td>\n",
       "      <td>(관광, 인프라, 지역, 사업, 유치, 도시, 조성)</td>\n",
       "      <td>0.146956</td>\n",
       "      <td>0.001229</td>\n",
       "      <td>0.001006</td>\n",
       "      <td>0.006844</td>\n",
       "      <td>5.567547</td>\n",
       "      <td>0.000825</td>\n",
       "      <td>1.005654</td>\n",
       "    </tr>\n",
       "    <tr>\n",
       "      <th>103268</th>\n",
       "      <td>(도시)</td>\n",
       "      <td>(관광, 인프라, 지역, 사업, 유치, 산업, 조성)</td>\n",
       "      <td>0.160701</td>\n",
       "      <td>0.001054</td>\n",
       "      <td>0.001006</td>\n",
       "      <td>0.006259</td>\n",
       "      <td>5.939879</td>\n",
       "      <td>0.000836</td>\n",
       "      <td>1.005238</td>\n",
       "    </tr>\n",
       "    <tr>\n",
       "      <th>103269</th>\n",
       "      <td>(조성)</td>\n",
       "      <td>(관광, 인프라, 지역, 사업, 유치, 산업, 도시)</td>\n",
       "      <td>0.178199</td>\n",
       "      <td>0.001261</td>\n",
       "      <td>0.001006</td>\n",
       "      <td>0.005644</td>\n",
       "      <td>4.475168</td>\n",
       "      <td>0.000781</td>\n",
       "      <td>1.004408</td>\n",
       "    </tr>\n",
       "  </tbody>\n",
       "</table>\n",
       "<p>103270 rows × 9 columns</p>\n",
       "</div>"
      ],
      "text/plain": [
       "       antecedents                    consequents  antecedent support  \\\n",
       "0             (건설)                           (감소)            0.116447   \n",
       "1             (감소)                           (건설)            0.038140   \n",
       "2             (감소)                          (고령화)            0.038140   \n",
       "3            (고령화)                           (감소)            0.003512   \n",
       "4             (감소)                           (농업)            0.038140   \n",
       "...            ...                            ...                 ...   \n",
       "103265        (사업)  (관광, 인프라, 지역, 유치, 산업, 도시, 조성)            0.279431   \n",
       "103266        (유치)  (관광, 인프라, 지역, 사업, 산업, 도시, 조성)            0.102829   \n",
       "103267        (산업)  (관광, 인프라, 지역, 사업, 유치, 도시, 조성)            0.146956   \n",
       "103268        (도시)  (관광, 인프라, 지역, 사업, 유치, 산업, 조성)            0.160701   \n",
       "103269        (조성)  (관광, 인프라, 지역, 사업, 유치, 산업, 도시)            0.178199   \n",
       "\n",
       "        consequent support   support  confidence      lift  leverage  \\\n",
       "0                 0.038140  0.004821    0.041404  1.085583  0.000380   \n",
       "1                 0.116447  0.004821    0.126413  1.085583  0.000380   \n",
       "2                 0.003512  0.001038    0.027208  7.746623  0.000904   \n",
       "3                 0.038140  0.001038    0.295455  7.746623  0.000904   \n",
       "4                 0.021121  0.001389    0.036417  1.724174  0.000583   \n",
       "...                    ...       ...         ...       ...       ...   \n",
       "103265            0.001133  0.001006    0.003599  3.175467  0.000689   \n",
       "103266            0.001756  0.001006    0.009781  5.569708  0.000825   \n",
       "103267            0.001229  0.001006    0.006844  5.567547  0.000825   \n",
       "103268            0.001054  0.001006    0.006259  5.939879  0.000836   \n",
       "103269            0.001261  0.001006    0.005644  4.475168  0.000781   \n",
       "\n",
       "        conviction  \n",
       "0         1.003405  \n",
       "1         1.011408  \n",
       "2         1.024359  \n",
       "3         1.365221  \n",
       "4         1.015874  \n",
       "...            ...  \n",
       "103265    1.002475  \n",
       "103266    1.008104  \n",
       "103267    1.005654  \n",
       "103268    1.005238  \n",
       "103269    1.004408  \n",
       "\n",
       "[103270 rows x 9 columns]"
      ]
     },
     "execution_count": 13,
     "metadata": {},
     "output_type": "execute_result"
    }
   ],
   "source": [
    "apriori_result"
   ]
  },
  {
   "cell_type": "code",
   "execution_count": 34,
   "metadata": {},
   "outputs": [],
   "source": [
    "#apriori_result.to_excel(\"./result/Pohang0713_apriori_result.xlsx\")"
   ]
  },
  {
   "cell_type": "code",
   "execution_count": 3,
   "metadata": {},
   "outputs": [],
   "source": [
    "# apriori_result = pd.read_excel(\"./result/Pohang0712_apriori_result.xlsx\")"
   ]
  },
  {
   "cell_type": "code",
   "execution_count": 35,
   "metadata": {},
   "outputs": [],
   "source": [
    "network_data = apriori_result[['antecedents', 'consequents', 'lift']]"
   ]
  },
  {
   "cell_type": "code",
   "execution_count": 36,
   "metadata": {},
   "outputs": [
    {
     "data": {
      "text/html": [
       "<div>\n",
       "<style scoped>\n",
       "    .dataframe tbody tr th:only-of-type {\n",
       "        vertical-align: middle;\n",
       "    }\n",
       "\n",
       "    .dataframe tbody tr th {\n",
       "        vertical-align: top;\n",
       "    }\n",
       "\n",
       "    .dataframe thead th {\n",
       "        text-align: right;\n",
       "    }\n",
       "</style>\n",
       "<table border=\"1\" class=\"dataframe\">\n",
       "  <thead>\n",
       "    <tr style=\"text-align: right;\">\n",
       "      <th></th>\n",
       "      <th>antecedents</th>\n",
       "      <th>consequents</th>\n",
       "      <th>lift</th>\n",
       "    </tr>\n",
       "  </thead>\n",
       "  <tbody>\n",
       "    <tr>\n",
       "      <th>0</th>\n",
       "      <td>(건설)</td>\n",
       "      <td>(감소)</td>\n",
       "      <td>1.085583</td>\n",
       "    </tr>\n",
       "    <tr>\n",
       "      <th>1</th>\n",
       "      <td>(감소)</td>\n",
       "      <td>(건설)</td>\n",
       "      <td>1.085583</td>\n",
       "    </tr>\n",
       "    <tr>\n",
       "      <th>2</th>\n",
       "      <td>(감소)</td>\n",
       "      <td>(고령화)</td>\n",
       "      <td>7.746623</td>\n",
       "    </tr>\n",
       "    <tr>\n",
       "      <th>3</th>\n",
       "      <td>(고령화)</td>\n",
       "      <td>(감소)</td>\n",
       "      <td>7.746623</td>\n",
       "    </tr>\n",
       "    <tr>\n",
       "      <th>4</th>\n",
       "      <td>(감소)</td>\n",
       "      <td>(농업)</td>\n",
       "      <td>1.724174</td>\n",
       "    </tr>\n",
       "    <tr>\n",
       "      <th>...</th>\n",
       "      <td>...</td>\n",
       "      <td>...</td>\n",
       "      <td>...</td>\n",
       "    </tr>\n",
       "    <tr>\n",
       "      <th>103265</th>\n",
       "      <td>(사업)</td>\n",
       "      <td>(관광, 인프라, 지역, 유치, 산업, 도시, 조성)</td>\n",
       "      <td>3.175467</td>\n",
       "    </tr>\n",
       "    <tr>\n",
       "      <th>103266</th>\n",
       "      <td>(유치)</td>\n",
       "      <td>(관광, 인프라, 지역, 사업, 산업, 도시, 조성)</td>\n",
       "      <td>5.569708</td>\n",
       "    </tr>\n",
       "    <tr>\n",
       "      <th>103267</th>\n",
       "      <td>(산업)</td>\n",
       "      <td>(관광, 인프라, 지역, 사업, 유치, 도시, 조성)</td>\n",
       "      <td>5.567547</td>\n",
       "    </tr>\n",
       "    <tr>\n",
       "      <th>103268</th>\n",
       "      <td>(도시)</td>\n",
       "      <td>(관광, 인프라, 지역, 사업, 유치, 산업, 조성)</td>\n",
       "      <td>5.939879</td>\n",
       "    </tr>\n",
       "    <tr>\n",
       "      <th>103269</th>\n",
       "      <td>(조성)</td>\n",
       "      <td>(관광, 인프라, 지역, 사업, 유치, 산업, 도시)</td>\n",
       "      <td>4.475168</td>\n",
       "    </tr>\n",
       "  </tbody>\n",
       "</table>\n",
       "<p>103270 rows × 3 columns</p>\n",
       "</div>"
      ],
      "text/plain": [
       "       antecedents                    consequents      lift\n",
       "0             (건설)                           (감소)  1.085583\n",
       "1             (감소)                           (건설)  1.085583\n",
       "2             (감소)                          (고령화)  7.746623\n",
       "3            (고령화)                           (감소)  7.746623\n",
       "4             (감소)                           (농업)  1.724174\n",
       "...            ...                            ...       ...\n",
       "103265        (사업)  (관광, 인프라, 지역, 유치, 산업, 도시, 조성)  3.175467\n",
       "103266        (유치)  (관광, 인프라, 지역, 사업, 산업, 도시, 조성)  5.569708\n",
       "103267        (산업)  (관광, 인프라, 지역, 사업, 유치, 도시, 조성)  5.567547\n",
       "103268        (도시)  (관광, 인프라, 지역, 사업, 유치, 산업, 조성)  5.939879\n",
       "103269        (조성)  (관광, 인프라, 지역, 사업, 유치, 산업, 도시)  4.475168\n",
       "\n",
       "[103270 rows x 3 columns]"
      ]
     },
     "execution_count": 36,
     "metadata": {},
     "output_type": "execute_result"
    }
   ],
   "source": [
    "network_data"
   ]
  },
  {
   "cell_type": "markdown",
   "metadata": {},
   "source": [
    "### Visualize network"
   ]
  },
  {
   "cell_type": "code",
   "execution_count": 37,
   "metadata": {},
   "outputs": [],
   "source": [
    "import matplotlib.pyplot as plt\n",
    "import networkx as nx"
   ]
  },
  {
   "cell_type": "code",
   "execution_count": 1,
   "metadata": {
    "collapsed": true,
    "jupyter": {
     "outputs_hidden": true,
     "source_hidden": true
    },
    "tags": []
   },
   "outputs": [
    {
     "name": "stderr",
     "output_type": "stream",
     "text": [
      "Duplicate key in file PosixPath('/home/mglee/.conda/envs/svmglee/lib/python3.8/site-packages/matplotlib/mpl-data/matplotlibrc'), line 257 ('font.family:  NanumGothic')\n"
     ]
    },
    {
     "data": {
      "text/plain": [
       "['NanumGothic',\n",
       " 'NanumSquare',\n",
       " 'NanumGothicCoding',\n",
       " 'Nanum Pen Script',\n",
       " 'NanumMyeongjo',\n",
       " 'NanumSquare',\n",
       " 'NanumSquareRound',\n",
       " 'NanumGothic',\n",
       " 'NanumGothic',\n",
       " 'Nanum Brush Script',\n",
       " 'NanumMyeongjo Eco',\n",
       " 'NanumBarunGothic',\n",
       " 'NanumMyeongjo',\n",
       " 'NanumBarunpen',\n",
       " 'NanumMyeongjo',\n",
       " 'NanumGothic Eco',\n",
       " 'NanumBarunGothic',\n",
       " 'NanumSquareRound',\n",
       " 'NanumSquare',\n",
       " 'NanumGothic',\n",
       " 'NanumGothic Eco',\n",
       " 'NanumGothic Eco',\n",
       " 'NanumSquareRound',\n",
       " 'NanumBarunGothic',\n",
       " 'NanumGothicCoding',\n",
       " 'NanumBarunGothic',\n",
       " 'NanumMyeongjo Eco',\n",
       " 'NanumSquareRound',\n",
       " 'NanumMyeongjo Eco',\n",
       " 'NanumBarunpen',\n",
       " 'NanumSquare',\n",
       " 'NanumGothic',\n",
       " 'NanumGothic Eco',\n",
       " 'NanumGothic',\n",
       " 'NanumMyeongjo',\n",
       " 'NanumMyeongjo',\n",
       " 'NanumBarunpen',\n",
       " 'NanumGothic Eco',\n",
       " 'NanumMyeongjo Eco',\n",
       " 'NanumMyeongjo',\n",
       " 'NanumMyeongjo Eco',\n",
       " 'NanumMyeongjo',\n",
       " 'Nanum Pen Script',\n",
       " 'NanumSquareRound',\n",
       " 'NanumMyeongjo',\n",
       " 'NanumBarunGothic',\n",
       " 'NanumGothic',\n",
       " 'Nanum Brush Script',\n",
       " 'NanumGothic',\n",
       " 'NanumGothicCoding',\n",
       " 'NanumSquare',\n",
       " 'NanumSquareRound',\n",
       " 'NanumSquareRound',\n",
       " 'NanumBarunGothic',\n",
       " 'Nanum Brush Script',\n",
       " 'NanumGothicCoding',\n",
       " 'NanumGothic Eco',\n",
       " 'NanumGothic',\n",
       " 'NanumSquare',\n",
       " 'Nanum Pen Script',\n",
       " 'NanumBarunGothic',\n",
       " 'NanumGothic',\n",
       " 'NanumSquare',\n",
       " 'NanumSquareRound',\n",
       " 'NanumBarunGothic',\n",
       " 'NanumGothic',\n",
       " 'NanumBarunpen',\n",
       " 'NanumMyeongjo',\n",
       " 'NanumSquare',\n",
       " 'NanumMyeongjo Eco']"
      ]
     },
     "execution_count": 1,
     "metadata": {},
     "output_type": "execute_result"
    }
   ],
   "source": [
    "# import matplotlib\n",
    "# import matplotlib.font_manager\n",
    "\n",
    "# [f.name for f in matplotlib.font_manager.fontManager.ttflist if 'Nanum' in f.name]"
   ]
  },
  {
   "cell_type": "code",
   "execution_count": 23,
   "metadata": {},
   "outputs": [],
   "source": [
    "#np.mean(network_data['lift'])"
   ]
  },
  {
   "cell_type": "code",
   "execution_count": 38,
   "metadata": {
    "tags": []
   },
   "outputs": [],
   "source": [
    "node_lst = []\n",
    "for node in network_data['antecedents']:\n",
    "    node_lst.append(', '.join(list(node)))"
   ]
  },
  {
   "cell_type": "code",
   "execution_count": 39,
   "metadata": {},
   "outputs": [],
   "source": [
    "graph = nx.DiGraph()\n",
    "#graph.add_nodes_from(node_lst)\n",
    "for i in range(len(network_data)):\n",
    "    a, b, c = network_data.iloc[i, :]\n",
    "    a = ', '.join(list(a))\n",
    "    b = ', '.join(list(b))\n",
    "    # if a == '인구':\n",
    "    #     if c > 5:\n",
    "    graph.add_edge(a, b, weight = round(c,3))\n",
    "    # else:\n",
    "    #     pass"
   ]
  },
  {
   "cell_type": "code",
   "execution_count": 40,
   "metadata": {
    "tags": []
   },
   "outputs": [],
   "source": [
    "import matplotlib.font_manager as fm\n",
    "import matplotlib\n",
    "\n",
    "font_path = \"/usr/share/fonts/truetype/nanum/NanumGothic.ttf\"\n",
    "fontprop = fm.FontProperties(fname=font_path, size=18)\n",
    "font_name = fm.FontProperties(fname=\"/usr/share/fonts/truetype/nanum/NanumGothic.ttf\").get_name()\n",
    "\n",
    "matplotlib.rcParams['font.family'] ='NanumGothic'\n",
    "matplotlib.rcParams['axes.unicode_minus'] =False"
   ]
  },
  {
   "cell_type": "code",
   "execution_count": 41,
   "metadata": {},
   "outputs": [],
   "source": [
    "edges,weights = zip(*nx.get_edge_attributes(graph,'weight').items())"
   ]
  },
  {
   "cell_type": "code",
   "execution_count": 42,
   "metadata": {
    "tags": []
   },
   "outputs": [
    {
     "data": {
      "text/html": [
       "<div>\n",
       "<style scoped>\n",
       "    .dataframe tbody tr th:only-of-type {\n",
       "        vertical-align: middle;\n",
       "    }\n",
       "\n",
       "    .dataframe tbody tr th {\n",
       "        vertical-align: top;\n",
       "    }\n",
       "\n",
       "    .dataframe thead th {\n",
       "        text-align: right;\n",
       "    }\n",
       "</style>\n",
       "<table border=\"1\" class=\"dataframe\">\n",
       "  <thead>\n",
       "    <tr style=\"text-align: right;\">\n",
       "      <th></th>\n",
       "      <th>0</th>\n",
       "    </tr>\n",
       "  </thead>\n",
       "  <tbody>\n",
       "    <tr>\n",
       "      <th>0.99</th>\n",
       "      <td>17.543</td>\n",
       "    </tr>\n",
       "  </tbody>\n",
       "</table>\n",
       "</div>"
      ],
      "text/plain": [
       "           0\n",
       "0.99  17.543"
      ]
     },
     "execution_count": 42,
     "metadata": {},
     "output_type": "execute_result"
    }
   ],
   "source": [
    "pd.DataFrame(weights).quantile([0.99])"
   ]
  },
  {
   "cell_type": "code",
   "execution_count": 43,
   "metadata": {},
   "outputs": [
    {
     "data": {
      "text/plain": [
       "NodeDataView({'건설': None, '감소': None, '고령화': None, '농업': None, '도시': None, '도심': None, '발생': None, '사업': None, '산업': None, '유치': None, '인구': None, '인프라': None, '제조업': None, '조성': None, '지역': None, '지역경제': None, '지역사회': None, '지자체': None, '피해': None, '혁신': None, '활성화': None, '관광': None, '개최': None, '국제': None, '의료': None, '지역발전': None, '지역주민': None, '체험': None, '공업': None, '기반시설': None, '재개발': None, '재건축': None, '주민': None, '주민들': None, '지방세': None, '환경오염': None, '경제활동': None, '공공시설': None, '생활환경': None, '쇠퇴': None, '지역기업': None, '사업체': None, '실업': None, '환경문제': None, '서비스업': None, '감소, 사업': None, '개최, 사업': None, '감소, 개최': None, '건설, 도시': None, '도시, 감소': None, '건설, 감소': None, '건설, 발생': None, '건설, 사업': None, '건설, 산업': None, '산업, 감소': None, '건설, 유치': None, '감소, 유치': None, '건설, 인구': None, '감소, 인구': None, '건설, 조성': None, '감소, 조성': None, '건설, 주민': None, '감소, 주민': None, '지역, 건설': None, '지역, 감소': None, '건설, 피해': None, '감소, 피해': None, '도시, 관광': None, '감소, 관광': None, '관광, 사업': None, '산업, 관광': None, '조성, 관광': None, '지역, 관광': None, '지역, 농업': None, '감소, 농업': None, '도시, 발생': None, '감소, 발생': None, '도시, 사업': None, '산업, 도시': None, '도시, 유치': None, '도시, 인구': None, '인프라, 도시': None, '인프라, 감소': None, '도시, 조성': None, '도시, 주민': None, '지역, 도시': None, '도시, 지자체': None, '감소, 지자체': None, '도시, 피해': None, '도시, 활성화': None, '감소, 활성화': None, '지역, 도심': None, '감소, 도심': None, '발생, 사업': None, '산업, 발생': None, '인구, 발생': None, '조성, 발생': None, '주민, 발생': None, '주민들, 발생': None, '감소, 주민들': None, '지역, 발생': None, '지자체, 발생': None, '산업, 사업': None, '유치, 사업': None, '인구, 사업': None, '인프라, 사업': None, '조성, 사업': None, '주민, 사업': None, '주민들, 사업': None, '지역, 사업': None, '지역경제, 감소': None, '지역경제, 사업': None, '지자체, 사업': None, '피해, 사업': None, '활성화, 사업': None, '산업, 인구': None, '인프라, 산업': None, '산업, 조성': None, '산업, 주민': None, '지역, 산업': None, '산업, 지자체': None, '산업, 피해': None, '산업, 활성화': None, '인구, 유치': None, '조성, 유치': None, '주민, 유치': None, '지역, 유치': None, '지자체, 유치': None, '조성, 인구': None, '인구, 주민': None, '지역, 인구': None, '지자체, 인구': None, '인구, 피해': None, '인프라, 조성': None, '인프라, 지역': None, '지역, 제조업': None, '감소, 제조업': None, '조성, 주민': None, '지역, 조성': None, '지자체, 조성': None, '조성, 피해': None, '활성화, 조성': None, '지역, 주민': None, '지자체, 주민': None, '지역, 주민들': None, '지역, 지역경제': None, '지역, 지역사회': None, '지역사회, 감소': None, '지역, 지자체': None, '감소, 체험': None, '지역, 피해': None, '지역, 혁신': None, '혁신, 감소': None, '지역, 활성화': None, '건설, 관광': None, '개최, 관광': None, '건설, 개최': None, '건설, 국제': None, '국제, 개최': None, '도시, 개최': None, '산업, 개최': None, '개최, 유치': None, '인프라, 건설': None, '인프라, 개최': None, '조성, 개최': None, '주민, 개최': None, '개최, 주민들': None, '건설, 지자체': None, '개최, 피해': None, '건설, 활성화': None, '활성화, 개최': None, '국제, 관광': None, '유치, 관광': None, '인프라, 관광': None, '주민, 관광': None, '지역, 개최': None, '지역경제, 관광': None, '지역경제, 개최': None, '지자체, 관광': None, '지자체, 개최': None, '체험, 관광': None, '체험, 개최': None, '활성화, 관광': None, '국제, 도시': None, '국제, 발생': None, '개최, 발생': None, '국제, 사업': None, '국제, 산업': None, '국제, 유치': None, '인프라, 국제': None, '국제, 조성': None, '국제, 주민': None, '지역, 국제': None, '국제, 지자체': None, '국제, 체험': None, '국제, 활성화': None, '농업, 사업': None, '농업, 개최': None, '도시, 도심': None, '도심, 개최': None, '인구, 개최': None, '지역경제, 도시': None, '도시, 체험': None, '혁신, 도시': None, '혁신, 개최': None, '도심, 사업': None, '도심, 조성': None, '유치, 발생': None, '의료, 사업': None, '의료, 개최': None, '지역사회, 개최': None, '지역주민, 사업': None, '지역주민, 개최': None, '체험, 사업': None, '혁신, 사업': None, '산업, 유치': None, '의료, 산업': None, '산업, 주민들': None, '지역경제, 산업': None, '산업, 체험': None, '산업, 혁신': None, '인프라, 유치': None, '유치, 주민들': None, '지역경제, 유치': None, '체험, 유치': None, '혁신, 유치': None, '활성화, 유치': None, '지역, 의료': None, '인프라, 지자체': None, '인프라, 체험': None, '인프라, 혁신': None, '인프라, 활성화': None, '제조업, 개최': None, '조성, 주민들': None, '지역경제, 조성': None, '조성, 체험': None, '혁신, 조성': None, '주민, 체험': None, '활성화, 주민': None, '지역, 지역발전': None, '지역발전, 개최': None, '지역, 지역주민': None, '지역, 체험': None, '지역경제, 활성화': None, '지자체, 체험': None, '활성화, 지자체': None, '활성화, 체험': None, '건설, 도심': None, '도심, 관광': None, '관광, 유치': None, '인구, 관광': None, '주민들, 관광': None, '건설, 주민들': None, '지역경제, 건설': None, '건설, 체험': None, '산업, 국제': None, '건설, 기반시설': None, '기반시설, 사업': None, '지역, 기반시설': None, '건설, 농업': None, '의료, 건설': None, '의료, 도시': None, '건설, 제조업': None, '도시, 제조업': None, '도시, 주민들': None, '건설, 지역발전': None, '도시, 지역발전': None, '건설, 혁신': None, '도시, 혁신': None, '도심, 발생': None, '산업, 도심': None, '도심, 유치': None, '인프라, 도심': None, '도심, 주민': None, '도심, 주민들': None, '도심, 활성화': None, '발생, 유치': None, '활성화, 발생': None, '제조업, 사업': None, '지역발전, 사업': None, '건설, 지역사회': None, '지역사회, 사업': None, '지역주민, 건설': None, '환경오염, 사업': None, '건설, 환경오염': None, '산업, 제조업': None, '산업, 지역발전': None, '의료, 유치': None, '주민들, 유치': None, '지역발전, 유치': None, '피해, 유치': None, '의료, 조성': None, '인프라, 인구': None, '주민, 인구': None, '인구, 주민들': None, '활성화, 인구': None, '인프라, 주민': None, '인프라, 지역경제': None, '지역발전, 조성': None, '주민, 주민들': None, '지역경제, 주민': None, '지역발전, 주민': None, '주민, 환경오염': None, '지자체, 주민들': None, '지역, 지방세': None, '건설, 지방세': None, '지역, 환경오염': None, '지역경제, 피해': None, '지역, 고령화': None, '고령화, 사업': None, '인구, 고령화': None, '도시, 공공시설': None, '공공시설, 사업': None, '공공시설, 조성': None, '지역, 공공시설': None, '공공시설, 주민': None, '공공시설, 발생': None, '공공시설, 주민들': None, '피해, 발생': None, '공공시설, 피해': None, '주민, 피해': None, '주민들, 피해': None, '지자체, 공공시설': None, '지자체, 피해': None, '지역, 공업': None, '공업, 도시': None, '공업, 사업': None, '공업, 산업': None, '도시, 농업': None, '농업, 관광': None, '산업, 농업': None, '관광, 발생': None, '의료, 관광': None, '관광, 주민들': None, '지역발전, 관광': None, '관광, 피해': None, '혁신, 관광': None, '도심, 체험': None, '유치, 피해': None, '국제, 도심': None, '국제, 인구': None, '지역경제, 국제': None, '국제, 혁신': None, '국제, 피해': None, '의료, 국제': None, '국제, 주민들': None, '기반시설, 도시': None, '기반시설, 조성': None, '산업, 기반시설': None, '기반시설, 유치': None, '조성, 농업': None, '농업, 주민': None, '농업, 발생': None, '농업, 피해': None, '농업, 유치': None, '지자체, 농업': None, '농업, 인구': None, '농업, 체험': None, '농업, 주민들': None, '혁신, 농업': None, '활성화, 농업': None, '도심, 인구': None, '도심, 지자체': None, '도심, 피해': None, '활성화, 도심': None, '인프라, 발생': None, '지역경제, 발생': None, '혁신, 발생': None, '생활환경, 도시': None, '생활환경, 사업': None, '쇠퇴, 사업': None, '도시, 쇠퇴': None, '도시, 재개발': None, '재개발, 사업': None, '도시, 재건축': None, '재건축, 사업': None, '지방세, 도시': None, '지방세, 사업': None, '지역사회, 도시': None, '지역주민, 도시': None, '지역사회, 산업': None, '생활환경, 조성': None, '생활환경, 지역': None, '조성, 쇠퇴': None, '지역, 쇠퇴': None, '제조업, 유치': None, '의료, 인구': None, '인프라, 의료': None, '의료, 지자체': None, '의료, 혁신': None, '지역경제, 인구': None, '혁신, 인구': None, '인프라, 주민들': None, '인프라, 피해': None, '재건축, 재개발': None, '지역, 재개발': None, '지역, 재건축': None, '재건축, 피해': None, '조성, 제조업': None, '혁신, 제조업': None, '지역사회, 조성': None, '지역주민, 조성': None, '지역사회, 주민': None, '지역주민, 주민': None, '혁신, 주민': None, '활성화, 주민들': None, '지역발전, 도시': None, '도시, 환경오염': None, '지역경제, 지자체': None, '지역경제, 혁신': None, '지역사회, 지자체': None, '혁신, 지자체': None, '혁신, 피해': None, '활성화, 피해': None, '혁신, 활성화': None, '재건축, 발생': None, '지역사회, 발생': None, '지역주민, 발생': None, '체험, 발생': None, '환경오염, 발생': None, '의료, 주민': None, '의료, 발생': None, '의료, 피해': None, '발생, 주민들': None, '재건축, 주민': None, '재건축, 주민들': None, '발생, 피해': None, '지방세, 발생': None, '지역발전, 발생': None, '산업, 지역기업': None, '지역기업, 사업': None, '산업, 지역사회': None, '지역주민, 산업': None, '산업, 환경오염': None, '지역사회, 유치': None, '의료, 활성화': None, '인구, 체험': None, '인프라, 제조업': None, '재개발, 피해': None, '활성화, 제조업': None, '지방세, 조성': None, '조성, 환경오염': None, '지역경제, 주민들': None, '지역발전, 주민들': None, '지역주민, 주민들': None, '체험, 주민들': None, '사업, 피해': None, '지역, 지역기업': None, '지역발전, 지자체': None, '지역사회, 피해': None, '지역사회, 혁신': None, '지역주민, 지자체': None, '체험, 피해': None, '혁신, 체험': None, '산업, 지방세': None, '지방세, 유치': None, '의료, 주민들': None, '지역발전, 인구': None, '지역사회, 인구': None, '지역경제, 지역': None, '주민, 재개발': None, '재건축, 조성': None, '지자체, 제조업': None, '지역사회, 주민들': None, '주민들, 환경오염': None, '지방세, 주민': None, '지방세, 피해': None, '지방세, 지자체': None, '지역경제, 지역사회': None, '지역경제, 체험': None, '지역발전, 활성화': None, '지역주민, 지역사회': None, '지역사회, 체험': None, '지역사회, 활성화': None, '지역주민, 피해': None, '지역주민, 활성화': None, '건설, 도시, 감소': None, '건설, 도시, 사업': None, '도시, 감소, 사업': None, '건설, 감소, 사업': None, '건설, 도시, 인구': None, '인구, 도시, 감소': None, '건설, 감소, 인구': None, '건설, 도시, 조성': None, '도시, 조성, 감소': None, '건설, 감소, 조성': None, '지역, 건설, 도시': None, '지역, 도시, 감소': None, '지역, 건설, 감소': None, '건설, 감소, 산업': None, '사업, 건설, 산업': None, '산업, 감소, 사업': None, '건설, 조성, 사업': None, '감소, 조성, 사업': None, '지역, 건설, 사업': None, '지역, 감소, 사업': None, '지역, 건설, 산업': None, '지역, 산업, 감소': None, '지역, 건설, 인구': None, '지역, 감소, 인구': None, '지역, 건설, 조성': None, '지역, 감소, 조성': None, '지역, 관광, 사업': None, '지역, 감소, 관광': None, '관광, 감소, 사업': None, '발생, 도시, 사업': None, '발생, 감소, 사업': None, '도시, 감소, 발생': None, '지역, 도시, 발생': None, '지역, 감소, 발생': None, '산업, 도시, 감소': None, '산업, 도시, 사업': None, '도시, 유치, 사업': None, '감소, 유치, 사업': None, '도시, 감소, 유치': None, '도시, 인구, 사업': None, '감소, 인구, 사업': None, '도시, 조성, 사업': None, '도시, 주민, 감소': None, '도시, 주민, 사업': None, '감소, 주민, 사업': None, '지역, 도시, 사업': None, '산업, 도시, 유치': None, '산업, 감소, 유치': None, '산업, 도시, 인구': None, '산업, 감소, 인구': None, '산업, 도시, 조성': None, '산업, 감소, 조성': None, '지역, 산업, 도시': None, '도시, 인구, 유치': None, '감소, 인구, 유치': None, '도시, 조성, 유치': None, '감소, 조성, 유치': None, '지역, 도시, 유치': None, '지역, 감소, 유치': None, '도시, 조성, 인구': None, '감소, 조성, 인구': None, '도시, 인구, 감소': None, '도시, 주민, 인구': None, '감소, 주민, 인구': None, '지역, 도시, 인구': None, '지역, 도시, 조성': None, '지역, 도시, 주민': None, '지역, 감소, 주민': None, '지역, 도시, 지자체': None, '지역, 감소, 지자체': None, '도시, 지자체, 감소': None, '지역, 도시, 피해': None, '지역, 감소, 피해': None, '도시, 감소, 피해': None, '지역, 발생, 사업': None, '지역, 산업, 발생': None, '산업, 감소, 발생': None, '지역, 인구, 발생': None, '감소, 인구, 발생': None, '지역, 주민, 발생': None, '감소, 주민, 발생': None, '지역, 지자체, 발생': None, '감소, 지자체, 발생': None, '지역, 피해, 발생': None, '피해, 감소, 발생': None, '산업, 유치, 사업': None, '산업, 인구, 사업': None, '산업, 조성, 사업': None, '지역, 산업, 사업': None, '조성, 유치, 사업': None, '지역, 유치, 사업': None, '조성, 인구, 사업': None, '인구, 감소, 주민': None, '인구, 주민, 사업': None, '지역, 인구, 사업': None, '인프라, 감소, 지역': None, '인프라, 감소, 사업': None, '인프라, 지역, 사업': None, '감소, 조성, 주민': None, '조성, 주민, 사업': None, '지역, 조성, 사업': None, '감소, 조성, 활성화': None, '감소, 활성화, 사업': None, '활성화, 조성, 사업': None, '지역, 주민, 사업': None, '지역, 지자체, 사업': None, '감소, 지자체, 사업': None, '지역, 피해, 사업': None, '피해, 감소, 사업': None, '지역, 감소, 활성화': None, '지역, 활성화, 사업': None, '지역, 산업, 유치': None, '산업, 조성, 인구': None, '지역, 산업, 인구': None, '지역, 산업, 조성': None, '지역, 산업, 주민': None, '산업, 감소, 주민': None, '지역, 산업, 지자체': None, '산업, 감소, 지자체': None, '지역, 인구, 유치': None, '지역, 조성, 유치': None, '지역, 주민, 유치': None, '감소, 주민, 유치': None, '지역, 조성, 인구': None, '지역, 인구, 주민': None, '지역, 지자체, 인구': None, '감소, 지자체, 인구': None, '지역, 인구, 피해': None, '감소, 인구, 피해': None, '지역, 조성, 주민': None, '지역, 지자체, 조성': None, '감소, 지자체, 조성': None, '지역, 활성화, 조성': None, '지역, 감소, 주민들': None, '지역, 주민, 주민들': None, '감소, 주민, 주민들': None, '지역, 지자체, 주민': None, '감소, 지자체, 주민': None, '지역, 주민, 피해': None, '감소, 주민, 피해': None, '건설, 도시, 관광': None, '건설, 개최, 관광': None, '도시, 개최, 관광': None, '건설, 도시, 개최': None, '관광, 건설, 사업': None, '관광, 개최, 사업': None, '건설, 개최, 사업': None, '지역, 건설, 관광': None, '지역, 개최, 관광': None, '지역, 건설, 개최': None, '건설, 도시, 국제': None, '건설, 국제, 개최': None, '국제, 도시, 개최': None, '건설, 국제, 사업': None, '국제, 개최, 사업': None, '지역, 건설, 국제': None, '지역, 국제, 개최': None, '도시, 개최, 사업': None, '건설, 도시, 산업': None, '건설, 개최, 산업': None, '산업, 도시, 개최': None, '건설, 도시, 유치': None, '건설, 개최, 유치': None, '도시, 개최, 유치': None, '인프라, 건설, 도시': None, '인프라, 건설, 개최': None, '인프라, 도시, 개최': None, '건설, 조성, 개최': None, '도시, 조성, 개최': None, '지역, 도시, 개최': None, '건설, 산업, 사업': None, '산업, 개최, 사업': None, '건설, 유치, 사업': None, '개최, 유치, 사업': None, '인프라, 건설, 사업': None, '인프라, 개최, 사업': None, '개최, 조성, 사업': None, '건설, 주민, 사업': None, '개최, 주민, 사업': None, '건설, 주민, 개최': None, '지역, 개최, 사업': None, '건설, 유치, 산업': None, '산업, 개최, 유치': None, '인프라, 건설, 산업': None, '인프라, 산업, 개최': None, '건설, 조성, 산업': None, '산업, 조성, 개최': None, '지역, 산업, 개최': None, '건설, 조성, 유치': None, '개최, 조성, 유치': None, '지역, 건설, 유치': None, '지역, 개최, 유치': None, '인프라, 건설, 지역': None, '인프라, 지역, 개최': None, '지역, 조성, 개최': None, '지역, 건설, 주민': None, '지역, 주민, 개최': None, '지역, 건설, 활성화': None, '지역, 활성화, 개최': None, '건설, 활성화, 개최': None, '국제, 도시, 관광': None, '국제, 개최, 관광': None, '관광, 국제, 사업': None, '국제, 산업, 관광': None, '산업, 개최, 관광': None, '국제, 개최, 산업': None, '국제, 유치, 관광': None, '개최, 유치, 관광': None, '국제, 개최, 유치': None, '국제, 조성, 관광': None, '개최, 조성, 관광': None, '국제, 조성, 개최': None, '지역, 국제, 관광': None, '관광, 도시, 사업': None, '산업, 도시, 관광': None, '도시, 유치, 관광': None, '인프라, 도시, 관광': None, '인프라, 개최, 관광': None, '도시, 조성, 관광': None, '지역, 도시, 관광': None, '도시, 지자체, 관광': None, '개최, 지자체, 관광': None, '도시, 지자체, 개최': None, '도시, 체험, 관광': None, '개최, 체험, 관광': None, '도시, 체험, 개최': None, '도시, 활성화, 관광': None, '활성화, 개최, 관광': None, '도시, 활성화, 개최': None, '관광, 산업, 사업': None, '관광, 유치, 사업': None, '인프라, 사업, 관광': None, '사업, 개최, 관광': None, '사업, 관광': None, '관광, 조성, 사업': None, '관광, 주민, 사업': None, '개최, 주민, 관광': None, '지역, 사업, 관광': None, '관광, 지자체, 사업': None, '개최, 지자체, 사업': None, '관광, 활성화, 사업': None, '활성화, 개최, 사업': None, '산업, 유치, 관광': None, '인프라, 산업, 관광': None, '산업, 조성, 관광': None, '지역, 산업, 관광': None, '산업, 지자체, 관광': None, '산업, 지자체, 개최': None, '산업, 활성화, 관광': None, '산업, 활성화, 개최': None, '인프라, 유치, 관광': None, '인프라, 개최, 유치': None, '조성, 유치, 관광': None, '지역, 유치, 관광': None, '유치, 체험, 관광': None, '개최, 체험, 유치': None, '활성화, 유치, 관광': None, '활성화, 개최, 유치': None, '인프라, 조성, 관광': None, '인프라, 조성, 개최': None, '인프라, 지역, 관광': None, '지역, 조성, 관광': None, '활성화, 조성, 관광': None, '활성화, 조성, 개최': None, '지역, 주민, 관광': None, '지역, 지역경제, 관광': None, '지역, 지역경제, 개최': None, '지역경제, 개최, 관광': None, '지역, 지자체, 관광': None, '지역, 지자체, 개최': None, '지역, 체험, 관광': None, '지역, 체험, 개최': None, '지역, 활성화, 관광': None, '국제, 도시, 사업': None, '국제, 도시, 산업': None, '국제, 도시, 유치': None, '인프라, 국제, 도시': None, '인프라, 국제, 개최': None, '국제, 도시, 조성': None, '지역, 국제, 도시': None, '국제, 도시, 체험': None, '국제, 체험, 개최': None, '국제, 산업, 사업': None, '국제, 유치, 사업': None, '인프라, 국제, 사업': None, '국제, 조성, 사업': None, '지역, 국제, 사업': None, '국제, 유치, 산업': None, '인프라, 국제, 산업': None, '국제, 조성, 산업': None, '지역, 국제, 산업': None, '인프라, 국제, 유치': None, '국제, 조성, 유치': None, '지역, 국제, 유치': None, '인프라, 국제, 지역': None, '지역, 국제, 조성': None, '지역, 국제, 주민': None, '국제, 주민, 개최': None, '지역, 국제, 지자체': None, '국제, 지자체, 개최': None, '지역, 국제, 체험': None, '지역, 국제, 활성화': None, '국제, 활성화, 개최': None, '도시, 도심, 사업': None, '도심, 개최, 사업': None, '도시, 도심, 개최': None, '도시, 조성, 도심': None, '도심, 조성, 개최': None, '지역, 도시, 도심': None, '지역, 도심, 개최': None, '발생, 개최, 사업': None, '도시, 개최, 발생': None, '지역, 개최, 발생': None, '개최, 인구, 사업': None, '도시, 인구, 개최': None, '인프라, 도시, 사업': None, '도시, 주민, 개최': None, '지역경제, 도시, 사업': None, '지역경제, 개최, 사업': None, '지역경제, 도시, 개최': None, '도시, 지자체, 사업': None, '도시, 체험, 사업': None, '개최, 체험, 사업': None, '사업, 도시, 피해': None, '사업, 개최, 피해': None, '도시, 개최, 피해': None, '혁신, 도시, 사업': None, '혁신, 개최, 사업': None, '혁신, 도시, 개최': None, '도시, 활성화, 사업': None, '산업, 인구, 개최': None, '인프라, 산업, 도시': None, '산업, 도시, 지자체': None, '산업, 도시, 체험': None, '산업, 체험, 개최': None, '혁신, 산업, 도시': None, '산업, 혁신, 개최': None, '산업, 도시, 활성화': None, '인프라, 도시, 유치': None, '도시, 지자체, 유치': None, '개최, 지자체, 유치': None, '도시, 활성화, 유치': None, '조성, 인구, 개최': None, '지역, 인구, 개최': None, '인프라, 도시, 조성': None, '인프라, 도시, 지역': None, '도시, 조성, 주민': None, '조성, 주민, 개최': None, '지자체, 도시, 조성': None, '지자체, 조성, 개최': None, '도시, 조성, 체험': None, '조성, 체험, 개최': None, '혁신, 도시, 조성': None, '혁신, 조성, 개최': None, '도시, 조성, 활성화': None, '지역, 도시, 주민들': None, '지역, 개최, 주민들': None, '도시, 개최, 주민들': None, '지역, 지역경제, 도시': None, '지역, 도시, 체험': None, '지역, 개최, 피해': None, '지역, 혁신, 도시': None, '지역, 혁신, 개최': None, '지역, 도시, 활성화': None, '도심, 조성, 사업': None, '지역, 도심, 사업': None, '지역, 도심, 조성': None, '발생, 산업, 사업': None, '산업, 개최, 발생': None, '개최, 조성, 발생': None, '개최, 주민, 발생': None, '발생, 개최, 주민들': None, '발생, 개최, 피해': None, '개최, 주민, 피해': None, '개최, 지자체, 발생': None, '인프라, 산업, 사업': None, '산업, 주민, 사업': None, '산업, 주민, 개최': None, '지역경제, 산업, 사업': None, '지역경제, 산업, 개최': None, '산업, 지자체, 사업': None, '산업, 체험, 사업': None, '산업, 혁신, 사업': None, '산업, 활성화, 사업': None, '인프라, 유치, 사업': None, '유치, 주민, 사업': None, '개최, 주민, 유치': None, '지자체, 유치, 사업': None, '혁신, 유치, 사업': None, '혁신, 개최, 유치': None, '활성화, 유치, 사업': None, '인프라, 조성, 사업': None, '사업, 조성, 주민들': None, '사업, 개최, 주민들': None, '개최, 조성, 주민들': None, '사업, 주민들': None, '지자체, 조성, 사업': None, '조성, 체험, 사업': None, '혁신, 조성, 사업': None, '사업, 주민, 주민들': None, '개최, 주민, 주민들': None, '지자체, 주민, 사업': None, '지자체, 주민, 개최': None, '지역, 사업, 주민들': None, '지역, 지역경제, 사업': None, '지역, 체험, 사업': None, '지역, 혁신, 사업': None, '인프라, 산업, 유치': None, '산업, 조성, 유치': None, '산업, 지자체, 유치': None, '산업, 혁신, 유치': None, '산업, 활성화, 유치': None, '인프라, 산업, 조성': None, '인프라, 산업, 지역': None, '지자체, 산업, 조성': None, '산업, 혁신, 조성': None, '산업, 활성화, 조성': None, '지역, 지역경제, 산업': None, '지역, 산업, 체험': None, '지역, 산업, 혁신': None, '지역, 산업, 활성화': None, '인프라, 조성, 유치': None, '인프라, 지역, 유치': None, '조성, 주민, 유치': None, '지자체, 조성, 유치': None, '활성화, 조성, 유치': None, '지역, 유치, 주민들': None, '개최, 유치, 주민들': None, '지역, 지역경제, 유치': None, '지역경제, 개최, 유치': None, '지역, 지자체, 유치': None, '지역, 체험, 유치': None, '지역, 혁신, 유치': None, '지역, 활성화, 유치': None, '인프라, 지역, 조성': None, '인프라, 지자체, 지역': None, '인프라, 지자체, 개최': None, '조성, 주민, 주민들': None, '지역, 조성, 주민들': None, '지역, 지역경제, 조성': None, '지역경제, 조성, 개최': None, '지역, 조성, 체험': None, '지역, 조성, 피해': None, '개최, 조성, 피해': None, '지역, 혁신, 조성': None, '주민들, 개최, 피해': None, '지역, 주민, 체험': None, '주민, 체험, 개최': None, '지역, 지역경제, 활성화': None, '지역경제, 활성화, 개최': None, '지역, 활성화, 지자체': None, '활성화, 지자체, 개최': None, '건설, 국제, 관광': None, '건설, 국제, 산업': None, '건설, 산업, 관광': None, '건설, 국제, 유치': None, '관광, 건설, 유치': None, '관광, 국제, 유치': None, '건설, 조성, 국제': None, '건설, 조성, 관광': None, '건설, 도시, 도심': None, '건설, 도심, 관광': None, '도시, 도심, 관광': None, '관광, 건설, 산업': None, '관광, 도시, 유치': None, '건설, 인구, 관광': None, '도시, 인구, 관광': None, '인프라, 건설, 관광': None, '건설, 도시, 주민': None, '건설, 주민, 관광': None, '도시, 주민, 관광': None, '지역경제, 건설, 도시': None, '지역경제, 건설, 관광': None, '지역경제, 도시, 관광': None, '건설, 도시, 활성화': None, '건설, 활성화, 관광': None, '건설, 도심, 사업': None, '관광, 도심, 사업': None, '건설, 도심, 조성': None, '도심, 조성, 관광': None, '지역, 건설, 도심': None, '지역, 도심, 관광': None, '건설, 인구, 사업': None, '관광, 인구, 사업': None, '인프라, 관광, 사업': None, '주민들, 관광, 사업': None, '주민들, 건설, 사업': None, '주민들, 건설, 관광': None, '지역경제, 건설, 사업': None, '지역경제, 관광, 사업': None, '건설, 지자체, 사업': None, '건설, 지자체, 관광': None, '건설, 체험, 사업': None, '관광, 체험, 사업': None, '건설, 체험, 관광': None, '건설, 활성화, 사업': None, '관광, 산업, 유치': None, '건설, 인구, 산업': None, '산업, 인구, 관광': None, '건설, 주민, 산업': None, '산업, 주민, 관광': None, '건설, 활성화, 산업': None, '인프라, 건설, 유치': None, '인프라, 관광, 유치': None, '관광, 조성, 유치': None, '지역, 관광, 유치': None, '건설, 활성화, 유치': None, '관광, 활성화, 유치': None, '건설, 조성, 인구': None, '조성, 인구, 관광': None, '지역, 인구, 관광': None, '인프라, 건설, 조성': None, '건설, 조성, 주민': None, '조성, 주민, 관광': None, '건설, 조성, 체험': None, '조성, 체험, 관광': None, '건설, 활성화, 조성': None, '주민들, 주민, 관광': None, '건설, 주민, 주민들': None, '지역, 주민들, 관광': None, '지역, 건설, 주민들': None, '지역, 건설, 지역경제': None, '지역, 건설, 지자체': None, '지역, 건설, 체험': None, '인프라, 건설, 국제': None, '산업, 국제, 사업': None, '건설, 활성화, 국제': None, '국제, 활성화, 사업': None, '산업, 국제, 유치': None, '인프라, 산업, 국제': None, '산업, 조성, 국제': None, '지역, 산업, 국제': None, '인프라, 국제, 조성': None, '건설, 도심, 산업': None, '산업, 도시, 도심': None, '건설, 도심, 유치': None, '도시, 도심, 유치': None, '건설, 도심, 주민': None, '도시, 주민, 도심': None, '발생, 건설, 사업': None, '건설, 도시, 발생': None, '발생, 건설, 산업': None, '산업, 도시, 발생': None, '건설, 조성, 발생': None, '도시, 조성, 발생': None, '건설, 주민, 발생': None, '도시, 주민, 발생': None, '지역, 건설, 발생': None, '피해, 건설, 발생': None, '피해, 도시, 발생': None, '건설, 도시, 피해': None, '주민들, 도시, 사업': None, '건설, 도시, 주민들': None, '건설, 도시, 지자체': None, '건설, 도시, 체험': None, '피해, 건설, 사업': None, '피해, 도시, 사업': None, '도시, 건설, 혁신': None, '건설, 혁신, 사업': None, '도시, 혁신, 사업': None, '건설, 산업, 유치': None, '산업, 도시, 주민': None, '건설, 산업, 주민들': None, '산업, 도시, 주민들': None, '지역경제, 건설, 산업': None, '지역경제, 산업, 도시': None, '건설, 지자체, 산업': None, '피해, 건설, 산업': None, '산업, 도시, 피해': None, '건설, 혁신, 산업': None, '도시, 산업, 혁신': None, '건설, 인구, 유치': None, '건설, 주민, 유치': None, '도시, 주민, 유치': None, '주민들, 건설, 유치': None, '주민들, 도시, 유치': None, '지역경제, 건설, 유치': None, '지역경제, 도시, 유치': None, '건설, 지자체, 유치': None, '건설, 혁신, 유치': None, '도시, 혁신, 유치': None, '인프라, 건설, 인구': None, '인프라, 도시, 인구': None, '건설, 주민, 인구': None, '인프라, 건설, 혁신': None, '인프라, 도시, 혁신': None, '인프라, 건설, 활성화': None, '인프라, 도시, 활성화': None, '건설, 조성, 주민들': None, '도시, 조성, 주민들': None, '지역경제, 건설, 조성': None, '지역경제, 도시, 조성': None, '건설, 지자체, 조성': None, '도시, 지자체, 조성': None, '건설, 조성, 피해': None, '도시, 조성, 피해': None, '건설, 혁신, 조성': None, '도시, 혁신, 조성': None, '도시, 주민, 주민들': None, '건설, 지자체, 주민': None, '도시, 지자체, 주민': None, '건설, 주민, 피해': None, '도시, 주민, 피해': None, '피해, 건설, 주민들': None, '피해, 도시, 주민들': None, '지역, 건설, 지역발전': None, '지역, 도시, 지역발전': None, '지역발전, 건설, 도시': None, '지역, 건설, 피해': None, '지역, 건설, 혁신': None, '지역, 도시, 혁신': None, '지역경제, 건설, 활성화': None, '지역경제, 도시, 활성화': None, '산업, 도심, 사업': None, '도심, 유치, 사업': None, '도심, 주민, 사업': None, '산업, 도심, 조성': None, '지역, 산업, 도심': None, '도심, 조성, 유치': None, '지역, 도심, 유치': None, '도심, 조성, 주민': None, '지역, 도심, 주민': None, '사업, 건설, 발생': None, '사업, 유치, 발생': None, '건설, 유치, 발생': None, '사업, 발생': None, '발생, 조성, 사업': None, '발생, 주민, 사업': None, '주민들, 사업, 발생': None, '주민들, 건설, 발생': None, '발생, 지자체, 사업': None, '건설, 지자체, 발생': None, '피해, 사업, 발생': None, '산업, 조성, 발생': None, '산업, 주민, 발생': None, '건설, 산업, 발생': None, '피해, 산업, 발생': None, '지역, 발생, 유치': None, '발생, 건설, 유치': None, '건설, 인구, 발생': None, '조성, 주민, 발생': None, '지역, 조성, 발생': None, '주민들, 주민, 발생': None, '지역, 주민들, 발생': None, '건설, 발생, 피해': None, '주민들, 건설, 피해': None, '의료, 건설, 사업': None, '의료, 산업, 사업': None, '의료, 건설, 산업': None, '주민들, 산업, 사업': None, '주민들, 건설, 산업': None, '피해, 산업, 사업': None, '유치, 인구, 사업': None, '주민들, 유치, 사업': None, '지역경제, 유치, 사업': None, '사업, 건설, 피해': None, '사업, 유치, 피해': None, '건설, 유치, 피해': None, '지역, 의료, 건설': None, '지역, 의료, 사업': None, '인프라, 인구, 사업': None, '주민, 인구, 사업': None, '인프라, 건설, 지자체': None, '인프라, 지자체, 사업': None, '인프라, 혁신, 사업': None, '인프라, 활성화, 사업': None, '주민들, 조성, 사업': None, '지역경제, 조성, 사업': None, '조성, 지자체, 사업': None, '피해, 조성, 사업': None, '주민들, 주민, 사업': None, '지역경제, 건설, 주민': None, '지역경제, 주민, 사업': None, '피해, 주민, 사업': None, '건설, 활성화, 주민': None, '활성화, 주민, 사업': None, '지역, 주민들, 사업': None, '주민들, 지자체, 사업': None, '건설, 지자체, 주민들': None, '주민들, 사업, 피해': None, '지역, 지역발전, 사업': None, '건설, 지역발전, 사업': None, '지역, 건설, 지역사회': None, '지역, 지역사회, 사업': None, '건설, 지역사회, 사업': None, '지역, 건설, 지역주민': None, '지역, 지역주민, 사업': None, '지역주민, 건설, 사업': None, '지역경제, 활성화, 사업': None, '산업, 인구, 유치': None, '산업, 주민, 유치': None, '지역경제, 산업, 유치': None, '지역, 의료, 산업': None, '인프라, 산업, 인구': None, '인프라, 산업, 혁신': None, '인프라, 산업, 활성화': None, '지역, 건설, 제조업': None, '지역, 산업, 제조업': None, '건설, 제조업, 산업': None, '산업, 조성, 주민': None, '산업, 조성, 주민들': None, '지역경제, 산업, 조성': None, '산업, 지자체, 조성': None, '산업, 조성, 피해': None, '산업, 주민, 주민들': None, '산업, 주민, 피해': None, '지역, 산업, 주민들': None, '지역, 산업, 지역경제': None, '지역, 산업, 지역발전': None, '건설, 지역발전, 산업': None, '건설, 체험, 산업': None, '지역, 산업, 피해': None, '지역경제, 산업, 활성화': None, '조성, 인구, 유치': None, '인프라, 활성화, 유치': None, '지역경제, 조성, 유치': None, '조성, 지자체, 유치': None, '혁신, 조성, 유치': None, '주민들, 주민, 유치': None, '지자체, 주민, 유치': None, '지역, 주민들, 유치': None, '지역, 지역발전, 유치': None, '건설, 지역발전, 유치': None, '지역, 피해, 유치': None, '피해, 건설, 유치': None, '인프라, 조성, 인구': None, '인프라, 지역, 인구': None, '주민, 조성, 인구': None, '지역, 주민, 인구': None, '인프라, 혁신, 조성': None, '인프라, 활성화, 조성': None, '인프라, 혁신, 지역': None, '인프라, 활성화, 지역': None, '조성, 주민, 피해': None, '지역, 지역발전, 조성': None, '건설, 지역발전, 조성': None, '지역경제, 활성화, 조성': None, '지자체, 주민, 주민들': None, '주민들, 주민, 피해': None, '지역, 지역경제, 주민': None, '지역, 지역발전, 주민': None, '건설, 지역발전, 주민': None, '지역, 활성화, 주민': None, '지역, 지자체, 주민들': None, '지역, 주민들, 피해': None, '지역, 지역경제, 피해': None, '지역경제, 건설, 피해': None, '건설, 지자체, 피해': None, '건설, 활성화, 지자체': None, '지역, 도시, 공공시설': None, '지역, 공공시설, 사업': None, '도시, 공공시설, 사업': None, '공공시설, 주민, 발생': None, '주민들, 공공시설, 발생': None, '공공시설, 주민, 주민들': None, '지역, 공공시설, 주민': None, '지역, 공공시설, 발생': None, '피해, 공공시설, 발생': None, '피해, 주민, 발생': None, '공공시설, 주민, 피해': None, '지역, 공공시설, 주민들': None, '발생, 공공시설, 피해': None, '주민들, 발생, 피해': None, '주민들, 공공시설, 피해': None, '지역, 공공시설, 피해': None, '피해, 공공시설, 사업': None, '관광, 국제, 산업': None, '인프라, 국제, 관광': None, '국제, 체험, 관광': None, '국제, 도시, 활성화': None, '국제, 활성화, 관광': None, '산업, 국제, 관광': None, '산업, 활성화, 국제': None, '국제, 활성화, 유치': None, '국제, 활성화, 조성': None, '국제, 지자체, 관광': None, '산업, 도심, 관광': None, '관광, 도심, 유치': None, '관광, 발생, 사업': None, '관광, 도시, 발생': None, '관광, 조성, 발생': None, '지역, 관광, 발생': None, '사업, 도시, 주민들': None, '사업, 관광, 주민들': None, '관광, 도시, 주민들': None, '사업, 관광, 피해': None, '관광, 도시, 피해': None, '관광, 혁신, 사업': None, '도시, 혁신, 관광': None, '지역경제, 산업, 관광': None, '산업, 체험, 관광': None, '산업, 혁신, 관광': None, '관광, 인구, 유치': None, '관광, 주민, 유치': None, '지역경제, 관광, 유치': None, '관광, 지자체, 유치': None, '도시, 체험, 유치': None, '관광, 체험, 유치': None, '인프라, 인구, 관광': None, '인프라, 도시, 지자체': None, '인프라, 지자체, 관광': None, '인프라, 도시, 체험': None, '인프라, 체험, 관광': None, '인프라, 활성화, 관광': None, '관광, 조성, 주민들': None, '지역경제, 조성, 관광': None, '지자체, 조성, 관광': None, '혁신, 조성, 관광': None, '관광, 주민, 주민들': None, '지자체, 주민, 관광': None, '도시, 활성화, 주민': None, '활성화, 주민, 관광': None, '지역, 관광, 주민들': None, '지역, 지역발전, 관광': None, '지역발전, 도시, 관광': None, '지역, 관광, 피해': None, '지역, 혁신, 관광': None, '지역경제, 활성화, 관광': None, '도시, 활성화, 체험': None, '활성화, 체험, 관광': None, '사업, 산업, 발생': None, '사업, 관광, 발생': None, '관광, 산업, 발생': None, '관광, 주민, 발생': None, '관광, 발생, 피해': None, '사업, 산업, 주민들': None, '관광, 산업, 주민들': None, '사업, 산업, 피해': None, '관광, 산업, 피해': None, '유치, 체험, 사업': None, '인프라, 주민, 사업': None, '인프라, 주민, 관광': None, '주민들, 조성, 관광': None, '사업, 조성, 피해': None, '관광, 조성, 피해': None, '주민, 체험, 사업': None, '주민, 체험, 관광': None, '주민들, 사업, 관광': None, '피해, 관광, 사업': None, '활성화, 지자체, 사업': None, '활성화, 지자체, 관광': None, '활성화, 체험, 사업': None, '산업, 체험, 유치': None, '산업, 조성, 체험': None, '산업, 활성화, 지자체': None, '산업, 활성화, 체험': None, '조성, 체험, 유치': None, '주민들, 유치, 관광': None, '지역, 유치, 피해': None, '관광, 유치, 피해': None, '활성화, 체험, 유치': None, '인프라, 조성, 체험': None, '인프라, 지역, 주민': None, '인프라, 지역, 체험': None, '지자체, 조성, 주민': None, '활성화, 조성, 주민': None, '활성화, 조성, 체험': None, '관광, 주민, 피해': None, '주민들, 지자체, 관광': None, '지역, 지자체, 체험': None, '지자체, 체험, 관광': None, '지역, 활성화, 체험': None, '지역, 국제, 발생': None, '국제, 도시, 발생': None, '국제, 도시, 주민': None, '국제, 주민, 사업': None, '국제, 도시, 지자체': None, '국제, 지자체, 사업': None, '도시, 국제, 혁신': None, '국제, 혁신, 사업': None, '국제, 산업, 유치': None, '국제, 지자체, 산업': None, '국제, 혁신, 산업': None, '국제, 활성화, 산업': None, '지역, 국제, 인구': None, '국제, 도시, 인구': None, '국제, 조성, 주민': None, '국제, 지자체, 조성': None, '국제, 혁신, 조성': None, '지역, 국제, 지역경제': None, '지역경제, 국제, 도시': None, '지역, 국제, 혁신': None, '발생, 국제, 사업': None, '지역경제, 산업, 국제': None, '지역경제, 국제, 사업': None, '산업, 지자체, 국제': None, '산업, 혁신, 국제': None, '국제, 지자체, 유치': None, '국제, 체험, 사업': None, '지역, 국제, 피해': None, '피해, 국제, 사업': None, '산업, 인구, 국제': None, '지역, 지역경제, 국제': None, '산업, 조성, 기반시설': None, '산업, 기반시설, 사업': None, '기반시설, 조성, 사업': None, '지역, 기반시설, 조성': None, '지역, 기반시설, 사업': None, '지역, 도시, 농업': None, '지역, 농업, 사업': None, '도시, 농업, 사업': None, '지역, 조성, 농업': None, '도시, 조성, 농업': None, '지역, 농업, 발생': None, '지역, 농업, 피해': None, '피해, 농업, 발생': None, '산업, 조성, 농업': None, '산업, 농업, 사업': None, '조성, 농업, 사업': None, '지역, 산업, 농업': None, '지역, 농업, 유치': None, '유치, 농업, 사업': None, '지역, 농업, 주민': None, '농업, 주민, 사업': None, '발생, 도심, 사업': None, '도시, 도심, 발생': None, '도심, 조성, 발생': None, '지역, 도심, 발생': None, '도시, 인구, 도심': None, '도심, 인구, 사업': None, '인프라, 도시, 도심': None, '인프라, 도심, 사업': None, '주민들, 도심, 사업': None, '도시, 도심, 주민들': None, '도시, 지자체, 도심': None, '도심, 지자체, 사업': None, '도시, 도심, 체험': None, '도심, 체험, 사업': None, '도시, 활성화, 도심': None, '활성화, 도심, 사업': None, '산업, 도심, 유치': None, '인프라, 산업, 도심': None, '도심, 조성, 인구': None, '지역, 도심, 인구': None, '인프라, 도심, 조성': None, '인프라, 도심, 지역': None, '도심, 조성, 주민들': None, '도심, 지자체, 조성': None, '도심, 조성, 체험': None, '도시, 활성화, 조성': None, '활성화, 조성, 도심': None, '도심, 주민, 주민들': None, '지역, 도심, 주민들': None, '지역, 도심, 지자체': None, '지역, 도심, 체험': None, '지역, 도심, 피해': None, '도시, 도심, 피해': None, '지역, 활성화, 도심': None, '발생, 유치, 사업': None, '도시, 유치, 발생': None, '발생, 인구, 사업': None, '도시, 인구, 발생': None, '인프라, 발생, 사업': None, '인프라, 도시, 발생': None, '주민들, 발생, 사업': None, '주민들, 도시, 발생': None, '도시, 지자체, 발생': None, '피해, 발생, 사업': None, '발생, 활성화, 사업': None, '도시, 활성화, 발생': None, '발생, 산업, 유치': None, '발생, 도시, 유치': None, '인프라, 산업, 발생': None, '발생, 조성, 유치': None, '조성, 인구, 발생': None, '주민, 인구, 발생': None, '피해, 인구, 발생': None, '도시, 인구, 피해': None, '인프라, 조성, 발생': None, '인프라, 지역, 발생': None, '주민들, 조성, 발생': None, '지자체, 조성, 발생': None, '피해, 조성, 발생': None, '활성화, 조성, 발생': None, '발생, 도시, 주민들': None, '지자체, 주민, 발생': None, '피해, 주민들': None, '지역, 활성화, 발생': None, '도시, 지자체, 피해': None, '의료, 도시, 사업': None, '의료, 도시, 산업': None, '산업, 도시, 제조업': None, '산업, 제조업, 사업': None, '도시, 제조업, 사업': None, '도시, 쇠퇴, 사업': None, '쇠퇴, 조성, 사업': None, '도시, 조성, 쇠퇴': None, '지역, 쇠퇴, 사업': None, '지역, 도시, 쇠퇴': None, '의료, 유치, 사업': None, '의료, 도시, 유치': None, '사업, 유치, 주민들': None, '도시, 유치, 주민들': None, '피해, 유치, 사업': None, '피해, 도시, 유치': None, '의료, 도시, 조성': None, '의료, 조성, 사업': None, '지역, 의료, 도시': None, '주민들, 인구, 사업': None, '도시, 인구, 주민들': None, '지역경제, 도시, 인구': None, '지역경제, 인구, 사업': None, '도시, 지자체, 인구': None, '지자체, 인구, 사업': None, '피해, 인구, 사업': None, '도시, 혁신, 인구': None, '혁신, 인구, 사업': None, '도시, 활성화, 인구': None, '활성화, 인구, 사업': None, '인프라, 도시, 주민': None, '인프라, 지역경제, 도시': None, '인프라, 지역경제, 사업': None, '인프라, 체험, 사업': None, '인프라, 피해, 사업': None, '인프라, 도시, 피해': None, '도시, 재건축, 재개발': None, '도시, 재건축, 사업': None, '도시, 재개발, 사업': None, '재건축, 재개발, 사업': None, '지역, 도시, 재개발': None, '지역, 재개발, 사업': None, '지역, 도시, 재건축': None, '지역, 재건축, 사업': None, '도시, 조성, 제조업': None, '조성, 제조업, 사업': None, '지역, 도시, 제조업': None, '지역, 제조업, 사업': None, '도시, 지역발전, 조성': None, '도시, 지역발전, 사업': None, '지역발전, 조성, 사업': None, '지역사회, 도시, 조성': None, '지역사회, 도시, 사업': None, '지역사회, 조성, 사업': None, '지역주민, 도시, 조성': None, '지역주민, 도시, 사업': None, '지역주민, 조성, 사업': None, '지역경제, 도시, 주민': None, '도시, 주민, 체험': None, '도시, 혁신, 주민': None, '혁신, 주민, 사업': None, '도시, 지자체, 주민들': None, '피해, 사업, 주민들': None, '지역발전, 도시, 사업': None, '지역, 지역사회, 도시': None, '지역, 도시, 지역주민': None, '피해, 지자체, 사업': None, '도시, 혁신, 지자체': None, '혁신, 지자체, 사업': None, '도시, 지자체, 활성화': None, '피해, 활성화, 사업': None, '도시, 활성화, 피해': None, '도시, 혁신, 활성화': None, '혁신, 활성화, 사업': None, '의료, 산업, 유치': None, '산업, 제조업, 유치': None, '도시, 제조업, 유치': None, '인프라, 의료, 도시': None, '인프라, 의료, 산업': None, '의료, 조성, 산업': None, '산업, 주민, 인구': None, '지역경제, 산업, 인구': None, '산업, 지자체, 인구': None, '산업, 혁신, 인구': None, '인구, 도시, 활성화': None, '산업, 활성화, 인구': None, '인프라, 산업, 주민': None, '인프라, 지역경제, 산업': None, '인프라, 산업, 지자체': None, '인프라, 산업, 체험': None, '산업, 조성, 제조업': None, '산업, 지자체, 주민': None, '산업, 활성화, 주민': None, '지역발전, 산업, 도시': None, '지역, 지역사회, 산업': None, '지역사회, 도시, 산업': None, '산업, 혁신, 지자체': None, '혁신, 도시, 활성화': None, '혁신, 산업, 활성화': None, '지역, 조성, 쇠퇴': None, '인프라, 의료, 유치': None, '의료, 조성, 유치': None, '지역, 의료, 유치': None, '인프라, 인구, 유치': None, '주민, 인구, 유치': None, '인프라, 지역경제, 유치': None, '인프라, 지자체, 유치': None, '인프라, 체험, 유치': None, '인프라, 혁신, 유치': None, '지역, 제조업, 유치': None, '주민들, 조성, 유치': None, '피해, 조성, 유치': None, '피해, 주민, 유치': None, '지역발전, 도시, 유치': None, '지역경제, 활성화, 유치': None, '활성화, 지자체, 유치': None, '인프라, 의료, 조성': None, '인프라, 의료, 지역': None, '지역, 의료, 조성': None, '지자체, 인구, 조성': None, '혁신, 조성, 인구': None, '활성화, 도시, 인구': None, '활성화, 조성, 인구': None, '주민, 인구, 주민들': None, '주민, 지자체, 인구': None, '주민, 인구, 피해': None, '지역, 인구, 주민들': None, '지역, 지역경제, 인구': None, '지역, 혁신, 인구': None, '지역, 활성화, 인구': None, '인프라, 조성, 주민': None, '인프라, 지역경제, 조성': None, '인프라, 지자체, 조성': None, '인프라, 조성, 피해': None, '인프라, 도시, 주민들': None, '인프라, 지역, 주민들': None, '인프라, 지역경제, 지역': None, '지역경제, 도시, 지역': None, '인프라, 지역, 피해': None, '지역, 재건축, 재개발': None, '지역, 조성, 제조업': None, '지자체, 주민, 조성': None, '조성, 주민, 체험': None, '지자체, 조성, 주민들': None, '피해, 조성, 주민들': None, '지역발전, 도시, 조성': None, '지역, 지역사회, 조성': None, '지역, 조성, 지역주민': None, '혁신, 지자체, 조성': None, '활성화, 지자체, 조성': None, '혁신, 조성, 활성화': None, '지역발전, 도시, 주민': None, '지역, 혁신, 주민': None, '지자체, 주민, 피해': None, '지역, 활성화, 주민들': None, '도시, 활성화, 주민들': None, '지역, 지역경제, 지자체': None, '지역경제, 도시, 지자체': None, '지역경제, 도시, 피해': None, '지역, 지역경제, 혁신': None, '지역경제, 도시, 혁신': None, '도시, 지자체, 체험': None, '지역, 지자체, 피해': None, '지역, 혁신, 지자체': None, '지역, 활성화, 피해': None, '지역, 혁신, 활성화': None, '도심, 주민, 발생': None, '주민들, 도심, 발생': None, '피해, 도심, 발생': None, '도심, 주민, 피해': None, '발생, 도심, 피해': None, '주민들, 도심, 피해': None, '도심, 조성, 활성화': None, '도심, 활성화, 사업': None, '피해, 도심, 사업': None, '산업, 유치, 발생': None, '주민들, 산업, 발생': None, '산업, 지자체, 발생': None, '발생, 혁신, 사업': None, '산업, 혁신, 발생': None, '산업, 활성화, 발생': None, '조성, 유치, 발생': None, '유치, 주민, 발생': None, '지역, 유치, 발생': None, '조성, 지자체, 발생': None, '사업, 발생, 피해': None, '지역경제, 발생, 사업': None, '지역경제, 지역, 발생': None, '지역, 지역사회, 발생': None, '발생, 지역사회, 사업': None, '지역, 혁신, 발생': None, '피해, 활성화, 발생': None, '산업, 인구, 발생': None, '발생, 산업, 주민들': None, '피해, 산업, 주민들': None, '인프라, 발생, 유치': None, '주민들, 유치, 발생': None, '발생, 주민, 유치': None, '발생, 지자체, 유치': None, '피해, 유치, 발생': None, '발생, 인구, 주민들': None, '발생, 주민, 주민들': None, '지역, 발생, 주민들': None, '지자체, 인구, 발생': None, '인프라, 피해, 발생': None, '재건축, 주민, 발생': None, '피해, 재건축, 발생': None, '재건축, 주민, 피해': None, '발생, 조성, 피해': None, '주민들, 조성, 피해': None, '주민들, 지자체, 발생': None, '발생, 주민, 피해': None, '활성화, 주민, 발생': None, '피해, 지자체, 발생': None, '지역, 발생, 피해': None, '발생, 지자체, 피해': None, '주민들, 지자체, 피해': None, '지역경제, 피해, 발생': None, '지역경제, 지역, 피해': None, '유치, 제조업, 사업': None, '산업, 유치, 주민들': None, '피해, 산업, 유치': None, '인프라, 의료, 사업': None, '의료, 지자체, 사업': None, '의료, 지자체, 산업': None, '의료, 혁신, 사업': None, '의료, 혁신, 산업': None, '인프라, 산업, 지역경제': None, '산업, 혁신, 제조업': None, '혁신, 제조업, 사업': None, '산업, 지역발전, 조성': None, '산업, 지역발전, 사업': None, '산업, 지역사회, 사업': None, '산업, 지역사회, 조성': None, '산업, 지자체, 주민들': None, '지역, 산업, 지역사회': None, '지역, 산업, 지역주민': None, '지역주민, 산업, 사업': None, '지역경제, 산업, 혁신': None, '지역경제, 혁신, 사업': None, '산업, 혁신, 활성화': None, '생활환경, 지역, 사업': None, '생활환경, 조성, 사업': None, '생활환경, 지역, 조성': None, '인프라, 주민, 유치': None, '활성화, 주민, 유치': None, '주민들, 지자체, 유치': None, '지역경제, 지역, 사업': None, '지역경제, 지역, 유치': None, '지역발전, 유치, 사업': None, '지역, 지역사회, 유치': None, '지역사회, 유치, 사업': None, '혁신, 지자체, 유치': None, '혁신, 활성화, 유치': None, '의료, 지자체, 조성': None, '의료, 혁신, 조성': None, '지역, 의료, 주민': None, '의료, 주민, 사업': None, '지역, 의료, 지자체': None, '지역, 의료, 혁신': None, '인프라, 주민, 인구': None, '인프라, 지역, 제조업': None, '인프라, 제조업, 사업': None, '인프라, 주민들, 사업': None, '재건축, 주민, 사업': None, '피해, 재건축, 사업': None, '지역, 재건축, 피해': None, '지역, 혁신, 제조업': None, '지역경제, 조성, 주민': None, '지역주민, 조성, 주민': None, '지역주민, 주민, 사업': None, '혁신, 조성, 주민': None, '주민들, 체험, 사업': None, '조성, 체험, 주민들': None, '주민들, 활성화, 사업': None, '활성화, 조성, 주민들': None, '지역경제, 지역, 조성': None, '지역, 환경오염, 사업': None, '지역, 조성, 환경오염': None, '환경오염, 조성, 사업': None, '지역경제, 혁신, 조성': None, '지자체, 체험, 사업': None, '지자체, 체험, 조성': None, '지자체, 조성, 피해': None, '활성화, 조성, 피해': None, '사업, 주민, 피해': None, '활성화, 주민, 주민들': None, '지역발전, 주민, 사업': None, '지역, 지역사회, 주민': None, '지역사회, 주민, 사업': None, '지역, 주민, 지역주민': None, '지역, 주민, 환경오염': None, '환경오염, 주민, 사업': None, '활성화, 지자체, 주민': None, '활성화, 주민, 피해': None, '지역, 지역경제, 주민들': None, '지역경제, 주민들, 사업': None, '지역, 지역발전, 주민들': None, '주민들, 지역발전, 사업': None, '지역, 체험, 주민들': None, '지역, 사업, 피해': None, '지역경제, 지자체, 사업': None, '지역경제, 피해, 사업': None, '지역, 지역발전, 지자체': None, '지역발전, 지자체, 사업': None, '지역, 지역사회, 지자체': None, '지역사회, 지자체, 사업': None, '지역, 지역사회, 혁신': None, '지역사회, 혁신, 사업': None, '지역, 지자체, 지역주민': None, '지역주민, 지자체, 사업': None, '의료, 지자체, 유치': None, '조성, 제조업, 유치': None, '주민들, 산업, 유치': None, '산업, 지역발전, 유치': None, '지역, 의료, 인구': None, '의료, 인구, 산업': None, '지자체, 의료, 조성': None, '인프라, 산업, 제조업': None, '인프라, 산업, 피해': None, '인프라, 혁신, 활성화': None, '지역, 활성화, 제조업': None, '산업, 활성화, 제조업': None, '지역경제, 산업, 주민': None, '산업, 혁신, 주민': None, '지역경제, 산업, 지자체': None, '산업, 지자체, 피해': None, '산업, 활성화, 피해': None, '지자체, 인구, 유치': None, '활성화, 인구, 유치': None, '지역발전, 조성, 유치': None, '지역경제, 주민, 유치': None, '지역발전, 주민, 유치': None, '주민들, 지역발전, 유치': None, '지역경제, 지자체, 유치': None, '지자체, 체험, 유치': None, '인프라, 의료, 지자체': None, '지역, 의료, 주민들': None, '의료, 주민, 주민들': None, '지역, 인구, 인프라': None, '지역, 주민, 인프라': None, '지역, 인프라': None, '조성, 인구, 주민들': None, '주민, 인구, 조성': None, '조성, 인구, 피해': None, '활성화, 주민, 인구': None, '인프라, 주민, 주민들': None, '인프라, 지역경제, 활성화': None, '지역경제, 활성화, 지역': None, '인프라, 혁신, 지자체': None, '인프라, 활성화, 지자체': None, '주민들, 재건축, 피해': None, '재건축, 주민, 주민들': None, '지역, 재건축, 주민': None, '혁신, 조성, 제조업': None, '지역사회, 조성, 주민': None, '지역경제, 지자체, 조성': None, '지역경제, 주민, 주민들': None, '지역발전, 주민, 주민들': None, '지역, 지역사회, 주민들': None, '지역사회, 주민, 주민들': None, '지역, 지역주민, 주민들': None, '지역주민, 주민, 주민들': None, '주민, 체험, 주민들': None, '지역, 주민들, 환경오염': None, '주민들, 주민, 환경오염': None, '지역경제, 지자체, 주민': None, '지역경제, 주민, 피해': None, '지역경제, 활성화, 주민': None, '지역경제, 활성화, 지자체': None, '지역, 건설, 감소, 사업': None, '도시, 건설, 감소, 사업': None, '지역, 도시, 건설, 감소': None, '지역, 건설, 도시, 사업': None, '지역, 도시, 감소, 사업': None, '도시, 건설, 감소': None, '건설, 감소, 조성, 사업': None, '지역, 건설, 감소, 조성': None, '지역, 건설, 조성, 사업': None, '지역, 감소, 조성, 사업': None, '도시, 산업, 감소, 사업': None, '산업, 감소, 조성, 사업': None, '도시, 감소, 조성, 사업': None, '도시, 산업, 감소, 조성': None, '산업, 도시, 조성, 사업': None, '도시, 산업, 감소': None, '도시, 감소, 조성': None, '지역, 산업, 감소, 사업': None, '지역, 도시, 산업, 감소': None, '지역, 산업, 도시, 사업': None, '지역, 사업, 감소, 유치': None, '지역, 도시, 감소, 유치': None, '사업, 도시, 감소, 유치': None, '지역, 사업, 도시, 유치': None, '사업, 감소, 유치': None, '사업, 유치': None, '지역, 사업, 유치': None, '사업, 도시, 유치': None, '도시, 감소, 인구, 사업': None, '감소, 조성, 인구, 사업': None, '도시, 감소, 조성, 인구': None, '도시, 조성, 인구, 사업': None, '도시, 감소, 인구': None, '지역, 감소, 인구, 사업': None, '지역, 도시, 감소, 인구': None, '지역, 도시, 인구, 사업': None, '지역, 도시, 감소, 조성': None, '지역, 도시, 조성, 사업': None, '지역, 산업, 감소, 인구': None, '도시, 산업, 감소, 인구': None, '지역, 산업, 도시, 인구': None, '지역, 산업, 감소, 조성': None, '지역, 산업, 도시, 조성': None, '지역, 감소, 조성, 인구': None, '지역, 도시, 조성, 인구': None, '지역, 감소, 주민, 인구': None, '도시, 감소, 주민, 인구': None, '지역, 도시, 주민, 인구': None, '지역, 도시, 감소, 주민': None, '도시, 감소, 주민': None, '산업, 감소, 인구, 사업': None, '지역, 산업, 인구, 사업': None, '지역, 산업, 조성, 사업': None, '지역, 감소, 조성, 유치': None, '사업, 감소, 조성, 유치': None, '지역, 사업, 조성, 유치': None, '사업, 조성, 유치': None, '지역, 조성, 인구, 사업': None, '지역, 감소, 주민, 사업': None, '감소, 조성, 주민, 사업': None, '지역, 감소, 조성, 주민': None, '지역, 조성, 주민, 사업': None, '산업, 감소, 조성, 인구': None, '지역, 산업, 조성, 인구': None, '지역, 사업, 건설, 관광': None, '지역, 건설, 개최, 관광': None, '사업, 건설, 개최, 관광': None, '지역, 건설, 개최, 사업': None, '지역, 사업, 개최, 관광': None, '사업, 건설, 관광': None, '지역, 건설, 국제, 사업': None, '건설, 개최, 국제, 사업': None, '지역, 건설, 국제, 개최': None, '지역, 국제, 개최, 사업': None, '건설, 개최, 산업, 사업': None, '건설, 도시, 개최, 사업': None, '건설, 도시, 산업, 사업': None, '건설, 도시, 산업, 개최': None, '산업, 도시, 개최, 사업': None, '건설, 산업, 개최': None, '개최, 건설, 유치, 사업': None, '건설, 도시, 유치, 사업': None, '건설, 도시, 개최, 유치': None, '개최, 도시, 유치, 사업': None, '조성, 건설, 개최, 사업': None, '건설, 도시, 조성, 사업': None, '건설, 도시, 조성, 개최': None, '조성, 도시, 개최, 사업': None, '조성, 개최, 사업': None, '지역, 건설, 도시, 개최': None, '지역, 도시, 개최, 사업': None, '조성, 건설, 산업, 개최': None, '건설, 도시, 조성, 산업': None, '산업, 도시, 조성, 개최': None, '지역, 건설, 산업, 개최': None, '지역, 건설, 도시, 산업': None, '지역, 산업, 도시, 개최': None, '지역, 건설, 개최, 유치': None, '지역, 건설, 도시, 유치': None, '지역, 도시, 개최, 유치': None, '지역, 건설, 조성, 개최': None, '지역, 건설, 도시, 조성': None, '지역, 도시, 조성, 개최': None, '건설, 유치, 산업, 사업': None, '건설, 개최, 산업, 유치': None, '개최, 산업, 유치, 사업': None, '조성, 건설, 산업, 사업': None, '조성, 산업, 개최, 사업': None, '지역, 건설, 산업, 사업': None, '지역, 산업, 개최, 사업': None, '조성, 건설, 유치, 사업': None, '조성, 건설, 개최, 유치': None, '조성, 개최, 유치, 사업': None, '조성, 개최, 유치': None, '지역, 건설, 유치, 사업': None, '지역, 개최, 유치, 사업': None, '지역, 조성, 개최, 사업': None, '지역, 건설, 주민, 사업': None, '건설, 개최, 주민, 사업': None, '지역, 건설, 주민, 개최': None, '지역, 개최, 주민, 사업': None, '지역, 건설, 산업, 유치': None, '지역, 산업, 개최, 유치': None, '지역, 건설, 조성, 산업': None, '지역, 산업, 조성, 개최': None, '지역, 국제, 개최, 관광': None, '지역, 도시, 개최, 관광': None, '지역, 국제, 도시, 관광': None, '국제, 도시, 개최, 관광': None, '지역, 국제, 도시, 개최': None, '지역, 산업, 개최, 관광': None, '지역, 국제, 산업, 관광': None, '국제, 개최, 산업, 관광': None, '지역, 국제, 산업, 개최': None, '국제, 산업, 개최': None, '관광, 산업, 개최, 사업': None, '관광, 도시, 개최, 사업': None, '관광, 산업, 도시, 사업': None, '산업, 도시, 개최, 관광': None, '관광, 개최, 유치, 사업': None, '관광, 도시, 유치, 사업': None, '개최, 도시, 유치, 관광': None, '조성, 관광, 개최, 사업': None, '관광, 도시, 조성, 사업': None, '조성, 도시, 개최, 관광': None, '조성, 개최, 관광': None, '지역, 사업, 도시, 관광': None, '사업, 도시, 개최, 관광': None, '사업, 도시, 관광': None, '개최, 산업, 유치, 관광': None, '산업, 도시, 유치, 관광': None, '산업, 도시, 개최, 유치': None, '조성, 산업, 개최, 관광': None, '산업, 도시, 조성, 관광': None, '지역, 산업, 도시, 관광': None, '조성, 개최, 유치, 관광': None, '조성, 도시, 유치, 관광': None, '조성, 도시, 개최, 유치': None, '지역, 개최, 유치, 관광': None, '지역, 도시, 유치, 관광': None, '인프라, 개최, 지역, 관광': None, '인프라, 도시, 지역, 관광': None, '인프라, 도시, 개최, 관광': None, '인프라, 도시, 지역, 개최': None, '지역, 조성, 개최, 관광': None, '지역, 도시, 조성, 관광': None, '지역, 활성화, 개최, 관광': None, '지역, 도시, 활성화, 관광': None, '도시, 활성화, 개최, 관광': None, '지역, 도시, 활성화, 개최': None, '관광, 산업, 유치, 사업': None, '관광, 산업, 조성, 사업': None, '지역, 사업, 산업, 관광': None, '사업, 산업, 개최, 관광': None, '사업, 산업, 관광': None, '조성, 관광, 유치, 사업': None, '지역, 사업, 유치, 관광': None, '사업, 개최, 유치, 관광': None, '지역, 사업, 개최, 유치': None, '사업, 유치, 관광': None, '사업, 개최, 유치': None, '지역, 사업, 조성, 관광': None, '조성, 사업, 개최, 관광': None, '사업, 조성, 관광': None, '지역, 사업, 지자체, 관광': None, '지역, 지자체, 개최, 관광': None, '사업, 지자체, 개최, 관광': None, '지역, 지자체, 개최, 사업': None, '사업, 지자체, 관광': None, '지자체, 개최, 관광': None, '지자체, 개최, 사업': None, '지역, 사업, 활성화, 관광': None, '사업, 활성화, 개최, 관광': None, '지역, 활성화, 개최, 사업': None, '사업, 활성화, 관광': None, '지역, 산업, 유치, 관광': None, '지역, 산업, 조성, 관광': None, '지역, 조성, 유치, 관광': None, '지역, 조성, 개최, 유치': None, '국제, 개최, 산업, 사업': None, '국제, 도시, 개최, 사업': None, '국제, 도시, 산업, 사업': None, '국제, 도시, 산업, 개최': None, '개최, 국제, 유치, 사업': None, '국제, 도시, 유치, 사업': None, '국제, 도시, 개최, 유치': None, '조성, 국제, 개최, 사업': None, '국제, 도시, 조성, 사업': None, '국제, 도시, 조성, 개최': None, '지역, 국제, 도시, 사업': None, '조성, 국제, 산업, 개최': None, '국제, 도시, 조성, 산업': None, '지역, 국제, 도시, 산업': None, '지역, 국제, 개최, 유치': None, '지역, 국제, 도시, 유치': None, '인프라, 국제, 지역, 개최': None, '인프라, 국제, 도시, 개최': None, '인프라, 국제, 도시, 지역': None, '지역, 국제, 조성, 개최': None, '지역, 국제, 도시, 조성': None, '조성, 국제, 산업, 사업': None, '지역, 국제, 산업, 사업': None, '지역, 국제, 유치, 사업': None, '지역, 국제, 조성, 사업': None, '지역, 국제, 산업, 유치': None, '국제, 개최, 산업, 유치': None, '인프라, 산업, 지역, 개최': None, '인프라, 국제, 산업, 개최': None, '인프라, 국제, 지역, 산업': None, '지역, 국제, 조성, 산업': None, '지역, 도심, 개최, 사업': None, '지역, 도시, 도심, 사업': None, '도시, 도심, 개최, 사업': None, '지역, 도시, 도심, 개최': None, '산업, 도시, 유치, 사업': None, '인프라, 산업, 개최, 사업': None, '인프라, 도시, 개최, 사업': None, '인프라, 산업, 도시, 사업': None, '인프라, 산업, 도시, 개최': None, '지자체, 산업, 개최, 사업': None, '지자체, 도시, 개최, 사업': None, '산업, 도시, 지자체, 사업': None, '산업, 도시, 지자체, 개최': None, '산업, 활성화, 개최, 사업': None, '도시, 활성화, 개최, 사업': None, '도시, 산업, 활성화, 사업': None, '도시, 산업, 활성화, 개최': None, '도시, 산업, 활성화': None, '인프라, 개최, 유치, 사업': None, '인프라, 도시, 유치, 사업': None, '인프라, 도시, 개최, 유치': None, '조성, 도시, 유치, 사업': None, '지역, 도시, 유치, 사업': None, '인프라, 조성, 개최, 사업': None, '인프라, 도시, 조성, 사업': None, '인프라, 도시, 조성, 개최': None, '인프라, 개최, 지역, 사업': None, '인프라, 도시, 지역, 사업': None, '도시, 개최, 주민, 사업': None, '조성, 개최, 주민, 사업': None, '도시, 조성, 주민, 사업': None, '도시, 조성, 주민, 개최': None, '조성, 활성화, 개최, 사업': None, '도시, 활성화, 조성, 사업': None, '도시, 활성화, 조성, 개최': None, '지역, 도시, 주민, 사업': None, '지역, 도시, 주민, 개최': None, '지역, 도시, 지자체, 사업': None, '지역, 도시, 지자체, 개최': None, '지역, 혁신, 개최, 사업': None, '지역, 도시, 혁신, 사업': None, '도시, 혁신, 개최, 사업': None, '지역, 도시, 혁신, 개최': None, '도시, 혁신, 개최': None, '지역, 도시, 활성화, 사업': None, '인프라, 산업, 개최, 유치': None, '인프라, 산업, 도시, 유치': None, '조성, 산업, 개최, 유치': None, '산업, 도시, 조성, 유치': None, '지역, 산업, 도시, 유치': None, '인프라, 산업, 조성, 개최': None, '인프라, 산업, 도시, 조성': None, '인프라, 산업, 도시, 지역': None, '산업, 활성화, 조성, 개최': None, '도시, 산업, 활성화, 조성': None, '지역, 산업, 지자체, 개최': None, '지역, 산업, 도시, 지자체': None, '지역, 산업, 혁신, 개최': None, '도시, 산업, 혁신, 개최': None, '지역, 도시, 산업, 혁신': None, '지역, 산업, 활성화, 개최': None, '지역, 도시, 산업, 활성화': None, '인프라, 조성, 개최, 유치': None, '인프라, 도시, 조성, 유치': None, '인프라, 개최, 지역, 유치': None, '인프라, 도시, 지역, 유치': None, '지역, 도시, 조성, 유치': None, '지역, 활성화, 개최, 유치': None, '지역, 도시, 활성화, 유치': None, '도시, 활성화, 개최, 유치': None, '인프라, 조성, 지역, 개최': None, '인프라, 도시, 지역, 조성': None, '지역, 조성, 주민, 개최': None, '지역, 도시, 조성, 주민': None, '지역, 조성, 지자체, 개최': None, '조성, 도시, 지자체, 개최': None, '지역, 도시, 지자체, 조성': None, '조성, 지자체, 개최': None, '지역, 혁신, 조성, 개최': None, '도시, 혁신, 조성, 개최': None, '지역, 도시, 혁신, 조성': None, '지역, 활성화, 조성, 개최': None, '지역, 도시, 활성화, 조성': None, '지역, 도심, 조성, 사업': None, '조성, 도심, 개최, 사업': None, '지역, 도심, 조성, 개최': None, '인프라, 산업, 유치, 사업': None, '조성, 산업, 유치, 사업': None, '지역, 산업, 유치, 사업': None, '개최, 활성화, 유치, 사업': None, '산업, 활성화, 유치, 사업': None, '산업, 활성화, 개최, 유치': None, '인프라, 산업, 조성, 사업': None, '인프라, 산업, 지역, 사업': None, '조성, 지자체, 개최, 사업': None, '조성, 산업, 지자체, 사업': None, '조성, 산업, 지자체, 개최': None, '산업, 혁신, 개최, 사업': None, '조성, 혁신, 개최, 사업': None, '산업, 혁신, 조성, 사업': None, '산업, 혁신, 조성, 개최': None, '산업, 활성화, 조성, 사업': None, '지역, 산업, 주민, 사업': None, '산업, 개최, 주민, 사업': None, '지역, 산업, 주민, 개최': None, '지역, 산업, 지자체, 사업': None, '지역, 산업, 혁신, 사업': None, '지역, 산업, 활성화, 사업': None, '인프라, 조성, 유치, 사업': None, '인프라, 지역, 유치, 사업': None, '지역, 조성, 유치, 사업': None, '조성, 활성화, 유치, 사업': None, '조성, 활성화, 개최, 유치': None, '지역, 유치, 주민, 사업': None, '개최, 유치, 주민, 사업': None, '지역, 개최, 주민, 유치': None, '지역, 지자체, 유치, 사업': None, '개최, 지자체, 유치, 사업': None, '지역, 지자체, 개최, 유치': None, '지자체, 개최, 유치': None, '지역, 혁신, 유치, 사업': None, '개최, 혁신, 유치, 사업': None, '지역, 혁신, 개최, 유치': None, '지역, 활성화, 유치, 사업': None, '인프라, 조성, 지역, 사업': None, '지역, 사업, 개최, 주민들': None, '지역, 사업, 조성, 주민들': None, '조성, 사업, 개최, 주민들': None, '지역, 조성, 개최, 주민들': None, '조성, 개최, 주민들': None, '지역, 조성, 지자체, 사업': None, '지역, 혁신, 조성, 사업': None, '지역, 활성화, 조성, 사업': None, '지역, 사업, 주민, 주민들': None, '사업, 개최, 주민, 주민들': None, '지역, 개최, 주민, 주민들': None, '인프라, 산업, 조성, 유치': None, '인프라, 산업, 지역, 유치': None, '지역, 산업, 조성, 유치': None, '지역, 산업, 지자체, 유치': None, '지자체, 산업, 개최, 유치': None, '지역, 산업, 혁신, 유치': None, '산업, 혁신, 개최, 유치': None, '지역, 산업, 활성화, 유치': None, '인프라, 산업, 지역, 조성': None, '지역, 산업, 지자체, 조성': None, '지역, 산업, 혁신, 조성': None, '지역, 산업, 활성화, 조성': None, '인프라, 조성, 지역, 유치': None, '지역, 조성, 지자체, 유치': None, '조성, 지자체, 개최, 유치': None, '지역, 활성화, 조성, 유치': None, '조성, 개최, 주민, 주민들': None, '지역, 조성, 주민, 주민들': None, '관광, 건설, 국제, 사업': None, '관광, 건설, 도시, 사업': None, '건설, 도시, 국제, 사업': None, '건설, 도시, 국제, 관광': None, '관광, 국제, 도시, 사업': None, '건설, 산업, 국제, 관광': None, '건설, 도시, 산업, 관광': None, '건설, 도시, 국제, 산업': None, '국제, 도시, 산업, 관광': None, '건설, 조성, 국제, 관광': None, '건설, 도시, 조성, 관광': None, '건설, 도시, 조성, 국제': None, '국제, 도시, 조성, 관광': None, '지역, 건설, 국제, 관광': None, '지역, 건설, 도시, 관광': None, '지역, 건설, 도시, 국제': None, '관광, 건설, 산업, 사업': None, '건설, 산업, 국제, 사업': None, '관광, 국제, 산업, 사업': None, '관광, 건설, 조성, 사업': None, '건설, 조성, 국제, 사업': None, '관광, 국제, 조성, 사업': None, '지역, 관광, 건설, 사업': None, '지역, 관광, 국제, 사업': None, '지역, 건설, 산업, 관광': None, '지역, 건설, 국제, 산업': None, '지역, 건설, 조성, 관광': None, '지역, 건설, 조성, 국제': None, '지역, 국제, 조성, 관광': None, '관광, 건설, 도심, 사업': None, '도시, 건설, 도심, 사업': None, '도시, 건설, 도심, 관광': None, '관광, 도시, 도심, 사업': None, '도시, 건설, 도심': None, '건설, 도심, 조성, 관광': None, '도시, 건설, 도심, 조성': None, '도시, 도심, 조성, 관광': None, '도시, 도심, 조성': None, '지역, 건설, 도심, 관광': None, '지역, 도시, 건설, 도심': None, '지역, 도시, 도심, 관광': None, '관광, 건설, 유치, 사업': None, '관광, 건설, 도시, 유치': None, '인프라, 관광, 건설, 사업': None, '인프라, 건설, 도시, 사업': None, '인프라, 건설, 도시, 관광': None, '인프라, 관광, 도시, 사업': None, '관광, 건설, 주민, 사업': None, '건설, 도시, 주민, 사업': None, '건설, 도시, 주민, 관광': None, '관광, 도시, 주민, 사업': None, '지역, 관광, 도시, 사업': None, '관광, 건설, 활성화, 사업': None, '도시, 건설, 활성화, 사업': None, '도시, 건설, 활성화, 관광': None, '관광, 도시, 활성화, 사업': None, '도시, 건설, 활성화': None, '관광, 건설, 산업, 유치': None, '건설, 도시, 산업, 유치': None, '관광, 산업, 도시, 유치': None, '인프라, 건설, 산업, 관광': None, '인프라, 건설, 도시, 산업': None, '인프라, 산업, 도시, 관광': None, '조성, 건설, 산업, 관광': None, '건설, 활성화, 산업, 관광': None, '도시, 건설, 활성화, 산업': None, '도시, 산업, 활성화, 관광': None, '인프라, 관광, 건설, 유치': None, '인프라, 건설, 도시, 유치': None, '인프라, 관광, 도시, 유치': None, '관광, 건설, 조성, 유치': None, '건설, 도시, 조성, 유치': None, '관광, 도시, 조성, 유치': None, '지역, 관광, 건설, 유치': None, '지역, 관광, 도시, 유치': None, '지역, 건설, 인구, 관광': None, '건설, 도시, 인구, 관광': None, '지역, 건설, 도시, 인구': None, '지역, 도시, 인구, 관광': None, '인프라, 건설, 조성, 관광': None, '인프라, 건설, 도시, 조성': None, '인프라, 도시, 조성, 관광': None, '인프라, 건설, 지역, 관광': None, '인프라, 건설, 도시, 지역': None, '건설, 활성화, 조성, 관광': None, '도시, 건설, 활성화, 조성': None, '도시, 활성화, 조성, 관광': None, '지역, 건설, 주민, 관광': None, '지역, 건설, 도시, 주민': None, '지역, 도시, 주민, 관광': None, '지역, 건설, 활성화, 관광': None, '지역, 도시, 건설, 활성화': None, '건설, 도심, 조성, 사업': None, '관광, 도심, 조성, 사업': None, '지역, 건설, 도심, 사업': None, '지역, 관광, 도심, 사업': None, '인프라, 건설, 산업, 사업': None, '인프라, 관광, 산업, 사업': None, '지역, 관광, 산업, 사업': None, '건설, 활성화, 산업, 사업': None, '관광, 산업, 활성화, 사업': None, '인프라, 건설, 유치, 사업': None, '인프라, 관광, 유치, 사업': None, '지역, 관광, 유치, 사업': None, '지역, 건설, 인구, 사업': None, '관광, 건설, 인구, 사업': None, '지역, 관광, 인구, 사업': None, '인프라, 건설, 조성, 사업': None, '인프라, 관광, 조성, 사업': None, '인프라, 건설, 지역, 사업': None, '인프라, 관광, 지역, 사업': None, '건설, 조성, 주민, 사업': None, '건설, 조성, 주민, 관광': None, '관광, 조성, 주민, 사업': None, '지역, 관광, 조성, 사업': None, '건설, 활성화, 조성, 사업': None, '관광, 활성화, 조성, 사업': None, '지역, 관광, 주민, 사업': None, '지역경제, 건설, 지역, 사업': None, '지역경제, 관광, 건설, 사업': None, '지역경제, 건설, 지역, 관광': None, '지역경제, 관광, 지역, 사업': None, '지역경제, 건설, 지역': None, '지역경제, 지역, 관광': None, '지역, 건설, 활성화, 사업': None, '지역, 관광, 활성화, 사업': None, '조성, 건설, 산업, 유치': None, '관광, 산업, 조성, 유치': None, '지역, 관광, 산업, 유치': None, '인프라, 건설, 조성, 산업': None, '인프라, 산업, 조성, 관광': None, '인프라, 건설, 지역, 산업': None, '인프라, 산업, 지역, 관광': None, '건설, 활성화, 조성, 산업': None, '산업, 활성화, 조성, 관광': None, '건설, 산업, 주민, 관광': None, '지역, 건설, 주민, 산업': None, '지역, 산업, 주민, 관광': None, '지역, 건설, 활성화, 산업': None, '지역, 산업, 활성화, 관광': None, '인프라, 건설, 지역, 유치': None, '인프라, 관광, 지역, 유치': None, '지역, 건설, 조성, 유치': None, '지역, 관광, 조성, 유치': None, '지역, 건설, 활성화, 유치': None, '관광, 건설, 활성화, 유치': None, '지역, 관광, 활성화, 유치': None, '인프라, 건설, 지역, 조성': None, '인프라, 조성, 지역, 관광': None, '지역, 건설, 조성, 주민': None, '지역, 조성, 주민, 관광': None, '지역, 건설, 활성화, 조성': None, '지역, 활성화, 조성, 관광': None, '관광, 건설, 주민, 주민들': None, '지역, 건설, 주민, 주민들': None, '지역, 관광, 건설, 주민들': None, '지역, 관광, 주민, 주민들': None, '관광, 건설, 주민들': None, '사업, 건설, 국제, 유치': None, '사업, 건설, 도시, 유치': None, '건설, 도시, 국제, 유치': None, '사업, 국제, 도시, 유치': None, '사업, 건설, 유치': None, '사업, 국제, 유치': None, '건설, 조성, 국제, 산업': None, '건설, 조성, 국제, 유치': None, '국제, 도시, 조성, 유치': None, '지역, 건설, 국제, 유치': None, '인프라, 건설, 지역, 국제': None, '인프라, 건설, 도시, 국제': None, '사업, 건설, 산업, 유치': None, '건설, 산업, 국제, 유치': None, '사업, 국제, 산업, 유치': None, '사업, 산업, 유치': None, '사업, 건설, 조성, 유치': None, '사업, 국제, 조성, 유치': None, '지역, 사업, 건설, 유치': None, '지역, 사업, 국제, 유치': None, '인프라, 건설, 국제, 사업': None, '인프라, 국제, 지역, 사업': None, '조성, 국제, 산업, 유치': None, '인프라, 건설, 국제, 산업': None, '지역, 국제, 조성, 유치': None, '도시, 도심, 조성, 사업': None, '지역, 건설, 도심, 조성': None, '지역, 도시, 도심, 조성': None, '발생, 건설, 도시, 사업': None, '발생, 건설, 조성, 사업': None, '건설, 도시, 조성, 발생': None, '발생, 도시, 조성, 사업': None, '지역, 발생, 건설, 사업': None, '지역, 건설, 도시, 발생': None, '지역, 발생, 도시, 사업': None, '발생, 사업, 건설, 피해': None, '사업, 건설, 도시, 피해': None, '발생, 건설, 도시, 피해': None, '사업, 발생, 도시, 피해': None, '발생, 건설, 피해': None, '발생, 도시, 피해': None, '지역, 건설, 산업, 발생': None, '건설, 도시, 산업, 발생': None, '지역, 산업, 도시, 발생': None, '지역, 건설, 조성, 발생': None, '지역, 도시, 조성, 발생': None, '지역, 건설, 주민, 발생': None, '건설, 도시, 주민, 발생': None, '지역, 도시, 주민, 발생': None, '지역, 발생, 건설, 피해': None, '지역, 건설, 도시, 피해': None, '지역, 발생, 도시, 피해': None, '사업, 산업, 도시, 유치': None, '건설, 산업, 인구, 사업': None, '건설, 도시, 인구, 사업': None, '건설, 도시, 인구, 산업': None, '산업, 도시, 인구, 사업': None, '건설, 산업, 주민, 사업': None, '건설, 도시, 주민, 산업': None, '산업, 도시, 주민, 사업': None, '사업, 건설, 산업, 주민들': None, '사업, 건설, 도시, 주민들': None, '건설, 도시, 산업, 주민들': None, '사업, 산업, 도시, 주민들': None, '사업, 건설, 주민들': None, '지역경제, 건설, 산업, 사업': None, '지역경제, 건설, 도시, 사업': None, '지역경제, 건설, 도시, 산업': None, '지역경제, 산업, 도시, 사업': None, '건설, 지자체, 산업, 사업': None, '건설, 도시, 지자체, 사업': None, '건설, 도시, 지자체, 산업': None, '사업, 건설, 산업, 피해': None, '건설, 도시, 산업, 피해': None, '사업, 산업, 도시, 피해': None, '건설, 산업, 피해': None, '건설, 혁신, 산업, 사업': None, '도시, 건설, 혁신, 사업': None, '도시, 건설, 혁신, 산업': None, '도시, 산업, 혁신, 사업': None, '사업, 건설, 인구, 유치': None, '건설, 도시, 인구, 유치': None, '사업, 도시, 인구, 유치': None, '사업, 인구, 유치': None, '인프라, 사업, 건설, 유치': None, '인프라, 사업, 도시, 유치': None, '인프라, 사업, 유치': None, '사업, 도시, 조성, 유치': None, '사업, 건설, 주민, 유치': None, '건설, 도시, 주민, 유치': None, '사업, 도시, 주민, 유치': None, '사업, 주민, 유치': None, '지역경제, 사업, 건설, 유치': None, '지역경제, 건설, 도시, 유치': None, '지역경제, 사업, 도시, 유치': None, '지역경제, 사업, 유치': None, '사업, 건설, 지자체, 유치': None, '건설, 도시, 지자체, 유치': None, '사업, 도시, 지자체, 유치': None, '사업, 지자체, 유치': None, '사업, 건설, 혁신, 유치': None, '도시, 건설, 혁신, 유치': None, '사업, 도시, 혁신, 유치': None, '사업, 혁신, 유치': None, '사업, 건설, 활성화, 유치': None, '도시, 건설, 활성화, 유치': None, '사업, 도시, 활성화, 유치': None, '사업, 활성화, 유치': None, '인프라, 건설, 인구, 사업': None, '인프라, 건설, 도시, 인구': None, '인프라, 도시, 인구, 사업': None, '건설, 조성, 인구, 사업': None, '건설, 도시, 조성, 인구': None, '건설, 주민, 인구, 사업': None, '건설, 도시, 주민, 인구': None, '도시, 주민, 인구, 사업': None, '건설, 도시, 조성, 주민': None, '사업, 건설, 조성, 주민들': None, '건설, 도시, 조성, 주민들': None, '사업, 도시, 조성, 주민들': None, '지역경제, 건설, 조성, 사업': None, '지역경제, 건설, 도시, 조성': None, '지역경제, 도시, 조성, 사업': None, '조성, 건설, 지자체, 사업': None, '건설, 도시, 지자체, 조성': None, '조성, 도시, 지자체, 사업': None, '사업, 건설, 조성, 피해': None, '건설, 도시, 조성, 피해': None, '사업, 도시, 조성, 피해': None, '건설, 혁신, 조성, 사업': None, '도시, 건설, 혁신, 조성': None, '도시, 혁신, 조성, 사업': None, '사업, 건설, 주민, 주민들': None, '건설, 도시, 주민, 주민들': None, '사업, 도시, 주민, 주민들': None, '사업, 건설, 주민, 피해': None, '건설, 도시, 주민, 피해': None, '사업, 도시, 주민, 피해': None, '지역, 사업, 건설, 주민들': None, '지역, 건설, 도시, 주민들': None, '지역, 사업, 도시, 주민들': None, '지역경제, 건설, 도시, 지역': None, '지역경제, 도시, 지역, 사업': None, '지역, 건설, 지자체, 사업': None, '지역, 건설, 도시, 지자체': None, '지역, 건설, 체험, 사업': None, '건설, 도시, 체험, 사업': None, '지역, 건설, 도시, 체험': None, '지역, 도시, 체험, 사업': None, '지역, 사업, 건설, 피해': None, '지역, 사업, 도시, 피해': None, '지역, 건설, 혁신, 사업': None, '지역, 도시, 건설, 혁신': None, '지역경제, 건설, 활성화, 사업': None, '지역경제, 도시, 건설, 활성화': None, '지역경제, 도시, 활성화, 사업': None, '건설, 산업, 인구, 유치': None, '산업, 도시, 인구, 유치': None, '인프라, 건설, 산업, 유치': None, '지역경제, 건설, 산업, 유치': None, '지역경제, 산업, 도시, 유치': None, '건설, 혁신, 산업, 유치': None, '도시, 산업, 혁신, 유치': None, '건설, 활성화, 산업, 유치': None, '도시, 산업, 활성화, 유치': None, '인프라, 건설, 인구, 산업': None, '인프라, 산업, 도시, 인구': None, '건설, 조성, 인구, 산업': None, '산업, 도시, 조성, 인구': None, '지역, 건설, 인구, 산업': None, '인프라, 건설, 혁신, 산업': None, '인프라, 도시, 건설, 혁신': None, '인프라, 도시, 산업, 혁신': None, '건설, 조성, 주민, 산업': None, '산업, 도시, 조성, 주민': None, '지역경제, 건설, 조성, 산업': None, '지역경제, 산업, 도시, 조성': None, '조성, 건설, 지자체, 산업': None, '산업, 도시, 지자체, 조성': None, '건설, 혁신, 조성, 산업': None, '도시, 산업, 혁신, 조성': None, '지역, 산업, 도시, 주민': None, '지역경제, 건설, 지역, 산업': None, '지역경제, 산업, 도시, 지역': None, '지역경제, 산업, 지역': None, '지역, 건설, 지자체, 산업': None, '지역, 건설, 산업, 피해': None, '지역, 산업, 도시, 피해': None, '지역, 건설, 혁신, 산업': None, '건설, 조성, 인구, 유치': None, '도시, 조성, 인구, 유치': None, '지역, 건설, 인구, 유치': None, '지역, 도시, 인구, 유치': None, '인프라, 건설, 조성, 유치': None, '건설, 조성, 주민, 유치': None, '도시, 조성, 주민, 유치': None, '건설, 혁신, 조성, 유치': None, '도시, 혁신, 조성, 유치': None, '건설, 활성화, 조성, 유치': None, '도시, 활성화, 조성, 유치': None, '지역, 건설, 주민, 유치': None, '지역, 도시, 주민, 유치': None, '지역경제, 건설, 지역, 유치': None, '지역경제, 도시, 지역, 유치': None, '지역, 건설, 지자체, 유치': None, '지역, 도시, 지자체, 유치': None, '지역, 건설, 혁신, 유치': None, '지역, 도시, 혁신, 유치': None, '인프라, 건설, 조성, 인구': None, '인프라, 도시, 조성, 인구': None, '인프라, 건설, 지역, 인구': None, '인프라, 도시, 지역, 인구': None, '지역, 건설, 조성, 인구': None, '지역, 건설, 주민, 인구': None, '인프라, 건설, 활성화, 지역': None, '인프라, 도시, 건설, 활성화': None, '인프라, 도시, 활성화, 지역': None, '건설, 조성, 주민, 주민들': None, '도시, 조성, 주민, 주민들': None, '건설, 조성, 주민, 피해': None, '도시, 조성, 주민, 피해': None, '지역, 건설, 조성, 주민들': None, '지역, 도시, 조성, 주민들': None, '지역경제, 건설, 지역, 조성': None, '지역경제, 도시, 지역, 조성': None, '지역, 건설, 지자체, 조성': None, '지역, 건설, 조성, 피해': None, '지역, 도시, 조성, 피해': None, '지역, 건설, 혁신, 조성': None, '지역, 도시, 주민, 주민들': None, '지역, 건설, 주민, 피해': None, '지역, 도시, 주민, 피해': None, '피해, 건설, 지역, 주민들': None, '피해, 건설, 도시, 주민들': None, '피해, 도시, 지역, 주민들': None, '피해, 지역, 주민들': None, '지역경제, 건설, 활성화, 지역': None, '지역경제, 도시, 활성화, 지역': None, '건설, 도심, 산업, 사업': None, '지역, 건설, 도심, 산업': None, '지역, 산업, 도심, 사업': None, '건설, 도심, 주민, 사업': None, '지역, 건설, 도심, 주민': None, '지역, 도심, 주민, 사업': None, '발생, 건설, 산업, 사업': None, '조성, 건설, 산업, 발생': None, '조성, 발생, 산업, 사업': None, '지역, 발생, 산업, 사업': None, '발생, 건설, 유치, 사업': None, '지역, 발생, 건설, 유치': None, '지역, 발생, 유치, 사업': None, '발생, 건설, 주민, 사업': None, '건설, 조성, 주민, 발생': None, '발생, 조성, 주민, 사업': None, '지역, 발생, 조성, 사업': None, '발생, 건설, 주민, 주민들': None, '발생, 사업, 건설, 주민들': None, '사업, 발생, 주민, 주민들': None, '사업, 건설, 주민, 발생': None, '발생, 건설, 주민들': None, '사업, 발생, 주민들': None, '사업, 주민, 발생': None, '지역, 발생, 주민, 사업': None, '발생, 건설, 주민, 피해': None, '사업, 발생, 주민, 피해': None, '발생, 건설, 지역, 주민들': None, '지역, 사업, 발생, 주민들': None, '지역, 사업, 건설, 발생': None, '지역, 사업, 발생': None, '발생, 건설, 피해, 주민들': None, '피해, 사업, 건설, 주민들': None, '피해, 사업, 발생, 주민들': None, '피해, 사업, 건설, 발생': None, '발생, 건설, 지자체, 사업': None, '지역, 건설, 지자체, 발생': None, '지역, 발생, 지자체, 사업': None, '지역, 건설, 피해, 사업': None, '피해, 발생, 건설, 사업': None, '지역, 발생, 피해, 사업': None, '지역, 산업, 조성, 발생': None, '지역, 조성, 주민, 발생': None, '지역, 발생, 주민, 주민들': None, '피해, 건설, 주민, 주민들': None, '피해, 건설, 주민, 발생': None, '피해, 주민, 주민들': None, '피해, 발생, 주민들': None, '지역, 건설, 피해, 주민들': None, '지역, 건설, 피해, 발생': None, '지역, 피해, 주민들': None, '사업, 산업, 인구, 유치': None, '인프라, 사업, 산업, 유치': None, '사업, 산업, 조성, 유치': None, '건설, 산업, 주민, 유치': None, '사업, 산업, 주민, 유치': None, '지역, 사업, 산업, 유치': None, '지역경제, 사업, 산업, 유치': None, '건설, 지자체, 산업, 유치': None, '사업, 산업, 지자체, 유치': None, '사업, 산업, 혁신, 유치': None, '사업, 산업, 활성화, 유치': None, '인프라, 산업, 인구, 사업': None, '산업, 조성, 인구, 사업': None, '인프라, 건설, 혁신, 사업': None, '인프라, 산업, 혁신, 사업': None, '인프라, 건설, 활성화, 사업': None, '인프라, 건설, 활성화, 산업': None, '인프라, 산업, 활성화, 사업': None, '산업, 조성, 주민, 사업': None, '조성, 건설, 산업, 주민들': None, '사업, 산업, 조성, 주민들': None, '지역경제, 산업, 조성, 사업': None, '조성, 건설, 산업, 피해': None, '사업, 산업, 조성, 피해': None, '건설, 산업, 주민, 주민들': None, '사업, 산업, 주민, 주민들': None, '지역, 건설, 산업, 주민들': None, '지역, 사업, 산업, 주민들': None, '지역경제, 산업, 지역, 사업': None, '지역, 사업, 산업, 피해': None, '사업, 조성, 인구, 유치': None, '지역, 사업, 인구, 유치': None, '인프라, 사업, 조성, 유치': None, '인프라, 사업, 지역, 유치': None, '사업, 조성, 주민, 유치': None, '조성, 건설, 지자체, 유치': None, '조성, 사업, 지자체, 유치': None, '사업, 혁신, 조성, 유치': None, '사업, 활성화, 조성, 유치': None, '건설, 유치, 주민, 주민들': None, '사업, 건설, 유치, 주민들': None, '사업, 유치, 주민, 주민들': None, '건설, 유치, 주민, 사업': None, '건설, 유치, 주민들': None, '유치, 주민, 주민들': None, '지역, 사업, 주민, 유치': None, '지역, 건설, 유치, 주민들': None, '지역, 사업, 유치, 주민들': None, '지역경제, 사업, 지역, 유치': None, '지역, 사업, 지자체, 유치': None, '지역, 건설, 유치, 피해': None, '사업, 건설, 유치, 피해': None, '지역, 사업, 유치, 피해': None, '지역, 사업, 혁신, 유치': None, '지역, 사업, 활성화, 유치': None, '인프라, 지역, 인구, 사업': None, '지역, 주민, 인구, 사업': None, '인프라, 건설, 활성화, 조성': None, '인프라, 활성화, 조성, 사업': None, '인프라, 활성화, 지역, 사업': None, '사업, 조성, 주민, 주민들': None, '사업, 조성, 주민, 피해': None, '지역경제, 조성, 지역, 사업': None, '건설, 조성, 체험, 사업': None, '지역, 건설, 조성, 체험': None, '지역, 조성, 체험, 사업': None, '지역, 사업, 조성, 피해': None, '피해, 사업, 주민, 주민들': None, '지역경제, 건설, 주민, 사업': None, '지역경제, 건설, 지역, 주민': None, '지역경제, 지역, 주민, 사업': None, '지역경제, 지역, 주민': None, '건설, 지자체, 주민, 사업': None, '지역, 건설, 지자체, 주민': None, '지역, 지자체, 주민, 사업': None, '지역, 사업, 주민, 피해': None, '건설, 활성화, 주민, 사업': None, '지역, 건설, 활성화, 주민': None, '지역, 활성화, 주민, 사업': None, '지역, 사업, 피해, 주민들': None, '지역경제, 활성화, 지역, 사업': None, '산업, 조성, 인구, 유치': None, '지역, 산업, 인구, 유치': None, '지역경제, 건설, 조성, 유치': None, '지역경제, 산업, 조성, 유치': None, '산업, 혁신, 조성, 유치': None, '산업, 활성화, 조성, 유치': None, '지역, 산업, 주민, 유치': None, '지역경제, 산업, 지역, 유치': None, '인프라, 산업, 조성, 인구': None, '인프라, 산업, 지역, 인구': None, '인프라, 산업, 활성화, 조성': None, '인프라, 건설, 혁신, 지역': None, '인프라, 산업, 혁신, 지역': None, '인프라, 산업, 활성화, 지역': None, '지역, 산업, 조성, 주민': None, '지역, 산업, 조성, 주민들': None, '지역경제, 산업, 지역, 조성': None, '지역, 산업, 주민, 주민들': None, '건설, 산업, 주민, 피해': None, '지역, 산업, 주민, 피해': None, '지역경제, 건설, 활성화, 산업': None, '지역경제, 산업, 활성화, 지역': None, '지역, 조성, 인구, 유치': None, '지역, 조성, 주민, 유치': None, '지역경제, 조성, 지역, 유치': None, '지역, 혁신, 조성, 유치': None, '지역, 유치, 주민, 주민들': None, '건설, 지자체, 주민, 유치': None, '지역, 지자체, 주민, 유치': None, '인프라, 활성화, 지역, 조성': None, '지역, 조성, 주민, 피해': None, '지역경제, 건설, 활성화, 조성': None, '지역경제, 활성화, 지역, 조성': None, '건설, 지자체, 주민, 주민들': None, '지역, 건설, 지자체, 주민들': None, '지역, 지자체, 주민, 주민들': None, '피해, 지역, 주민, 주민들': None, '지역, 발생, 주민, 피해': None, '지역, 공공시설, 주민, 피해': None, '발생, 공공시설, 주민, 피해': None, '지역, 공공시설, 주민, 발생': None, '지역, 발생, 공공시설, 피해': None, '관광, 국제, 유치, 사업': None, '관광, 국제, 도시, 유치': None, '관광, 국제, 산업, 유치': None, '국제, 도시, 산업, 유치': None, '조성, 국제, 산업, 관광': None, '관광, 국제, 조성, 유치': None, '지역, 관광, 국제, 유치': None, '국제, 유치, 산업, 사업': None, '조성, 국제, 유치, 사업': None, '지역, 국제, 활성화, 관광': None, '국제, 활성화, 산업, 관광': None, '지역, 국제, 활성화, 산업': None, '관광, 산업, 도심, 사업': None, '도시, 산업, 도심, 사업': None, '도시, 산업, 도심, 관광': None, '도시, 산업, 도심': None, '산업, 도심, 조성, 관광': None, '도시, 산업, 도심, 조성': None, '지역, 산업, 도심, 관광': None, '지역, 도시, 산업, 도심': None, '지역, 도심, 조성, 관광': None, '관광, 산업, 인구, 사업': None, '관광, 도시, 인구, 사업': None, '산업, 도시, 인구, 관광': None, '관광, 산업, 주민, 사업': None, '산업, 도시, 주민, 관광': None, '지역경제, 관광, 산업, 사업': None, '지역경제, 관광, 도시, 사업': None, '지역경제, 산업, 도시, 관광': None, '관광, 산업, 지자체, 사업': None, '관광, 도시, 지자체, 사업': None, '산업, 도시, 지자체, 관광': None, '관광, 산업, 체험, 사업': None, '관광, 도시, 체험, 사업': None, '산업, 도시, 체험, 사업': None, '산업, 도시, 체험, 관광': None, '관광, 산업, 혁신, 사업': None, '관광, 도시, 혁신, 사업': None, '도시, 산업, 혁신, 관광': None, '관광, 지자체, 유치, 사업': None, '지자체, 도시, 유치, 사업': None, '관광, 도시, 지자체, 유치': None, '관광, 유치, 체험, 사업': None, '도시, 유치, 체험, 사업': None, '관광, 도시, 체험, 유치': None, '관광, 활성화, 유치, 사업': None, '도시, 활성화, 유치, 사업': None, '관광, 도시, 활성화, 유치': None, '관광, 조성, 인구, 사업': None, '도시, 조성, 인구, 관광': None, '인프라, 관광, 활성화, 사업': None, '인프라, 도시, 활성화, 사업': None, '인프라, 도시, 활성화, 관광': None, '도시, 조성, 주민, 관광': None, '조성, 관광, 지자체, 사업': None, '조성, 도시, 지자체, 관광': None, '조성, 지자체, 관광': None, '관광, 조성, 체험, 사업': None, '도시, 조성, 체험, 사업': None, '도시, 조성, 체험, 관광': None, '관광, 혁신, 조성, 사업': None, '도시, 혁신, 조성, 관광': None, '사업, 주민, 관광, 주민들': None, '관광, 도시, 주민, 주민들': None, '사업, 도시, 관광, 주민들': None, '지역, 관광, 사업, 주민들': None, '지역, 관광, 도시, 주민들': None, '사업, 관광, 도시, 주민들': None, '지역경제, 도시, 지역, 관광': None, '지역, 관광, 지자체, 사업': None, '지역, 도시, 지자체, 관광': None, '지역, 관광, 체험, 사업': None, '지역, 도시, 체험, 관광': None, '지역, 관광, 피해, 사업': None, '지역, 도시, 피해, 사업': None, '피해, 관광, 도시, 사업': None, '지역, 관광, 도시, 피해': None, '지역, 관광, 혁신, 사업': None, '지역, 도시, 혁신, 관광': None, '인프라, 관광, 산업, 유치': None, '관광, 산업, 체험, 유치': None, '산업, 도시, 체험, 유치': None, '관광, 산업, 활성화, 유치': None, '산업, 조성, 인구, 관광': None, '지역, 산업, 인구, 관광': None, '인프라, 산업, 활성화, 관광': None, '인프라, 도시, 산업, 활성화': None, '산업, 조성, 주민, 관광': None, '조성, 산업, 지자체, 관광': None, '산업, 조성, 체험, 관광': None, '산업, 도시, 조성, 체험': None, '산업, 혁신, 조성, 관광': None, '지역경제, 산업, 지역, 관광': None, '지역, 산업, 지자체, 관광': None, '지역, 산업, 체험, 관광': None, '지역, 산업, 도시, 체험': None, '지역, 산업, 혁신, 관광': None, '지역, 관광, 인구, 유치': None, '관광, 도시, 인구, 유치': None, '인프라, 관광, 조성, 유치': None, '관광, 조성, 체험, 유치': None, '도시, 조성, 체험, 유치': None, '관광, 활성화, 조성, 유치': None, '지역, 관광, 주민, 유치': None, '관광, 도시, 주민, 유치': None, '지역경제, 관광, 지역, 유치': None, '지역경제, 관광, 도시, 유치': None, '지역, 관광, 지자체, 유치': None, '지역, 관광, 체험, 유치': None, '지역, 도시, 체험, 유치': None, '인프라, 지역, 인구, 관광': None, '인프라, 도시, 인구, 관광': None, '지역, 조성, 인구, 관광': None, '인프라, 활성화, 조성, 관광': None, '인프라, 도시, 활성화, 조성': None, '인프라, 지자체, 지역, 관광': None, '인프라, 도시, 지자체, 관광': None, '인프라, 지자체, 도시, 지역': None, '인프라, 활성화, 지역, 관광': None, '지역경제, 조성, 지역, 관광': None, '지역경제, 도시, 조성, 관광': None, '지역, 조성, 지자체, 관광': None, '지역, 조성, 체험, 관광': None, '지역, 도시, 조성, 체험': None, '지역, 혁신, 조성, 관광': None, '산업, 도심, 조성, 사업': None, '지역, 산업, 도심, 조성': None, '지역, 관광, 발생, 사업': None, '관광, 발생, 조성, 사업': None, '지역, 관광, 조성, 발생': None, '산업, 조성, 체험, 사업': None, '지역, 관광, 산업, 주민들': None, '사업, 관광, 산업, 주민들': None, '지역, 산업, 체험, 사업': None, '지역, 유치, 인구, 사업': None, '관광, 유치, 인구, 사업': None, '사업, 주민, 관광, 유치': None, '관광, 조성, 주민, 유치': None, '사업, 조성, 관광, 유치': None, '사업, 관광, 유치': None, '조성, 지자체, 유치, 사업': None, '조성, 관광, 지자체, 유치': None, '사업, 체험, 관광, 유치': None, '사업, 조성, 체험, 유치': None, '사업, 체험, 유치': None, '관광, 유치, 주민, 사업': None, '지역경제, 지역, 유치, 사업': None, '지역경제, 관광, 유치, 사업': None, '지역, 유치, 체험, 사업': None, '인프라, 관광, 인구, 사업': None, '인프라, 지역, 주민, 사업': None, '인프라, 관광, 주민, 사업': None, '인프라, 지역, 주민, 관광': None, '인프라, 지자체, 지역, 사업': None, '인프라, 관광, 지자체, 사업': None, '관광, 조성, 주민, 주민들': None, '사업, 조성, 관광, 주민들': None, '지역, 관광, 조성, 주민들': None, '사업, 관광, 조성, 주민들': None, '지역경제, 관광, 조성, 사업': None, '사업, 관광, 주민, 주민들': None, '지역, 사업, 주민, 관광': None, '사업, 주민, 관광': None, '관광, 지자체, 주민, 사업': None, '지역, 지자체, 주민, 관광': None, '관광, 활성화, 주민, 사업': None, '지역, 활성화, 주민, 관광': None, '지역경제, 관광, 활성화, 사업': None, '지역경제, 활성화, 지역, 관광': None, '지역, 활성화, 지자체, 사업': None, '관광, 활성화, 지자체, 사업': None, '지역, 활성화, 지자체, 관광': None, '지역, 활성화, 체험, 사업': None, '관광, 활성화, 체험, 사업': None, '지역, 활성화, 체험, 관광': None, '관광, 산업, 인구, 유치': None, '관광, 산업, 지자체, 유치': None, '지역, 산업, 체험, 유치': None, '인프라, 산업, 인구, 관광': None, '지역, 산업, 조성, 체험': None, '산업, 활성화, 지자체, 관광': None, '지역, 산업, 활성화, 지자체': None, '지역, 조성, 체험, 유치': None, '활성화, 조성, 체험, 관광': None, '지역, 활성화, 조성, 체험': None, '인프라, 국제, 산업, 사업': None, '인프라, 국제, 도시, 사업': None, '인프라, 국제, 도시, 산업': None, '국제, 활성화, 산업, 사업': None, '도시, 국제, 활성화, 사업': None, '도시, 국제, 활성화, 산업': None, '도시, 국제, 활성화': None, '인프라, 사업, 국제, 유치': None, '인프라, 국제, 도시, 유치': None, '사업, 국제, 활성화, 유치': None, '도시, 국제, 활성화, 유치': None, '인프라, 국제, 조성, 사업': None, '인프라, 국제, 도시, 조성': None, '국제, 활성화, 조성, 사업': None, '도시, 국제, 활성화, 조성': None, '지역, 국제, 주민, 사업': None, '국제, 도시, 주민, 사업': None, '지역, 국제, 도시, 주민': None, '지역, 국제, 지자체, 사업': None, '국제, 도시, 지자체, 사업': None, '지역, 국제, 도시, 지자체': None, '지역, 국제, 활성화, 사업': None, '지역, 도시, 국제, 활성화': None, '인프라, 국제, 산업, 유치': None, '인프라, 국제, 조성, 산업': None, '국제, 활성화, 조성, 산업': None, '지역, 국제, 혁신, 산업': None, '지역, 도시, 국제, 혁신': None, '도시, 국제, 혁신, 산업': None, '인프라, 국제, 조성, 유치': None, '인프라, 국제, 지역, 유치': None, '지역, 국제, 활성화, 유치': None, '인프라, 국제, 지역, 조성': None, '지역, 국제, 활성화, 조성': None, '국제, 혁신, 산업, 사업': None, '국제, 혁신, 조성, 사업': None, '국제, 혁신, 조성, 산업': None, '국제, 지자체, 산업, 사업': None, '지역, 국제, 지자체, 산업': None, '지역, 국제, 혁신, 사업': None, '국제, 조성, 주민, 사업': None, '지역, 국제, 조성, 주민': None, '조성, 국제, 지자체, 사업': None, '지역, 국제, 지자체, 조성': None, '국제, 활성화, 산업, 유치': None, '지역, 국제, 혁신, 조성': None, '지역, 발생, 도심, 사업': None, '도시, 발생, 도심, 사업': None, '지역, 도시, 도심, 발생': None, '사업, 도시, 도심, 유치': None, '사업, 도심, 조성, 유치': None, '도시, 도심, 조성, 유치': None, '사업, 도심, 유치': None, '지역, 사업, 도심, 유치': None, '지역, 도시, 도심, 유치': None, '인프라, 도시, 도심, 사업': None, '인프라, 도심, 조성, 사업': None, '인프라, 도시, 도심, 조성': None, '인프라, 도심, 지역, 사업': None, '인프라, 도시, 도심, 지역': None, '도시, 도심, 주민, 사업': None, '도심, 조성, 주민, 사업': None, '도시, 도심, 조성, 주민': None, '도시, 도심, 주민': None, '도시, 도심, 지자체, 사업': None, '조성, 도심, 지자체, 사업': None, '도시, 도심, 지자체, 조성': None, '도시, 도심, 지자체': None, '도시, 도심, 활성화, 사업': None, '도심, 조성, 활성화, 사업': None, '도시, 도심, 조성, 활성화': None, '도시, 도심, 활성화': None, '지역, 도시, 도심, 주민': None, '지역, 도심, 지자체, 사업': None, '지역, 도시, 도심, 지자체': None, '지역, 도심, 활성화, 사업': None, '지역, 도시, 도심, 활성화': None, '지역, 도심, 활성화': None, '지역, 도심, 조성, 유치': None, '인프라, 도심, 지역, 조성': None, '지역, 도심, 조성, 주민': None, '지역, 도심, 조성, 활성화': None, '발생, 도시, 산업, 사업': None, '산업, 도시, 조성, 발생': None, '발생, 도시, 유치, 사업': None, '조성, 발생, 유치, 사업': None, '발생, 도시, 조성, 유치': None, '지역, 발생, 도시, 유치': None, '지역, 발생, 인구, 사업': None, '발생, 도시, 인구, 사업': None, '지역, 도시, 인구, 발생': None, '인프라, 발생, 도시, 사업': None, '인프라, 발생, 조성, 사업': None, '인프라, 도시, 조성, 발생': None, '인프라, 발생, 지역, 사업': None, '인프라, 도시, 지역, 발생': None, '발생, 도시, 주민, 사업': None, '도시, 조성, 주민, 발생': None, '발생, 도시, 지자체, 사업': None, '조성, 발생, 지자체, 사업': None, '조성, 도시, 지자체, 발생': None, '사업, 발생, 조성, 피해': None, '발생, 도시, 조성, 피해': None, '발생, 도시, 주민, 주민들': None, '사업, 발생, 도시, 주민들': None, '발생, 도시, 주민, 피해': None, '지역, 발생, 도시, 주민들': None, '피해, 사업, 도시, 주민들': None, '피해, 발생, 도시, 주민들': None, '지역, 도시, 지자체, 발생': None, '피해, 발생, 도시, 사업': None, '지역, 발생, 활성화, 사업': None, '도시, 발생, 활성화, 사업': None, '지역, 도시, 활성화, 발생': None, '지역, 발생, 조성, 유치': None, '지역, 주민, 인구, 발생': None, '도시, 주민, 인구, 발생': None, '발생, 조성, 주민, 피해': None, '지역, 조성, 지자체, 발생': None, '지역, 발생, 조성, 피해': None, '피해, 도시, 주민, 주민들': None, '지역, 지자체, 주민, 발생': None, '도시, 지자체, 주민, 발생': None, '지역, 도시, 지자체, 주민': None, '지역, 도시, 피해, 주민들': None, '지역, 도시, 피해, 발생': None, '지역, 발생, 지자체, 피해': None, '지역, 도시, 지자체, 피해': None, '발생, 도시, 지자체, 피해': None, '사업, 의료, 산업, 유치': None, '사업, 의료, 도시, 유치': None, '의료, 도시, 산업, 유치': None, '의료, 도시, 산업, 사업': None, '사업, 의료, 유치': None, '산업, 도시, 주민, 유치': None, '산업, 도시, 지자체, 유치': None, '사업, 산업, 체험, 유치': None, '사업, 도시, 체험, 유치': None, '조성, 의료, 산업, 사업': None, '의료, 도시, 조성, 사업': None, '의료, 도시, 조성, 산업': None, '지역, 의료, 산업, 사업': None, '지역, 의료, 도시, 사업': None, '지역, 의료, 도시, 산업': None, '산업, 주민, 인구, 사업': None, '산업, 도시, 주민, 인구': None, '인프라, 산업, 주민, 사업': None, '인프라, 도시, 주민, 사업': None, '인프라, 산업, 도시, 주민': None, '지역경제, 산업, 인프라, 사업': None, '지역경제, 도시, 인프라, 사업': None, '지역경제, 산업, 도시, 인프라': None, '지역경제, 인프라, 사업': None, '지역경제, 산업, 인프라': None, '지역경제, 도시, 인프라': None, '지역경제, 인프라': None, '인프라, 산업, 지자체, 사업': None, '인프라, 도시, 지자체, 사업': None, '인프라, 산업, 도시, 지자체': None, '인프라, 도시, 혁신, 사업': None, '지역, 산업, 제조업, 사업': None, '지역, 도시, 제조업, 사업': None, '산업, 도시, 제조업, 사업': None, '지역, 산업, 도시, 제조업': None, '산업, 도시, 조성, 주민들': None, '산업, 도시, 조성, 피해': None, '산업, 도시, 주민, 주민들': None, '지역, 산업, 도시, 주민들': None, '지역경제, 산업, 활성화, 사업': None, '지역경제, 도시, 산업, 활성화': None, '산업, 혁신, 지자체, 사업': None, '도시, 혁신, 지자체, 사업': None, '도시, 산업, 혁신, 지자체': None, '산업, 혁신, 활성화, 사업': None, '도시, 혁신, 활성화, 사업': None, '도시, 산업, 혁신, 활성화': None, '지역, 사업, 의료, 유치': None, '지역, 의료, 도시, 유치': None, '인프라, 사업, 인구, 유치': None, '인프라, 도시, 인구, 유치': None, '인프라, 사업, 지자체, 유치': None, '인프라, 도시, 지자체, 유치': None, '인프라, 사업, 혁신, 유치': None, '인프라, 도시, 혁신, 유치': None, '인프라, 사업, 활성화, 유치': None, '인프라, 도시, 활성화, 유치': None, '지역경제, 사업, 조성, 유치': None, '지역경제, 도시, 조성, 유치': None, '조성, 도시, 지자체, 유치': None, '사업, 도시, 유치, 피해': None, '조성, 사업, 유치, 피해': None, '조성, 도시, 유치, 피해': None, '도시, 유치, 피해': None, '조성, 유치, 피해': None, '도시, 유치, 주민, 주민들': None, '사업, 도시, 유치, 주민들': None, '도시, 유치, 주민, 사업': None, '지역, 도시, 유치, 주민들': None, '지역, 사업, 체험, 유치': None, '지역, 도시, 유치, 피해': None, '지역, 의료, 조성, 사업': None, '지역, 의료, 도시, 조성': None, '인프라, 조성, 인구, 사업': None, '조성, 주민, 인구, 사업': None, '도시, 주민, 인구, 조성': None, '도시, 지자체, 인구, 사업': None, '조성, 지자체, 인구, 사업': None, '도시, 지자체, 인구, 조성': None, '도시, 활성화, 인구, 사업': None, '활성화, 조성, 인구, 사업': None, '도시, 활성화, 조성, 인구': None, '지역, 지자체, 인구, 사업': None, '지역, 도시, 지자체, 인구': None, '지역, 사업, 인구, 피해': None, '지역, 도시, 인구, 피해': None, '사업, 도시, 인구, 피해': None, '사업, 인구, 피해': None, '지역, 활성화, 인구, 사업': None, '지역, 도시, 활성화, 인구': None, '인프라, 조성, 주민, 사업': None, '인프라, 도시, 조성, 주민': None, '인프라, 조성, 지자체, 사업': None, '인프라, 도시, 지자체, 조성': None, '인프라, 도시, 체험, 사업': None, '인프라, 조성, 체험, 사업': None, '인프라, 도시, 조성, 체험': None, '인프라, 혁신, 조성, 사업': None, '인프라, 도시, 혁신, 조성': None, '인프라, 도시, 지역, 주민': None, '지역경제, 지역, 인프라, 사업': None, '지역경제, 도시, 지역, 인프라': None, '지역경제, 지역, 인프라': None, '인프라, 지역, 체험, 사업': None, '인프라, 도시, 지역, 체험': None, '인프라, 사업, 지역, 피해': None, '인프라, 도시, 지역, 피해': None, '인프라, 사업, 도시, 피해': None, '인프라, 사업, 피해': None, '인프라, 혁신, 지역, 사업': None, '인프라, 도시, 혁신, 지역': None, '지역, 도시, 재건축, 사업': None, '지역, 재건축, 재개발, 사업': None, '도시, 재건축, 재개발, 사업': None, '지역, 도시, 재건축, 재개발': None, '지역, 도시, 재개발, 사업': None, '도시, 지자체, 주민, 사업': None, '조성, 지자체, 주민, 사업': None, '도시, 지자체, 주민, 조성': None, '도시, 활성화, 주민, 사업': None, '활성화, 조성, 주민, 사업': None, '도시, 활성화, 조성, 주민': None, '피해, 사업, 조성, 주민들': None, '피해, 도시, 조성, 주민들': None, '지역, 도시, 지역발전, 사업': None, '지역, 지역발전, 조성, 사업': None, '도시, 지역발전, 조성, 사업': None, '지역, 도시, 지역발전, 조성': None, '지역, 지역사회, 도시, 사업': None, '지역, 지역사회, 조성, 사업': None, '지역사회, 도시, 조성, 사업': None, '지역, 지역사회, 도시, 조성': None, '지역, 도시, 지역주민, 사업': None, '지역, 조성, 지역주민, 사업': None, '지역주민, 도시, 조성, 사업': None, '지역, 도시, 조성, 지역주민': None, '지역경제, 활성화, 조성, 사업': None, '지역경제, 도시, 활성화, 조성': None, '조성, 혁신, 지자체, 사업': None, '도시, 혁신, 지자체, 조성': None, '도시, 활성화, 지자체, 사업': None, '조성, 활성화, 지자체, 사업': None, '도시, 활성화, 지자체, 조성': None, '도시, 활성화, 지자체': None, '혁신, 조성, 활성화, 사업': None, '도시, 혁신, 조성, 활성화': None, '사업, 지자체, 주민, 주민들': None, '도시, 지자체, 주민, 주민들': None, '사업, 도시, 지자체, 주민들': None, '사업, 지자체, 주민들': None, '지역경제, 도시, 주민, 사업': None, '지역경제, 도시, 지역, 주민': None, '지역, 도시, 활성화, 주민': None, '지역, 사업, 지자체, 주민들': None, '지역, 도시, 지자체, 주민들': None, '지역, 사업, 지자체, 피해': None, '사업, 도시, 지자체, 피해': None, '사업, 지자체, 피해': None, '지역, 혁신, 지자체, 사업': None, '지역, 도시, 혁신, 지자체': None, '지역, 도시, 활성화, 지자체': None, '지역, 사업, 활성화, 피해': None, '지역, 도시, 활성화, 피해': None, '사업, 도시, 활성화, 피해': None, '사업, 활성화, 피해': None, '지역, 혁신, 활성화, 사업': None, '지역, 도시, 혁신, 활성화': None, '조성, 의료, 산업, 유치': None, '의료, 도시, 조성, 유치': None, '지역, 의료, 산업, 유치': None, '인프라, 산업, 인구, 유치': None, '인프라, 산업, 지자체, 유치': None, '인프라, 산업, 혁신, 유치': None, '인프라, 산업, 활성화, 유치': None, '산업, 조성, 주민, 유치': None, '조성, 산업, 지자체, 유치': None, '산업, 조성, 체험, 유치': None, '인프라, 의료, 지역, 산업': None, '인프라, 의료, 도시, 지역': None, '인프라, 의료, 도시, 산업': None, '지역, 의료, 조성, 산업': None, '지역, 산업, 주민, 인구': None, '지역, 산업, 지자체, 인구': None, '산업, 도시, 지자체, 인구': None, '지역, 산업, 활성화, 인구': None, '도시, 산업, 활성화, 인구': None, '인프라, 산업, 지자체, 조성': None, '인프라, 산업, 도시, 체험': None, '인프라, 산업, 조성, 체험': None, '인프라, 산업, 혁신, 조성': None, '인프라, 산업, 지역, 주민': None, '지역경제, 산업, 지역, 인프라': None, '인프라, 지자체, 산업, 지역': None, '인프라, 산업, 지역, 체험': None, '지역, 산업, 조성, 제조업': None, '지역, 도시, 조성, 제조업': None, '산업, 도시, 조성, 제조업': None, '지역, 산업, 조성, 피해': None, '지역경제, 산업, 활성화, 조성': None, '산업, 혁신, 지자체, 조성': None, '산업, 혁신, 조성, 활성화': None, '지역, 산업, 지자체, 주민': None, '산업, 도시, 지자체, 주민': None, '산업, 도시, 주민, 피해': None, '지역, 산업, 혁신, 지자체': None, '도시, 산업, 활성화, 지자체': None, '지역, 산업, 혁신, 활성화': None, '지역, 의료, 조성, 유치': None, '인프라, 조성, 인구, 유치': None, '인프라, 지역, 인구, 유치': None, '지역, 주민, 인구, 유치': None, '도시, 주민, 인구, 유치': None, '인프라, 조성, 지자체, 유치': None, '인프라, 혁신, 조성, 유치': None, '인프라, 활성화, 조성, 유치': None, '인프라, 지자체, 지역, 유치': None, '인프라, 혁신, 지역, 유치': None, '인프라, 활성화, 지역, 유치': None, '지역, 도시, 피해, 유치': None, '지역, 피해, 조성, 유치': None, '피해, 도시, 조성, 유치': None, '도시, 지자체, 주민, 유치': None, '지역경제, 활성화, 지역, 유치': None, '지역경제, 도시, 활성화, 유치': None, '인프라, 지역, 인구, 조성': None, '지역, 주민, 인구, 조성': None, '지역, 지자체, 인구, 조성': None, '지역, 활성화, 조성, 인구': None, '지역, 주민, 인구, 주민들': None, '도시, 주민, 인구, 주민들': None, '지역, 도시, 인구, 주민들': None, '지역, 지자체, 주민, 인구': None, '지자체, 도시, 주민, 인구': None, '지자체, 주민, 인구': None, '인프라, 지역, 주민, 조성': None, '인프라, 지자체, 지역, 조성': None, '인프라, 지역, 체험, 조성': None, '인프라, 혁신, 지역, 조성': None, '지역, 지자체, 주민, 조성': None, '지역, 활성화, 조성, 주민': None, '지역, 혁신, 지자체, 조성': None, '지역, 활성화, 지자체, 조성': None, '지역, 혁신, 조성, 활성화': None, '지역, 도심, 주민, 피해': None, '발생, 도심, 주민, 피해': None, '지역, 도심, 주민, 발생': None, '지역, 발생, 도심, 피해': None, '사업, 도심, 주민, 주민들': None, '도심, 조성, 주민, 주민들': None, '사업, 도심, 조성, 주민들': None, '사업, 도심, 주민들': None, '지역, 도심, 지자체, 조성': None, '지역, 도심, 주민, 주민들': None, '지역, 사업, 도심, 주민들': None, '발생, 유치, 산업, 사업': None, '조성, 발생, 산업, 유치': None, '지역, 발생, 산업, 유치': None, '인프라, 발생, 산업, 사업': None, '인프라, 산업, 지역, 발생': None, '발생, 산업, 주민, 사업': None, '산업, 조성, 주민, 발생': None, '지역, 산업, 주민, 발생': None, '사업, 산업, 주민, 피해': None, '발생, 산업, 주민, 피해': None, '사업, 발생, 산업, 피해': None, '발생, 산업, 피해': None, '발생, 지자체, 산업, 사업': None, '지역, 산업, 지자체, 발생': None, '지역, 산업, 피해, 사업': None, '피해, 발생, 산업, 사업': None, '지역, 발생, 산업, 피해': None, '발생, 유치, 주민, 사업': None, '지역, 발생, 주민, 유치': None, '인프라, 조성, 지역, 발생': None, '발생, 조성, 주민, 주민들': None, '사업, 발생, 조성, 주민들': None, '발생, 조성, 주민들': None, '지역, 발생, 조성, 주민들': None, '지역, 피해, 조성, 사업': None, '피해, 발생, 조성, 사업': None, '발생, 활성화, 조성, 사업': None, '지역, 활성화, 조성, 발생': None, '발생, 지자체, 주민, 사업': None, '지역, 피해, 주민, 사업': None, '피해, 발생, 주민, 사업': None, '지역, 피해, 지자체, 사업': None, '피해, 발생, 지자체, 사업': None, '발생, 산업, 주민, 주민들': None, '지역, 발생, 산업, 주민들': None, '피해, 조성, 주민, 주민들': None, '피해, 발생, 조성, 주민들': None, '지역, 피해, 조성, 주민들': None, '지역, 피해, 조성, 발생': None, '발생, 지자체, 주민, 주민들': None, '지역, 발생, 지자체, 주민들': None, '발생, 지자체, 주민들': None, '피해, 발생, 주민, 주민들': None, '지역, 피해, 주민, 주민들': None, '지역, 발생, 피해, 주민들': None, '지역, 피해, 주민, 발생': None, '피해, 지자체, 주민, 주민들': None, '피해, 발생, 지자체, 주민들': None, '발생, 지자체, 주민, 피해': None, '피해, 지자체, 주민들': None, '지역, 지자체, 주민, 피해': None, '지역, 피해, 지자체, 주민들': None, '지역, 피해, 지자체, 발생': None, '인프라, 사업, 의료, 유치': None, '인프라, 의료, 산업, 유치': None, '인프라, 의료, 산업, 사업': None, '사업, 의료, 조성, 유치': None, '지역, 사업, 제조업, 유치': None, '지역, 산업, 제조업, 유치': None, '사업, 산업, 제조업, 유치': None, '사업, 제조업, 유치': None, '사업, 산업, 유치, 주민들': None, '조성, 사업, 유치, 주민들': None, '조성, 산업, 유치, 주민들': None, '조성, 유치, 주민들': None, '산업, 유치, 주민, 주민들': None, '산업, 유치, 주민, 사업': None, '지역, 산업, 유치, 주민들': None, '지역경제, 사업, 활성화, 유치': None, '지역경제, 산업, 활성화, 유치': None, '사업, 혁신, 지자체, 유치': None, '산업, 혁신, 지자체, 유치': None, '사업, 혁신, 활성화, 유치': None, '산업, 혁신, 활성화, 유치': None, '인프라, 의료, 조성, 사업': None, '인프라, 의료, 조성, 산업': None, '인프라, 의료, 지역, 사업': None, '산업, 활성화, 인구, 사업': None, '인프라, 산업, 조성, 주민': None, '지역경제, 조성, 인프라, 사업': None, '지역경제, 산업, 조성, 인프라': None, '지역경제, 조성, 인프라': None, '인프라, 산업, 체험, 사업': None, '지역, 조성, 제조업, 사업': None, '산업, 조성, 제조업, 사업': None, '지역, 혁신, 제조업, 사업': None, '산업, 혁신, 제조업, 사업': None, '지역, 산업, 혁신, 제조업': None, '산업, 조성, 주민, 주민들': None, '산업, 지자체, 주민, 사업': None, '산업, 지자체, 주민, 조성': None, '지역, 산업, 지역발전, 사업': None, '산업, 지역발전, 조성, 사업': None, '지역, 산업, 지역발전, 조성': None, '지역경제, 산업, 혁신, 사업': None, '지역경제, 혁신, 조성, 사업': None, '지역경제, 산업, 혁신, 조성': None, '산업, 활성화, 지자체, 사업': None, '산업, 활성화, 지자체, 조성': None, '피해, 산업, 주민, 주민들': None, '피해, 사업, 산업, 주민들': None, '산업, 활성화, 주민, 사업': None, '지역, 산업, 활성화, 주민': None, '사업, 산업, 지자체, 주민들': None, '지역, 산업, 지자체, 주민들': None, '지역, 산업, 피해, 주민들': None, '지역경제, 혁신, 지역, 사업': None, '지역경제, 산업, 혁신, 지역': None, '지역경제, 혁신, 지역': None, '인프라, 의료, 조성, 유치': None, '인프라, 의료, 지역, 유치': None, '사업, 주민, 인구, 유치': None, '조성, 유치, 주민, 주민들': None, '지역, 조성, 유치, 주민들': None, '지역, 조성, 유치, 피해': None, '사업, 지자체, 주민, 유치': None, '지역, 유치, 주민, 피해': None, '사업, 유치, 주민, 피해': None, '유치, 주민, 피해': None, '사업, 지자체, 유치, 주민들': None, '지역, 지자체, 유치, 주민들': None, '지자체, 유치, 주민들': None, '지역, 혁신, 지자체, 유치': None, '지역, 활성화, 지자체, 유치': None, '사업, 활성화, 지자체, 유치': None, '지역, 혁신, 활성화, 유치': None, '인프라, 의료, 지역, 조성': None, '사업, 주민, 인구, 주민들': None, '지역, 사업, 인구, 주민들': None, '사업, 인구, 주민들': None, '지자체, 주민, 인구, 사업': None, '지역경제, 지역, 인프라, 조성': None, '인프라, 조성, 지역, 피해': None, '인프라, 사업, 조성, 피해': None, '조성, 지자체, 주민, 주민들': None, '조성, 사업, 지자체, 주민들': None, '조성, 지자체, 주민들': None, '지역, 주민, 지역주민, 사업': None, '지역주민, 조성, 주민, 사업': None, '지역, 조성, 주민, 지역주민': None, '지역, 주민, 체험, 사업': None, '조성, 주민, 체험, 사업': None, '지역, 주민, 체험, 조성': None, '주민, 체험, 조성': None, '지역, 조성, 지자체, 주민들': None, '지역, 사업, 활성화, 주민들': None, '사업, 활성화, 조성, 주민들': None, '지역, 활성화, 조성, 주민들': None, '사업, 활성화, 주민들': None, '지역, 조성, 지자체, 피해': None, '조성, 사업, 지자체, 피해': None, '조성, 지자체, 피해': None, '활성화, 조성, 체험, 사업': None, '지역, 활성화, 조성, 피해': None, '사업, 활성화, 조성, 피해': None, '사업, 활성화, 주민, 주민들': None, '지역, 활성화, 주민, 주민들': None, '사업, 지자체, 주민, 피해': None, '지역, 활성화, 주민, 피해': None, '사업, 활성화, 주민, 피해': None, '산업, 지자체, 주민, 유치': None, '산업, 활성화, 지자체, 유치': None, '산업, 주민, 인구, 조성': None, '산업, 활성화, 조성, 인구': None, '산업, 활성화, 조성, 주민': None, '산업, 지자체, 주민, 주민들': None, '피해, 산업, 지역, 주민들': None, '조성, 지자체, 주민, 유치': None, '지역경제, 활성화, 조성, 유치': None, '조성, 활성화, 지자체, 유치': None, '지자체, 유치, 주민, 주민들': None, '피해, 조성, 지역, 주민들': None, '피해, 지자체, 지역, 주민들': None, '감소, 사업, 지역, 산업, 도시': None, '감소, 사업, 지역, 산업, 조성': None, '감소, 사업, 지역, 도시, 조성': None, '감소, 사업, 산업, 도시, 조성': None, '감소, 지역, 산업, 도시, 조성': None, '사업, 지역, 산업, 도시, 조성': None, '인구, 감소, 사업, 지역, 도시': None, '인구, 감소, 사업, 지역, 조성': None, '인구, 감소, 사업, 도시, 조성': None, '인구, 감소, 지역, 도시, 조성': None, '인구, 사업, 지역, 도시, 조성': None, '건설, 개최, 지역, 사업, 산업': None, '건설, 개최, 지역, 사업, 도시': None, '건설, 사업, 지역, 산업, 도시': None, '건설, 개최, 사업, 산업, 도시': None, '건설, 개최, 지역, 산업, 도시': None, '개최, 지역, 사업, 산업, 도시': None, '건설, 사업, 지역, 개최, 도시': None, '건설, 사업, 지역, 개최, 조성': None, '건설, 개최, 지역, 도시, 조성': None, '건설, 사업, 개최, 도시, 조성': None, '건설, 사업, 지역, 도시, 조성': None, '사업, 지역, 개최, 도시, 조성': None, '지역, 사업, 건설, 개최': None, '사업, 건설, 도시, 개최': None, '사업, 건설, 조성, 개최': None, '사업, 개최': None, '지역, 사업, 도시, 개최': None, '지역, 사업, 조성, 개최': None, '사업, 도시, 조성, 개최': None, '사업, 건설, 개최': None, '사업, 조성, 개최': None, '사업, 도시, 개최': None, '지역, 사업, 개최': None, '건설, 개최, 지역, 사업, 조성': None, '건설, 사업, 지역, 산업, 조성': None, '건설, 개최, 사업, 산업, 조성': None, '건설, 개최, 지역, 산업, 조성': None, '개최, 지역, 사업, 산업, 조성': None, '관광, 개최, 사업, 산업, 도시': None, '관광, 개최, 사업, 산업, 조성': None, '관광, 개최, 사업, 도시, 조성': None, '관광, 사업, 산업, 도시, 조성': None, '개최, 사업, 산업, 도시, 조성': None, '개최, 관광, 산업, 도시, 조성': None, '사업, 지역, 개최, 관광, 산업': None, '사업, 지역, 개최, 관광, 도시': None, '사업, 지역, 관광, 산업, 도시': None, '개최, 지역, 관광, 산업, 도시': None, '사업, 개최, 관광, 산업, 도시': None, '사업, 산업, 도시, 관광': None, '사업, 지역, 개최, 유치, 관광': None, '사업, 지역, 유치, 관광, 도시': None, '개최, 지역, 유치, 관광, 도시': None, '사업, 개최, 유치, 관광, 도시': None, '개최, 지역, 유치, 사업, 도시': None, '유치, 개최': None, '사업, 도시, 유치, 관광': None, '도시, 개최, 유치, 관광': None, '지역, 도시, 유치, 개최': None, '도시, 개최, 유치, 사업': None, '도시, 유치, 개최': None, '지역, 유치, 개최': None, '사업, 지역, 개최, 관광, 조성': None, '개최, 지역, 관광, 도시, 조성': None, '사업, 지역, 관광, 도시, 조성': None, '사업, 개최, 관광, 도시, 조성': None, '사업, 도시, 조성, 관광': None, '개최, 지역, 관광, 산업, 조성': None, '관광, 지역, 산업, 도시, 조성': None, '개최, 지역, 산업, 도시, 조성': None, '사업, 지역, 관광, 산업, 조성': None, '사업, 개최, 관광, 산업, 조성': None, '사업, 산업, 조성, 관광': None, '개최, 유치, 사업, 산업, 도시': None, '개최, 유치, 사업, 산업, 조성': None, '개최, 유치, 사업, 도시, 조성': None, '유치, 사업, 산업, 도시, 조성': None, '유치, 개최, 산업, 도시, 조성': None, '산업, 개최, 유치, 사업': None, '산업, 도시, 유치, 개최': None, '조성, 산업, 유치, 개최': None, '조성, 도시, 유치, 개최': None, '조성, 유치, 개최': None, '산업, 유치, 개최': None, '개최, 지역, 유치, 사업, 산업': None, '유치, 지역, 사업, 산업, 도시': None, '유치, 지역, 개최, 산업, 도시': None, '지역, 산업, 유치, 개최': None, '개최, 인프라, 사업, 산업, 도시': None, '개최, 인프라, 사업, 산업, 조성': None, '개최, 인프라, 사업, 도시, 조성': None, '사업, 인프라, 산업, 도시, 조성': None, '개최, 인프라, 산업, 도시, 조성': None, '개최, 인프라, 지역, 사업, 산업': None, '개최, 인프라, 지역, 사업, 도시': None, '사업, 인프라, 지역, 산업, 도시': None, '개최, 인프라, 지역, 산업, 도시': None, '개최, 지역, 사업, 도시, 조성': None, '개최, 지역, 유치, 사업, 조성': None, '유치, 지역, 사업, 도시, 조성': None, '유치, 지역, 개최, 도시, 조성': None, '지역, 조성, 유치, 개최': None, '사업, 인프라, 지역, 개최, 도시': None, '사업, 인프라, 지역, 개최, 조성': None, '개최, 인프라, 지역, 도시, 조성': None, '사업, 인프라, 개최, 도시, 조성': None, '사업, 인프라, 지역, 도시, 조성': None, '인프라, 사업, 지역, 개최': None, '인프라, 사업, 도시, 개최': None, '인프라, 사업, 조성, 개최': None, '인프라, 사업, 개최': None, '주민, 사업, 지역, 개최, 도시': None, '주민, 사업, 지역, 개최, 조성': None, '주민, 개최, 지역, 도시, 조성': None, '주민, 사업, 개최, 도시, 조성': None, '주민, 사업, 지역, 도시, 조성': None, '지역, 사업, 주민, 개최': None, '사업, 도시, 주민, 개최': None, '사업, 조성, 주민, 개최': None, '사업, 주민, 개최': None, '유치, 지역, 개최, 산업, 조성': None, '유치, 지역, 산업, 도시, 조성': None, '개최, 인프라, 지역, 산업, 조성': None, '인프라, 지역, 산업, 도시, 조성': None, '개최, 인프라, 지역, 유치, 사업': None, '유치, 인프라, 지역, 사업, 산업': None, '개최, 인프라, 유치, 사업, 산업': None, '유치, 인프라, 지역, 개최, 산업': None, '인프라, 지역, 유치, 개최': None, '인프라, 산업, 유치, 개최': None, '인프라, 유치, 개최': None, '유치, 지역, 사업, 산업, 조성': None, '개최, 인프라, 지역, 사업, 조성': None, '사업, 인프라, 지역, 산업, 조성': None, '개최, 지역, 사업, 활성화, 산업': None, '개최, 지역, 사업, 활성화, 조성': None, '사업, 지역, 활성화, 산업, 조성': None, '개최, 사업, 활성화, 산업, 조성': None, '개최, 지역, 활성화, 산업, 조성': None, '유치, 인프라, 지역, 사업, 조성': None, '개최, 인프라, 유치, 사업, 조성': None, '유치, 인프라, 지역, 개최, 조성': None, '인프라, 조성, 유치, 개최': None, '건설, 사업, 지역, 관광, 국제': None, '건설, 사업, 지역, 관광, 도시': None, '건설, 관광, 지역, 국제, 도시': None, '건설, 사업, 관광, 국제, 도시': None, '건설, 사업, 지역, 국제, 도시': None, '사업, 지역, 관광, 국제, 도시': None, '사업, 건설, 국제, 관광': None, '사업, 건설, 도시, 관광': None, '지역, 사업, 국제, 관광': None, '사업, 국제, 도시, 관광': None, '사업, 국제, 관광': None, '건설, 관광, 유치, 사업, 산업': None, '건설, 관광, 유치, 사업, 도시': None, '건설, 관광, 사업, 산업, 도시': None, '건설, 유치, 사업, 산업, 도시': None, '건설, 유치, 관광, 산업, 도시': None, '관광, 유치, 사업, 산업, 도시': None, '건설, 유치, 산업, 관광': None, '건설, 도시, 유치, 관광': None, '건설, 유치, 관광': None, '건설, 관광, 인프라, 사업, 산업': None, '건설, 관광, 인프라, 사업, 도시': None, '건설, 사업, 인프라, 산업, 도시': None, '건설, 관광, 인프라, 산업, 도시': None, '관광, 인프라, 사업, 산업, 도시': None, '건설, 관광, 사업, 산업, 조성': None, '건설, 관광, 사업, 도시, 조성': None, '건설, 사업, 산업, 도시, 조성': None, '건설, 관광, 산업, 도시, 조성': None, '건설, 관광, 지역, 사업, 산업': None, '건설, 관광, 지역, 사업, 도시': None, '건설, 관광, 지역, 산업, 도시': None, '관광, 지역, 사업, 산업, 도시': None, '건설, 관광, 유치, 사업, 조성': None, '건설, 유치, 사업, 도시, 조성': None, '건설, 유치, 관광, 도시, 조성': None, '관광, 유치, 사업, 도시, 조성': None, '조성, 건설, 유치, 관광': None, '건설, 관광, 지역, 유치, 사업': None, '건설, 유치, 지역, 사업, 도시': None, '건설, 유치, 지역, 관광, 도시': None, '관광, 지역, 유치, 사업, 도시': None, '지역, 건설, 유치, 관광': None, '건설, 사업, 인프라, 관광, 도시': None, '건설, 사업, 인프라, 관광, 조성': None, '건설, 관광, 인프라, 도시, 조성': None, '건설, 사업, 관광, 도시, 조성': None, '건설, 사업, 인프라, 도시, 조성': None, '사업, 인프라, 관광, 도시, 조성': None, '인프라, 사업, 건설, 관광': None, '사업, 건설, 조성, 관광': None, '인프라, 사업, 도시, 관광': None, '인프라, 사업, 조성, 관광': None, '건설, 사업, 인프라, 지역, 관광': None, '건설, 관광, 인프라, 지역, 도시': None, '건설, 사업, 인프라, 지역, 도시': None, '사업, 인프라, 지역, 관광, 도시': None, '인프라, 사업, 지역, 관광': None, '건설, 사업, 지역, 관광, 조성': None, '건설, 관광, 지역, 도시, 조성': None, '건설, 관광, 지역, 사업, 활성화': None, '건설, 사업, 지역, 활성화, 도시': None, '건설, 관광, 사업, 활성화, 도시': None, '건설, 관광, 지역, 활성화, 도시': None, '관광, 지역, 사업, 활성화, 도시': None, '건설, 유치, 관광, 산업, 조성': None, '건설, 유치, 산업, 도시, 조성': None, '유치, 관광, 산업, 도시, 조성': None, '조성, 산업, 유치, 관광': None, '건설, 유치, 지역, 관광, 산업': None, '건설, 유치, 지역, 산업, 도시': None, '유치, 지역, 관광, 산업, 도시': None, '건설, 관광, 인프라, 산업, 조성': None, '건설, 인프라, 산업, 도시, 조성': None, '관광, 인프라, 산업, 도시, 조성': None, '건설, 관광, 인프라, 지역, 산업': None, '건설, 인프라, 지역, 산업, 도시': None, '관광, 인프라, 지역, 산업, 도시': None, '건설, 관광, 지역, 산업, 조성': None, '건설, 지역, 산업, 도시, 조성': None, '건설, 관광, 지역, 활성화, 산업': None, '건설, 관광, 활성화, 산업, 도시': None, '건설, 지역, 활성화, 산업, 도시': None, '관광, 지역, 활성화, 산업, 도시': None, '건설, 유치, 지역, 관광, 조성': None, '건설, 유치, 지역, 도시, 조성': None, '유치, 지역, 관광, 도시, 조성': None, '건설, 관광, 인프라, 지역, 조성': None, '건설, 인프라, 지역, 도시, 조성': None, '관광, 인프라, 지역, 도시, 조성': None, '건설, 유치, 사업, 산업, 조성': None, '관광, 유치, 사업, 산업, 조성': None, '건설, 유치, 지역, 사업, 산업': None, '관광, 지역, 유치, 사업, 산업': None, '건설, 관광, 인프라, 사업, 조성': None, '건설, 사업, 인프라, 산업, 조성': None, '관광, 인프라, 사업, 산업, 조성': None, '건설, 관광, 인프라, 지역, 사업': None, '건설, 사업, 인프라, 지역, 산업': None, '관광, 인프라, 지역, 사업, 산업': None, '건설, 관광, 지역, 사업, 조성': None, '관광, 지역, 사업, 산업, 조성': None, '건설, 사업, 지역, 활성화, 산업': None, '건설, 관광, 사업, 활성화, 산업': None, '관광, 지역, 사업, 활성화, 산업': None, '건설, 유치, 지역, 사업, 조성': None, '관광, 지역, 유치, 사업, 조성': None, '건설, 사업, 인프라, 지역, 조성': None, '사업, 인프라, 지역, 관광, 조성': None, '건설, 사업, 지역, 활성화, 조성': None, '건설, 관광, 사업, 활성화, 조성': None, '건설, 관광, 지역, 활성화, 조성': None, '관광, 지역, 사업, 활성화, 조성': None, '건설, 유치, 지역, 산업, 조성': None, '유치, 지역, 관광, 산업, 조성': None, '건설, 인프라, 지역, 산업, 조성': None, '관광, 인프라, 지역, 산업, 조성': None, '건설, 사업, 국제, 산업, 도시': None, '건설, 사업, 국제, 산업, 조성': None, '건설, 사업, 국제, 도시, 조성': None, '건설, 국제, 산업, 도시, 조성': None, '사업, 국제, 산업, 도시, 조성': None, '건설, 사업, 지역, 국제, 산업': None, '건설, 지역, 국제, 산업, 도시': None, '사업, 지역, 국제, 산업, 도시': None, '건설, 사업, 지역, 국제, 조성': None, '건설, 지역, 국제, 도시, 조성': None, '사업, 지역, 국제, 도시, 조성': None, '건설, 지역, 국제, 산업, 조성': None, '지역, 국제, 산업, 도시, 조성': None, '사업, 지역, 국제, 산업, 조성': None, '건설, 유치, 지역, 사업, 국제': None, '건설, 유치, 사업, 국제, 조성': None, '건설, 유치, 지역, 국제, 조성': None, '유치, 지역, 사업, 국제, 조성': None, '건설, 유치, 국제, 사업': None, '건설, 도심, 사업, 지역, 도시': None, '건설, 도심, 사업, 지역, 조성': None, '건설, 도심, 사업, 도시, 조성': None, '건설, 도심, 지역, 도시, 조성': None, '도심, 사업, 지역, 도시, 조성': None, '건설, 사업, 지역, 발생, 도시': None, '건설, 사업, 지역, 발생, 조성': None, '건설, 발생, 지역, 도시, 조성': None, '건설, 사업, 발생, 도시, 조성': None, '사업, 지역, 발생, 도시, 조성': None, '사업, 건설, 도시, 발생': None, '사업, 건설, 조성, 발생': None, '지역, 사업, 도시, 발생': None, '지역, 사업, 조성, 발생': None, '사업, 도시, 조성, 발생': None, '사업, 조성, 발생': None, '사업, 도시, 발생': None, '인구, 건설, 유치, 사업, 산업': None, '인구, 건설, 유치, 사업, 도시': None, '인구, 건설, 사업, 산업, 도시': None, '인구, 건설, 유치, 산업, 도시': None, '인구, 유치, 사업, 산업, 도시': None, '건설, 유치, 인구, 사업': None, '산업, 유치, 인구, 사업': None, '도시, 유치, 인구, 사업': None, '건설, 유치, 인프라, 사업, 산업': None, '건설, 유치, 인프라, 사업, 도시': None, '건설, 유치, 인프라, 산업, 도시': None, '유치, 인프라, 사업, 산업, 도시': None, '건설, 유치, 사업, 활성화, 산업': None, '건설, 유치, 사업, 활성화, 도시': None, '건설, 사업, 활성화, 산업, 도시': None, '건설, 유치, 활성화, 산업, 도시': None, '유치, 사업, 활성화, 산업, 도시': None, '건설, 활성화, 유치, 사업': None, '인구, 건설, 사업, 산업, 조성': None, '인구, 건설, 사업, 도시, 조성': None, '인구, 건설, 산업, 도시, 조성': None, '인구, 사업, 산업, 도시, 조성': None, '인구, 건설, 사업, 지역, 산업': None, '인구, 건설, 사업, 지역, 도시': None, '인구, 건설, 지역, 산업, 도시': None, '인구, 사업, 지역, 산업, 도시': None, '건설, 주민, 사업, 산업, 도시': None, '건설, 주민, 사업, 산업, 조성': None, '건설, 주민, 사업, 도시, 조성': None, '건설, 주민, 산업, 도시, 조성': None, '주민, 사업, 산업, 도시, 조성': None, '지역경제, 건설, 사업, 산업, 도시': None, '지역경제, 건설, 사업, 산업, 조성': None, '지역경제, 건설, 사업, 도시, 조성': None, '지역경제, 건설, 산업, 도시, 조성': None, '지역경제, 사업, 산업, 도시, 조성': None, '건설, 혁신, 사업, 산업, 도시': None, '건설, 혁신, 사업, 산업, 조성': None, '건설, 혁신, 사업, 도시, 조성': None, '건설, 혁신, 산업, 도시, 조성': None, '혁신, 사업, 산업, 도시, 조성': None, '건설, 사업, 활성화, 산업, 조성': None, '건설, 사업, 활성화, 도시, 조성': None, '건설, 활성화, 산업, 도시, 조성': None, '사업, 활성화, 산업, 도시, 조성': None, '건설, 주민, 사업, 지역, 산업': None, '건설, 주민, 사업, 지역, 도시': None, '건설, 주민, 지역, 산업, 도시': None, '주민, 사업, 지역, 산업, 도시': None, '지역경제, 건설, 사업, 지역, 산업': None, '지역경제, 건설, 사업, 지역, 도시': None, '지역경제, 건설, 지역, 산업, 도시': None, '지역경제, 사업, 지역, 산업, 도시': None, '건설, 혁신, 사업, 지역, 산업': None, '건설, 혁신, 사업, 지역, 도시': None, '건설, 혁신, 지역, 산업, 도시': None, '혁신, 사업, 지역, 산업, 도시': None, '사업, 지역, 활성화, 산업, 도시': None, '인구, 건설, 유치, 사업, 조성': None, '인구, 건설, 유치, 도시, 조성': None, '인구, 유치, 사업, 도시, 조성': None, '조성, 유치, 인구, 사업': None, '인구, 건설, 유치, 지역, 사업': None, '인구, 건설, 유치, 지역, 도시': None, '인구, 유치, 지역, 사업, 도시': None, '건설, 유치, 인프라, 사업, 조성': None, '건설, 유치, 인프라, 도시, 조성': None, '유치, 인프라, 사업, 도시, 조성': None, '건설, 유치, 인프라, 지역, 사업': None, '건설, 유치, 인프라, 지역, 도시': None, '유치, 인프라, 지역, 사업, 도시': None, '건설, 주민, 유치, 지역, 사업': None, '건설, 주민, 유치, 사업, 도시': None, '건설, 주민, 유치, 지역, 도시': None, '주민, 유치, 지역, 사업, 도시': None, '건설, 혁신, 유치, 지역, 사업': None, '건설, 혁신, 유치, 사업, 도시': None, '건설, 혁신, 유치, 지역, 도시': None, '혁신, 유치, 지역, 사업, 도시': None, '건설, 혁신, 유치, 사업': None, '도시, 혁신, 유치, 사업': None, '건설, 유치, 지역, 사업, 활성화': None, '건설, 유치, 지역, 활성화, 도시': None, '유치, 지역, 사업, 활성화, 도시': None, '인구, 건설, 사업, 지역, 조성': None, '인구, 건설, 지역, 도시, 조성': None, '주민들, 건설, 주민, 사업, 도시': None, '주민들, 건설, 주민, 사업, 조성': None, '주민들, 건설, 주민, 도시, 조성': None, '주민들, 건설, 사업, 도시, 조성': None, '주민들, 주민, 사업, 도시, 조성': None, '건설, 주민, 사업, 지역, 조성': None, '건설, 주민, 지역, 도시, 조성': None, '주민들, 건설, 사업, 지역, 도시': None, '주민들, 건설, 사업, 지역, 조성': None, '주민들, 건설, 지역, 도시, 조성': None, '주민들, 사업, 지역, 도시, 조성': None, '지역경제, 건설, 사업, 지역, 조성': None, '지역경제, 건설, 지역, 도시, 조성': None, '지역경제, 사업, 지역, 도시, 조성': None, '건설, 사업, 지역, 지자체, 도시': None, '건설, 사업, 지역, 지자체, 조성': None, '건설, 사업, 지자체, 도시, 조성': None, '건설, 지역, 지자체, 도시, 조성': None, '사업, 지역, 지자체, 도시, 조성': None, '건설, 피해, 지역, 사업, 도시': None, '건설, 피해, 지역, 사업, 조성': None, '건설, 피해, 사업, 도시, 조성': None, '건설, 피해, 지역, 도시, 조성': None, '피해, 지역, 사업, 도시, 조성': None, '피해, 건설, 도시, 사업': None, '피해, 건설, 조성, 사업': None, '피해, 도시, 조성, 사업': None, '건설, 혁신, 사업, 지역, 조성': None, '건설, 혁신, 지역, 도시, 조성': None, '혁신, 사업, 지역, 도시, 조성': None, '건설, 지역, 활성화, 도시, 조성': None, '사업, 지역, 활성화, 도시, 조성': None, '주민들, 건설, 주민, 사업, 지역': None, '주민들, 건설, 주민, 지역, 도시': None, '주민들, 주민, 사업, 지역, 도시': None, '건설, 주민, 피해, 지역, 사업': None, '건설, 주민, 피해, 사업, 도시': None, '건설, 주민, 피해, 지역, 도시': None, '주민, 피해, 지역, 사업, 도시': None, '피해, 건설, 주민, 사업': None, '피해, 도시, 주민, 사업': None, '인구, 건설, 유치, 산업, 조성': None, '인구, 유치, 산업, 도시, 조성': None, '인구, 건설, 유치, 지역, 산업': None, '인구, 유치, 지역, 산업, 도시': None, '건설, 유치, 인프라, 산업, 조성': None, '유치, 인프라, 산업, 도시, 조성': None, '건설, 유치, 인프라, 지역, 산업': None, '유치, 인프라, 지역, 산업, 도시': None, '건설, 유치, 지역, 활성화, 산업': None, '유치, 지역, 활성화, 산업, 도시': None, '인구, 건설, 지역, 산업, 조성': None, '인구, 지역, 산업, 도시, 조성': None, '건설, 주민, 지역, 산업, 조성': None, '주민, 지역, 산업, 도시, 조성': None, '지역경제, 건설, 지역, 산업, 조성': None, '지역경제, 지역, 산업, 도시, 조성': None, '건설, 혁신, 지역, 산업, 조성': None, '혁신, 지역, 산업, 도시, 조성': None, '건설, 지역, 활성화, 산업, 조성': None, '지역, 활성화, 산업, 도시, 조성': None, '인구, 건설, 유치, 지역, 조성': None, '인구, 유치, 지역, 도시, 조성': None, '건설, 유치, 인프라, 지역, 조성': None, '유치, 인프라, 지역, 도시, 조성': None, '주민들, 건설, 주민, 발생, 지역': None, '주민들, 건설, 주민, 발생, 사업': None, '주민들, 건설, 발생, 사업, 지역': None, '주민들, 주민, 사업, 지역, 발생': None, '건설, 주민, 사업, 지역, 발생': None, '지역, 사업, 주민, 발생': None, '건설, 주민, 발생, 지역, 사업': None, '건설, 주민, 발생, 피해, 사업': None, '건설, 주민, 피해, 지역, 발생': None, '건설, 발생, 지역, 피해, 사업': None, '주민, 발생, 지역, 피해, 사업': None, '발생, 건설, 피해, 사업': None, '주민들, 건설, 주민, 발생, 피해': None, '주민들, 건설, 주민, 피해, 지역': None, '주민들, 건설, 발생, 피해, 지역': None, '주민들, 주민, 발생, 지역, 피해': None, '인구, 유치, 사업, 산업, 조성': None, '인구, 유치, 지역, 사업, 산업': None, '유치, 인프라, 사업, 산업, 조성': None, '건설, 유치, 사업, 활성화, 조성': None, '건설, 유치, 활성화, 산업, 조성': None, '유치, 사업, 활성화, 산업, 조성': None, '건설, 혁신, 유치, 사업, 산업': None, '건설, 혁신, 유치, 지역, 산업': None, '혁신, 유치, 지역, 사업, 산업': None, '산업, 혁신, 유치, 사업': None, '유치, 지역, 사업, 활성화, 산업': None, '인구, 사업, 지역, 산업, 조성': None, '건설, 사업, 인프라, 지역, 활성화': None, '건설, 사업, 인프라, 활성화, 산업': None, '건설, 인프라, 지역, 활성화, 산업': None, '사업, 인프라, 지역, 활성화, 산업': None, '주민, 사업, 지역, 산업, 조성': None, '지역경제, 사업, 지역, 산업, 조성': None, '건설, 사업, 지역, 지자체, 산업': None, '건설, 사업, 지자체, 산업, 조성': None, '건설, 지역, 지자체, 산업, 조성': None, '사업, 지역, 지자체, 산업, 조성': None, '혁신, 사업, 지역, 산업, 조성': None, '주민들, 건설, 주민, 사업, 산업': None, '주민들, 건설, 주민, 지역, 산업': None, '주민들, 건설, 사업, 지역, 산업': None, '주민들, 주민, 사업, 지역, 산업': None, '인구, 유치, 지역, 사업, 조성': None, '건설, 주민, 유치, 사업, 조성': None, '건설, 주민, 유치, 지역, 조성': None, '주민, 유치, 지역, 사업, 조성': None, '조성, 유치, 주민, 사업': None, '건설, 혁신, 유치, 사업, 조성': None, '건설, 혁신, 유치, 지역, 조성': None, '혁신, 유치, 지역, 사업, 조성': None, '조성, 혁신, 유치, 사업': None, '건설, 유치, 지역, 활성화, 조성': None, '유치, 지역, 사업, 활성화, 조성': None, '주민들, 건설, 주민, 사업, 유치': None, '주민들, 건설, 주민, 유치, 지역': None, '주민들, 건설, 사업, 지역, 유치': None, '주민들, 주민, 사업, 지역, 유치': None, '주민들, 건설, 주민, 지역, 조성': None, '주민들, 주민, 사업, 지역, 조성': None, '건설, 주민, 피해, 사업, 조성': None, '건설, 주민, 피해, 지역, 조성': None, '주민, 피해, 지역, 사업, 조성': None, '피해, 조성, 주민, 사업': None, '주민들, 건설, 주민, 피해, 사업': None, '주민들, 건설, 사업, 지역, 피해': None, '주민들, 주민, 사업, 지역, 피해': None, '인구, 유치, 지역, 산업, 조성': None, '유치, 인프라, 지역, 산업, 조성': None, '유치, 지역, 활성화, 산업, 조성': None, '관광, 사업, 국제, 산업, 도시': None, '관광, 사업, 국제, 산업, 조성': None, '관광, 사업, 국제, 도시, 조성': None, '관광, 국제, 산업, 도시, 조성': None, '관광, 지역, 사업, 국제, 산업': None, '관광, 지역, 사업, 국제, 도시': None, '관광, 지역, 국제, 산업, 도시': None, '관광, 지역, 유치, 국제, 사업': None, '유치, 지역, 사업, 국제, 도시': None, '관광, 유치, 사업, 국제, 도시': None, '유치, 지역, 관광, 국제, 도시': None, '지역, 국제, 유치, 관광': None, '국제, 도시, 유치, 관광': None, '사업, 지역, 관광, 국제, 조성': None, '관광, 지역, 국제, 도시, 조성': None, '사업, 관광, 국제, 도시, 조성': None, '사업, 국제, 조성, 관광': None, '관광, 지역, 국제, 산업, 조성': None, '관광, 지역, 사업, 국제, 조성': None, '도심, 관광, 지역, 사업, 산업': None, '도심, 관광, 지역, 사업, 도시': None, '도심, 사업, 지역, 산업, 도시': None, '도심, 관광, 사업, 산업, 도시': None, '도심, 관광, 지역, 산업, 도시': None, '도심, 사업, 지역, 관광, 도시': None, '도심, 사업, 지역, 관광, 조성': None, '도심, 관광, 지역, 도시, 조성': None, '도심, 사업, 관광, 도시, 조성': None, '지역, 사업, 도심, 관광': None, '사업, 도시, 도심, 관광': None, '사업, 도심, 조성, 관광': None, '사업, 도심, 관광': None, '관광, 인프라, 유치, 사업, 산업': None, '관광, 인프라, 유치, 사업, 도시': None, '유치, 인프라, 관광, 산업, 도시': None, '인프라, 산업, 유치, 관광': None, '인프라, 도시, 유치, 관광': None, '관광, 유치, 사업, 활성화, 산업': None, '관광, 유치, 사업, 활성화, 도시': None, '관광, 사업, 활성화, 산업, 도시': None, '유치, 관광, 활성화, 산업, 도시': None, '산업, 활성화, 유치, 관광': None, '도시, 활성화, 유치, 관광': None, '인구, 관광, 지역, 사업, 산업': None, '인구, 관광, 지역, 사업, 도시': None, '인구, 관광, 사업, 산업, 도시': None, '인구, 관광, 지역, 산업, 도시': None, '관광, 인프라, 사업, 도시, 조성': None, '관광, 인프라, 지역, 사업, 도시': None, '관광, 지역, 사업, 도시, 조성': None, '관광, 사업, 활성화, 산업, 조성': None, '관광, 사업, 활성화, 도시, 조성': None, '관광, 활성화, 산업, 도시, 조성': None, '주민, 관광, 지역, 사업, 산업': None, '주민, 관광, 지역, 사업, 도시': None, '주민, 관광, 사업, 산업, 도시': None, '주민, 관광, 지역, 산업, 도시': None, '관광, 지역, 사업, 지자체, 산업': None, '관광, 지역, 사업, 지자체, 도시': None, '사업, 지역, 지자체, 산업, 도시': None, '관광, 사업, 지자체, 산업, 도시': None, '관광, 지역, 지자체, 산업, 도시': None, '관광, 인프라, 유치, 사업, 조성': None, '유치, 인프라, 관광, 도시, 조성': None, '인프라, 조성, 유치, 관광': None, '관광, 인프라, 지역, 유치, 사업': None, '유치, 인프라, 지역, 관광, 도시': None, '인프라, 지역, 유치, 관광': None, '관광, 유치, 사업, 활성화, 조성': None, '유치, 사업, 활성화, 도시, 조성': None, '유치, 관광, 활성화, 도시, 조성': None, '조성, 활성화, 유치, 관광': None, '체험, 관광, 지역, 유치, 사업': None, '체험, 관광, 지역, 사업, 도시': None, '체험, 유치, 지역, 사업, 도시': None, '체험, 관광, 유치, 사업, 도시': None, '체험, 유치, 지역, 관광, 도시': None, '지역, 유치, 체험, 관광': None, '도시, 유치, 체험, 관광': None, '관광, 지역, 유치, 사업, 활성화': None, '유치, 지역, 관광, 활성화, 도시': None, '지역, 활성화, 유치, 관광': None, '인구, 사업, 지역, 관광, 도시': None, '인구, 사업, 지역, 관광, 조성': None, '인구, 관광, 지역, 도시, 조성': None, '인구, 사업, 관광, 도시, 조성': None, '지역, 사업, 인구, 관광': None, '사업, 도시, 인구, 관광': None, '사업, 조성, 인구, 관광': None, '사업, 인구, 관광': None, '관광, 인프라, 지역, 사업, 활성화': None, '사업, 인프라, 지역, 활성화, 도시': None, '관광, 인프라, 사업, 활성화, 도시': None, '관광, 인프라, 지역, 활성화, 도시': None, '주민, 사업, 지역, 관광, 도시': None, '주민, 사업, 지역, 관광, 조성': None, '주민, 관광, 지역, 도시, 조성': None, '주민, 사업, 관광, 도시, 조성': None, '사업, 도시, 주민, 관광': None, '사업, 조성, 주민, 관광': None, '관광, 지역, 사업, 지자체, 조성': None, '관광, 사업, 지자체, 도시, 조성': None, '관광, 지역, 지자체, 도시, 조성': None, '체험, 관광, 지역, 사업, 조성': None, '체험, 사업, 지역, 도시, 조성': None, '체험, 관광, 사업, 도시, 조성': None, '체험, 관광, 지역, 도시, 조성': None, '관광, 지역, 활성화, 도시, 조성': None, '유치, 인프라, 관광, 산업, 조성': None, '유치, 인프라, 지역, 관광, 산업': None, '유치, 관광, 활성화, 산업, 조성': None, '유치, 활성화, 산업, 도시, 조성': None, '유치, 지역, 관광, 활성화, 산업': None, '인구, 관광, 지역, 산업, 조성': None, '인구, 관광, 산업, 도시, 조성': None, '관광, 지역, 지자체, 산업, 조성': None, '관광, 지자체, 산업, 도시, 조성': None, '지역, 지자체, 산업, 도시, 조성': None, '관광, 지역, 활성화, 산업, 조성': None, '유치, 인프라, 지역, 관광, 조성': None, '유치, 지역, 관광, 활성화, 조성': None, '유치, 지역, 활성화, 도시, 조성': None, '인구, 관광, 지역, 사업, 조성': None, '인구, 관광, 사업, 산업, 조성': None, '관광, 인프라, 지역, 사업, 조성': None, '주민, 관광, 지역, 사업, 조성': None, '주민, 관광, 사업, 산업, 조성': None, '주민, 관광, 지역, 산업, 조성': None, '관광, 사업, 지자체, 산업, 조성': None, '체험, 관광, 지역, 사업, 산업': None, '체험, 사업, 지역, 산업, 조성': None, '체험, 관광, 사업, 산업, 조성': None, '체험, 관광, 지역, 산업, 조성': None, '혁신, 관광, 지역, 사업, 산업': None, '혁신, 관광, 지역, 사업, 조성': None, '혁신, 관광, 사업, 산업, 조성': None, '혁신, 관광, 지역, 산업, 조성': None, '체험, 유치, 지역, 사업, 조성': None, '체험, 관광, 유치, 사업, 조성': None, '체험, 유치, 지역, 관광, 조성': None, '조성, 유치, 체험, 사업': None, '조성, 유치, 체험, 관광': None, '유치, 사업, 국제, 산업, 도시': None, '유치, 사업, 국제, 산업, 조성': None, '유치, 사업, 국제, 도시, 조성': None, '유치, 국제, 산업, 도시, 조성': None, '유치, 지역, 사업, 국제, 산업': None, '유치, 지역, 국제, 산업, 도시': None, '사업, 인프라, 국제, 산업, 도시': None, '사업, 인프라, 국제, 산업, 조성': None, '사업, 인프라, 국제, 도시, 조성': None, '인프라, 국제, 산업, 도시, 조성': None, '사업, 인프라, 지역, 국제, 산업': None, '사업, 인프라, 지역, 국제, 도시': None, '인프라, 지역, 국제, 산업, 도시': None, '사업, 지역, 국제, 활성화, 산업': None, '사업, 지역, 국제, 활성화, 도시': None, '사업, 국제, 활성화, 산업, 도시': None, '지역, 국제, 활성화, 산업, 도시': None, '유치, 인프라, 지역, 국제, 사업': None, '유치, 인프라, 사업, 국제, 도시': None, '유치, 인프라, 지역, 국제, 도시': None, '인프라, 국제, 유치, 사업': None, '유치, 지역, 국제, 도시, 조성': None, '사업, 인프라, 지역, 국제, 조성': None, '인프라, 지역, 국제, 도시, 조성': None, '사업, 지역, 국제, 활성화, 조성': None, '사업, 국제, 활성화, 도시, 조성': None, '지역, 국제, 활성화, 도시, 조성': None, '유치, 인프라, 지역, 국제, 산업': None, '유치, 인프라, 국제, 산업, 도시': None, '유치, 지역, 국제, 산업, 조성': None, '인프라, 지역, 국제, 산업, 조성': None, '유치, 인프라, 사업, 국제, 산업': None, '유치, 인프라, 사업, 국제, 조성': None, '유치, 인프라, 국제, 산업, 조성': None, '사업, 국제, 활성화, 산업, 조성': None, '지역, 국제, 활성화, 산업, 조성': None, '유치, 인프라, 지역, 국제, 조성': None, '도심, 사업, 지역, 산업, 조성': None, '도심, 사업, 산업, 도시, 조성': None, '도심, 지역, 산업, 도시, 조성': None, '도심, 유치, 지역, 사업, 도시': None, '도심, 유치, 지역, 사업, 조성': None, '도심, 유치, 사업, 도시, 조성': None, '도심, 유치, 지역, 도시, 조성': None, '지역, 도심, 유치, 사업': None, '도시, 도심, 유치, 사업': None, '조성, 도심, 유치, 사업': None, '도심, 주민, 사업, 지역, 도시': None, '도심, 주민, 사업, 지역, 조성': None, '도심, 주민, 사업, 도시, 조성': None, '도심, 주민, 지역, 도시, 조성': None, '도심, 사업, 지역, 활성화, 도시': None, '도심, 사업, 지역, 활성화, 조성': None, '도심, 사업, 활성화, 도시, 조성': None, '도심, 지역, 활성화, 도시, 조성': None, '발생, 지역, 사업, 산업, 도시': None, '발생, 지역, 사업, 산업, 조성': None, '발생, 지역, 사업, 도시, 조성': None, '발생, 사업, 산업, 도시, 조성': None, '발생, 지역, 산업, 도시, 조성': None, '발생, 지역, 유치, 사업, 도시': None, '발생, 지역, 유치, 사업, 조성': None, '발생, 유치, 사업, 도시, 조성': None, '유치, 지역, 발생, 도시, 조성': None, '지역, 도시, 유치, 발생': None, '지역, 조성, 유치, 발생': None, '조성, 도시, 유치, 발생': None, '주민, 사업, 지역, 발생, 도시': None, '주민, 사업, 지역, 발생, 조성': None, '주민, 발생, 지역, 도시, 조성': None, '주민, 사업, 발생, 도시, 조성': None, '사업, 도시, 주민, 발생': None, '사업, 조성, 주민, 발생': None, '주민, 피해, 발생, 사업, 도시': None, '주민, 피해, 발생, 사업, 조성': None, '주민, 발생, 사업, 도시, 조성': None, '주민, 피해, 사업, 도시, 조성': None, '주민, 피해, 발생, 도시, 조성': None, '피해, 발생, 사업, 도시, 조성': None, '피해, 도시, 주민, 발생': None, '피해, 조성, 주민, 발생': None, '피해, 도시, 조성, 발생': None, '발생, 지역, 피해, 사업, 도시': None, '발생, 지역, 피해, 사업, 조성': None, '피해, 지역, 발생, 도시, 조성': None, '주민들, 주민, 발생, 지역, 도시': None, '주민들, 주민, 사업, 발생, 도시': None, '주민들, 사업, 지역, 발생, 도시': None, '주민들, 주민, 피해, 사업, 발생': None, '주민들, 주민, 피해, 사업, 도시': None, '주민들, 주민, 피해, 발생, 도시': None, '주민들, 피해, 사업, 발생, 도시': None, '주민, 발생, 지역, 사업, 도시': None, '주민, 피해, 지역, 발생, 도시': None, '주민, 피해, 지역, 발생, 조성': None, '주민, 피해, 지역, 도시, 조성': None, '주민들, 주민, 피해, 지역, 도시': None, '주민들, 발생, 지역, 피해, 도시': None, '혁신, 유치, 인프라, 사업, 산업': None, '혁신, 유치, 인프라, 사업, 도시': None, '혁신, 사업, 인프라, 산업, 도시': None, '혁신, 유치, 사업, 산업, 도시': None, '혁신, 유치, 인프라, 산업, 도시': None, '인프라, 혁신, 유치, 사업': None, '유치, 인프라, 사업, 활성화, 산업': None, '유치, 인프라, 사업, 활성화, 도시': None, '사업, 인프라, 활성화, 산업, 도시': None, '유치, 인프라, 활성화, 산업, 도시': None, '인프라, 활성화, 유치, 사업': None, '지역경제, 유치, 사업, 산업, 도시': None, '지역경제, 유치, 사업, 산업, 조성': None, '지역경제, 유치, 사업, 도시, 조성': None, '지역경제, 유치, 산업, 도시, 조성': None, '지역경제, 산업, 유치, 사업': None, '지역경제, 도시, 유치, 사업': None, '지역경제, 조성, 유치, 사업': None, '유치, 사업, 지자체, 산업, 도시': None, '유치, 사업, 지자체, 산업, 조성': None, '유치, 사업, 지자체, 도시, 조성': None, '사업, 지자체, 산업, 도시, 조성': None, '유치, 지자체, 산업, 도시, 조성': None, '지자체, 산업, 유치, 사업': None, '혁신, 유치, 사업, 산업, 조성': None, '혁신, 유치, 사업, 도시, 조성': None, '혁신, 유치, 산업, 도시, 조성': None, '주민, 유치, 지역, 사업, 산업': None, '주민, 유치, 사업, 산업, 도시': None, '주민, 유치, 지역, 산업, 도시': None, '지역경제, 유치, 지역, 사업, 산업': None, '지역경제, 유치, 지역, 사업, 도시': None, '지역경제, 유치, 지역, 산업, 도시': None, '유치, 지역, 사업, 지자체, 산업': None, '유치, 지역, 사업, 지자체, 도시': None, '유치, 지역, 지자체, 산업, 도시': None, '혁신, 유치, 지역, 산업, 도시': None, '인구, 사업, 인프라, 산업, 도시': None, '인구, 사업, 인프라, 산업, 조성': None, '인구, 사업, 인프라, 도시, 조성': None, '인구, 인프라, 산업, 도시, 조성': None, '인구, 사업, 인프라, 지역, 산업': None, '인구, 사업, 인프라, 지역, 도시': None, '인구, 인프라, 지역, 산업, 도시': None, '사업, 인프라, 지자체, 산업, 도시': None, '사업, 인프라, 지자체, 산업, 조성': None, '사업, 인프라, 지자체, 도시, 조성': None, '인프라, 지자체, 산업, 도시, 조성': None, '혁신, 사업, 인프라, 산업, 조성': None, '혁신, 사업, 인프라, 도시, 조성': None, '혁신, 인프라, 산업, 도시, 조성': None, '사업, 인프라, 활성화, 산업, 조성': None, '사업, 인프라, 활성화, 도시, 조성': None, '인프라, 활성화, 산업, 도시, 조성': None, '사업, 인프라, 지역, 지자체, 산업': None, '사업, 인프라, 지역, 지자체, 도시': None, '인프라, 지역, 지자체, 산업, 도시': None, '혁신, 사업, 인프라, 지역, 산업': None, '혁신, 사업, 인프라, 지역, 도시': None, '혁신, 인프라, 지역, 산업, 도시': None, '인프라, 지역, 활성화, 산업, 도시': None, '주민들, 사업, 지역, 산업, 도시': None, '주민들, 사업, 지역, 산업, 조성': None, '주민들, 사업, 산업, 도시, 조성': None, '주민들, 지역, 산업, 도시, 조성': None, '체험, 사업, 지역, 산업, 도시': None, '체험, 사업, 산업, 도시, 조성': None, '체험, 지역, 산업, 도시, 조성': None, '피해, 지역, 사업, 산업, 도시': None, '피해, 지역, 사업, 산업, 조성': None, '피해, 사업, 산업, 도시, 조성': None, '피해, 지역, 산업, 도시, 조성': None, '피해, 산업, 도시, 사업': None, '피해, 산업, 조성, 사업': None, '혁신, 사업, 활성화, 산업, 도시': None, '혁신, 사업, 활성화, 산업, 조성': None, '혁신, 사업, 활성화, 도시, 조성': None, '혁신, 활성화, 산업, 도시, 조성': None, '주민들, 주민, 사업, 산업, 도시': None, '주민들, 주민, 지역, 산업, 도시': None, '지역경제, 사업, 지역, 활성화, 산업': None, '지역경제, 사업, 지역, 활성화, 도시': None, '지역경제, 사업, 활성화, 산업, 도시': None, '지역경제, 지역, 활성화, 산업, 도시': None, '혁신, 사업, 지역, 지자체, 산업': None, '혁신, 사업, 지역, 지자체, 도시': None, '혁신, 사업, 지자체, 산업, 도시': None, '혁신, 지역, 지자체, 산업, 도시': None, '혁신, 사업, 지역, 활성화, 산업': None, '혁신, 사업, 지역, 활성화, 도시': None, '혁신, 지역, 활성화, 산업, 도시': None, '인구, 유치, 인프라, 사업, 도시': None, '인구, 유치, 인프라, 사업, 조성': None, '인구, 유치, 인프라, 도시, 조성': None, '인프라, 유치, 인구, 사업': None, '인구, 유치, 인프라, 지역, 사업': None, '인구, 유치, 인프라, 지역, 도시': None, '혁신, 유치, 인프라, 사업, 조성': None, '혁신, 유치, 인프라, 도시, 조성': None, '유치, 인프라, 사업, 활성화, 조성': None, '유치, 인프라, 활성화, 도시, 조성': None, '유치, 인프라, 지역, 사업, 지자체': None, '유치, 인프라, 사업, 지자체, 도시': None, '유치, 인프라, 지역, 지자체, 도시': None, '인프라, 지자체, 유치, 사업': None, '혁신, 유치, 인프라, 지역, 사업': None, '혁신, 유치, 인프라, 지역, 도시': None, '유치, 인프라, 지역, 사업, 활성화': None, '유치, 인프라, 지역, 활성화, 도시': None, '주민, 유치, 사업, 도시, 조성': None, '주민, 유치, 지역, 도시, 조성': None, '지역경제, 유치, 지역, 사업, 조성': None, '지역경제, 유치, 지역, 도시, 조성': None, '유치, 지역, 사업, 지자체, 조성': None, '유치, 지역, 지자체, 도시, 조성': None, '체험, 유치, 사업, 도시, 조성': None, '체험, 유치, 지역, 도시, 조성': None, '혁신, 유치, 지역, 도시, 조성': None, '주민들, 주민, 사업, 유치, 도시': None, '주민들, 주민, 유치, 지역, 도시': None, '주민들, 사업, 지역, 유치, 도시': None, '인구, 사업, 인프라, 지역, 조성': None, '인구, 인프라, 지역, 도시, 조성': None, '인구, 주민, 사업, 지역, 도시': None, '인구, 주민, 사업, 지역, 조성': None, '인구, 주민, 사업, 도시, 조성': None, '인구, 주민, 지역, 도시, 조성': None, '인구, 사업, 지역, 지자체, 도시': None, '인구, 사업, 지역, 지자체, 조성': None, '인구, 사업, 지자체, 도시, 조성': None, '인구, 지역, 지자체, 도시, 조성': None, '주민, 사업, 인프라, 지역, 도시': None, '주민, 사업, 인프라, 지역, 조성': None, '주민, 사업, 인프라, 도시, 조성': None, '주민, 인프라, 지역, 도시, 조성': None, '사업, 인프라, 지역, 지자체, 조성': None, '인프라, 지역, 지자체, 도시, 조성': None, '체험, 사업, 인프라, 지역, 도시': None, '체험, 사업, 인프라, 지역, 조성': None, '체험, 사업, 인프라, 도시, 조성': None, '체험, 인프라, 지역, 도시, 조성': None, '혁신, 사업, 인프라, 지역, 조성': None, '혁신, 인프라, 지역, 도시, 조성': None, '사업, 인프라, 지역, 활성화, 조성': None, '인프라, 지역, 활성화, 도시, 조성': None, '주민들, 주민, 지역, 도시, 조성': None, '주민, 사업, 지역, 지자체, 도시': None, '주민, 사업, 지역, 지자체, 조성': None, '주민, 사업, 지자체, 도시, 조성': None, '주민, 지역, 지자체, 도시, 조성': None, '주민, 사업, 지역, 활성화, 도시': None, '주민, 사업, 지역, 활성화, 조성': None, '주민, 사업, 활성화, 도시, 조성': None, '주민, 지역, 활성화, 도시, 조성': None, '지역경제, 사업, 지역, 활성화, 조성': None, '지역경제, 사업, 활성화, 도시, 조성': None, '지역경제, 지역, 활성화, 도시, 조성': None, '혁신, 사업, 지역, 지자체, 조성': None, '혁신, 사업, 지자체, 도시, 조성': None, '혁신, 지역, 지자체, 도시, 조성': None, '사업, 지역, 활성화, 지자체, 도시': None, '사업, 지역, 활성화, 지자체, 조성': None, '사업, 활성화, 지자체, 도시, 조성': None, '지역, 활성화, 지자체, 도시, 조성': None, '혁신, 사업, 지역, 활성화, 조성': None, '혁신, 지역, 활성화, 도시, 조성': None, '주민들, 사업, 지역, 피해, 도시': None, '인구, 유치, 인프라, 지역, 산업': None, '인구, 유치, 인프라, 산업, 도시': None, '혁신, 유치, 인프라, 산업, 조성': None, '유치, 인프라, 활성화, 산업, 조성': None, '유치, 인프라, 지역, 지자체, 산업': None, '유치, 인프라, 지자체, 산업, 도시': None, '혁신, 유치, 인프라, 지역, 산업': None, '유치, 인프라, 지역, 활성화, 산업': None, '지역경제, 유치, 지역, 산업, 조성': None, '유치, 지역, 지자체, 산업, 조성': None, '혁신, 유치, 지역, 산업, 조성': None, '인구, 인프라, 지역, 산업, 조성': None, '인프라, 지역, 지자체, 산업, 조성': None, '혁신, 인프라, 지역, 산업, 조성': None, '인프라, 지역, 활성화, 산업, 조성': None, '혁신, 지역, 활성화, 산업, 조성': None, '인구, 유치, 인프라, 지역, 조성': None, '혁신, 유치, 인프라, 지역, 조성': None, '유치, 인프라, 지역, 활성화, 조성': None, '발생, 지역, 유치, 사업, 산업': None, '발생, 유치, 사업, 산업, 조성': None, '유치, 지역, 발생, 산업, 조성': None, '지역, 산업, 유치, 발생': None, '조성, 산업, 유치, 발생': None, '주민들, 주민, 발생, 지역, 조성': None, '주민들, 주민, 사업, 발생, 조성': None, '주민들, 사업, 지역, 발생, 조성': None, '주민, 발생, 지역, 사업, 조성': None, '주민들, 사업, 지역, 발생, 피해': None, '의료, 유치, 지역, 사업, 산업': None, '의료, 유치, 지역, 사업, 조성': None, '의료, 사업, 지역, 산업, 조성': None, '의료, 유치, 사업, 산업, 조성': None, '의료, 유치, 지역, 산업, 조성': None, '지역, 의료, 유치, 사업': None, '의료, 유치, 산업, 사업': None, '조성, 의료, 유치, 사업': None, '유치, 인프라, 사업, 지자체, 산업': None, '유치, 인프라, 사업, 지자체, 조성': None, '유치, 인프라, 지자체, 산업, 조성': None, '주민, 유치, 사업, 산업, 조성': None, '주민, 유치, 지역, 산업, 조성': None, '주민들, 주민, 사업, 유치, 산업': None, '주민들, 주민, 유치, 지역, 산업': None, '주민들, 사업, 지역, 유치, 산업': None, '지역경제, 유치, 지역, 사업, 활성화': None, '지역경제, 유치, 사업, 활성화, 산업': None, '지역경제, 유치, 지역, 활성화, 산업': None, '지역경제, 활성화, 유치, 사업': None, '의료, 사업, 인프라, 지역, 산업': None, '의료, 사업, 인프라, 지역, 조성': None, '의료, 사업, 인프라, 산업, 조성': None, '의료, 인프라, 지역, 산업, 조성': None, '주민, 사업, 인프라, 지역, 산업': None, '주민, 사업, 인프라, 산업, 조성': None, '주민, 인프라, 지역, 산업, 조성': None, '주민들, 주민, 사업, 산업, 조성': None, '주민들, 주민, 지역, 산업, 조성': None, '지역경제, 사업, 활성화, 산업, 조성': None, '지역경제, 지역, 활성화, 산업, 조성': None, '혁신, 사업, 지자체, 산업, 조성': None, '혁신, 지역, 지자체, 산업, 조성': None, '사업, 지역, 활성화, 지자체, 산업': None, '사업, 활성화, 지자체, 산업, 조성': None, '지역, 활성화, 지자체, 산업, 조성': None, '유치, 인프라, 지역, 지자체, 조성': None, '주민들, 주민, 사업, 유치, 조성': None, '주민들, 주민, 유치, 지역, 조성': None, '주민들, 사업, 지역, 유치, 조성': None, '주민들, 주민, 사업, 지역, 지자체': None, '주민들, 주민, 사업, 지자체, 조성': None, '주민들, 주민, 지역, 지자체, 조성': None, '주민들, 사업, 지역, 지자체, 조성': None, '주민들, 주민, 피해, 사업, 조성': None, '주민들, 주민, 피해, 지역, 조성': None, '주민들, 사업, 지역, 피해, 조성': None, '의료, 유치, 인프라, 지역, 산업': None, '의료, 유치, 인프라, 지역, 조성': None, '의료, 유치, 인프라, 산업, 조성': None, '인구, 유치, 인프라, 산업, 조성': None, '개최, 지역, 유치, 사업, 산업, 도시': None, '개최, 지역, 유치, 사업, 산업, 조성': None, '개최, 지역, 유치, 사업, 도시, 조성': None, '개최, 지역, 사업, 산업, 도시, 조성': None, '유치, 지역, 사업, 산업, 도시, 조성': None, '개최, 유치, 사업, 산업, 도시, 조성': None, '유치, 지역, 개최, 산업, 도시, 조성': None, '건설, 관광, 지역, 유치, 사업, 산업': None, '건설, 관광, 지역, 유치, 사업, 도시': None, '건설, 관광, 지역, 사업, 산업, 도시': None, '건설, 유치, 지역, 사업, 산업, 도시': None, '건설, 관광, 유치, 사업, 산업, 도시': None, '건설, 유치, 지역, 관광, 산업, 도시': None, '관광, 지역, 유치, 사업, 산업, 도시': None, '건설, 사업, 인프라, 지역, 관광, 산업': None, '건설, 사업, 인프라, 지역, 관광, 도시': None, '건설, 관광, 인프라, 지역, 산업, 도시': None, '건설, 사업, 인프라, 관광, 산업, 도시': None, '건설, 사업, 지역, 관광, 산업, 도시': None, '건설, 사업, 인프라, 지역, 산업, 도시': None, '사업, 인프라, 지역, 관광, 산업, 도시': None, '건설, 사업, 인프라, 관광, 산업': None, '건설, 사업, 지역, 관광, 산업': None, '건설, 사업, 관광, 산업, 도시': None, '사업, 인프라, 지역, 관광, 산업': None, '사업, 인프라, 관광, 산업, 도시': None, '사업, 건설, 산업, 관광': None, '인프라, 사업, 산업, 관광': None, '건설, 사업, 지역, 관광, 산업, 조성': None, '건설, 사업, 지역, 관광, 도시, 조성': None, '건설, 관광, 지역, 산업, 도시, 조성': None, '건설, 사업, 관광, 산업, 도시, 조성': None, '건설, 사업, 지역, 산업, 도시, 조성': None, '사업, 지역, 관광, 산업, 도시, 조성': None, '건설, 사업, 관광, 산업, 조성': None, '사업, 관광, 산업, 도시, 조성': None, '건설, 사업, 지역, 유치, 관광, 도시': None, '건설, 사업, 지역, 유치, 관광, 조성': None, '건설, 유치, 지역, 관광, 도시, 조성': None, '건설, 사업, 유치, 관광, 도시, 조성': None, '건설, 유치, 지역, 사업, 도시, 조성': None, '사업, 지역, 유치, 관광, 도시, 조성': None, '건설, 사업, 지역, 유치, 관광': None, '건설, 사업, 유치, 관광, 도시': None, '건설, 사업, 유치, 관광, 조성': None, '사업, 지역, 유치, 관광, 조성': None, '사업, 유치, 관광, 도시, 조성': None, '사업, 건설, 유치, 관광': None, '조성, 사업, 유치, 관광': None, '인구, 건설, 유치, 사업, 산업, 도시': None, '인구, 건설, 유치, 사업, 산업, 조성': None, '인구, 건설, 유치, 사업, 도시, 조성': None, '인구, 건설, 사업, 산업, 도시, 조성': None, '인구, 건설, 유치, 산업, 도시, 조성': None, '인구, 유치, 사업, 산업, 도시, 조성': None, '건설, 유치, 사업, 산업, 도시, 조성': None, '건설, 유치, 인프라, 사업, 산업, 도시': None, '건설, 유치, 인프라, 사업, 산업, 조성': None, '건설, 유치, 인프라, 사업, 도시, 조성': None, '건설, 사업, 인프라, 산업, 도시, 조성': None, '건설, 유치, 인프라, 산업, 도시, 조성': None, '유치, 인프라, 사업, 산업, 도시, 조성': None, '건설, 유치, 인프라, 지역, 사업, 산업': None, '건설, 유치, 인프라, 지역, 사업, 도시': None, '건설, 유치, 인프라, 지역, 산업, 도시': None, '유치, 인프라, 지역, 사업, 산업, 도시': None, '건설, 유치, 지역, 사업, 산업, 조성': None, '건설, 유치, 지역, 산업, 도시, 조성': None, '인구, 건설, 사업, 지역, 산업, 도시': None, '인구, 건설, 사업, 지역, 산업, 조성': None, '인구, 건설, 사업, 지역, 도시, 조성': None, '인구, 건설, 지역, 산업, 도시, 조성': None, '인구, 사업, 지역, 산업, 도시, 조성': None, '건설, 사업, 인프라, 지역, 산업, 조성': None, '건설, 사업, 인프라, 지역, 도시, 조성': None, '건설, 인프라, 지역, 산업, 도시, 조성': None, '사업, 인프라, 지역, 산업, 도시, 조성': None, '건설, 혁신, 사업, 지역, 산업, 도시': None, '건설, 혁신, 사업, 지역, 산업, 조성': None, '건설, 혁신, 사업, 지역, 도시, 조성': None, '건설, 혁신, 사업, 산업, 도시, 조성': None, '건설, 혁신, 지역, 산업, 도시, 조성': None, '혁신, 사업, 지역, 산업, 도시, 조성': None, '건설, 사업, 지역, 활성화, 산업, 도시': None, '건설, 사업, 지역, 활성화, 산업, 조성': None, '건설, 사업, 지역, 활성화, 도시, 조성': None, '건설, 사업, 활성화, 산업, 도시, 조성': None, '건설, 지역, 활성화, 산업, 도시, 조성': None, '사업, 지역, 활성화, 산업, 도시, 조성': None, '인구, 건설, 유치, 지역, 사업, 도시': None, '인구, 건설, 유치, 지역, 사업, 조성': None, '인구, 건설, 유치, 지역, 도시, 조성': None, '인구, 유치, 지역, 사업, 도시, 조성': None, '건설, 유치, 인프라, 지역, 사업, 조성': None, '건설, 유치, 인프라, 지역, 도시, 조성': None, '유치, 인프라, 지역, 사업, 도시, 조성': None, '건설, 유치, 인프라, 지역, 산업, 조성': None, '유치, 인프라, 지역, 산업, 도시, 조성': None, '유치, 인프라, 지역, 사업, 산업, 조성': None, '관광, 인프라, 유치, 사업, 산업, 도시': None, '관광, 인프라, 유치, 사업, 산업, 조성': None, '관광, 인프라, 유치, 사업, 도시, 조성': None, '관광, 인프라, 사업, 산업, 도시, 조성': None, '관광, 유치, 사업, 산업, 도시, 조성': None, '유치, 인프라, 관광, 산업, 도시, 조성': None, '관광, 인프라, 지역, 유치, 사업, 산업': None, '관광, 인프라, 지역, 유치, 사업, 도시': None, '관광, 인프라, 지역, 사업, 산업, 도시': None, '유치, 인프라, 지역, 관광, 산업, 도시': None, '관광, 지역, 유치, 사업, 산업, 조성': None, '관광, 지역, 유치, 사업, 도시, 조성': None, '관광, 지역, 사업, 산업, 도시, 조성': None, '유치, 지역, 관광, 산업, 도시, 조성': None, '사업, 인프라, 지역, 관광, 산업, 조성': None, '사업, 인프라, 지역, 관광, 도시, 조성': None, '관광, 인프라, 지역, 산업, 도시, 조성': None, '사업, 인프라, 관광, 산업, 도시, 조성': None, '사업, 인프라, 관광, 산업, 조성': None, '관광, 지역, 사업, 활성화, 산업, 도시': None, '관광, 지역, 사업, 활성화, 산업, 조성': None, '관광, 지역, 사업, 활성화, 도시, 조성': None, '관광, 사업, 활성화, 산업, 도시, 조성': None, '관광, 지역, 활성화, 산업, 도시, 조성': None, '사업, 인프라, 지역, 유치, 관광, 도시': None, '사업, 인프라, 지역, 유치, 관광, 조성': None, '유치, 인프라, 지역, 관광, 도시, 조성': None, '사업, 인프라, 유치, 관광, 도시, 조성': None, '사업, 인프라, 지역, 유치, 관광': None, '사업, 인프라, 유치, 관광, 도시': None, '사업, 인프라, 유치, 관광, 조성': None, '인프라, 사업, 유치, 관광': None, '유치, 인프라, 지역, 관광, 산업, 조성': None, '관광, 인프라, 지역, 유치, 사업, 조성': None, '관광, 인프라, 지역, 사업, 산업, 조성': None, '유치, 지역, 사업, 국제, 산업, 도시': None, '유치, 지역, 사업, 국제, 산업, 조성': None, '유치, 지역, 사업, 국제, 도시, 조성': None, '사업, 지역, 국제, 산업, 도시, 조성': None, '유치, 사업, 국제, 산업, 도시, 조성': None, '유치, 지역, 국제, 산업, 도시, 조성': None, '사업, 인프라, 지역, 국제, 산업, 도시': None, '사업, 인프라, 지역, 국제, 산업, 조성': None, '사업, 인프라, 지역, 국제, 도시, 조성': None, '사업, 인프라, 국제, 산업, 도시, 조성': None, '인프라, 지역, 국제, 산업, 도시, 조성': None, '인구, 유치, 지역, 사업, 산업, 도시': None, '인구, 유치, 지역, 사업, 산업, 조성': None, '인구, 유치, 지역, 산업, 도시, 조성': None, '혁신, 유치, 인프라, 사업, 산업, 도시': None, '혁신, 유치, 인프라, 사업, 산업, 조성': None, '혁신, 유치, 인프라, 사업, 도시, 조성': None, '혁신, 사업, 인프라, 산업, 도시, 조성': None, '혁신, 유치, 사업, 산업, 도시, 조성': None, '혁신, 유치, 인프라, 산업, 도시, 조성': None, '혁신, 유치, 인프라, 지역, 사업, 산업': None, '혁신, 유치, 인프라, 지역, 사업, 도시': None, '혁신, 사업, 인프라, 지역, 산업, 도시': None, '혁신, 유치, 지역, 사업, 산업, 도시': None, '혁신, 유치, 인프라, 지역, 산업, 도시': None, '유치, 지역, 사업, 지자체, 산업, 도시': None, '유치, 지역, 사업, 지자체, 산업, 조성': None, '유치, 지역, 사업, 지자체, 도시, 조성': None, '사업, 지역, 지자체, 산업, 도시, 조성': None, '유치, 사업, 지자체, 산업, 도시, 조성': None, '유치, 지역, 지자체, 산업, 도시, 조성': None, '혁신, 유치, 지역, 사업, 산업, 조성': None, '혁신, 유치, 지역, 사업, 도시, 조성': None, '혁신, 유치, 지역, 산업, 도시, 조성': None, '유치, 지역, 사업, 활성화, 산업, 도시': None, '유치, 지역, 사업, 활성화, 산업, 조성': None, '유치, 지역, 사업, 활성화, 도시, 조성': None, '유치, 사업, 활성화, 산업, 도시, 조성': None, '유치, 지역, 활성화, 산업, 도시, 조성': None, '인구, 사업, 인프라, 지역, 산업, 도시': None, '인구, 사업, 인프라, 지역, 산업, 조성': None, '인구, 사업, 인프라, 지역, 도시, 조성': None, '인구, 사업, 인프라, 산업, 도시, 조성': None, '인구, 인프라, 지역, 산업, 도시, 조성': None, '사업, 인프라, 지역, 지자체, 산업, 도시': None, '사업, 인프라, 지역, 지자체, 산업, 조성': None, '사업, 인프라, 지역, 지자체, 도시, 조성': None, '사업, 인프라, 지자체, 산업, 도시, 조성': None, '인프라, 지역, 지자체, 산업, 도시, 조성': None, '혁신, 사업, 인프라, 지역, 산업, 조성': None, '혁신, 사업, 인프라, 지역, 도시, 조성': None, '혁신, 인프라, 지역, 산업, 도시, 조성': None, '사업, 인프라, 지역, 활성화, 산업, 도시': None, '사업, 인프라, 지역, 활성화, 산업, 조성': None, '사업, 인프라, 지역, 활성화, 도시, 조성': None, '사업, 인프라, 활성화, 산업, 도시, 조성': None, '인프라, 지역, 활성화, 산업, 도시, 조성': None, '혁신, 유치, 인프라, 지역, 사업, 조성': None, '혁신, 유치, 인프라, 지역, 도시, 조성': None, '혁신, 유치, 인프라, 지역, 산업, 조성': None, '유치, 인프라, 지역, 사업, 지자체, 산업': None, '유치, 인프라, 지역, 사업, 지자체, 조성': None, '유치, 인프라, 사업, 지자체, 산업, 조성': None, '유치, 인프라, 지역, 지자체, 산업, 조성': None, '유치, 인프라, 지역, 사업, 활성화, 산업': None, '유치, 인프라, 지역, 사업, 활성화, 조성': None, '유치, 인프라, 사업, 활성화, 산업, 조성': None, '유치, 인프라, 지역, 활성화, 산업, 조성': None, '건설, 유치, 인프라, 지역, 사업, 산업, 도시': None, '건설, 유치, 인프라, 지역, 사업, 산업, 조성': None, '건설, 유치, 인프라, 지역, 사업, 도시, 조성': None, '건설, 사업, 인프라, 지역, 산업, 도시, 조성': None, '건설, 유치, 인프라, 사업, 산업, 도시, 조성': None, '건설, 유치, 지역, 사업, 산업, 도시, 조성': None, '건설, 유치, 인프라, 지역, 산업, 도시, 조성': None, '유치, 인프라, 지역, 사업, 산업, 도시, 조성': None, '사업, 인프라, 지역, 유치, 산업, 도시, 조성': None, '건설, 인프라, 지역, 유치, 산업, 도시, 조성': None, '건설, 사업, 지역, 유치, 산업, 도시, 조성': None, '건설, 사업, 인프라, 유치, 산업, 도시, 조성': None, '건설, 사업, 인프라, 지역, 유치, 도시, 조성': None, '건설, 사업, 인프라, 지역, 유치, 산업, 조성': None, '건설, 사업, 인프라, 지역, 유치, 산업, 도시': None, '사업, 인프라, 지역, 유치, 관광, 산업, 도시': None, '사업, 인프라, 지역, 유치, 관광, 산업, 조성': None, '사업, 인프라, 지역, 유치, 관광, 도시, 조성': None, '사업, 인프라, 지역, 관광, 산업, 도시, 조성': None, '유치, 인프라, 지역, 관광, 산업, 도시, 조성': None, '사업, 인프라, 유치, 관광, 산업, 도시, 조성': None, '사업, 지역, 유치, 관광, 산업, 도시, 조성': None, '사업, 인프라, 지역, 유치, 관광, 산업': None, '사업, 인프라, 유치, 관광, 산업, 도시': None, '사업, 인프라, 유치, 관광, 산업, 조성': None, '사업, 지역, 유치, 관광, 산업, 도시': None, '사업, 지역, 유치, 관광, 산업, 조성': None, '사업, 유치, 관광, 산업, 도시, 조성': None, '사업, 인프라, 유치, 관광, 산업': None, '사업, 지역, 유치, 관광, 산업': None, '사업, 유치, 관광, 산업, 도시': None, '사업, 유치, 관광, 산업, 조성': None, '사업, 산업, 유치, 관광': None, '인프라, 지역, 사업, 유치, 산업, 도시, 조성': None, '관광, 지역, 사업, 유치, 산업, 도시, 조성': None, '관광, 인프라, 사업, 유치, 산업, 도시, 조성': None, '관광, 인프라, 지역, 유치, 산업, 도시, 조성': None, '관광, 인프라, 지역, 사업, 산업, 도시, 조성': None, '관광, 인프라, 지역, 사업, 유치, 도시, 조성': None, '관광, 인프라, 지역, 사업, 유치, 산업, 조성': None, '관광, 인프라, 지역, 사업, 유치, 산업, 도시': None}, data='인구')"
      ]
     },
     "execution_count": 43,
     "metadata": {},
     "output_type": "execute_result"
    }
   ],
   "source": [
    "graph.nodes('인구')"
   ]
  },
  {
   "cell_type": "code",
   "execution_count": 44,
   "metadata": {},
   "outputs": [],
   "source": [
    "n_size = dict(graph.degree)\n",
    "pos = nx.kamada_kawai_layout(graph)\n",
    "\n",
    "nx.draw(graph, nodelist=n_size.keys(),\n",
    "        with_labels = True, font_family = font_name, font_size = 2,\n",
    "        alpha = 0.7,\n",
    "        edgelist=edges, edge_color=weights, width=1, edge_cmap=plt.cm.binary)\n",
    "\n",
    "nx.write_graphml_lxml(graph, \"Taeback.graphml\")\n",
    "\n",
    "#plt.title(\"temp의 keyword network\")\n",
    "#plt.show(block=False)\n",
    "#plt.savefig(\"temp.png\", format=\"PNG\", dpi = 1000)"
   ]
  }
 ],
 "metadata": {
  "kernelspec": {
   "display_name": "Python 3 (ipykernel)",
   "language": "python",
   "name": "python3"
  },
  "language_info": {
   "codemirror_mode": {
    "name": "ipython",
    "version": 3
   },
   "file_extension": ".py",
   "mimetype": "text/x-python",
   "name": "python",
   "nbconvert_exporter": "python",
   "pygments_lexer": "ipython3",
   "version": "3.8.12"
  },
  "vscode": {
   "interpreter": {
    "hash": "c6f34507fa43ba317958b721fa8398d2051b96ef3f3b32ff98429c26ce06f8cf"
   }
  }
 },
 "nbformat": 4,
 "nbformat_minor": 4
}
