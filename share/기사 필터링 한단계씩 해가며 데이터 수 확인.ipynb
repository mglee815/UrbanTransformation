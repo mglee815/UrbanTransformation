{
 "cells": [
  {
   "cell_type": "code",
   "execution_count": 1,
   "metadata": {},
   "outputs": [],
   "source": [
    "import pandas as pd\n",
    "import glob  \n",
    "import sys\n",
    "import os\n",
    "import time\n",
    "import re\n",
    "import numpy as np\n",
    "from tqdm import tqdm"
   ]
  },
  {
   "cell_type": "markdown",
   "metadata": {},
   "source": [
    "# Get Data with filtering"
   ]
  },
  {
   "cell_type": "markdown",
   "metadata": {},
   "source": [
    "Get keyword list"
   ]
  },
  {
   "cell_type": "code",
   "execution_count": 2,
   "metadata": {},
   "outputs": [],
   "source": [
    "keyword_list = pd.read_excel(\"../data/Text_keyword_0620.xlsx\")"
   ]
  },
  {
   "cell_type": "code",
   "execution_count": 3,
   "metadata": {},
   "outputs": [
    {
     "name": "stdout",
     "output_type": "stream",
     "text": [
      "65\n"
     ]
    },
    {
     "data": {
      "text/html": [
       "<div>\n",
       "<style scoped>\n",
       "    .dataframe tbody tr th:only-of-type {\n",
       "        vertical-align: middle;\n",
       "    }\n",
       "\n",
       "    .dataframe tbody tr th {\n",
       "        vertical-align: top;\n",
       "    }\n",
       "\n",
       "    .dataframe thead th {\n",
       "        text-align: right;\n",
       "    }\n",
       "</style>\n",
       "<table border=\"1\" class=\"dataframe\">\n",
       "  <thead>\n",
       "    <tr style=\"text-align: right;\">\n",
       "      <th></th>\n",
       "      <th>Unnamed: 0</th>\n",
       "      <th>Target 키워드</th>\n",
       "    </tr>\n",
       "  </thead>\n",
       "  <tbody>\n",
       "    <tr>\n",
       "      <th>0</th>\n",
       "      <td>1</td>\n",
       "      <td>인구</td>\n",
       "    </tr>\n",
       "    <tr>\n",
       "      <th>1</th>\n",
       "      <td>2</td>\n",
       "      <td>도시</td>\n",
       "    </tr>\n",
       "    <tr>\n",
       "      <th>2</th>\n",
       "      <td>3</td>\n",
       "      <td>도심</td>\n",
       "    </tr>\n",
       "    <tr>\n",
       "      <th>3</th>\n",
       "      <td>4</td>\n",
       "      <td>지역</td>\n",
       "    </tr>\n",
       "    <tr>\n",
       "      <th>4</th>\n",
       "      <td>5</td>\n",
       "      <td>지자체</td>\n",
       "    </tr>\n",
       "  </tbody>\n",
       "</table>\n",
       "</div>"
      ],
      "text/plain": [
       "   Unnamed: 0 Target 키워드\n",
       "0           1         인구\n",
       "1           2         도시\n",
       "2           3         도심\n",
       "3           4         지역\n",
       "4           5        지자체"
      ]
     },
     "execution_count": 3,
     "metadata": {},
     "output_type": "execute_result"
    }
   ],
   "source": [
    "print(len(keyword_list))\n",
    "keyword_list.head()"
   ]
  },
  {
   "cell_type": "code",
   "execution_count": 4,
   "metadata": {},
   "outputs": [
    {
     "name": "stderr",
     "output_type": "stream",
     "text": [
      "100%|██████████| 82/82 [06:03<00:00,  4.43s/it]\n"
     ]
    }
   ],
   "source": [
    "DATA_PATH = '../data/pkl/'\n",
    "\n",
    "\n",
    "df_filter = pd.DataFrame()\n",
    "\n",
    "df_len = []\n",
    "city_list = []\n",
    "total_before_len = 0\n",
    "\n",
    "for f in tqdm(glob.glob(f'{DATA_PATH}*.pkl')):\n",
    "    if '시' in f:\n",
    "        city = re.search(f'{DATA_PATH}(.+?)_merged.pkl', f).group(1)\n",
    "        df = pd.read_pickle(f)\n",
    "        df['city'] = city\n",
    "        city_list.append(city)\n",
    "        city_before_len = len(df)\n",
    "        total_before_len += city_before_len\n",
    "        filter_keyword = []\n",
    "        for idx, keyword in enumerate(df['키워드']):\n",
    "            keyword =  str(keyword).split(',')\n",
    "            filter_keyword.append(set(keyword).intersection(set(keyword_list['Target 키워드'])))\n",
    "        df['filter_keyword'] = filter_keyword\n",
    "        filtered_df = df.loc[df['filter_keyword'].map(len) != 0]\n",
    "        #print(f\"City = {city}, before len = {city_before_len}, after len = {len(filtered_df)}\")\n",
    "        df_filter = pd.concat([df_filter, filtered_df])        \n",
    "        temp = [city,  city_before_len]\n",
    "        df_len.append(temp)\n",
    "pd.DataFrame(df_len, columns=['city', 'count']).to_csv(\"../result/before_filter_city_count.csv\")\n",
    "\n",
    "#print(f\"before : {total_before_len}, after : {len(df_filter)}\")"
   ]
  },
  {
   "cell_type": "code",
   "execution_count": 5,
   "metadata": {},
   "outputs": [
    {
     "data": {
      "text/html": [
       "<div>\n",
       "<style scoped>\n",
       "    .dataframe tbody tr th:only-of-type {\n",
       "        vertical-align: middle;\n",
       "    }\n",
       "\n",
       "    .dataframe tbody tr th {\n",
       "        vertical-align: top;\n",
       "    }\n",
       "\n",
       "    .dataframe thead th {\n",
       "        text-align: right;\n",
       "    }\n",
       "</style>\n",
       "<table border=\"1\" class=\"dataframe\">\n",
       "  <thead>\n",
       "    <tr style=\"text-align: right;\">\n",
       "      <th></th>\n",
       "      <th>city</th>\n",
       "      <th>drop by keyword</th>\n",
       "    </tr>\n",
       "  </thead>\n",
       "  <tbody>\n",
       "    <tr>\n",
       "      <th>0</th>\n",
       "      <td>광주시</td>\n",
       "      <td>364099</td>\n",
       "    </tr>\n",
       "    <tr>\n",
       "      <th>1</th>\n",
       "      <td>청주시</td>\n",
       "      <td>304501</td>\n",
       "    </tr>\n",
       "    <tr>\n",
       "      <th>2</th>\n",
       "      <td>창원시</td>\n",
       "      <td>205197</td>\n",
       "    </tr>\n",
       "    <tr>\n",
       "      <th>3</th>\n",
       "      <td>제주시</td>\n",
       "      <td>193851</td>\n",
       "    </tr>\n",
       "    <tr>\n",
       "      <th>4</th>\n",
       "      <td>전주시</td>\n",
       "      <td>192606</td>\n",
       "    </tr>\n",
       "    <tr>\n",
       "      <th>...</th>\n",
       "      <td>...</td>\n",
       "      <td>...</td>\n",
       "    </tr>\n",
       "    <tr>\n",
       "      <th>72</th>\n",
       "      <td>김천시</td>\n",
       "      <td>26270</td>\n",
       "    </tr>\n",
       "    <tr>\n",
       "      <th>73</th>\n",
       "      <td>영천시</td>\n",
       "      <td>23380</td>\n",
       "    </tr>\n",
       "    <tr>\n",
       "      <th>74</th>\n",
       "      <td>영주시</td>\n",
       "      <td>22609</td>\n",
       "    </tr>\n",
       "    <tr>\n",
       "      <th>75</th>\n",
       "      <td>문경시</td>\n",
       "      <td>21643</td>\n",
       "    </tr>\n",
       "    <tr>\n",
       "      <th>76</th>\n",
       "      <td>여주시</td>\n",
       "      <td>19407</td>\n",
       "    </tr>\n",
       "  </tbody>\n",
       "</table>\n",
       "<p>77 rows × 2 columns</p>\n",
       "</div>"
      ],
      "text/plain": [
       "   city  drop by keyword\n",
       "0   광주시           364099\n",
       "1   청주시           304501\n",
       "2   창원시           205197\n",
       "3   제주시           193851\n",
       "4   전주시           192606\n",
       "..  ...              ...\n",
       "72  김천시            26270\n",
       "73  영천시            23380\n",
       "74  영주시            22609\n",
       "75  문경시            21643\n",
       "76  여주시            19407\n",
       "\n",
       "[77 rows x 2 columns]"
      ]
     },
     "execution_count": 5,
     "metadata": {},
     "output_type": "execute_result"
    }
   ],
   "source": [
    "keyword_filter_count = pd.DataFrame(df_filter['city'].value_counts()).reset_index()\n",
    "keyword_filter_count.columns = ['city', 'drop by keyword']\n",
    "keyword_filter_count"
   ]
  },
  {
   "cell_type": "markdown",
   "metadata": {},
   "source": [
    "### 분석제외 여부에 따른 filtering"
   ]
  },
  {
   "cell_type": "code",
   "execution_count": 6,
   "metadata": {},
   "outputs": [],
   "source": [
    "df = pd.read_pickle(\"../data/merge_every_article.pkl\")"
   ]
  },
  {
   "cell_type": "code",
   "execution_count": 7,
   "metadata": {},
   "outputs": [
    {
     "data": {
      "text/plain": [
       "예외        308915\n",
       "중복        237502\n",
       "중복, 예외     32316\n",
       "Name: 분석제외 여부, dtype: int64"
      ]
     },
     "execution_count": 7,
     "metadata": {},
     "output_type": "execute_result"
    }
   ],
   "source": [
    "df['분석제외 여부'].value_counts()"
   ]
  },
  {
   "cell_type": "code",
   "execution_count": 8,
   "metadata": {},
   "outputs": [
    {
     "data": {
      "text/plain": [
       "(8376057, 20)"
      ]
     },
     "execution_count": 8,
     "metadata": {},
     "output_type": "execute_result"
    }
   ],
   "source": [
    "df.shape"
   ]
  },
  {
   "cell_type": "code",
   "execution_count": 9,
   "metadata": {},
   "outputs": [],
   "source": [
    "df_excep = df[df['분석제외 여부'].isnull()]"
   ]
  },
  {
   "cell_type": "code",
   "execution_count": 10,
   "metadata": {},
   "outputs": [
    {
     "data": {
      "text/html": [
       "<div>\n",
       "<style scoped>\n",
       "    .dataframe tbody tr th:only-of-type {\n",
       "        vertical-align: middle;\n",
       "    }\n",
       "\n",
       "    .dataframe tbody tr th {\n",
       "        vertical-align: top;\n",
       "    }\n",
       "\n",
       "    .dataframe thead th {\n",
       "        text-align: right;\n",
       "    }\n",
       "</style>\n",
       "<table border=\"1\" class=\"dataframe\">\n",
       "  <thead>\n",
       "    <tr style=\"text-align: right;\">\n",
       "      <th></th>\n",
       "      <th>city</th>\n",
       "      <th>drop by except</th>\n",
       "    </tr>\n",
       "  </thead>\n",
       "  <tbody>\n",
       "    <tr>\n",
       "      <th>0</th>\n",
       "      <td>광주시</td>\n",
       "      <td>451980</td>\n",
       "    </tr>\n",
       "    <tr>\n",
       "      <th>1</th>\n",
       "      <td>청주시</td>\n",
       "      <td>396267</td>\n",
       "    </tr>\n",
       "    <tr>\n",
       "      <th>2</th>\n",
       "      <td>제주시</td>\n",
       "      <td>272249</td>\n",
       "    </tr>\n",
       "    <tr>\n",
       "      <th>3</th>\n",
       "      <td>창원시</td>\n",
       "      <td>259685</td>\n",
       "    </tr>\n",
       "    <tr>\n",
       "      <th>4</th>\n",
       "      <td>전주시</td>\n",
       "      <td>254850</td>\n",
       "    </tr>\n",
       "    <tr>\n",
       "      <th>...</th>\n",
       "      <td>...</td>\n",
       "      <td>...</td>\n",
       "    </tr>\n",
       "    <tr>\n",
       "      <th>72</th>\n",
       "      <td>김천시</td>\n",
       "      <td>31553</td>\n",
       "    </tr>\n",
       "    <tr>\n",
       "      <th>73</th>\n",
       "      <td>영천시</td>\n",
       "      <td>28229</td>\n",
       "    </tr>\n",
       "    <tr>\n",
       "      <th>74</th>\n",
       "      <td>영주시</td>\n",
       "      <td>27640</td>\n",
       "    </tr>\n",
       "    <tr>\n",
       "      <th>75</th>\n",
       "      <td>문경시</td>\n",
       "      <td>26327</td>\n",
       "    </tr>\n",
       "    <tr>\n",
       "      <th>76</th>\n",
       "      <td>여주시</td>\n",
       "      <td>22653</td>\n",
       "    </tr>\n",
       "  </tbody>\n",
       "</table>\n",
       "<p>77 rows × 2 columns</p>\n",
       "</div>"
      ],
      "text/plain": [
       "   city  drop by except\n",
       "0   광주시          451980\n",
       "1   청주시          396267\n",
       "2   제주시          272249\n",
       "3   창원시          259685\n",
       "4   전주시          254850\n",
       "..  ...             ...\n",
       "72  김천시           31553\n",
       "73  영천시           28229\n",
       "74  영주시           27640\n",
       "75  문경시           26327\n",
       "76  여주시           22653\n",
       "\n",
       "[77 rows x 2 columns]"
      ]
     },
     "execution_count": 10,
     "metadata": {},
     "output_type": "execute_result"
    }
   ],
   "source": [
    "exception_filter_count = pd.DataFrame(df_excep['city'].value_counts()).reset_index()\n",
    "exception_filter_count.columns = ['city', 'drop by except']\n",
    "exception_filter_count"
   ]
  },
  {
   "cell_type": "markdown",
   "metadata": {},
   "source": [
    "### 위치 정보에 너무 많은 도시가 등장하는 도시들 파악"
   ]
  },
  {
   "cell_type": "code",
   "execution_count": 11,
   "metadata": {},
   "outputs": [
    {
     "data": {
      "text/plain": [
       "(8376057, 20)"
      ]
     },
     "execution_count": 11,
     "metadata": {},
     "output_type": "execute_result"
    }
   ],
   "source": [
    "df.shape"
   ]
  },
  {
   "cell_type": "code",
   "execution_count": 12,
   "metadata": {},
   "outputs": [],
   "source": [
    "def find_general_news(article):\n",
    "    related_city = []\n",
    "    article = str(article).split(',')\n",
    "    city = [x for i in article for x in city_list if i in x]\n",
    "    related_city.append(city)\n",
    "    return related_city\n"
   ]
  },
  {
   "cell_type": "code",
   "execution_count": 13,
   "metadata": {},
   "outputs": [],
   "source": [
    "related_city = df['위치'].apply(lambda x : find_general_news(x))"
   ]
  },
  {
   "cell_type": "code",
   "execution_count": 14,
   "metadata": {},
   "outputs": [],
   "source": [
    "df['related_city'] = related_city"
   ]
  },
  {
   "cell_type": "code",
   "execution_count": 15,
   "metadata": {},
   "outputs": [],
   "source": [
    "idx_list = []\n",
    "idx_general = []\n",
    "for idx, city in enumerate(related_city):\n",
    "    if len(city[0]) <5:\n",
    "        idx_list.append(idx)\n",
    "    else:\n",
    "        idx_general.append(idx)"
   ]
  },
  {
   "cell_type": "code",
   "execution_count": 16,
   "metadata": {},
   "outputs": [],
   "source": [
    "df_general = df.iloc[idx_list]"
   ]
  },
  {
   "cell_type": "code",
   "execution_count": 17,
   "metadata": {},
   "outputs": [
    {
     "data": {
      "text/html": [
       "<div>\n",
       "<style scoped>\n",
       "    .dataframe tbody tr th:only-of-type {\n",
       "        vertical-align: middle;\n",
       "    }\n",
       "\n",
       "    .dataframe tbody tr th {\n",
       "        vertical-align: top;\n",
       "    }\n",
       "\n",
       "    .dataframe thead th {\n",
       "        text-align: right;\n",
       "    }\n",
       "</style>\n",
       "<table border=\"1\" class=\"dataframe\">\n",
       "  <thead>\n",
       "    <tr style=\"text-align: right;\">\n",
       "      <th></th>\n",
       "      <th>city</th>\n",
       "      <th>drop by related city</th>\n",
       "    </tr>\n",
       "  </thead>\n",
       "  <tbody>\n",
       "    <tr>\n",
       "      <th>0</th>\n",
       "      <td>광주시</td>\n",
       "      <td>445607</td>\n",
       "    </tr>\n",
       "    <tr>\n",
       "      <th>1</th>\n",
       "      <td>청주시</td>\n",
       "      <td>408361</td>\n",
       "    </tr>\n",
       "    <tr>\n",
       "      <th>2</th>\n",
       "      <td>제주시</td>\n",
       "      <td>274700</td>\n",
       "    </tr>\n",
       "    <tr>\n",
       "      <th>3</th>\n",
       "      <td>창원시</td>\n",
       "      <td>263393</td>\n",
       "    </tr>\n",
       "    <tr>\n",
       "      <th>4</th>\n",
       "      <td>전주시</td>\n",
       "      <td>255850</td>\n",
       "    </tr>\n",
       "    <tr>\n",
       "      <th>...</th>\n",
       "      <td>...</td>\n",
       "      <td>...</td>\n",
       "    </tr>\n",
       "    <tr>\n",
       "      <th>72</th>\n",
       "      <td>동두천시</td>\n",
       "      <td>27440</td>\n",
       "    </tr>\n",
       "    <tr>\n",
       "      <th>73</th>\n",
       "      <td>영천시</td>\n",
       "      <td>25936</td>\n",
       "    </tr>\n",
       "    <tr>\n",
       "      <th>74</th>\n",
       "      <td>영주시</td>\n",
       "      <td>25488</td>\n",
       "    </tr>\n",
       "    <tr>\n",
       "      <th>75</th>\n",
       "      <td>문경시</td>\n",
       "      <td>24183</td>\n",
       "    </tr>\n",
       "    <tr>\n",
       "      <th>76</th>\n",
       "      <td>여주시</td>\n",
       "      <td>19647</td>\n",
       "    </tr>\n",
       "  </tbody>\n",
       "</table>\n",
       "<p>77 rows × 2 columns</p>\n",
       "</div>"
      ],
      "text/plain": [
       "    city  drop by related city\n",
       "0    광주시                445607\n",
       "1    청주시                408361\n",
       "2    제주시                274700\n",
       "3    창원시                263393\n",
       "4    전주시                255850\n",
       "..   ...                   ...\n",
       "72  동두천시                 27440\n",
       "73   영천시                 25936\n",
       "74   영주시                 25488\n",
       "75   문경시                 24183\n",
       "76   여주시                 19647\n",
       "\n",
       "[77 rows x 2 columns]"
      ]
     },
     "execution_count": 17,
     "metadata": {},
     "output_type": "execute_result"
    }
   ],
   "source": [
    "general_filter_count = pd.DataFrame(df_general['city'].value_counts()).reset_index()\n",
    "general_filter_count.columns = ['city', 'drop by related city']\n",
    "general_filter_count"
   ]
  },
  {
   "cell_type": "code",
   "execution_count": 23,
   "metadata": {},
   "outputs": [
    {
     "name": "stdout",
     "output_type": "stream",
     "text": [
      "수원시    34847\n",
      "고양시    30917\n",
      "용인시    30323\n",
      "성남시    29546\n",
      "광주시    25877\n",
      "       ...  \n",
      "당진시     4344\n",
      "문경시     4318\n",
      "영천시     4304\n",
      "계룡시     4180\n",
      "영주시     4122\n",
      "Name: city, Length: 77, dtype: int64\n"
     ]
    }
   ],
   "source": [
    "df_general_article = df.iloc[idx_general]\n",
    "print(df_general_article.city.value_counts())\n",
    "df_general_inPohang = df_general_article[df_general_article['city'] == '포항시']\n",
    "#df.iloc[idx_general].to_excel(\"../data/5개이상 도시가 언급된 기사들.xlsx\")"
   ]
  },
  {
   "cell_type": "code",
   "execution_count": 24,
   "metadata": {},
   "outputs": [],
   "source": [
    "df_general_inPohang.to_excel(\"../data/5개이상 도시가 언급된 기사들_포항시.xlsx\")"
   ]
  },
  {
   "cell_type": "markdown",
   "metadata": {},
   "source": [
    "### 통합 분류1을 기준으로 필터링"
   ]
  },
  {
   "cell_type": "code",
   "execution_count": 25,
   "metadata": {},
   "outputs": [
    {
     "data": {
      "text/plain": [
       "지역>경기            662632\n",
       "지역>강원            638138\n",
       "지역>충남            581523\n",
       "지역>경남            581476\n",
       "경제>부동산           449638\n",
       "                  ...  \n",
       "스포츠>축구>국가대표팀        891\n",
       "경제>외환               387\n",
       "스포츠>야구>메이저리그        286\n",
       "스포츠>야구>일본프로야구        56\n",
       "006000000             1\n",
       "Name: 통합 분류1, Length: 87, dtype: int64"
      ]
     },
     "execution_count": 25,
     "metadata": {},
     "output_type": "execute_result"
    }
   ],
   "source": [
    "df['통합 분류1'].value_counts()"
   ]
  },
  {
   "cell_type": "code",
   "execution_count": 21,
   "metadata": {},
   "outputs": [
    {
     "data": {
      "text/plain": [
       "False"
      ]
     },
     "execution_count": 21,
     "metadata": {},
     "output_type": "execute_result"
    }
   ],
   "source": [
    "'국제>예시' == re.compile(\"^국제\")"
   ]
  },
  {
   "cell_type": "code",
   "execution_count": 26,
   "metadata": {},
   "outputs": [],
   "source": [
    "import re\n",
    "\n",
    "idx_lst = []\n",
    "for idx, cat in enumerate(df['통합 분류1']):\n",
    "    if re.compile('^국제').findall(cat):\n",
    "        continue\n",
    "    elif re.compile('^스포츠').findall(cat):\n",
    "        continue\n",
    "    elif re.compile('^정치>북한').findall(cat):\n",
    "        continue\n",
    "    elif re.compile('^정치>국회_정당').findall(cat):\n",
    "        continue\n",
    "    elif re.compile('^정치>선거').findall(cat):\n",
    "        continue\n",
    "    elif re.compile('^정치>외교').findall(cat):\n",
    "        continue\n",
    "    else:\n",
    "        idx_lst.append(idx)"
   ]
  },
  {
   "cell_type": "code",
   "execution_count": 27,
   "metadata": {},
   "outputs": [],
   "source": [
    "df_filter_cat = df.iloc[idx_lst]\n",
    "df_filter_cat.reset_index(inplace = True, drop = True)"
   ]
  },
  {
   "cell_type": "code",
   "execution_count": 49,
   "metadata": {},
   "outputs": [
    {
     "data": {
      "text/html": [
       "<div>\n",
       "<style scoped>\n",
       "    .dataframe tbody tr th:only-of-type {\n",
       "        vertical-align: middle;\n",
       "    }\n",
       "\n",
       "    .dataframe tbody tr th {\n",
       "        vertical-align: top;\n",
       "    }\n",
       "\n",
       "    .dataframe thead th {\n",
       "        text-align: right;\n",
       "    }\n",
       "</style>\n",
       "<table border=\"1\" class=\"dataframe\">\n",
       "  <thead>\n",
       "    <tr style=\"text-align: right;\">\n",
       "      <th></th>\n",
       "      <th>city</th>\n",
       "      <th>drop by category</th>\n",
       "    </tr>\n",
       "  </thead>\n",
       "  <tbody>\n",
       "    <tr>\n",
       "      <th>0</th>\n",
       "      <td>광주시</td>\n",
       "      <td>441071</td>\n",
       "    </tr>\n",
       "    <tr>\n",
       "      <th>1</th>\n",
       "      <td>청주시</td>\n",
       "      <td>403616</td>\n",
       "    </tr>\n",
       "    <tr>\n",
       "      <th>2</th>\n",
       "      <td>제주시</td>\n",
       "      <td>268215</td>\n",
       "    </tr>\n",
       "    <tr>\n",
       "      <th>3</th>\n",
       "      <td>창원시</td>\n",
       "      <td>260467</td>\n",
       "    </tr>\n",
       "    <tr>\n",
       "      <th>4</th>\n",
       "      <td>전주시</td>\n",
       "      <td>253672</td>\n",
       "    </tr>\n",
       "    <tr>\n",
       "      <th>...</th>\n",
       "      <td>...</td>\n",
       "      <td>...</td>\n",
       "    </tr>\n",
       "    <tr>\n",
       "      <th>72</th>\n",
       "      <td>김천시</td>\n",
       "      <td>31296</td>\n",
       "    </tr>\n",
       "    <tr>\n",
       "      <th>73</th>\n",
       "      <td>영천시</td>\n",
       "      <td>28534</td>\n",
       "    </tr>\n",
       "    <tr>\n",
       "      <th>74</th>\n",
       "      <td>영주시</td>\n",
       "      <td>27602</td>\n",
       "    </tr>\n",
       "    <tr>\n",
       "      <th>75</th>\n",
       "      <td>문경시</td>\n",
       "      <td>26637</td>\n",
       "    </tr>\n",
       "    <tr>\n",
       "      <th>76</th>\n",
       "      <td>여주시</td>\n",
       "      <td>22796</td>\n",
       "    </tr>\n",
       "  </tbody>\n",
       "</table>\n",
       "<p>77 rows × 2 columns</p>\n",
       "</div>"
      ],
      "text/plain": [
       "   city  drop by category\n",
       "0   광주시            441071\n",
       "1   청주시            403616\n",
       "2   제주시            268215\n",
       "3   창원시            260467\n",
       "4   전주시            253672\n",
       "..  ...               ...\n",
       "72  김천시             31296\n",
       "73  영천시             28534\n",
       "74  영주시             27602\n",
       "75  문경시             26637\n",
       "76  여주시             22796\n",
       "\n",
       "[77 rows x 2 columns]"
      ]
     },
     "execution_count": 49,
     "metadata": {},
     "output_type": "execute_result"
    }
   ],
   "source": [
    "cat_filter_count = pd.DataFrame(df_filter_cat['city'].value_counts()).reset_index()\n",
    "cat_filter_count.columns = ['city', 'drop by category']\n",
    "cat_filter_count"
   ]
  },
  {
   "cell_type": "markdown",
   "metadata": {},
   "source": [
    "### Count # by city"
   ]
  },
  {
   "cell_type": "code",
   "execution_count": 44,
   "metadata": {},
   "outputs": [],
   "source": [
    "df_len_original = pd.DataFrame(df_len)\n",
    "df_len_original.columns = ['city', 'original length']"
   ]
  },
  {
   "cell_type": "code",
   "execution_count": 47,
   "metadata": {},
   "outputs": [],
   "source": [
    "drop_count = pd.merge(pd.merge(pd.merge(pd.merge(df_len_original, keyword_filter_count), exception_filter_count), general_filter_count),cat_filter_count)"
   ]
  },
  {
   "cell_type": "markdown",
   "metadata": {},
   "source": [
    "save"
   ]
  },
  {
   "cell_type": "code",
   "execution_count": 50,
   "metadata": {},
   "outputs": [
    {
     "name": "stdout",
     "output_type": "stream",
     "text": [
      "done well\n"
     ]
    }
   ],
   "source": [
    "drop_count.to_excel(\"../result/220704_drop_count.xlsx\")\n",
    "print('done well')"
   ]
  }
 ],
 "metadata": {
  "kernelspec": {
   "display_name": "Python 3.8.12 ('svmglee')",
   "language": "python",
   "name": "python3"
  },
  "language_info": {
   "codemirror_mode": {
    "name": "ipython",
    "version": 3
   },
   "file_extension": ".py",
   "mimetype": "text/x-python",
   "name": "python",
   "nbconvert_exporter": "python",
   "pygments_lexer": "ipython3",
   "version": "3.8.12"
  },
  "orig_nbformat": 4,
  "vscode": {
   "interpreter": {
    "hash": "f75aeab59ff03ee2e291b4684758ee4ba4238bacc5beaacd4e7ff7cc7ef03731"
   }
  }
 },
 "nbformat": 4,
 "nbformat_minor": 2
}
